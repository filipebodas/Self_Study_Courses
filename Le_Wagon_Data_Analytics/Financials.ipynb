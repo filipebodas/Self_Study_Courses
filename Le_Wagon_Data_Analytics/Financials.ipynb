{
 "cells": [
  {
   "cell_type": "markdown",
   "metadata": {},
   "source": [
    "## 1st exercise: Define the `forward_price` function"
   ]
  },
  {
   "cell_type": "code",
   "execution_count": 1,
   "metadata": {},
   "outputs": [],
   "source": [
    "import math"
   ]
  },
  {
   "cell_type": "code",
   "execution_count": 23,
   "metadata": {},
   "outputs": [
    {
     "name": "stdout",
     "output_type": "stream",
     "text": [
      "How much is the spot price? 10000\n",
      "How much is the interest rate? 0.05\n",
      "The foward price is 10000.0\n",
      "The foward price is 10512.695140322981\n",
      "The foward price is 11051.675911337044\n",
      "The foward price is 11618.289964553749\n",
      "The foward price is 12213.954044922746\n",
      "The foward price is 12840.157533218759\n",
      "The foward price is 13498.466170045036\n",
      "The foward price is 14190.525970764662\n",
      "The foward price is 14918.067341148473\n",
      "The foward price is 15682.909404030253\n"
     ]
    }
   ],
   "source": [
    "s = float(input('How much is the spot price? '))\n",
    "r = float(input('How much is the interest rate? '))\n",
    "\n",
    "\n",
    "t = 0\n",
    "while t < 10:\n",
    "    F = s*(2.7182**(r*t))\n",
    "    print(f'The foward price is {F}')\n",
    "    t += 1"
   ]
  },
  {
   "cell_type": "code",
   "execution_count": 1,
   "metadata": {},
   "outputs": [],
   "source": [
    "# Define a function called 'foward_price'"
   ]
  },
  {
   "cell_type": "code",
   "execution_count": 13,
   "metadata": {},
   "outputs": [],
   "source": [
    "# PSEUDO CODE\n",
    "\n",
    "# foward_price \n",
    "# The function takes as argument 3 things: spot price, interest rate and time\n",
    "# With those 3 parameters, we need to compute and equation in python:\n",
    "    # multiply the spot by the exponential to the power of the interest_rate*time\n",
    "\n",
    "import math\n",
    "def foward_price(spot, interest_rate, time):\n",
    "    exponent = interest_rate*time\n",
    "    result = spot * math.exp(exponent)\n",
    "    return round(result, 2)"
   ]
  },
  {
   "cell_type": "code",
   "execution_count": 14,
   "metadata": {},
   "outputs": [
    {
     "name": "stdout",
     "output_type": "stream",
     "text": [
      "110.52\n",
      "100.0\n"
     ]
    }
   ],
   "source": [
    "print(foward_price(100, 0.02, 5)) # => 110.52\n",
    "print(foward_price(100, 0, 5))   # => 100"
   ]
  },
  {
   "cell_type": "markdown",
   "metadata": {},
   "source": [
    "## 2nd exercise: Define the `short_pnl` function"
   ]
  },
  {
   "cell_type": "code",
   "execution_count": 1,
   "metadata": {},
   "outputs": [],
   "source": [
    "# PSEUDOCODE\n",
    "\n",
    "# the function will take 2 arguments:\n",
    "    # 1 - a list of prices -- positions\n",
    "    # 2 - a list of the current market value of each asset -- mtm\n",
    "    \n",
    "\n",
    "    # Examples:\n",
    "    # positions: [ 100, 140, 200 ]\n",
    "    # mtm: [ 110, 120, 180 ]\n",
    "    # Output expected to be: 30\n",
    "\n",
    "    # Obs: (100 - 110) + (140 - 120) + (200 - 180) = 30\n",
    "\n",
    "# iterare (LOOP) over the positions list with access to the index\n",
    "\n",
    "# for each position, read in the same index that we are in the value in the mtm list\n",
    "    # compute the short pnl for each position\n",
    "    # append that computation to a new list -- result\n",
    "\n",
    "# After the iteration, return that new list"
   ]
  },
  {
   "cell_type": "code",
   "execution_count": 2,
   "metadata": {},
   "outputs": [],
   "source": [
    "def short_pnl(positions, mtm):\n",
    "    result = []\n",
    "    for index, position in enumerate(positions):\n",
    "        result.append(position - mtm[index])\n",
    "    return sum(result)"
   ]
  },
  {
   "cell_type": "code",
   "execution_count": 3,
   "metadata": {},
   "outputs": [
    {
     "data": {
      "text/plain": [
       "30"
      ]
     },
     "execution_count": 3,
     "metadata": {},
     "output_type": "execute_result"
    }
   ],
   "source": [
    "short_pnl([100,140,200], [110,120,180])"
   ]
  },
  {
   "cell_type": "code",
   "execution_count": null,
   "metadata": {},
   "outputs": [],
   "source": []
  }
 ],
 "metadata": {
  "kernelspec": {
   "display_name": "Python 3",
   "language": "python",
   "name": "python3"
  },
  "language_info": {
   "codemirror_mode": {
    "name": "ipython",
    "version": 3
   },
   "file_extension": ".py",
   "mimetype": "text/x-python",
   "name": "python",
   "nbconvert_exporter": "python",
   "pygments_lexer": "ipython3",
   "version": "3.8.3"
  }
 },
 "nbformat": 4,
 "nbformat_minor": 4
}
