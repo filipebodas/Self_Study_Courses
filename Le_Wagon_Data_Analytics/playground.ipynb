{
 "cells": [
  {
   "cell_type": "code",
   "execution_count": 9,
   "metadata": {},
   "outputs": [
    {
     "name": "stdout",
     "output_type": "stream",
     "text": [
      "31.4\n",
      "78.5\n"
     ]
    }
   ],
   "source": [
    "import math\n",
    "radius = 5\n",
    "\n",
    "perimeter = round(2* radius*3.1416,1)\n",
    "print(perimeter)\n",
    "\n",
    "area = round(3.1416*radius**2,1)\n",
    "print(area)"
   ]
  },
  {
   "cell_type": "code",
   "execution_count": 10,
   "metadata": {},
   "outputs": [
    {
     "name": "stdout",
     "output_type": "stream",
     "text": [
      "The radius is set to 5\n",
      "Perimiter of the circle is 31.4\n",
      "Area of the disk is 78.5\n"
     ]
    }
   ],
   "source": [
    "print(f'The radius is set to {radius}')\n",
    "print(f'Perimiter of the circle is {perimeter}')\n",
    "print(f'Area of the disk is {area}')"
   ]
  },
  {
   "cell_type": "markdown",
   "metadata": {},
   "source": [
    "---"
   ]
  },
  {
   "cell_type": "markdown",
   "metadata": {},
   "source": [
    "# New approach after the functions module\n",
    "\n",
    "The name of the function is circle_math\n",
    "\n",
    "The function takes one parameter, a radius (integer)\n",
    "\n",
    "The function returns a list of two elements (floats): the computed perimeter and area based on the received parameter"
   ]
  },
  {
   "cell_type": "code",
   "execution_count": 21,
   "metadata": {},
   "outputs": [],
   "source": [
    "import math\n",
    "\n",
    "def circle_math(radius):\n",
    "    output = []\n",
    "    perimeter = 2 * math.pi * radius\n",
    "    area = math.pi * radius ** 2\n",
    "    \n",
    "    output.append(perimeter)\n",
    "    output.append(area)\n",
    "    \n",
    "    return output\n",
    "\n",
    "# def circle_math(radius):\n",
    "    # perimeter = 2 * math.pi * radius\n",
    "    # area = math.pi * radius ** 2\n",
    "    \n",
    "    # return [perimeter, area]"
   ]
  },
  {
   "cell_type": "code",
   "execution_count": 22,
   "metadata": {},
   "outputs": [
    {
     "data": {
      "text/plain": [
       "[12.566370614359172, 12.566370614359172]"
      ]
     },
     "execution_count": 22,
     "metadata": {},
     "output_type": "execute_result"
    }
   ],
   "source": [
    "circle_math(2)"
   ]
  },
  {
   "cell_type": "code",
   "execution_count": 23,
   "metadata": {},
   "outputs": [
    {
     "name": "stdout",
     "output_type": "stream",
     "text": [
      "Radius=5 => Perimeter=31.4, Area=78.5\n",
      "Radius=6 => Perimeter=37.7, Area=113.1\n"
     ]
    }
   ],
   "source": [
    "values = circle_math(5)\n",
    "print(f\"Radius=5 => Perimeter={round(values[0], 1)}, Area={round(values[1], 1)}\")\n",
    "\n",
    "values = circle_math(6)\n",
    "print(f\"Radius=6 => Perimeter={round(values[0], 1)}, Area={round(values[1], 1)}\")"
   ]
  },
  {
   "cell_type": "code",
   "execution_count": null,
   "metadata": {},
   "outputs": [],
   "source": []
  }
 ],
 "metadata": {
  "kernelspec": {
   "display_name": "Python 3",
   "language": "python",
   "name": "python3"
  },
  "language_info": {
   "codemirror_mode": {
    "name": "ipython",
    "version": 3
   },
   "file_extension": ".py",
   "mimetype": "text/x-python",
   "name": "python",
   "nbconvert_exporter": "python",
   "pygments_lexer": "ipython3",
   "version": "3.8.3"
  }
 },
 "nbformat": 4,
 "nbformat_minor": 4
}
