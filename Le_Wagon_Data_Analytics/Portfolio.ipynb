{
 "cells": [
  {
   "cell_type": "code",
   "execution_count": 2,
   "metadata": {},
   "outputs": [],
   "source": [
    "aapl = [ 10, 154.12 ]\n",
    "goog = [  2, 812.56 ]\n",
    "tsla = [ 12, 342.12 ]\n",
    "fb   = [ 18, 209.0  ]\n",
    "\n",
    "portfolio = [ aapl, goog, tsla, fb ]"
   ]
  },
  {
   "cell_type": "code",
   "execution_count": 3,
   "metadata": {},
   "outputs": [
    {
     "data": {
      "text/plain": [
       "[[10, 154.12], [2, 812.56], [12, 342.12], [18, 209.0]]"
      ]
     },
     "execution_count": 3,
     "metadata": {},
     "output_type": "execute_result"
    }
   ],
   "source": [
    "portfolio"
   ]
  },
  {
   "cell_type": "markdown",
   "metadata": {},
   "source": [
    "**What is the volume of Tesla?**"
   ]
  },
  {
   "cell_type": "code",
   "execution_count": 4,
   "metadata": {},
   "outputs": [
    {
     "data": {
      "text/plain": [
       "12"
      ]
     },
     "execution_count": 4,
     "metadata": {},
     "output_type": "execute_result"
    }
   ],
   "source": [
    "portfolio[2][0]"
   ]
  },
  {
   "cell_type": "markdown",
   "metadata": {},
   "source": [
    "**Calculate Tesla PNL**"
   ]
  },
  {
   "cell_type": "markdown",
   "metadata": {},
   "source": [
    "Let’s suppose the market currently holds the following spot prices:"
   ]
  },
  {
   "cell_type": "code",
   "execution_count": 5,
   "metadata": {},
   "outputs": [],
   "source": [
    "#            AAPL     GOOG    TSLA      FB\n",
    "market = [ 198.84, 1217.93, 267.66, 179.06 ]"
   ]
  },
  {
   "cell_type": "code",
   "execution_count": 11,
   "metadata": {},
   "outputs": [],
   "source": [
    "volume = portfolio[2][0]\n",
    "price_bought = portfolio[2][1]\n",
    "\n",
    "Amount_spend_Tesla = volume * price_bought\n",
    "\n",
    "Market_price = (market[2] * volume)"
   ]
  },
  {
   "cell_type": "code",
   "execution_count": 12,
   "metadata": {},
   "outputs": [
    {
     "name": "stdout",
     "output_type": "stream",
     "text": [
      "Total paid: 4105.4400000000005\n",
      "Current price: 3211.92\n"
     ]
    }
   ],
   "source": [
    "print(f'Total paid: {Amount_spend_Tesla}')\n",
    "print(f'Current price: {Market_price}')"
   ]
  },
  {
   "cell_type": "code",
   "execution_count": 13,
   "metadata": {},
   "outputs": [],
   "source": [
    "pl_tesla = Market_price - Amount_spend_Tesla"
   ]
  },
  {
   "cell_type": "code",
   "execution_count": 16,
   "metadata": {},
   "outputs": [
    {
     "name": "stdout",
     "output_type": "stream",
     "text": [
      "PL for Tesla: -893.5200000000004\n"
     ]
    }
   ],
   "source": [
    "print(f'PL for Tesla: {pl_tesla}')"
   ]
  },
  {
   "cell_type": "code",
   "execution_count": 17,
   "metadata": {},
   "outputs": [],
   "source": [
    "pnl = []\n",
    "for ix, product in enumerate(portfolio):\n",
    "    price = product[0]*product[1]\n",
    "    mkt = market[ix]*product[0]\n",
    "    pnl.append(mkt - price)"
   ]
  },
  {
   "cell_type": "code",
   "execution_count": 20,
   "metadata": {},
   "outputs": [
    {
     "name": "stdout",
     "output_type": "stream",
     "text": [
      "pnl: [447.20000000000005, 810.7400000000002, -893.5200000000004, -538.9200000000001]\n",
      "Total PnL: -174.50000000000023\n"
     ]
    }
   ],
   "source": [
    "print(f'pnl: {pnl}')\n",
    "print(f'Total PnL: {sum(pnl)}')"
   ]
  },
  {
   "cell_type": "code",
   "execution_count": null,
   "metadata": {},
   "outputs": [],
   "source": []
  }
 ],
 "metadata": {
  "kernelspec": {
   "display_name": "Python 3",
   "language": "python",
   "name": "python3"
  },
  "language_info": {
   "codemirror_mode": {
    "name": "ipython",
    "version": 3
   },
   "file_extension": ".py",
   "mimetype": "text/x-python",
   "name": "python",
   "nbconvert_exporter": "python",
   "pygments_lexer": "ipython3",
   "version": "3.8.3"
  }
 },
 "nbformat": 4,
 "nbformat_minor": 4
}
