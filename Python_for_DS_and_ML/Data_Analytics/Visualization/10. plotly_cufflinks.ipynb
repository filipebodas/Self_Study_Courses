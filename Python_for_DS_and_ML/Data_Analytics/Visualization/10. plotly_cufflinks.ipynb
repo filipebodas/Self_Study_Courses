{
 "cells": [
  {
   "cell_type": "markdown",
   "metadata": {},
   "source": [
    "___\n",
    "\n",
    "<a href='http://www.pieriandata.com'> <img src='../Pierian_Data_Logo.png' /></a>\n",
    "___\n",
    "# Plotly and Cufflinks"
   ]
  },
  {
   "cell_type": "markdown",
   "metadata": {},
   "source": [
    "Plotly is a library that allows you to create interactive plots that you can use in dashboards or websites (you can save them as html files or static images).\n",
    "\n",
    "## Installation\n",
    "\n",
    "In order for this all to work, you'll need to install plotly and cufflinks to call plots directly off of a pandas dataframe. These libraries are not currently available through **conda** but are available through **pip**. Install the libraries at your command line/terminal using:\n",
    "\n",
    "    pip install plotly\n",
    "    pip install cufflinks\n",
    "\n",
    "** NOTE: Make sure you only have one installation of Python on your computer when you do this, otherwise the installation may not work. **\n",
    "\n",
    "## Imports and Set-up"
   ]
  },
  {
   "cell_type": "code",
   "execution_count": 1,
   "metadata": {},
   "outputs": [
    {
     "name": "stdout",
     "output_type": "stream",
     "text": [
      "Collecting plotly\n",
      "  Downloading plotly-4.12.0-py2.py3-none-any.whl (13.1 MB)\n",
      "Collecting retrying>=1.3.3\n",
      "  Downloading retrying-1.3.3.tar.gz (10 kB)\n",
      "Requirement already satisfied: six in c:\\users\\geral\\anaconda3\\lib\\site-packages (from plotly) (1.15.0)\n",
      "Building wheels for collected packages: retrying\n",
      "  Building wheel for retrying (setup.py): started\n",
      "  Building wheel for retrying (setup.py): finished with status 'done'\n",
      "  Created wheel for retrying: filename=retrying-1.3.3-py3-none-any.whl size=11435 sha256=f2e1ba26fb68780e82ee83b9bf59f9309660733a8d1b6fb0626b83858f1eac74\n",
      "  Stored in directory: c:\\users\\geral\\appdata\\local\\pip\\cache\\wheels\\c4\\a7\\48\\0a434133f6d56e878ca511c0e6c38326907c0792f67b476e56\n",
      "Successfully built retrying\n",
      "Installing collected packages: retrying, plotly\n",
      "Successfully installed plotly-4.12.0 retrying-1.3.3\n"
     ]
    }
   ],
   "source": [
    "!pip install plotly"
   ]
  },
  {
   "cell_type": "code",
   "execution_count": 2,
   "metadata": {},
   "outputs": [
    {
     "name": "stdout",
     "output_type": "stream",
     "text": [
      "Collecting cufflinks\n",
      "  Downloading cufflinks-0.17.3.tar.gz (81 kB)\n",
      "Requirement already satisfied: numpy>=1.9.2 in c:\\users\\geral\\anaconda3\\lib\\site-packages (from cufflinks) (1.18.5)\n",
      "Requirement already satisfied: pandas>=0.19.2 in c:\\users\\geral\\anaconda3\\lib\\site-packages (from cufflinks) (1.0.5)\n",
      "Requirement already satisfied: plotly>=4.1.1 in c:\\users\\geral\\anaconda3\\lib\\site-packages (from cufflinks) (4.12.0)\n",
      "Requirement already satisfied: six>=1.9.0 in c:\\users\\geral\\anaconda3\\lib\\site-packages (from cufflinks) (1.15.0)\n",
      "Collecting colorlover>=0.2.1\n",
      "  Downloading colorlover-0.3.0-py3-none-any.whl (8.9 kB)\n",
      "Requirement already satisfied: setuptools>=34.4.1 in c:\\users\\geral\\anaconda3\\lib\\site-packages (from cufflinks) (49.2.0.post20200714)\n",
      "Requirement already satisfied: ipython>=5.3.0 in c:\\users\\geral\\anaconda3\\lib\\site-packages (from cufflinks) (7.16.1)\n",
      "Requirement already satisfied: ipywidgets>=7.0.0 in c:\\users\\geral\\anaconda3\\lib\\site-packages (from cufflinks) (7.5.1)\n",
      "Requirement already satisfied: python-dateutil>=2.6.1 in c:\\users\\geral\\anaconda3\\lib\\site-packages (from pandas>=0.19.2->cufflinks) (2.8.1)\n",
      "Requirement already satisfied: pytz>=2017.2 in c:\\users\\geral\\anaconda3\\lib\\site-packages (from pandas>=0.19.2->cufflinks) (2020.1)\n",
      "Requirement already satisfied: retrying>=1.3.3 in c:\\users\\geral\\anaconda3\\lib\\site-packages (from plotly>=4.1.1->cufflinks) (1.3.3)\n",
      "Requirement already satisfied: pygments in c:\\users\\geral\\anaconda3\\lib\\site-packages (from ipython>=5.3.0->cufflinks) (2.6.1)\n",
      "Requirement already satisfied: prompt-toolkit!=3.0.0,!=3.0.1,<3.1.0,>=2.0.0 in c:\\users\\geral\\anaconda3\\lib\\site-packages (from ipython>=5.3.0->cufflinks) (3.0.5)\n",
      "Requirement already satisfied: backcall in c:\\users\\geral\\anaconda3\\lib\\site-packages (from ipython>=5.3.0->cufflinks) (0.2.0)\n",
      "Requirement already satisfied: traitlets>=4.2 in c:\\users\\geral\\anaconda3\\lib\\site-packages (from ipython>=5.3.0->cufflinks) (4.3.3)\n",
      "Requirement already satisfied: decorator in c:\\users\\geral\\anaconda3\\lib\\site-packages (from ipython>=5.3.0->cufflinks) (4.4.2)\n",
      "Requirement already satisfied: jedi>=0.10 in c:\\users\\geral\\anaconda3\\lib\\site-packages (from ipython>=5.3.0->cufflinks) (0.17.1)\n",
      "Requirement already satisfied: pickleshare in c:\\users\\geral\\anaconda3\\lib\\site-packages (from ipython>=5.3.0->cufflinks) (0.7.5)\n",
      "Requirement already satisfied: colorama; sys_platform == \"win32\" in c:\\users\\geral\\anaconda3\\lib\\site-packages (from ipython>=5.3.0->cufflinks) (0.4.3)\n",
      "Requirement already satisfied: ipykernel>=4.5.1 in c:\\users\\geral\\anaconda3\\lib\\site-packages (from ipywidgets>=7.0.0->cufflinks) (5.3.2)\n",
      "Requirement already satisfied: nbformat>=4.2.0 in c:\\users\\geral\\anaconda3\\lib\\site-packages (from ipywidgets>=7.0.0->cufflinks) (5.0.7)\n",
      "Requirement already satisfied: widgetsnbextension~=3.5.0 in c:\\users\\geral\\anaconda3\\lib\\site-packages (from ipywidgets>=7.0.0->cufflinks) (3.5.1)\n",
      "Requirement already satisfied: wcwidth in c:\\users\\geral\\anaconda3\\lib\\site-packages (from prompt-toolkit!=3.0.0,!=3.0.1,<3.1.0,>=2.0.0->ipython>=5.3.0->cufflinks) (0.2.5)\n",
      "Requirement already satisfied: ipython-genutils in c:\\users\\geral\\anaconda3\\lib\\site-packages (from traitlets>=4.2->ipython>=5.3.0->cufflinks) (0.2.0)\n",
      "Requirement already satisfied: parso<0.8.0,>=0.7.0 in c:\\users\\geral\\anaconda3\\lib\\site-packages (from jedi>=0.10->ipython>=5.3.0->cufflinks) (0.7.0)\n",
      "Requirement already satisfied: jupyter-client in c:\\users\\geral\\anaconda3\\lib\\site-packages (from ipykernel>=4.5.1->ipywidgets>=7.0.0->cufflinks) (6.1.6)\n",
      "Requirement already satisfied: tornado>=4.2 in c:\\users\\geral\\anaconda3\\lib\\site-packages (from ipykernel>=4.5.1->ipywidgets>=7.0.0->cufflinks) (6.0.4)\n",
      "Requirement already satisfied: jupyter-core in c:\\users\\geral\\anaconda3\\lib\\site-packages (from nbformat>=4.2.0->ipywidgets>=7.0.0->cufflinks) (4.6.3)\n",
      "Requirement already satisfied: jsonschema!=2.5.0,>=2.4 in c:\\users\\geral\\anaconda3\\lib\\site-packages (from nbformat>=4.2.0->ipywidgets>=7.0.0->cufflinks) (3.2.0)\n",
      "Requirement already satisfied: notebook>=4.4.1 in c:\\users\\geral\\anaconda3\\lib\\site-packages (from widgetsnbextension~=3.5.0->ipywidgets>=7.0.0->cufflinks) (6.0.3)\n",
      "Requirement already satisfied: pyzmq>=13 in c:\\users\\geral\\anaconda3\\lib\\site-packages (from jupyter-client->ipykernel>=4.5.1->ipywidgets>=7.0.0->cufflinks) (19.0.1)\n",
      "Requirement already satisfied: pywin32>=1.0; sys_platform == \"win32\" in c:\\users\\geral\\anaconda3\\lib\\site-packages (from jupyter-core->nbformat>=4.2.0->ipywidgets>=7.0.0->cufflinks) (227)\n",
      "Requirement already satisfied: attrs>=17.4.0 in c:\\users\\geral\\anaconda3\\lib\\site-packages (from jsonschema!=2.5.0,>=2.4->nbformat>=4.2.0->ipywidgets>=7.0.0->cufflinks) (19.3.0)\n",
      "Requirement already satisfied: pyrsistent>=0.14.0 in c:\\users\\geral\\anaconda3\\lib\\site-packages (from jsonschema!=2.5.0,>=2.4->nbformat>=4.2.0->ipywidgets>=7.0.0->cufflinks) (0.16.0)\n",
      "Requirement already satisfied: jinja2 in c:\\users\\geral\\anaconda3\\lib\\site-packages (from notebook>=4.4.1->widgetsnbextension~=3.5.0->ipywidgets>=7.0.0->cufflinks) (2.11.2)\n",
      "Requirement already satisfied: prometheus-client in c:\\users\\geral\\anaconda3\\lib\\site-packages (from notebook>=4.4.1->widgetsnbextension~=3.5.0->ipywidgets>=7.0.0->cufflinks) (0.8.0)\n",
      "Requirement already satisfied: terminado>=0.8.1 in c:\\users\\geral\\anaconda3\\lib\\site-packages (from notebook>=4.4.1->widgetsnbextension~=3.5.0->ipywidgets>=7.0.0->cufflinks) (0.8.3)\n",
      "Requirement already satisfied: Send2Trash in c:\\users\\geral\\anaconda3\\lib\\site-packages (from notebook>=4.4.1->widgetsnbextension~=3.5.0->ipywidgets>=7.0.0->cufflinks) (1.5.0)\n",
      "Requirement already satisfied: nbconvert in c:\\users\\geral\\anaconda3\\lib\\site-packages (from notebook>=4.4.1->widgetsnbextension~=3.5.0->ipywidgets>=7.0.0->cufflinks) (5.6.1)\n",
      "Requirement already satisfied: MarkupSafe>=0.23 in c:\\users\\geral\\anaconda3\\lib\\site-packages (from jinja2->notebook>=4.4.1->widgetsnbextension~=3.5.0->ipywidgets>=7.0.0->cufflinks) (1.1.1)\n",
      "Requirement already satisfied: bleach in c:\\users\\geral\\anaconda3\\lib\\site-packages (from nbconvert->notebook>=4.4.1->widgetsnbextension~=3.5.0->ipywidgets>=7.0.0->cufflinks) (3.1.5)\n",
      "Requirement already satisfied: entrypoints>=0.2.2 in c:\\users\\geral\\anaconda3\\lib\\site-packages (from nbconvert->notebook>=4.4.1->widgetsnbextension~=3.5.0->ipywidgets>=7.0.0->cufflinks) (0.3)\n",
      "Requirement already satisfied: pandocfilters>=1.4.1 in c:\\users\\geral\\anaconda3\\lib\\site-packages (from nbconvert->notebook>=4.4.1->widgetsnbextension~=3.5.0->ipywidgets>=7.0.0->cufflinks) (1.4.2)\n",
      "Requirement already satisfied: testpath in c:\\users\\geral\\anaconda3\\lib\\site-packages (from nbconvert->notebook>=4.4.1->widgetsnbextension~=3.5.0->ipywidgets>=7.0.0->cufflinks) (0.4.4)\n",
      "Requirement already satisfied: defusedxml in c:\\users\\geral\\anaconda3\\lib\\site-packages (from nbconvert->notebook>=4.4.1->widgetsnbextension~=3.5.0->ipywidgets>=7.0.0->cufflinks) (0.6.0)\n",
      "Requirement already satisfied: mistune<2,>=0.8.1 in c:\\users\\geral\\anaconda3\\lib\\site-packages (from nbconvert->notebook>=4.4.1->widgetsnbextension~=3.5.0->ipywidgets>=7.0.0->cufflinks) (0.8.4)\n",
      "Requirement already satisfied: packaging in c:\\users\\geral\\anaconda3\\lib\\site-packages (from bleach->nbconvert->notebook>=4.4.1->widgetsnbextension~=3.5.0->ipywidgets>=7.0.0->cufflinks) (20.4)\n",
      "Requirement already satisfied: webencodings in c:\\users\\geral\\anaconda3\\lib\\site-packages (from bleach->nbconvert->notebook>=4.4.1->widgetsnbextension~=3.5.0->ipywidgets>=7.0.0->cufflinks) (0.5.1)\n",
      "Requirement already satisfied: pyparsing>=2.0.2 in c:\\users\\geral\\anaconda3\\lib\\site-packages (from packaging->bleach->nbconvert->notebook>=4.4.1->widgetsnbextension~=3.5.0->ipywidgets>=7.0.0->cufflinks) (2.4.7)\n",
      "Building wheels for collected packages: cufflinks\n",
      "  Building wheel for cufflinks (setup.py): started\n",
      "  Building wheel for cufflinks (setup.py): finished with status 'done'\n",
      "  Created wheel for cufflinks: filename=cufflinks-0.17.3-py3-none-any.whl size=68729 sha256=0cdb7787c3c52a56cc23d41e8b92201e1050034e5dd7ce80ff39c1db56cab409\n",
      "  Stored in directory: c:\\users\\geral\\appdata\\local\\pip\\cache\\wheels\\6b\\76\\62\\6da97734911ffcbdd559fd1a3f28526321f0ae699182a23866\n",
      "Successfully built cufflinks\n",
      "Installing collected packages: colorlover, cufflinks\n",
      "Successfully installed colorlover-0.3.0 cufflinks-0.17.3\n"
     ]
    }
   ],
   "source": [
    "!pip install cufflinks"
   ]
  },
  {
   "cell_type": "code",
   "execution_count": 3,
   "metadata": {},
   "outputs": [
    {
     "name": "stdout",
     "output_type": "stream",
     "text": [
      "Collecting chart-studio\n",
      "  Downloading chart_studio-1.1.0-py3-none-any.whl (64 kB)\n",
      "Requirement already satisfied: retrying>=1.3.3 in c:\\users\\geral\\anaconda3\\lib\\site-packages (from chart-studio) (1.3.3)\n",
      "Requirement already satisfied: requests in c:\\users\\geral\\anaconda3\\lib\\site-packages (from chart-studio) (2.24.0)\n",
      "Requirement already satisfied: plotly in c:\\users\\geral\\anaconda3\\lib\\site-packages (from chart-studio) (4.12.0)\n",
      "Requirement already satisfied: six in c:\\users\\geral\\anaconda3\\lib\\site-packages (from chart-studio) (1.15.0)\n",
      "Requirement already satisfied: urllib3!=1.25.0,!=1.25.1,<1.26,>=1.21.1 in c:\\users\\geral\\anaconda3\\lib\\site-packages (from requests->chart-studio) (1.25.9)\n",
      "Requirement already satisfied: idna<3,>=2.5 in c:\\users\\geral\\anaconda3\\lib\\site-packages (from requests->chart-studio) (2.10)\n",
      "Requirement already satisfied: chardet<4,>=3.0.2 in c:\\users\\geral\\anaconda3\\lib\\site-packages (from requests->chart-studio) (3.0.4)\n",
      "Requirement already satisfied: certifi>=2017.4.17 in c:\\users\\geral\\anaconda3\\lib\\site-packages (from requests->chart-studio) (2020.6.20)\n",
      "Installing collected packages: chart-studio\n",
      "Successfully installed chart-studio-1.1.0\n"
     ]
    }
   ],
   "source": [
    "!pip install chart-studio"
   ]
  },
  {
   "cell_type": "markdown",
   "metadata": {},
   "source": [
    "## Imports"
   ]
  },
  {
   "cell_type": "code",
   "execution_count": 4,
   "metadata": {},
   "outputs": [],
   "source": [
    "import pandas as pd\n",
    "import numpy as np\n",
    "%matplotlib inline\n",
    "import chart_studio.plotly as py"
   ]
  },
  {
   "cell_type": "code",
   "execution_count": 5,
   "metadata": {},
   "outputs": [
    {
     "name": "stdout",
     "output_type": "stream",
     "text": [
      "4.12.0\n"
     ]
    }
   ],
   "source": [
    "from plotly import __version__\n",
    "from plotly.offline import download_plotlyjs, init_notebook_mode, plot, iplot\n",
    "\n",
    "print(__version__) # requires version >= 1.9.0"
   ]
  },
  {
   "cell_type": "code",
   "execution_count": 6,
   "metadata": {},
   "outputs": [],
   "source": [
    "import cufflinks as cf"
   ]
  },
  {
   "cell_type": "code",
   "execution_count": 7,
   "metadata": {},
   "outputs": [
    {
     "data": {
      "text/html": [
       "        <script type=\"text/javascript\">\n",
       "        window.PlotlyConfig = {MathJaxConfig: 'local'};\n",
       "        if (window.MathJax) {MathJax.Hub.Config({SVG: {font: \"STIX-Web\"}});}\n",
       "        if (typeof require !== 'undefined') {\n",
       "        require.undef(\"plotly\");\n",
       "        requirejs.config({\n",
       "            paths: {\n",
       "                'plotly': ['https://cdn.plot.ly/plotly-latest.min']\n",
       "            }\n",
       "        });\n",
       "        require(['plotly'], function(Plotly) {\n",
       "            window._Plotly = Plotly;\n",
       "        });\n",
       "        }\n",
       "        </script>\n",
       "        "
      ]
     },
     "metadata": {},
     "output_type": "display_data"
    }
   ],
   "source": [
    "# For Notebooks\n",
    "init_notebook_mode(connected=True)"
   ]
  },
  {
   "cell_type": "code",
   "execution_count": 8,
   "metadata": {},
   "outputs": [
    {
     "data": {
      "text/html": [
       "        <script type=\"text/javascript\">\n",
       "        window.PlotlyConfig = {MathJaxConfig: 'local'};\n",
       "        if (window.MathJax) {MathJax.Hub.Config({SVG: {font: \"STIX-Web\"}});}\n",
       "        if (typeof require !== 'undefined') {\n",
       "        require.undef(\"plotly\");\n",
       "        requirejs.config({\n",
       "            paths: {\n",
       "                'plotly': ['https://cdn.plot.ly/plotly-latest.min']\n",
       "            }\n",
       "        });\n",
       "        require(['plotly'], function(Plotly) {\n",
       "            window._Plotly = Plotly;\n",
       "        });\n",
       "        }\n",
       "        </script>\n",
       "        "
      ]
     },
     "metadata": {},
     "output_type": "display_data"
    }
   ],
   "source": [
    "# For offline use\n",
    "cf.go_offline()"
   ]
  },
  {
   "cell_type": "markdown",
   "metadata": {},
   "source": [
    "### Fake Data"
   ]
  },
  {
   "cell_type": "code",
   "execution_count": 9,
   "metadata": {},
   "outputs": [],
   "source": [
    "df = pd.DataFrame(np.random.randn(100,4),columns='A B C D'.split())"
   ]
  },
  {
   "cell_type": "code",
   "execution_count": 10,
   "metadata": {},
   "outputs": [
    {
     "data": {
      "text/html": [
       "<div>\n",
       "<style scoped>\n",
       "    .dataframe tbody tr th:only-of-type {\n",
       "        vertical-align: middle;\n",
       "    }\n",
       "\n",
       "    .dataframe tbody tr th {\n",
       "        vertical-align: top;\n",
       "    }\n",
       "\n",
       "    .dataframe thead th {\n",
       "        text-align: right;\n",
       "    }\n",
       "</style>\n",
       "<table border=\"1\" class=\"dataframe\">\n",
       "  <thead>\n",
       "    <tr style=\"text-align: right;\">\n",
       "      <th></th>\n",
       "      <th>A</th>\n",
       "      <th>B</th>\n",
       "      <th>C</th>\n",
       "      <th>D</th>\n",
       "    </tr>\n",
       "  </thead>\n",
       "  <tbody>\n",
       "    <tr>\n",
       "      <th>0</th>\n",
       "      <td>0.019431</td>\n",
       "      <td>0.235909</td>\n",
       "      <td>-0.156840</td>\n",
       "      <td>2.211937</td>\n",
       "    </tr>\n",
       "    <tr>\n",
       "      <th>1</th>\n",
       "      <td>0.608604</td>\n",
       "      <td>-0.585319</td>\n",
       "      <td>0.001383</td>\n",
       "      <td>0.261954</td>\n",
       "    </tr>\n",
       "    <tr>\n",
       "      <th>2</th>\n",
       "      <td>0.072476</td>\n",
       "      <td>0.450416</td>\n",
       "      <td>-0.207171</td>\n",
       "      <td>0.892409</td>\n",
       "    </tr>\n",
       "    <tr>\n",
       "      <th>3</th>\n",
       "      <td>-0.910443</td>\n",
       "      <td>-1.484463</td>\n",
       "      <td>-0.720619</td>\n",
       "      <td>-0.590469</td>\n",
       "    </tr>\n",
       "    <tr>\n",
       "      <th>4</th>\n",
       "      <td>1.373566</td>\n",
       "      <td>-0.701002</td>\n",
       "      <td>0.158672</td>\n",
       "      <td>0.055277</td>\n",
       "    </tr>\n",
       "  </tbody>\n",
       "</table>\n",
       "</div>"
      ],
      "text/plain": [
       "          A         B         C         D\n",
       "0  0.019431  0.235909 -0.156840  2.211937\n",
       "1  0.608604 -0.585319  0.001383  0.261954\n",
       "2  0.072476  0.450416 -0.207171  0.892409\n",
       "3 -0.910443 -1.484463 -0.720619 -0.590469\n",
       "4  1.373566 -0.701002  0.158672  0.055277"
      ]
     },
     "execution_count": 10,
     "metadata": {},
     "output_type": "execute_result"
    }
   ],
   "source": [
    "df.head()"
   ]
  },
  {
   "cell_type": "code",
   "execution_count": 11,
   "metadata": {},
   "outputs": [],
   "source": [
    "df2 = pd.DataFrame({'Category':['A','B','C'],'Values':[32,43,50]})"
   ]
  },
  {
   "cell_type": "code",
   "execution_count": 12,
   "metadata": {},
   "outputs": [
    {
     "data": {
      "text/html": [
       "<div>\n",
       "<style scoped>\n",
       "    .dataframe tbody tr th:only-of-type {\n",
       "        vertical-align: middle;\n",
       "    }\n",
       "\n",
       "    .dataframe tbody tr th {\n",
       "        vertical-align: top;\n",
       "    }\n",
       "\n",
       "    .dataframe thead th {\n",
       "        text-align: right;\n",
       "    }\n",
       "</style>\n",
       "<table border=\"1\" class=\"dataframe\">\n",
       "  <thead>\n",
       "    <tr style=\"text-align: right;\">\n",
       "      <th></th>\n",
       "      <th>Category</th>\n",
       "      <th>Values</th>\n",
       "    </tr>\n",
       "  </thead>\n",
       "  <tbody>\n",
       "    <tr>\n",
       "      <th>0</th>\n",
       "      <td>A</td>\n",
       "      <td>32</td>\n",
       "    </tr>\n",
       "    <tr>\n",
       "      <th>1</th>\n",
       "      <td>B</td>\n",
       "      <td>43</td>\n",
       "    </tr>\n",
       "    <tr>\n",
       "      <th>2</th>\n",
       "      <td>C</td>\n",
       "      <td>50</td>\n",
       "    </tr>\n",
       "  </tbody>\n",
       "</table>\n",
       "</div>"
      ],
      "text/plain": [
       "  Category  Values\n",
       "0        A      32\n",
       "1        B      43\n",
       "2        C      50"
      ]
     },
     "execution_count": 12,
     "metadata": {},
     "output_type": "execute_result"
    }
   ],
   "source": [
    "df2.head()"
   ]
  },
  {
   "cell_type": "markdown",
   "metadata": {},
   "source": [
    "## Using Cufflinks and iplot()\n",
    "\n",
    "* scatter\n",
    "* bar\n",
    "* box\n",
    "* spread\n",
    "* ratio\n",
    "* heatmap\n",
    "* surface\n",
    "* histogram\n",
    "* bubble"
   ]
  },
  {
   "cell_type": "code",
   "execution_count": 14,
   "metadata": {},
   "outputs": [
    {
     "data": {
      "text/plain": [
       "<matplotlib.axes._subplots.AxesSubplot at 0x222230f60d0>"
      ]
     },
     "execution_count": 14,
     "metadata": {},
     "output_type": "execute_result"
    },
    {
     "data": {
      "image/png": "[encoded data removed]",
      "text/plain": [
       "<Figure size 432x288 with 1 Axes>"
      ]
     },
     "metadata": {
      "needs_background": "light"
     },
     "output_type": "display_data"
    }
   ],
   "source": [
    "df.plot()"
   ]
  },
  {
   "cell_type": "code",
   "execution_count": 15,
   "metadata": {},
   "outputs": [
    {
     "data": {
      "application/vnd.plotly.v1+json": {
       "config": {
        "linkText": "Export to plot.ly",
        "plotlyServerURL": "https://plot.ly",
        "showLink": true
       },
       "data": [
        {
         "line": {
          "color": "rgba(255, 153, 51, 1.0)",
          "dash": "solid",
          "shape": "linear",
          "width": 1.3
         },
         "mode": "lines",
         "name": "A",
         "text": "",
         "type": "scatter",
         "x": [
          0,
          1,
          2,
          3,
          4,
          5,
          6,
          7,
          8,
          9,
          10,
          11,
          12,
          13,
          14,
          15,
          16,
          17,
          18,
          19,
          20,
          21,
          22,
          23,
          24,
          25,
          26,
          27,
          28,
          29,
          30,
          31,
          32,
          33,
          34,
          35,
          36,
          37,
          38,
          39,
          40,
          41,
          42,
          43,
          44,
          45,
          46,
          47,
          48,
          49,
          50,
          51,
          52,
          53,
          54,
          55,
          56,
          57,
          58,
          59,
          60,
          61,
          62,
          63,
          64,
          65,
          66,
          67,
          68,
          69,
          70,
          71,
          72,
          73,
          74,
          75,
          76,
          77,
          78,
          79,
          80,
          81,
          82,
          83,
          84,
          85,
          86,
          87,
          88,
          89,
          90,
          91,
          92,
          93,
          94,
          95,
          96,
          97,
          98,
          99
         ],
         "y": [
          0.019430806383181284,
          0.608603613411356,
          0.07247562241777829,
          -0.9104428128373663,
          1.3735657891542405,
          0.07519673113819865,
          0.06395658164671109,
          -1.6195694639137597,
          0.7554966666743327,
          0.45097740835769223,
          -0.10156324731745073,
          -0.4158522716260824,
          0.9954541144280701,
          -0.48555200602878423,
          1.490823288469039,
          -0.13194416978954118,
          -0.7528004178239888,
          -0.544262017467453,
          -1.437649785582203,
          0.17187226223968824,
          -1.2375300092105108,
          0.49278868970672296,
          -0.6361730509889744,
          -0.13764319117463106,
          0.062410111597416565,
          -0.5187075611984749,
          -1.4102344376792062,
          -0.3572026445885095,
          -0.6376315054537319,
          -0.08196403616906862,
          1.2918666744199032,
          1.834095870683521,
          1.028800443585434,
          0.9937885884309238,
          -0.37089692485727643,
          -0.3412877759764047,
          2.262481668740981,
          -0.2951852827270955,
          1.1249926939573314,
          0.5702750889136583,
          -0.7551453700363403,
          1.0505410054870346,
          -2.1796411612126207,
          1.4633293246578305,
          -0.9824685130984081,
          -0.8896242240185488,
          -0.15830524409511837,
          0.8207907173546565,
          -1.1853010290819173,
          -0.04668477075582644,
          -0.4923965618308851,
          1.347160076177271,
          0.010843352382841287,
          0.6173535522890893,
          -1.5062569479408272,
          0.19394046597445944,
          -1.5703035237848442,
          -0.8017093258648721,
          -0.5420091277779893,
          0.12398167085240544,
          1.0336758962507486,
          0.7370393163266648,
          1.0215708043915677,
          -0.40016276626102376,
          1.5133921798813612,
          0.7624574546404679,
          0.12204337931158848,
          0.3878926000196656,
          -1.9858807909062057,
          1.5619887939186559,
          1.9262998520500085,
          0.6179697050361458,
          -0.2637131372925625,
          -0.42894690745324804,
          0.15220520963924042,
          0.2171978777436021,
          -1.0019800436093944,
          -0.9082410683140086,
          -0.9323858380561356,
          -2.176514619233318,
          -2.041735481953146,
          0.1900171138249872,
          0.7957042354908531,
          -0.5964879028707374,
          -0.3146446170771317,
          -2.5337539168618295,
          -1.0869571144160752,
          0.9013311410590518,
          -0.6131300774164766,
          0.7959724948574082,
          -0.01817478619237521,
          0.05015503961687754,
          0.376814718222817,
          -1.548926641719814,
          0.26002105343845394,
          -0.9509949673458841,
          -0.4274355159462603,
          1.3031986142392404,
          -1.9640602579483455,
          -1.3617829420408287
         ]
        },
        {
         "line": {
          "color": "rgba(55, 128, 191, 1.0)",
          "dash": "solid",
          "shape": "linear",
          "width": 1.3
         },
         "mode": "lines",
         "name": "B",
         "text": "",
         "type": "scatter",
         "x": [
          0,
          1,
          2,
          3,
          4,
          5,
          6,
          7,
          8,
          9,
          10,
          11,
          12,
          13,
          14,
          15,
          16,
          17,
          18,
          19,
          20,
          21,
          22,
          23,
          24,
          25,
          26,
          27,
          28,
          29,
          30,
          31,
          32,
          33,
          34,
          35,
          36,
          37,
          38,
          39,
          40,
          41,
          42,
          43,
          44,
          45,
          46,
          47,
          48,
          49,
          50,
          51,
          52,
          53,
          54,
          55,
          56,
          57,
          58,
          59,
          60,
          61,
          62,
          63,
          64,
          65,
          66,
          67,
          68,
          69,
          70,
          71,
          72,
          73,
          74,
          75,
          76,
          77,
          78,
          79,
          80,
          81,
          82,
          83,
          84,
          85,
          86,
          87,
          88,
          89,
          90,
          91,
          92,
          93,
          94,
          95,
          96,
          97,
          98,
          99
         ],
         "y": [
          0.23590897280929557,
          -0.5853191060130026,
          0.45041649477698203,
          -1.4844634650877961,
          -0.7010019866089757,
          -1.7713343221822186,
          0.3564783560049668,
          1.1031620019724644,
          -0.534524659790858,
          1.55516579284802,
          0.9245808085412286,
          1.3620636205948855,
          0.6460233039467143,
          -1.3287700621303378,
          2.113243524617769,
          -0.7039904787447651,
          0.957708167234452,
          0.38668960727077833,
          1.0905405017303815,
          -0.15907806493007792,
          -0.05398389231091074,
          -0.5336742283108098,
          0.3824419930821319,
          0.7419908764060871,
          -0.4140242561179745,
          0.2759136081174468,
          0.8482704917519138,
          2.0059405381970254,
          -1.3246650717679416,
          -0.5065540149600787,
          -0.6936235230043091,
          -0.19441117112133538,
          0.887480460290256,
          -1.5166569531417406,
          -0.7190624137948296,
          0.4102288680484326,
          -0.7379062568928512,
          -0.38612979211456566,
          -0.9814499423449278,
          -0.4359275292528566,
          -0.12292181575473174,
          1.9056738072959156,
          -1.836401325717276,
          -2.792474660611752,
          -0.9083337804822073,
          2.782345891898233,
          0.2381865299508034,
          0.9647682007237843,
          -1.1734425707908456,
          -1.9609962976837447,
          1.904270892330739,
          -0.10400697771863725,
          0.9179842824151149,
          0.16380229188572826,
          -0.02490709779441639,
          -0.20790133058482613,
          0.5399698264563033,
          -0.9674437863175008,
          0.943420239562524,
          0.1561027975165673,
          -1.6553424385101994,
          0.8709325231705167,
          1.3197016755016702,
          -2.287162353986225,
          0.552534163797248,
          -2.9316789514534003,
          -1.413578565746748,
          0.3066964640228571,
          -0.8862210615838182,
          2.2245689170171943,
          -0.5073138082557282,
          2.295896889626357,
          0.03791532397259017,
          -0.27422129122939853,
          0.12873175025274455,
          0.4837720574093124,
          -0.29738246943237895,
          -0.0988932565886435,
          -1.3368837027277733,
          0.07779215851650331,
          -2.1254522743271664,
          -0.35883373446418565,
          0.008131872263935342,
          1.3898536362783147,
          1.010414278850495,
          -0.1442294615435738,
          0.9808125838800891,
          -0.4968630660898616,
          -1.778081760893912,
          -0.12516367093881087,
          0.06968580548842876,
          -0.7992199722691573,
          0.217143175038511,
          0.31265034609776243,
          0.3134863468368505,
          0.7484128321632029,
          -0.44746867845204136,
          -1.5837350747526953,
          -0.5834240333463931,
          -1.522918964431989
         ]
        },
        {
         "line": {
          "color": "rgba(50, 171, 96, 1.0)",
          "dash": "solid",
          "shape": "linear",
          "width": 1.3
         },
         "mode": "lines",
         "name": "C",
         "text": "",
         "type": "scatter",
         "x": [
          0,
          1,
          2,
          3,
          4,
          5,
          6,
          7,
          8,
          9,
          10,
          11,
          12,
          13,
          14,
          15,
          16,
          17,
          18,
          19,
          20,
          21,
          22,
          23,
          24,
          25,
          26,
          27,
          28,
          29,
          30,
          31,
          32,
          33,
          34,
          35,
          36,
          37,
          38,
          39,
          40,
          41,
          42,
          43,
          44,
          45,
          46,
          47,
          48,
          49,
          50,
          51,
          52,
          53,
          54,
          55,
          56,
          57,
          58,
          59,
          60,
          61,
          62,
          63,
          64,
          65,
          66,
          67,
          68,
          69,
          70,
          71,
          72,
          73,
          74,
          75,
          76,
          77,
          78,
          79,
          80,
          81,
          82,
          83,
          84,
          85,
          86,
          87,
          88,
          89,
          90,
          91,
          92,
          93,
          94,
          95,
          96,
          97,
          98,
          99
         ],
         "y": [
          -0.15684046679247937,
          0.0013828717725460275,
          -0.20717052487752494,
          -0.7206190182063845,
          0.1586724861805863,
          0.34911398085786866,
          -0.44956744070842763,
          1.391230362803256,
          -0.46585330693668414,
          2.375752738731807,
          2.8013418024600076,
          -0.8922346367023012,
          -0.926846171443639,
          1.3309078366225244,
          0.1865029925576986,
          0.3440165820448021,
          2.0006673071046435,
          2.1218335358455778,
          -1.0851681629427428,
          0.036401360337058986,
          -0.7900458544606217,
          -0.4240780143001388,
          -0.23030482293717486,
          0.49875171251720374,
          2.813766329755358,
          0.51816636356984,
          0.6739908495930921,
          0.9727277361803863,
          1.7404161611034967,
          -1.052396263040642,
          0.6507507419833379,
          -0.3300921789049227,
          -0.31312308122181687,
          -1.057779781449692,
          0.5620379645886366,
          -0.6271297467319812,
          0.7904803881217852,
          -0.460998677311609,
          -1.0011704250170772,
          -0.15164477527511522,
          0.8641526804073327,
          -0.37518655065331746,
          1.324477199089354,
          -1.3033235959487661,
          0.5546707941496423,
          0.0033896549462594018,
          2.1165944224416005,
          1.521280594969115,
          -0.687675505707438,
          -0.28642443104729887,
          0.3519115913584386,
          0.6065211681422118,
          -1.3550957258383545,
          -0.8850366659186174,
          -0.1993180820639049,
          1.3426081981955984,
          -0.5434397045615473,
          -0.2632372324367694,
          0.685903186648751,
          -0.18105477889980426,
          -0.24896203088279126,
          -0.22713275470744318,
          0.5174468834197568,
          0.8823079341631708,
          1.2896006276980028,
          -0.34861199578961743,
          2.6913746255706466,
          1.0625561710492792,
          -0.661242484110436,
          -0.04914036281608619,
          -0.7900573785253736,
          -1.3699078137285237,
          1.2106250200809991,
          1.954255197101674,
          0.8058253342193138,
          -1.192938271012122,
          -0.4177302008237818,
          1.0272729885317131,
          -1.3244327715514042,
          -1.8162033125358932,
          0.029861675707530972,
          1.0681575098153913,
          1.6727332730577504,
          1.2032897688914128,
          0.410352298190852,
          1.1288481375445711,
          -1.206014819993071,
          -0.6803987372025606,
          0.16928314305903994,
          0.7653848749316945,
          -1.333754491270903,
          -0.578849785869674,
          0.14091504799203886,
          -0.3101137020582831,
          -0.4458092234831239,
          -0.23501363415754506,
          -0.4824689949430698,
          0.43215075292197663,
          -1.656409175252382,
          -1.57918209361295
         ]
        },
        {
         "line": {
          "color": "rgba(128, 0, 128, 1.0)",
          "dash": "solid",
          "shape": "linear",
          "width": 1.3
         },
         "mode": "lines",
         "name": "D",
         "text": "",
         "type": "scatter",
         "x": [
          0,
          1,
          2,
          3,
          4,
          5,
          6,
          7,
          8,
          9,
          10,
          11,
          12,
          13,
          14,
          15,
          16,
          17,
          18,
          19,
          20,
          21,
          22,
          23,
          24,
          25,
          26,
          27,
          28,
          29,
          30,
          31,
          32,
          33,
          34,
          35,
          36,
          37,
          38,
          39,
          40,
          41,
          42,
          43,
          44,
          45,
          46,
          47,
          48,
          49,
          50,
          51,
          52,
          53,
          54,
          55,
          56,
          57,
          58,
          59,
          60,
          61,
          62,
          63,
          64,
          65,
          66,
          67,
          68,
          69,
          70,
          71,
          72,
          73,
          74,
          75,
          76,
          77,
          78,
          79,
          80,
          81,
          82,
          83,
          84,
          85,
          86,
          87,
          88,
          89,
          90,
          91,
          92,
          93,
          94,
          95,
          96,
          97,
          98,
          99
         ],
         "y": [
          2.2119370484889576,
          0.2619538103571365,
          0.8924094077570193,
          -0.5904685993833743,
          0.0552766009411597,
          2.0386234968326233,
          -0.25921632958910207,
          1.258045812592153,
          -0.08375681524517528,
          0.2538557571671244,
          -0.9808152294413444,
          -0.6605595449516914,
          0.4678417811418773,
          0.012704562790264128,
          -0.49564194168079495,
          -2.135336493694956,
          1.0892234105248118,
          -0.21360836380081863,
          -1.2613303261030369,
          1.035530865770712,
          -2.2045106392997607,
          0.06781027645605417,
          -0.45458982731005415,
          -0.3630801656225834,
          0.657052299328566,
          0.6815713140492817,
          -0.3897900022027989,
          -1.5049851594981454,
          0.15542984351047032,
          -1.3532537632383819,
          0.5421869087975931,
          -0.9224892806340775,
          0.3513501900277581,
          -0.07555797465127363,
          -0.6736932749088854,
          0.39738379048588646,
          -0.513421368766816,
          0.13413567842431964,
          -0.41991144116608936,
          -0.7679773578512785,
          0.09927167247266122,
          0.2012677871419946,
          -0.1577219516692262,
          1.1368320110964723,
          0.387050190537693,
          1.8464697724505594,
          1.2655109411395482,
          1.4951956376058737,
          -1.188969723957844,
          -1.4146526735965659,
          -0.33825855148940037,
          -0.6279954052839511,
          0.23567593565933517,
          -1.0838590379437678,
          0.48304949369169115,
          -0.9668849864757662,
          -1.916287177830883,
          -0.5987588134419914,
          -0.43167766267818847,
          0.013125054891238325,
          -0.41132387441817775,
          -0.6243641075528994,
          -1.7040332454851073,
          2.9207575651107422,
          0.7338794324191147,
          0.18321432885336975,
          0.013204974415856777,
          -0.8640017165699477,
          0.1359464985400466,
          1.3093257097497903,
          -0.7779322939228172,
          -0.08474790121831398,
          0.6161921263538989,
          1.7975959989461179,
          1.5136315138421899,
          -0.19724401324219779,
          0.6253145261221091,
          0.15313896089343393,
          0.40401649761872777,
          0.9651431109184552,
          0.38881372859376023,
          -0.6800301885102675,
          0.5101696045730842,
          -0.8924176361306555,
          1.1597589320492567,
          -1.2091195603747213,
          -1.0211547747396779,
          -0.014112913171826398,
          0.13757985259358255,
          1.255842447019908,
          -0.30486794662000666,
          -0.07208922509598602,
          -0.28942993707462106,
          1.6803990367619053,
          0.42185433806988926,
          -0.36360146286425926,
          -0.3645471771058133,
          -0.8201607479181384,
          -0.20209701308029454,
          0.39344700984968983
         ]
        }
       ],
       "layout": {
        "legend": {
         "bgcolor": "#F5F6F9",
         "font": {
          "color": "#4D5663"
         }
        },
        "paper_bgcolor": "#F5F6F9",
        "plot_bgcolor": "#F5F6F9",
        "template": {
         "data": {
          "bar": [
           {
            "error_x": {
             "color": "#2a3f5f"
            },
            "error_y": {
             "color": "#2a3f5f"
            },
            "marker": {
             "line": {
              "color": "#E5ECF6",
              "width": 0.5
             }
            },
            "type": "bar"
           }
          ],
          "barpolar": [
           {
            "marker": {
             "line": {
              "color": "#E5ECF6",
              "width": 0.5
             }
            },
            "type": "barpolar"
           }
          ],
          "carpet": [
           {
            "aaxis": {
             "endlinecolor": "#2a3f5f",
             "gridcolor": "white",
             "linecolor": "white",
             "minorgridcolor": "white",
             "startlinecolor": "#2a3f5f"
            },
            "baxis": {
             "endlinecolor": "#2a3f5f",
             "gridcolor": "white",
             "linecolor": "white",
             "minorgridcolor": "white",
             "startlinecolor": "#2a3f5f"
            },
            "type": "carpet"
           }
          ],
          "choropleth": [
           {
            "colorbar": {
             "outlinewidth": 0,
             "ticks": ""
            },
            "type": "choropleth"
           }
          ],
          "contour": [
           {
            "colorbar": {
             "outlinewidth": 0,
             "ticks": ""
            },
            "colorscale": [
             [
              0,
              "#0d0887"
             ],
             [
              0.1111111111111111,
              "#46039f"
             ],
             [
              0.2222222222222222,
              "#7201a8"
             ],
             [
              0.3333333333333333,
              "#9c179e"
             ],
             [
              0.4444444444444444,
              "#bd3786"
             ],
             [
              0.5555555555555556,
              "#d8576b"
             ],
             [
              0.6666666666666666,
              "#ed7953"
             ],
             [
              0.7777777777777778,
              "#fb9f3a"
             ],
             [
              0.8888888888888888,
              "#fdca26"
             ],
             [
              1,
              "#f0f921"
             ]
            ],
            "type": "contour"
           }
          ],
          "contourcarpet": [
           {
            "colorbar": {
             "outlinewidth": 0,
             "ticks": ""
            },
            "type": "contourcarpet"
           }
          ],
          "heatmap": [
           {
            "colorbar": {
             "outlinewidth": 0,
             "ticks": ""
            },
            "colorscale": [
             [
              0,
              "#0d0887"
             ],
             [
              0.1111111111111111,
              "#46039f"
             ],
             [
              0.2222222222222222,
              "#7201a8"
             ],
             [
              0.3333333333333333,
              "#9c179e"
             ],
             [
              0.4444444444444444,
              "#bd3786"
             ],
             [
              0.5555555555555556,
              "#d8576b"
             ],
             [
              0.6666666666666666,
              "#ed7953"
             ],
             [
              0.7777777777777778,
              "#fb9f3a"
             ],
             [
              0.8888888888888888,
              "#fdca26"
             ],
             [
              1,
              "#f0f921"
             ]
            ],
            "type": "heatmap"
           }
          ],
          "heatmapgl": [
           {
            "colorbar": {
             "outlinewidth": 0,
             "ticks": ""
            },
            "colorscale": [
             [
              0,
              "#0d0887"
             ],
             [
              0.1111111111111111,
              "#46039f"
             ],
             [
              0.2222222222222222,
              "#7201a8"
             ],
             [
              0.3333333333333333,
              "#9c179e"
             ],
             [
              0.4444444444444444,
              "#bd3786"
             ],
             [
              0.5555555555555556,
              "#d8576b"
             ],
             [
              0.6666666666666666,
              "#ed7953"
             ],
             [
              0.7777777777777778,
              "#fb9f3a"
             ],
             [
              0.8888888888888888,
              "#fdca26"
             ],
             [
              1,
              "#f0f921"
             ]
            ],
            "type": "heatmapgl"
           }
          ],
          "histogram": [
           {
            "marker": {
             "colorbar": {
              "outlinewidth": 0,
              "ticks": ""
             }
            },
            "type": "histogram"
           }
          ],
          "histogram2d": [
           {
            "colorbar": {
             "outlinewidth": 0,
             "ticks": ""
            },
            "colorscale": [
             [
              0,
              "#0d0887"
             ],
             [
              0.1111111111111111,
              "#46039f"
             ],
             [
              0.2222222222222222,
              "#7201a8"
             ],
             [
              0.3333333333333333,
              "#9c179e"
             ],
             [
              0.4444444444444444,
              "#bd3786"
             ],
             [
              0.5555555555555556,
              "#d8576b"
             ],
             [
              0.6666666666666666,
              "#ed7953"
             ],
             [
              0.7777777777777778,
              "#fb9f3a"
             ],
             [
              0.8888888888888888,
              "#fdca26"
             ],
             [
              1,
              "#f0f921"
             ]
            ],
            "type": "histogram2d"
           }
          ],
          "histogram2dcontour": [
           {
            "colorbar": {
             "outlinewidth": 0,
             "ticks": ""
            },
            "colorscale": [
             [
              0,
              "#0d0887"
             ],
             [
              0.1111111111111111,
              "#46039f"
             ],
             [
              0.2222222222222222,
              "#7201a8"
             ],
             [
              0.3333333333333333,
              "#9c179e"
             ],
             [
              0.4444444444444444,
              "#bd3786"
             ],
             [
              0.5555555555555556,
              "#d8576b"
             ],
             [
              0.6666666666666666,
              "#ed7953"
             ],
             [
              0.7777777777777778,
              "#fb9f3a"
             ],
             [
              0.8888888888888888,
              "#fdca26"
             ],
             [
              1,
              "#f0f921"
             ]
            ],
            "type": "histogram2dcontour"
           }
          ],
          "mesh3d": [
           {
            "colorbar": {
             "outlinewidth": 0,
             "ticks": ""
            },
            "type": "mesh3d"
           }
          ],
          "parcoords": [
           {
            "line": {
             "colorbar": {
              "outlinewidth": 0,
              "ticks": ""
             }
            },
            "type": "parcoords"
           }
          ],
          "pie": [
           {
            "automargin": true,
            "type": "pie"
           }
          ],
          "scatter": [
           {
            "marker": {
             "colorbar": {
              "outlinewidth": 0,
              "ticks": ""
             }
            },
            "type": "scatter"
           }
          ],
          "scatter3d": [
           {
            "line": {
             "colorbar": {
              "outlinewidth": 0,
              "ticks": ""
             }
            },
            "marker": {
             "colorbar": {
              "outlinewidth": 0,
              "ticks": ""
             }
            },
            "type": "scatter3d"
           }
          ],
          "scattercarpet": [
           {
            "marker": {
             "colorbar": {
              "outlinewidth": 0,
              "ticks": ""
             }
            },
            "type": "scattercarpet"
           }
          ],
          "scattergeo": [
           {
            "marker": {
             "colorbar": {
              "outlinewidth": 0,
              "ticks": ""
             }
            },
            "type": "scattergeo"
           }
          ],
          "scattergl": [
           {
            "marker": {
             "colorbar": {
              "outlinewidth": 0,
              "ticks": ""
             }
            },
            "type": "scattergl"
           }
          ],
          "scattermapbox": [
           {
            "marker": {
             "colorbar": {
              "outlinewidth": 0,
              "ticks": ""
             }
            },
            "type": "scattermapbox"
           }
          ],
          "scatterpolar": [
           {
            "marker": {
             "colorbar": {
              "outlinewidth": 0,
              "ticks": ""
             }
            },
            "type": "scatterpolar"
           }
          ],
          "scatterpolargl": [
           {
            "marker": {
             "colorbar": {
              "outlinewidth": 0,
              "ticks": ""
             }
            },
            "type": "scatterpolargl"
           }
          ],
          "scatterternary": [
           {
            "marker": {
             "colorbar": {
              "outlinewidth": 0,
              "ticks": ""
             }
            },
            "type": "scatterternary"
           }
          ],
          "surface": [
           {
            "colorbar": {
             "outlinewidth": 0,
             "ticks": ""
            },
            "colorscale": [
             [
              0,
              "#0d0887"
             ],
             [
              0.1111111111111111,
              "#46039f"
             ],
             [
              0.2222222222222222,
              "#7201a8"
             ],
             [
              0.3333333333333333,
              "#9c179e"
             ],
             [
              0.4444444444444444,
              "#bd3786"
             ],
             [
              0.5555555555555556,
              "#d8576b"
             ],
             [
              0.6666666666666666,
              "#ed7953"
             ],
             [
              0.7777777777777778,
              "#fb9f3a"
             ],
             [
              0.8888888888888888,
              "#fdca26"
             ],
             [
              1,
              "#f0f921"
             ]
            ],
            "type": "surface"
           }
          ],
          "table": [
           {
            "cells": {
             "fill": {
              "color": "#EBF0F8"
             },
             "line": {
              "color": "white"
             }
            },
            "header": {
             "fill": {
              "color": "#C8D4E3"
             },
             "line": {
              "color": "white"
             }
            },
            "type": "table"
           }
          ]
         },
         "layout": {
          "annotationdefaults": {
           "arrowcolor": "#2a3f5f",
           "arrowhead": 0,
           "arrowwidth": 1
          },
          "coloraxis": {
           "colorbar": {
            "outlinewidth": 0,
            "ticks": ""
           }
          },
          "colorscale": {
           "diverging": [
            [
             0,
             "#8e0152"
            ],
            [
             0.1,
             "#c51b7d"
            ],
            [
             0.2,
             "#de77ae"
            ],
            [
             0.3,
             "#f1b6da"
            ],
            [
             0.4,
             "#fde0ef"
            ],
            [
             0.5,
             "#f7f7f7"
            ],
            [
             0.6,
             "#e6f5d0"
            ],
            [
             0.7,
             "#b8e186"
            ],
            [
             0.8,
             "#7fbc41"
            ],
            [
             0.9,
             "#4d9221"
            ],
            [
             1,
             "#276419"
            ]
           ],
           "sequential": [
            [
             0,
             "#0d0887"
            ],
            [
             0.1111111111111111,
             "#46039f"
            ],
            [
             0.2222222222222222,
             "#7201a8"
            ],
            [
             0.3333333333333333,
             "#9c179e"
            ],
            [
             0.4444444444444444,
             "#bd3786"
            ],
            [
             0.5555555555555556,
             "#d8576b"
            ],
            [
             0.6666666666666666,
             "#ed7953"
            ],
            [
             0.7777777777777778,
             "#fb9f3a"
            ],
            [
             0.8888888888888888,
             "#fdca26"
            ],
            [
             1,
             "#f0f921"
            ]
           ],
           "sequentialminus": [
            [
             0,
             "#0d0887"
            ],
            [
             0.1111111111111111,
             "#46039f"
            ],
            [
             0.2222222222222222,
             "#7201a8"
            ],
            [
             0.3333333333333333,
             "#9c179e"
            ],
            [
             0.4444444444444444,
             "#bd3786"
            ],
            [
             0.5555555555555556,
             "#d8576b"
            ],
            [
             0.6666666666666666,
             "#ed7953"
            ],
            [
             0.7777777777777778,
             "#fb9f3a"
            ],
            [
             0.8888888888888888,
             "#fdca26"
            ],
            [
             1,
             "#f0f921"
            ]
           ]
          },
          "colorway": [
           "#636efa",
           "#EF553B",
           "#00cc96",
           "#ab63fa",
           "#FFA15A",
           "#19d3f3",
           "#FF6692",
           "#B6E880",
           "#FF97FF",
           "#FECB52"
          ],
          "font": {
           "color": "#2a3f5f"
          },
          "geo": {
           "bgcolor": "white",
           "lakecolor": "white",
           "landcolor": "#E5ECF6",
           "showlakes": true,
           "showland": true,
           "subunitcolor": "white"
          },
          "hoverlabel": {
           "align": "left"
          },
          "hovermode": "closest",
          "mapbox": {
           "style": "light"
          },
          "paper_bgcolor": "white",
          "plot_bgcolor": "#E5ECF6",
          "polar": {
           "angularaxis": {
            "gridcolor": "white",
            "linecolor": "white",
            "ticks": ""
           },
           "bgcolor": "#E5ECF6",
           "radialaxis": {
            "gridcolor": "white",
            "linecolor": "white",
            "ticks": ""
           }
          },
          "scene": {
           "xaxis": {
            "backgroundcolor": "#E5ECF6",
            "gridcolor": "white",
            "gridwidth": 2,
            "linecolor": "white",
            "showbackground": true,
            "ticks": "",
            "zerolinecolor": "white"
           },
           "yaxis": {
            "backgroundcolor": "#E5ECF6",
            "gridcolor": "white",
            "gridwidth": 2,
            "linecolor": "white",
            "showbackground": true,
            "ticks": "",
            "zerolinecolor": "white"
           },
           "zaxis": {
            "backgroundcolor": "#E5ECF6",
            "gridcolor": "white",
            "gridwidth": 2,
            "linecolor": "white",
            "showbackground": true,
            "ticks": "",
            "zerolinecolor": "white"
           }
          },
          "shapedefaults": {
           "line": {
            "color": "#2a3f5f"
           }
          },
          "ternary": {
           "aaxis": {
            "gridcolor": "white",
            "linecolor": "white",
            "ticks": ""
           },
           "baxis": {
            "gridcolor": "white",
            "linecolor": "white",
            "ticks": ""
           },
           "bgcolor": "#E5ECF6",
           "caxis": {
            "gridcolor": "white",
            "linecolor": "white",
            "ticks": ""
           }
          },
          "title": {
           "x": 0.05
          },
          "xaxis": {
           "automargin": true,
           "gridcolor": "white",
           "linecolor": "white",
           "ticks": "",
           "title": {
            "standoff": 15
           },
           "zerolinecolor": "white",
           "zerolinewidth": 2
          },
          "yaxis": {
           "automargin": true,
           "gridcolor": "white",
           "linecolor": "white",
           "ticks": "",
           "title": {
            "standoff": 15
           },
           "zerolinecolor": "white",
           "zerolinewidth": 2
          }
         }
        },
        "title": {
         "font": {
          "color": "#4D5663"
         }
        },
        "xaxis": {
         "gridcolor": "#E1E5ED",
         "showgrid": true,
         "tickfont": {
          "color": "#4D5663"
         },
         "title": {
          "font": {
           "color": "#4D5663"
          },
          "text": ""
         },
         "zerolinecolor": "#E1E5ED"
        },
        "yaxis": {
         "gridcolor": "#E1E5ED",
         "showgrid": true,
         "tickfont": {
          "color": "#4D5663"
         },
         "title": {
          "font": {
           "color": "#4D5663"
          },
          "text": ""
         },
         "zerolinecolor": "#E1E5ED"
        }
       }
      },
      "text/html": [
       "<div>                            <div id=\"9df09782-76ea-41b0-b511-7008049c1971\" class=\"plotly-graph-div\" style=\"height:525px; width:100%;\"></div>            <script type=\"text/javascript\">                require([\"plotly\"], function(Plotly) {                    window.PLOTLYENV=window.PLOTLYENV || {};\n",
       "                    window.PLOTLYENV.BASE_URL='https://plot.ly';                                    if (document.getElementById(\"9df09782-76ea-41b0-b511-7008049c1971\")) {                    Plotly.newPlot(                        \"9df09782-76ea-41b0-b511-7008049c1971\",                        [{\"line\": {\"color\": \"rgba(255, 153, 51, 1.0)\", \"dash\": \"solid\", \"shape\": \"linear\", \"width\": 1.3}, \"mode\": \"lines\", \"name\": \"A\", \"text\": \"\", \"type\": \"scatter\", \"x\": [0, 1, 2, 3, 4, 5, 6, 7, 8, 9, 10, 11, 12, 13, 14, 15, 16, 17, 18, 19, 20, 21, 22, 23, 24, 25, 26, 27, 28, 29, 30, 31, 32, 33, 34, 35, 36, 37, 38, 39, 40, 41, 42, 43, 44, 45, 46, 47, 48, 49, 50, 51, 52, 53, 54, 55, 56, 57, 58, 59, 60, 61, 62, 63, 64, 65, 66, 67, 68, 69, 70, 71, 72, 73, 74, 75, 76, 77, 78, 79, 80, 81, 82, 83, 84, 85, 86, 87, 88, 89, 90, 91, 92, 93, 94, 95, 96, 97, 98, 99], \"y\": [0.019430806383181284, 0.608603613411356, 0.07247562241777829, -0.9104428128373663, 1.3735657891542405, 0.07519673113819865, 0.06395658164671109, -1.6195694639137597, 0.7554966666743327, 0.45097740835769223, -0.10156324731745073, -0.4158522716260824, 0.9954541144280701, -0.48555200602878423, 1.490823288469039, -0.13194416978954118, -0.7528004178239888, -0.544262017467453, -1.437649785582203, 0.17187226223968824, -1.2375300092105108, 0.49278868970672296, -0.6361730509889744, -0.13764319117463106, 0.062410111597416565, -0.5187075611984749, -1.4102344376792062, -0.3572026445885095, -0.6376315054537319, -0.08196403616906862, 1.2918666744199032, 1.834095870683521, 1.028800443585434, 0.9937885884309238, -0.37089692485727643, -0.3412877759764047, 2.262481668740981, -0.2951852827270955, 1.1249926939573314, 0.5702750889136583, -0.7551453700363403, 1.0505410054870346, -2.1796411612126207, 1.4633293246578305, -0.9824685130984081, -0.8896242240185488, -0.15830524409511837, 0.8207907173546565, -1.1853010290819173, -0.04668477075582644, -0.4923965618308851, 1.347160076177271, 0.010843352382841287, 0.6173535522890893, -1.5062569479408272, 0.19394046597445944, -1.5703035237848442, -0.8017093258648721, -0.5420091277779893, 0.12398167085240544, 1.0336758962507486, 0.7370393163266648, 1.0215708043915677, -0.40016276626102376, 1.5133921798813612, 0.7624574546404679, 0.12204337931158848, 0.3878926000196656, -1.9858807909062057, 1.5619887939186559, 1.9262998520500085, 0.6179697050361458, -0.2637131372925625, -0.42894690745324804, 0.15220520963924042, 0.2171978777436021, -1.0019800436093944, -0.9082410683140086, -0.9323858380561356, -2.176514619233318, -2.041735481953146, 0.1900171138249872, 0.7957042354908531, -0.5964879028707374, -0.3146446170771317, -2.5337539168618295, -1.0869571144160752, 0.9013311410590518, -0.6131300774164766, 0.7959724948574082, -0.01817478619237521, 0.05015503961687754, 0.376814718222817, -1.548926641719814, 0.26002105343845394, -0.9509949673458841, -0.4274355159462603, 1.3031986142392404, -1.9640602579483455, -1.3617829420408287]}, {\"line\": {\"color\": \"rgba(55, 128, 191, 1.0)\", \"dash\": \"solid\", \"shape\": \"linear\", \"width\": 1.3}, \"mode\": \"lines\", \"name\": \"B\", \"text\": \"\", \"type\": \"scatter\", \"x\": [0, 1, 2, 3, 4, 5, 6, 7, 8, 9, 10, 11, 12, 13, 14, 15, 16, 17, 18, 19, 20, 21, 22, 23, 24, 25, 26, 27, 28, 29, 30, 31, 32, 33, 34, 35, 36, 37, 38, 39, 40, 41, 42, 43, 44, 45, 46, 47, 48, 49, 50, 51, 52, 53, 54, 55, 56, 57, 58, 59, 60, 61, 62, 63, 64, 65, 66, 67, 68, 69, 70, 71, 72, 73, 74, 75, 76, 77, 78, 79, 80, 81, 82, 83, 84, 85, 86, 87, 88, 89, 90, 91, 92, 93, 94, 95, 96, 97, 98, 99], \"y\": [0.23590897280929557, -0.5853191060130026, 0.45041649477698203, -1.4844634650877961, -0.7010019866089757, -1.7713343221822186, 0.3564783560049668, 1.1031620019724644, -0.534524659790858, 1.55516579284802, 0.9245808085412286, 1.3620636205948855, 0.6460233039467143, -1.3287700621303378, 2.113243524617769, -0.7039904787447651, 0.957708167234452, 0.38668960727077833, 1.0905405017303815, -0.15907806493007792, -0.05398389231091074, -0.5336742283108098, 0.3824419930821319, 0.7419908764060871, -0.4140242561179745, 0.2759136081174468, 0.8482704917519138, 2.0059405381970254, -1.3246650717679416, -0.5065540149600787, -0.6936235230043091, -0.19441117112133538, 0.887480460290256, -1.5166569531417406, -0.7190624137948296, 0.4102288680484326, -0.7379062568928512, -0.38612979211456566, -0.9814499423449278, -0.4359275292528566, -0.12292181575473174, 1.9056738072959156, -1.836401325717276, -2.792474660611752, -0.9083337804822073, 2.782345891898233, 0.2381865299508034, 0.9647682007237843, -1.1734425707908456, -1.9609962976837447, 1.904270892330739, -0.10400697771863725, 0.9179842824151149, 0.16380229188572826, -0.02490709779441639, -0.20790133058482613, 0.5399698264563033, -0.9674437863175008, 0.943420239562524, 0.1561027975165673, -1.6553424385101994, 0.8709325231705167, 1.3197016755016702, -2.287162353986225, 0.552534163797248, -2.9316789514534003, -1.413578565746748, 0.3066964640228571, -0.8862210615838182, 2.2245689170171943, -0.5073138082557282, 2.295896889626357, 0.03791532397259017, -0.27422129122939853, 0.12873175025274455, 0.4837720574093124, -0.29738246943237895, -0.0988932565886435, -1.3368837027277733, 0.07779215851650331, -2.1254522743271664, -0.35883373446418565, 0.008131872263935342, 1.3898536362783147, 1.010414278850495, -0.1442294615435738, 0.9808125838800891, -0.4968630660898616, -1.778081760893912, -0.12516367093881087, 0.06968580548842876, -0.7992199722691573, 0.217143175038511, 0.31265034609776243, 0.3134863468368505, 0.7484128321632029, -0.44746867845204136, -1.5837350747526953, -0.5834240333463931, -1.522918964431989]}, {\"line\": {\"color\": \"rgba(50, 171, 96, 1.0)\", \"dash\": \"solid\", \"shape\": \"linear\", \"width\": 1.3}, \"mode\": \"lines\", \"name\": \"C\", \"text\": \"\", \"type\": \"scatter\", \"x\": [0, 1, 2, 3, 4, 5, 6, 7, 8, 9, 10, 11, 12, 13, 14, 15, 16, 17, 18, 19, 20, 21, 22, 23, 24, 25, 26, 27, 28, 29, 30, 31, 32, 33, 34, 35, 36, 37, 38, 39, 40, 41, 42, 43, 44, 45, 46, 47, 48, 49, 50, 51, 52, 53, 54, 55, 56, 57, 58, 59, 60, 61, 62, 63, 64, 65, 66, 67, 68, 69, 70, 71, 72, 73, 74, 75, 76, 77, 78, 79, 80, 81, 82, 83, 84, 85, 86, 87, 88, 89, 90, 91, 92, 93, 94, 95, 96, 97, 98, 99], \"y\": [-0.15684046679247937, 0.0013828717725460275, -0.20717052487752494, -0.7206190182063845, 0.1586724861805863, 0.34911398085786866, -0.44956744070842763, 1.391230362803256, -0.46585330693668414, 2.375752738731807, 2.8013418024600076, -0.8922346367023012, -0.926846171443639, 1.3309078366225244, 0.1865029925576986, 0.3440165820448021, 2.0006673071046435, 2.1218335358455778, -1.0851681629427428, 0.036401360337058986, -0.7900458544606217, -0.4240780143001388, -0.23030482293717486, 0.49875171251720374, 2.813766329755358, 0.51816636356984, 0.6739908495930921, 0.9727277361803863, 1.7404161611034967, -1.052396263040642, 0.6507507419833379, -0.3300921789049227, -0.31312308122181687, -1.057779781449692, 0.5620379645886366, -0.6271297467319812, 0.7904803881217852, -0.460998677311609, -1.0011704250170772, -0.15164477527511522, 0.8641526804073327, -0.37518655065331746, 1.324477199089354, -1.3033235959487661, 0.5546707941496423, 0.0033896549462594018, 2.1165944224416005, 1.521280594969115, -0.687675505707438, -0.28642443104729887, 0.3519115913584386, 0.6065211681422118, -1.3550957258383545, -0.8850366659186174, -0.1993180820639049, 1.3426081981955984, -0.5434397045615473, -0.2632372324367694, 0.685903186648751, -0.18105477889980426, -0.24896203088279126, -0.22713275470744318, 0.5174468834197568, 0.8823079341631708, 1.2896006276980028, -0.34861199578961743, 2.6913746255706466, 1.0625561710492792, -0.661242484110436, -0.04914036281608619, -0.7900573785253736, -1.3699078137285237, 1.2106250200809991, 1.954255197101674, 0.8058253342193138, -1.192938271012122, -0.4177302008237818, 1.0272729885317131, -1.3244327715514042, -1.8162033125358932, 0.029861675707530972, 1.0681575098153913, 1.6727332730577504, 1.2032897688914128, 0.410352298190852, 1.1288481375445711, -1.206014819993071, -0.6803987372025606, 0.16928314305903994, 0.7653848749316945, -1.333754491270903, -0.578849785869674, 0.14091504799203886, -0.3101137020582831, -0.4458092234831239, -0.23501363415754506, -0.4824689949430698, 0.43215075292197663, -1.656409175252382, -1.57918209361295]}, {\"line\": {\"color\": \"rgba(128, 0, 128, 1.0)\", \"dash\": \"solid\", \"shape\": \"linear\", \"width\": 1.3}, \"mode\": \"lines\", \"name\": \"D\", \"text\": \"\", \"type\": \"scatter\", \"x\": [0, 1, 2, 3, 4, 5, 6, 7, 8, 9, 10, 11, 12, 13, 14, 15, 16, 17, 18, 19, 20, 21, 22, 23, 24, 25, 26, 27, 28, 29, 30, 31, 32, 33, 34, 35, 36, 37, 38, 39, 40, 41, 42, 43, 44, 45, 46, 47, 48, 49, 50, 51, 52, 53, 54, 55, 56, 57, 58, 59, 60, 61, 62, 63, 64, 65, 66, 67, 68, 69, 70, 71, 72, 73, 74, 75, 76, 77, 78, 79, 80, 81, 82, 83, 84, 85, 86, 87, 88, 89, 90, 91, 92, 93, 94, 95, 96, 97, 98, 99], \"y\": [2.2119370484889576, 0.2619538103571365, 0.8924094077570193, -0.5904685993833743, 0.0552766009411597, 2.0386234968326233, -0.25921632958910207, 1.258045812592153, -0.08375681524517528, 0.2538557571671244, -0.9808152294413444, -0.6605595449516914, 0.4678417811418773, 0.012704562790264128, -0.49564194168079495, -2.135336493694956, 1.0892234105248118, -0.21360836380081863, -1.2613303261030369, 1.035530865770712, -2.2045106392997607, 0.06781027645605417, -0.45458982731005415, -0.3630801656225834, 0.657052299328566, 0.6815713140492817, -0.3897900022027989, -1.5049851594981454, 0.15542984351047032, -1.3532537632383819, 0.5421869087975931, -0.9224892806340775, 0.3513501900277581, -0.07555797465127363, -0.6736932749088854, 0.39738379048588646, -0.513421368766816, 0.13413567842431964, -0.41991144116608936, -0.7679773578512785, 0.09927167247266122, 0.2012677871419946, -0.1577219516692262, 1.1368320110964723, 0.387050190537693, 1.8464697724505594, 1.2655109411395482, 1.4951956376058737, -1.188969723957844, -1.4146526735965659, -0.33825855148940037, -0.6279954052839511, 0.23567593565933517, -1.0838590379437678, 0.48304949369169115, -0.9668849864757662, -1.916287177830883, -0.5987588134419914, -0.43167766267818847, 0.013125054891238325, -0.41132387441817775, -0.6243641075528994, -1.7040332454851073, 2.9207575651107422, 0.7338794324191147, 0.18321432885336975, 0.013204974415856777, -0.8640017165699477, 0.1359464985400466, 1.3093257097497903, -0.7779322939228172, -0.08474790121831398, 0.6161921263538989, 1.7975959989461179, 1.5136315138421899, -0.19724401324219779, 0.6253145261221091, 0.15313896089343393, 0.40401649761872777, 0.9651431109184552, 0.38881372859376023, -0.6800301885102675, 0.5101696045730842, -0.8924176361306555, 1.1597589320492567, -1.2091195603747213, -1.0211547747396779, -0.014112913171826398, 0.13757985259358255, 1.255842447019908, -0.30486794662000666, -0.07208922509598602, -0.28942993707462106, 1.6803990367619053, 0.42185433806988926, -0.36360146286425926, -0.3645471771058133, -0.8201607479181384, -0.20209701308029454, 0.39344700984968983]}],                        {\"legend\": {\"bgcolor\": \"#F5F6F9\", \"font\": {\"color\": \"#4D5663\"}}, \"paper_bgcolor\": \"#F5F6F9\", \"plot_bgcolor\": \"#F5F6F9\", \"template\": {\"data\": {\"bar\": [{\"error_x\": {\"color\": \"#2a3f5f\"}, \"error_y\": {\"color\": \"#2a3f5f\"}, \"marker\": {\"line\": {\"color\": \"#E5ECF6\", \"width\": 0.5}}, \"type\": \"bar\"}], \"barpolar\": [{\"marker\": {\"line\": {\"color\": \"#E5ECF6\", \"width\": 0.5}}, \"type\": \"barpolar\"}], \"carpet\": [{\"aaxis\": {\"endlinecolor\": \"#2a3f5f\", \"gridcolor\": \"white\", \"linecolor\": \"white\", \"minorgridcolor\": \"white\", \"startlinecolor\": \"#2a3f5f\"}, \"baxis\": {\"endlinecolor\": \"#2a3f5f\", \"gridcolor\": \"white\", \"linecolor\": \"white\", \"minorgridcolor\": \"white\", \"startlinecolor\": \"#2a3f5f\"}, \"type\": \"carpet\"}], \"choropleth\": [{\"colorbar\": {\"outlinewidth\": 0, \"ticks\": \"\"}, \"type\": \"choropleth\"}], \"contour\": [{\"colorbar\": {\"outlinewidth\": 0, \"ticks\": \"\"}, \"colorscale\": [[0.0, \"#0d0887\"], [0.1111111111111111, \"#46039f\"], [0.2222222222222222, \"#7201a8\"], [0.3333333333333333, \"#9c179e\"], [0.4444444444444444, \"#bd3786\"], [0.5555555555555556, \"#d8576b\"], [0.6666666666666666, \"#ed7953\"], [0.7777777777777778, \"#fb9f3a\"], [0.8888888888888888, \"#fdca26\"], [1.0, \"#f0f921\"]], \"type\": \"contour\"}], \"contourcarpet\": [{\"colorbar\": {\"outlinewidth\": 0, \"ticks\": \"\"}, \"type\": \"contourcarpet\"}], \"heatmap\": [{\"colorbar\": {\"outlinewidth\": 0, \"ticks\": \"\"}, \"colorscale\": [[0.0, \"#0d0887\"], [0.1111111111111111, \"#46039f\"], [0.2222222222222222, \"#7201a8\"], [0.3333333333333333, \"#9c179e\"], [0.4444444444444444, \"#bd3786\"], [0.5555555555555556, \"#d8576b\"], [0.6666666666666666, \"#ed7953\"], [0.7777777777777778, \"#fb9f3a\"], [0.8888888888888888, \"#fdca26\"], [1.0, \"#f0f921\"]], \"type\": \"heatmap\"}], \"heatmapgl\": [{\"colorbar\": {\"outlinewidth\": 0, \"ticks\": \"\"}, \"colorscale\": [[0.0, \"#0d0887\"], [0.1111111111111111, \"#46039f\"], [0.2222222222222222, \"#7201a8\"], [0.3333333333333333, \"#9c179e\"], [0.4444444444444444, \"#bd3786\"], [0.5555555555555556, \"#d8576b\"], [0.6666666666666666, \"#ed7953\"], [0.7777777777777778, \"#fb9f3a\"], [0.8888888888888888, \"#fdca26\"], [1.0, \"#f0f921\"]], \"type\": \"heatmapgl\"}], \"histogram\": [{\"marker\": {\"colorbar\": {\"outlinewidth\": 0, \"ticks\": \"\"}}, \"type\": \"histogram\"}], \"histogram2d\": [{\"colorbar\": {\"outlinewidth\": 0, \"ticks\": \"\"}, \"colorscale\": [[0.0, \"#0d0887\"], [0.1111111111111111, \"#46039f\"], [0.2222222222222222, \"#7201a8\"], [0.3333333333333333, \"#9c179e\"], [0.4444444444444444, \"#bd3786\"], [0.5555555555555556, \"#d8576b\"], [0.6666666666666666, \"#ed7953\"], [0.7777777777777778, \"#fb9f3a\"], [0.8888888888888888, \"#fdca26\"], [1.0, \"#f0f921\"]], \"type\": \"histogram2d\"}], \"histogram2dcontour\": [{\"colorbar\": {\"outlinewidth\": 0, \"ticks\": \"\"}, \"colorscale\": [[0.0, \"#0d0887\"], [0.1111111111111111, \"#46039f\"], [0.2222222222222222, \"#7201a8\"], [0.3333333333333333, \"#9c179e\"], [0.4444444444444444, \"#bd3786\"], [0.5555555555555556, \"#d8576b\"], [0.6666666666666666, \"#ed7953\"], [0.7777777777777778, \"#fb9f3a\"], [0.8888888888888888, \"#fdca26\"], [1.0, \"#f0f921\"]], \"type\": \"histogram2dcontour\"}], \"mesh3d\": [{\"colorbar\": {\"outlinewidth\": 0, \"ticks\": \"\"}, \"type\": \"mesh3d\"}], \"parcoords\": [{\"line\": {\"colorbar\": {\"outlinewidth\": 0, \"ticks\": \"\"}}, \"type\": \"parcoords\"}], \"pie\": [{\"automargin\": true, \"type\": \"pie\"}], \"scatter\": [{\"marker\": {\"colorbar\": {\"outlinewidth\": 0, \"ticks\": \"\"}}, \"type\": \"scatter\"}], \"scatter3d\": [{\"line\": {\"colorbar\": {\"outlinewidth\": 0, \"ticks\": \"\"}}, \"marker\": {\"colorbar\": {\"outlinewidth\": 0, \"ticks\": \"\"}}, \"type\": \"scatter3d\"}], \"scattercarpet\": [{\"marker\": {\"colorbar\": {\"outlinewidth\": 0, \"ticks\": \"\"}}, \"type\": \"scattercarpet\"}], \"scattergeo\": [{\"marker\": {\"colorbar\": {\"outlinewidth\": 0, \"ticks\": \"\"}}, \"type\": \"scattergeo\"}], \"scattergl\": [{\"marker\": {\"colorbar\": {\"outlinewidth\": 0, \"ticks\": \"\"}}, \"type\": \"scattergl\"}], \"scattermapbox\": [{\"marker\": {\"colorbar\": {\"outlinewidth\": 0, \"ticks\": \"\"}}, \"type\": \"scattermapbox\"}], \"scatterpolar\": [{\"marker\": {\"colorbar\": {\"outlinewidth\": 0, \"ticks\": \"\"}}, \"type\": \"scatterpolar\"}], \"scatterpolargl\": [{\"marker\": {\"colorbar\": {\"outlinewidth\": 0, \"ticks\": \"\"}}, \"type\": \"scatterpolargl\"}], \"scatterternary\": [{\"marker\": {\"colorbar\": {\"outlinewidth\": 0, \"ticks\": \"\"}}, \"type\": \"scatterternary\"}], \"surface\": [{\"colorbar\": {\"outlinewidth\": 0, \"ticks\": \"\"}, \"colorscale\": [[0.0, \"#0d0887\"], [0.1111111111111111, \"#46039f\"], [0.2222222222222222, \"#7201a8\"], [0.3333333333333333, \"#9c179e\"], [0.4444444444444444, \"#bd3786\"], [0.5555555555555556, \"#d8576b\"], [0.6666666666666666, \"#ed7953\"], [0.7777777777777778, \"#fb9f3a\"], [0.8888888888888888, \"#fdca26\"], [1.0, \"#f0f921\"]], \"type\": \"surface\"}], \"table\": [{\"cells\": {\"fill\": {\"color\": \"#EBF0F8\"}, \"line\": {\"color\": \"white\"}}, \"header\": {\"fill\": {\"color\": \"#C8D4E3\"}, \"line\": {\"color\": \"white\"}}, \"type\": \"table\"}]}, \"layout\": {\"annotationdefaults\": {\"arrowcolor\": \"#2a3f5f\", \"arrowhead\": 0, \"arrowwidth\": 1}, \"coloraxis\": {\"colorbar\": {\"outlinewidth\": 0, \"ticks\": \"\"}}, \"colorscale\": {\"diverging\": [[0, \"#8e0152\"], [0.1, \"#c51b7d\"], [0.2, \"#de77ae\"], [0.3, \"#f1b6da\"], [0.4, \"#fde0ef\"], [0.5, \"#f7f7f7\"], [0.6, \"#e6f5d0\"], [0.7, \"#b8e186\"], [0.8, \"#7fbc41\"], [0.9, \"#4d9221\"], [1, \"#276419\"]], \"sequential\": [[0.0, \"#0d0887\"], [0.1111111111111111, \"#46039f\"], [0.2222222222222222, \"#7201a8\"], [0.3333333333333333, \"#9c179e\"], [0.4444444444444444, \"#bd3786\"], [0.5555555555555556, \"#d8576b\"], [0.6666666666666666, \"#ed7953\"], [0.7777777777777778, \"#fb9f3a\"], [0.8888888888888888, \"#fdca26\"], [1.0, \"#f0f921\"]], \"sequentialminus\": [[0.0, \"#0d0887\"], [0.1111111111111111, \"#46039f\"], [0.2222222222222222, \"#7201a8\"], [0.3333333333333333, \"#9c179e\"], [0.4444444444444444, \"#bd3786\"], [0.5555555555555556, \"#d8576b\"], [0.6666666666666666, \"#ed7953\"], [0.7777777777777778, \"#fb9f3a\"], [0.8888888888888888, \"#fdca26\"], [1.0, \"#f0f921\"]]}, \"colorway\": [\"#636efa\", \"#EF553B\", \"#00cc96\", \"#ab63fa\", \"#FFA15A\", \"#19d3f3\", \"#FF6692\", \"#B6E880\", \"#FF97FF\", \"#FECB52\"], \"font\": {\"color\": \"#2a3f5f\"}, \"geo\": {\"bgcolor\": \"white\", \"lakecolor\": \"white\", \"landcolor\": \"#E5ECF6\", \"showlakes\": true, \"showland\": true, \"subunitcolor\": \"white\"}, \"hoverlabel\": {\"align\": \"left\"}, \"hovermode\": \"closest\", \"mapbox\": {\"style\": \"light\"}, \"paper_bgcolor\": \"white\", \"plot_bgcolor\": \"#E5ECF6\", \"polar\": {\"angularaxis\": {\"gridcolor\": \"white\", \"linecolor\": \"white\", \"ticks\": \"\"}, \"bgcolor\": \"#E5ECF6\", \"radialaxis\": {\"gridcolor\": \"white\", \"linecolor\": \"white\", \"ticks\": \"\"}}, \"scene\": {\"xaxis\": {\"backgroundcolor\": \"#E5ECF6\", \"gridcolor\": \"white\", \"gridwidth\": 2, \"linecolor\": \"white\", \"showbackground\": true, \"ticks\": \"\", \"zerolinecolor\": \"white\"}, \"yaxis\": {\"backgroundcolor\": \"#E5ECF6\", \"gridcolor\": \"white\", \"gridwidth\": 2, \"linecolor\": \"white\", \"showbackground\": true, \"ticks\": \"\", \"zerolinecolor\": \"white\"}, \"zaxis\": {\"backgroundcolor\": \"#E5ECF6\", \"gridcolor\": \"white\", \"gridwidth\": 2, \"linecolor\": \"white\", \"showbackground\": true, \"ticks\": \"\", \"zerolinecolor\": \"white\"}}, \"shapedefaults\": {\"line\": {\"color\": \"#2a3f5f\"}}, \"ternary\": {\"aaxis\": {\"gridcolor\": \"white\", \"linecolor\": \"white\", \"ticks\": \"\"}, \"baxis\": {\"gridcolor\": \"white\", \"linecolor\": \"white\", \"ticks\": \"\"}, \"bgcolor\": \"#E5ECF6\", \"caxis\": {\"gridcolor\": \"white\", \"linecolor\": \"white\", \"ticks\": \"\"}}, \"title\": {\"x\": 0.05}, \"xaxis\": {\"automargin\": true, \"gridcolor\": \"white\", \"linecolor\": \"white\", \"ticks\": \"\", \"title\": {\"standoff\": 15}, \"zerolinecolor\": \"white\", \"zerolinewidth\": 2}, \"yaxis\": {\"automargin\": true, \"gridcolor\": \"white\", \"linecolor\": \"white\", \"ticks\": \"\", \"title\": {\"standoff\": 15}, \"zerolinecolor\": \"white\", \"zerolinewidth\": 2}}}, \"title\": {\"font\": {\"color\": \"#4D5663\"}}, \"xaxis\": {\"gridcolor\": \"#E1E5ED\", \"showgrid\": true, \"tickfont\": {\"color\": \"#4D5663\"}, \"title\": {\"font\": {\"color\": \"#4D5663\"}, \"text\": \"\"}, \"zerolinecolor\": \"#E1E5ED\"}, \"yaxis\": {\"gridcolor\": \"#E1E5ED\", \"showgrid\": true, \"tickfont\": {\"color\": \"#4D5663\"}, \"title\": {\"font\": {\"color\": \"#4D5663\"}, \"text\": \"\"}, \"zerolinecolor\": \"#E1E5ED\"}},                        {\"showLink\": true, \"linkText\": \"Export to plot.ly\", \"plotlyServerURL\": \"https://plot.ly\", \"responsive\": true}                    ).then(function(){\n",
       "                            \n",
       "var gd = document.getElementById('9df09782-76ea-41b0-b511-7008049c1971');\n",
       "var x = new MutationObserver(function (mutations, observer) {{\n",
       "        var display = window.getComputedStyle(gd).display;\n",
       "        if (!display || display === 'none') {{\n",
       "            console.log([gd, 'removed!']);\n",
       "            Plotly.purge(gd);\n",
       "            observer.disconnect();\n",
       "        }}\n",
       "}});\n",
       "\n",
       "// Listen for the removal of the full notebook cells\n",
       "var notebookContainer = gd.closest('#notebook-container');\n",
       "if (notebookContainer) {{\n",
       "    x.observe(notebookContainer, {childList: true});\n",
       "}}\n",
       "\n",
       "// Listen for the clearing of the current output cell\n",
       "var outputEl = gd.closest('.output');\n",
       "if (outputEl) {{\n",
       "    x.observe(outputEl, {childList: true});\n",
       "}}\n",
       "\n",
       "                        })                };                });            </script>        </div>"
      ]
     },
     "metadata": {},
     "output_type": "display_data"
    }
   ],
   "source": [
    "df.iplot()"
   ]
  },
  {
   "cell_type": "markdown",
   "metadata": {},
   "source": [
    "---\n",
    "## Scatter"
   ]
  },
  {
   "cell_type": "code",
   "execution_count": 13,
   "metadata": {},
   "outputs": [
    {
     "data": {
      "application/vnd.plotly.v1+json": {
       "config": {
        "linkText": "Export to plot.ly",
        "plotlyServerURL": "https://plot.ly",
        "showLink": true
       },
       "data": [
        {
         "line": {
          "color": "rgba(255, 153, 51, 1.0)",
          "dash": "solid",
          "shape": "linear",
          "width": 1.3
         },
         "marker": {
          "size": 10,
          "symbol": "circle"
         },
         "mode": "markers",
         "name": "B",
         "text": "",
         "type": "scatter",
         "x": [
          0.019430806383181284,
          0.608603613411356,
          0.07247562241777829,
          -0.9104428128373663,
          1.3735657891542405,
          0.07519673113819865,
          0.06395658164671109,
          -1.6195694639137597,
          0.7554966666743327,
          0.45097740835769223,
          -0.10156324731745073,
          -0.4158522716260824,
          0.9954541144280701,
          -0.48555200602878423,
          1.490823288469039,
          -0.13194416978954118,
          -0.7528004178239888,
          -0.544262017467453,
          -1.437649785582203,
          0.17187226223968824,
          -1.2375300092105108,
          0.49278868970672296,
          -0.6361730509889744,
          -0.13764319117463106,
          0.062410111597416565,
          -0.5187075611984749,
          -1.4102344376792062,
          -0.3572026445885095,
          -0.6376315054537319,
          -0.08196403616906862,
          1.2918666744199032,
          1.834095870683521,
          1.028800443585434,
          0.9937885884309238,
          -0.37089692485727643,
          -0.3412877759764047,
          2.262481668740981,
          -0.2951852827270955,
          1.1249926939573314,
          0.5702750889136583,
          -0.7551453700363403,
          1.0505410054870346,
          -2.1796411612126207,
          1.4633293246578305,
          -0.9824685130984081,
          -0.8896242240185488,
          -0.15830524409511837,
          0.8207907173546565,
          -1.1853010290819173,
          -0.04668477075582644,
          -0.4923965618308851,
          1.347160076177271,
          0.010843352382841287,
          0.6173535522890893,
          -1.5062569479408272,
          0.19394046597445944,
          -1.5703035237848442,
          -0.8017093258648721,
          -0.5420091277779893,
          0.12398167085240544,
          1.0336758962507486,
          0.7370393163266648,
          1.0215708043915677,
          -0.40016276626102376,
          1.5133921798813612,
          0.7624574546404679,
          0.12204337931158848,
          0.3878926000196656,
          -1.9858807909062057,
          1.5619887939186559,
          1.9262998520500085,
          0.6179697050361458,
          -0.2637131372925625,
          -0.42894690745324804,
          0.15220520963924042,
          0.2171978777436021,
          -1.0019800436093944,
          -0.9082410683140086,
          -0.9323858380561356,
          -2.176514619233318,
          -2.041735481953146,
          0.1900171138249872,
          0.7957042354908531,
          -0.5964879028707374,
          -0.3146446170771317,
          -2.5337539168618295,
          -1.0869571144160752,
          0.9013311410590518,
          -0.6131300774164766,
          0.7959724948574082,
          -0.01817478619237521,
          0.05015503961687754,
          0.376814718222817,
          -1.548926641719814,
          0.26002105343845394,
          -0.9509949673458841,
          -0.4274355159462603,
          1.3031986142392404,
          -1.9640602579483455,
          -1.3617829420408287
         ],
         "y": [
          0.23590897280929557,
          -0.5853191060130026,
          0.45041649477698203,
          -1.4844634650877961,
          -0.7010019866089757,
          -1.7713343221822186,
          0.3564783560049668,
          1.1031620019724644,
          -0.534524659790858,
          1.55516579284802,
          0.9245808085412286,
          1.3620636205948855,
          0.6460233039467143,
          -1.3287700621303378,
          2.113243524617769,
          -0.7039904787447651,
          0.957708167234452,
          0.38668960727077833,
          1.0905405017303815,
          -0.15907806493007792,
          -0.05398389231091074,
          -0.5336742283108098,
          0.3824419930821319,
          0.7419908764060871,
          -0.4140242561179745,
          0.2759136081174468,
          0.8482704917519138,
          2.0059405381970254,
          -1.3246650717679416,
          -0.5065540149600787,
          -0.6936235230043091,
          -0.19441117112133538,
          0.887480460290256,
          -1.5166569531417406,
          -0.7190624137948296,
          0.4102288680484326,
          -0.7379062568928512,
          -0.38612979211456566,
          -0.9814499423449278,
          -0.4359275292528566,
          -0.12292181575473174,
          1.9056738072959156,
          -1.836401325717276,
          -2.792474660611752,
          -0.9083337804822073,
          2.782345891898233,
          0.2381865299508034,
          0.9647682007237843,
          -1.1734425707908456,
          -1.9609962976837447,
          1.904270892330739,
          -0.10400697771863725,
          0.9179842824151149,
          0.16380229188572826,
          -0.02490709779441639,
          -0.20790133058482613,
          0.5399698264563033,
          -0.9674437863175008,
          0.943420239562524,
          0.1561027975165673,
          -1.6553424385101994,
          0.8709325231705167,
          1.3197016755016702,
          -2.287162353986225,
          0.552534163797248,
          -2.9316789514534003,
          -1.413578565746748,
          0.3066964640228571,
          -0.8862210615838182,
          2.2245689170171943,
          -0.5073138082557282,
          2.295896889626357,
          0.03791532397259017,
          -0.27422129122939853,
          0.12873175025274455,
          0.4837720574093124,
          -0.29738246943237895,
          -0.0988932565886435,
          -1.3368837027277733,
          0.07779215851650331,
          -2.1254522743271664,
          -0.35883373446418565,
          0.008131872263935342,
          1.3898536362783147,
          1.010414278850495,
          -0.1442294615435738,
          0.9808125838800891,
          -0.4968630660898616,
          -1.778081760893912,
          -0.12516367093881087,
          0.06968580548842876,
          -0.7992199722691573,
          0.217143175038511,
          0.31265034609776243,
          0.3134863468368505,
          0.7484128321632029,
          -0.44746867845204136,
          -1.5837350747526953,
          -0.5834240333463931,
          -1.522918964431989
         ]
        }
       ],
       "layout": {
        "legend": {
         "bgcolor": "#F5F6F9",
         "font": {
          "color": "#4D5663"
         }
        },
        "paper_bgcolor": "#F5F6F9",
        "plot_bgcolor": "#F5F6F9",
        "template": {
         "data": {
          "bar": [
           {
            "error_x": {
             "color": "#2a3f5f"
            },
            "error_y": {
             "color": "#2a3f5f"
            },
            "marker": {
             "line": {
              "color": "#E5ECF6",
              "width": 0.5
             }
            },
            "type": "bar"
           }
          ],
          "barpolar": [
           {
            "marker": {
             "line": {
              "color": "#E5ECF6",
              "width": 0.5
             }
            },
            "type": "barpolar"
           }
          ],
          "carpet": [
           {
            "aaxis": {
             "endlinecolor": "#2a3f5f",
             "gridcolor": "white",
             "linecolor": "white",
             "minorgridcolor": "white",
             "startlinecolor": "#2a3f5f"
            },
            "baxis": {
             "endlinecolor": "#2a3f5f",
             "gridcolor": "white",
             "linecolor": "white",
             "minorgridcolor": "white",
             "startlinecolor": "#2a3f5f"
            },
            "type": "carpet"
           }
          ],
          "choropleth": [
           {
            "colorbar": {
             "outlinewidth": 0,
             "ticks": ""
            },
            "type": "choropleth"
           }
          ],
          "contour": [
           {
            "colorbar": {
             "outlinewidth": 0,
             "ticks": ""
            },
            "colorscale": [
             [
              0,
              "#0d0887"
             ],
             [
              0.1111111111111111,
              "#46039f"
             ],
             [
              0.2222222222222222,
              "#7201a8"
             ],
             [
              0.3333333333333333,
              "#9c179e"
             ],
             [
              0.4444444444444444,
              "#bd3786"
             ],
             [
              0.5555555555555556,
              "#d8576b"
             ],
             [
              0.6666666666666666,
              "#ed7953"
             ],
             [
              0.7777777777777778,
              "#fb9f3a"
             ],
             [
              0.8888888888888888,
              "#fdca26"
             ],
             [
              1,
              "#f0f921"
             ]
            ],
            "type": "contour"
           }
          ],
          "contourcarpet": [
           {
            "colorbar": {
             "outlinewidth": 0,
             "ticks": ""
            },
            "type": "contourcarpet"
           }
          ],
          "heatmap": [
           {
            "colorbar": {
             "outlinewidth": 0,
             "ticks": ""
            },
            "colorscale": [
             [
              0,
              "#0d0887"
             ],
             [
              0.1111111111111111,
              "#46039f"
             ],
             [
              0.2222222222222222,
              "#7201a8"
             ],
             [
              0.3333333333333333,
              "#9c179e"
             ],
             [
              0.4444444444444444,
              "#bd3786"
             ],
             [
              0.5555555555555556,
              "#d8576b"
             ],
             [
              0.6666666666666666,
              "#ed7953"
             ],
             [
              0.7777777777777778,
              "#fb9f3a"
             ],
             [
              0.8888888888888888,
              "#fdca26"
             ],
             [
              1,
              "#f0f921"
             ]
            ],
            "type": "heatmap"
           }
          ],
          "heatmapgl": [
           {
            "colorbar": {
             "outlinewidth": 0,
             "ticks": ""
            },
            "colorscale": [
             [
              0,
              "#0d0887"
             ],
             [
              0.1111111111111111,
              "#46039f"
             ],
             [
              0.2222222222222222,
              "#7201a8"
             ],
             [
              0.3333333333333333,
              "#9c179e"
             ],
             [
              0.4444444444444444,
              "#bd3786"
             ],
             [
              0.5555555555555556,
              "#d8576b"
             ],
             [
              0.6666666666666666,
              "#ed7953"
             ],
             [
              0.7777777777777778,
              "#fb9f3a"
             ],
             [
              0.8888888888888888,
              "#fdca26"
             ],
             [
              1,
              "#f0f921"
             ]
            ],
            "type": "heatmapgl"
           }
          ],
          "histogram": [
           {
            "marker": {
             "colorbar": {
              "outlinewidth": 0,
              "ticks": ""
             }
            },
            "type": "histogram"
           }
          ],
          "histogram2d": [
           {
            "colorbar": {
             "outlinewidth": 0,
             "ticks": ""
            },
            "colorscale": [
             [
              0,
              "#0d0887"
             ],
             [
              0.1111111111111111,
              "#46039f"
             ],
             [
              0.2222222222222222,
              "#7201a8"
             ],
             [
              0.3333333333333333,
              "#9c179e"
             ],
             [
              0.4444444444444444,
              "#bd3786"
             ],
             [
              0.5555555555555556,
              "#d8576b"
             ],
             [
              0.6666666666666666,
              "#ed7953"
             ],
             [
              0.7777777777777778,
              "#fb9f3a"
             ],
             [
              0.8888888888888888,
              "#fdca26"
             ],
             [
              1,
              "#f0f921"
             ]
            ],
            "type": "histogram2d"
           }
          ],
          "histogram2dcontour": [
           {
            "colorbar": {
             "outlinewidth": 0,
             "ticks": ""
            },
            "colorscale": [
             [
              0,
              "#0d0887"
             ],
             [
              0.1111111111111111,
              "#46039f"
             ],
             [
              0.2222222222222222,
              "#7201a8"
             ],
             [
              0.3333333333333333,
              "#9c179e"
             ],
             [
              0.4444444444444444,
              "#bd3786"
             ],
             [
              0.5555555555555556,
              "#d8576b"
             ],
             [
              0.6666666666666666,
              "#ed7953"
             ],
             [
              0.7777777777777778,
              "#fb9f3a"
             ],
             [
              0.8888888888888888,
              "#fdca26"
             ],
             [
              1,
              "#f0f921"
             ]
            ],
            "type": "histogram2dcontour"
           }
          ],
          "mesh3d": [
           {
            "colorbar": {
             "outlinewidth": 0,
             "ticks": ""
            },
            "type": "mesh3d"
           }
          ],
          "parcoords": [
           {
            "line": {
             "colorbar": {
              "outlinewidth": 0,
              "ticks": ""
             }
            },
            "type": "parcoords"
           }
          ],
          "pie": [
           {
            "automargin": true,
            "type": "pie"
           }
          ],
          "scatter": [
           {
            "marker": {
             "colorbar": {
              "outlinewidth": 0,
              "ticks": ""
             }
            },
            "type": "scatter"
           }
          ],
          "scatter3d": [
           {
            "line": {
             "colorbar": {
              "outlinewidth": 0,
              "ticks": ""
             }
            },
            "marker": {
             "colorbar": {
              "outlinewidth": 0,
              "ticks": ""
             }
            },
            "type": "scatter3d"
           }
          ],
          "scattercarpet": [
           {
            "marker": {
             "colorbar": {
              "outlinewidth": 0,
              "ticks": ""
             }
            },
            "type": "scattercarpet"
           }
          ],
          "scattergeo": [
           {
            "marker": {
             "colorbar": {
              "outlinewidth": 0,
              "ticks": ""
             }
            },
            "type": "scattergeo"
           }
          ],
          "scattergl": [
           {
            "marker": {
             "colorbar": {
              "outlinewidth": 0,
              "ticks": ""
             }
            },
            "type": "scattergl"
           }
          ],
          "scattermapbox": [
           {
            "marker": {
             "colorbar": {
              "outlinewidth": 0,
              "ticks": ""
             }
            },
            "type": "scattermapbox"
           }
          ],
          "scatterpolar": [
           {
            "marker": {
             "colorbar": {
              "outlinewidth": 0,
              "ticks": ""
             }
            },
            "type": "scatterpolar"
           }
          ],
          "scatterpolargl": [
           {
            "marker": {
             "colorbar": {
              "outlinewidth": 0,
              "ticks": ""
             }
            },
            "type": "scatterpolargl"
           }
          ],
          "scatterternary": [
           {
            "marker": {
             "colorbar": {
              "outlinewidth": 0,
              "ticks": ""
             }
            },
            "type": "scatterternary"
           }
          ],
          "surface": [
           {
            "colorbar": {
             "outlinewidth": 0,
             "ticks": ""
            },
            "colorscale": [
             [
              0,
              "#0d0887"
             ],
             [
              0.1111111111111111,
              "#46039f"
             ],
             [
              0.2222222222222222,
              "#7201a8"
             ],
             [
              0.3333333333333333,
              "#9c179e"
             ],
             [
              0.4444444444444444,
              "#bd3786"
             ],
             [
              0.5555555555555556,
              "#d8576b"
             ],
             [
              0.6666666666666666,
              "#ed7953"
             ],
             [
              0.7777777777777778,
              "#fb9f3a"
             ],
             [
              0.8888888888888888,
              "#fdca26"
             ],
             [
              1,
              "#f0f921"
             ]
            ],
            "type": "surface"
           }
          ],
          "table": [
           {
            "cells": {
             "fill": {
              "color": "#EBF0F8"
             },
             "line": {
              "color": "white"
             }
            },
            "header": {
             "fill": {
              "color": "#C8D4E3"
             },
             "line": {
              "color": "white"
             }
            },
            "type": "table"
           }
          ]
         },
         "layout": {
          "annotationdefaults": {
           "arrowcolor": "#2a3f5f",
           "arrowhead": 0,
           "arrowwidth": 1
          },
          "coloraxis": {
           "colorbar": {
            "outlinewidth": 0,
            "ticks": ""
           }
          },
          "colorscale": {
           "diverging": [
            [
             0,
             "#8e0152"
            ],
            [
             0.1,
             "#c51b7d"
            ],
            [
             0.2,
             "#de77ae"
            ],
            [
             0.3,
             "#f1b6da"
            ],
            [
             0.4,
             "#fde0ef"
            ],
            [
             0.5,
             "#f7f7f7"
            ],
            [
             0.6,
             "#e6f5d0"
            ],
            [
             0.7,
             "#b8e186"
            ],
            [
             0.8,
             "#7fbc41"
            ],
            [
             0.9,
             "#4d9221"
            ],
            [
             1,
             "#276419"
            ]
           ],
           "sequential": [
            [
             0,
             "#0d0887"
            ],
            [
             0.1111111111111111,
             "#46039f"
            ],
            [
             0.2222222222222222,
             "#7201a8"
            ],
            [
             0.3333333333333333,
             "#9c179e"
            ],
            [
             0.4444444444444444,
             "#bd3786"
            ],
            [
             0.5555555555555556,
             "#d8576b"
            ],
            [
             0.6666666666666666,
             "#ed7953"
            ],
            [
             0.7777777777777778,
             "#fb9f3a"
            ],
            [
             0.8888888888888888,
             "#fdca26"
            ],
            [
             1,
             "#f0f921"
            ]
           ],
           "sequentialminus": [
            [
             0,
             "#0d0887"
            ],
            [
             0.1111111111111111,
             "#46039f"
            ],
            [
             0.2222222222222222,
             "#7201a8"
            ],
            [
             0.3333333333333333,
             "#9c179e"
            ],
            [
             0.4444444444444444,
             "#bd3786"
            ],
            [
             0.5555555555555556,
             "#d8576b"
            ],
            [
             0.6666666666666666,
             "#ed7953"
            ],
            [
             0.7777777777777778,
             "#fb9f3a"
            ],
            [
             0.8888888888888888,
             "#fdca26"
            ],
            [
             1,
             "#f0f921"
            ]
           ]
          },
          "colorway": [
           "#636efa",
           "#EF553B",
           "#00cc96",
           "#ab63fa",
           "#FFA15A",
           "#19d3f3",
           "#FF6692",
           "#B6E880",
           "#FF97FF",
           "#FECB52"
          ],
          "font": {
           "color": "#2a3f5f"
          },
          "geo": {
           "bgcolor": "white",
           "lakecolor": "white",
           "landcolor": "#E5ECF6",
           "showlakes": true,
           "showland": true,
           "subunitcolor": "white"
          },
          "hoverlabel": {
           "align": "left"
          },
          "hovermode": "closest",
          "mapbox": {
           "style": "light"
          },
          "paper_bgcolor": "white",
          "plot_bgcolor": "#E5ECF6",
          "polar": {
           "angularaxis": {
            "gridcolor": "white",
            "linecolor": "white",
            "ticks": ""
           },
           "bgcolor": "#E5ECF6",
           "radialaxis": {
            "gridcolor": "white",
            "linecolor": "white",
            "ticks": ""
           }
          },
          "scene": {
           "xaxis": {
            "backgroundcolor": "#E5ECF6",
            "gridcolor": "white",
            "gridwidth": 2,
            "linecolor": "white",
            "showbackground": true,
            "ticks": "",
            "zerolinecolor": "white"
           },
           "yaxis": {
            "backgroundcolor": "#E5ECF6",
            "gridcolor": "white",
            "gridwidth": 2,
            "linecolor": "white",
            "showbackground": true,
            "ticks": "",
            "zerolinecolor": "white"
           },
           "zaxis": {
            "backgroundcolor": "#E5ECF6",
            "gridcolor": "white",
            "gridwidth": 2,
            "linecolor": "white",
            "showbackground": true,
            "ticks": "",
            "zerolinecolor": "white"
           }
          },
          "shapedefaults": {
           "line": {
            "color": "#2a3f5f"
           }
          },
          "ternary": {
           "aaxis": {
            "gridcolor": "white",
            "linecolor": "white",
            "ticks": ""
           },
           "baxis": {
            "gridcolor": "white",
            "linecolor": "white",
            "ticks": ""
           },
           "bgcolor": "#E5ECF6",
           "caxis": {
            "gridcolor": "white",
            "linecolor": "white",
            "ticks": ""
           }
          },
          "title": {
           "x": 0.05
          },
          "xaxis": {
           "automargin": true,
           "gridcolor": "white",
           "linecolor": "white",
           "ticks": "",
           "title": {
            "standoff": 15
           },
           "zerolinecolor": "white",
           "zerolinewidth": 2
          },
          "yaxis": {
           "automargin": true,
           "gridcolor": "white",
           "linecolor": "white",
           "ticks": "",
           "title": {
            "standoff": 15
           },
           "zerolinecolor": "white",
           "zerolinewidth": 2
          }
         }
        },
        "title": {
         "font": {
          "color": "#4D5663"
         }
        },
        "xaxis": {
         "gridcolor": "#E1E5ED",
         "showgrid": true,
         "tickfont": {
          "color": "#4D5663"
         },
         "title": {
          "font": {
           "color": "#4D5663"
          },
          "text": ""
         },
         "zerolinecolor": "#E1E5ED"
        },
        "yaxis": {
         "gridcolor": "#E1E5ED",
         "showgrid": true,
         "tickfont": {
          "color": "#4D5663"
         },
         "title": {
          "font": {
           "color": "#4D5663"
          },
          "text": ""
         },
         "zerolinecolor": "#E1E5ED"
        }
       }
      },
      "text/html": [
       "<div>                            <div id=\"c65460cf-39bc-463f-b00a-8121438f6127\" class=\"plotly-graph-div\" style=\"height:525px; width:100%;\"></div>            <script type=\"text/javascript\">                require([\"plotly\"], function(Plotly) {                    window.PLOTLYENV=window.PLOTLYENV || {};\n",
       "                    window.PLOTLYENV.BASE_URL='https://plot.ly';                                    if (document.getElementById(\"c65460cf-39bc-463f-b00a-8121438f6127\")) {                    Plotly.newPlot(                        \"c65460cf-39bc-463f-b00a-8121438f6127\",                        [{\"line\": {\"color\": \"rgba(255, 153, 51, 1.0)\", \"dash\": \"solid\", \"shape\": \"linear\", \"width\": 1.3}, \"marker\": {\"size\": 10, \"symbol\": \"circle\"}, \"mode\": \"markers\", \"name\": \"B\", \"text\": \"\", \"type\": \"scatter\", \"x\": [0.019430806383181284, 0.608603613411356, 0.07247562241777829, -0.9104428128373663, 1.3735657891542405, 0.07519673113819865, 0.06395658164671109, -1.6195694639137597, 0.7554966666743327, 0.45097740835769223, -0.10156324731745073, -0.4158522716260824, 0.9954541144280701, -0.48555200602878423, 1.490823288469039, -0.13194416978954118, -0.7528004178239888, -0.544262017467453, -1.437649785582203, 0.17187226223968824, -1.2375300092105108, 0.49278868970672296, -0.6361730509889744, -0.13764319117463106, 0.062410111597416565, -0.5187075611984749, -1.4102344376792062, -0.3572026445885095, -0.6376315054537319, -0.08196403616906862, 1.2918666744199032, 1.834095870683521, 1.028800443585434, 0.9937885884309238, -0.37089692485727643, -0.3412877759764047, 2.262481668740981, -0.2951852827270955, 1.1249926939573314, 0.5702750889136583, -0.7551453700363403, 1.0505410054870346, -2.1796411612126207, 1.4633293246578305, -0.9824685130984081, -0.8896242240185488, -0.15830524409511837, 0.8207907173546565, -1.1853010290819173, -0.04668477075582644, -0.4923965618308851, 1.347160076177271, 0.010843352382841287, 0.6173535522890893, -1.5062569479408272, 0.19394046597445944, -1.5703035237848442, -0.8017093258648721, -0.5420091277779893, 0.12398167085240544, 1.0336758962507486, 0.7370393163266648, 1.0215708043915677, -0.40016276626102376, 1.5133921798813612, 0.7624574546404679, 0.12204337931158848, 0.3878926000196656, -1.9858807909062057, 1.5619887939186559, 1.9262998520500085, 0.6179697050361458, -0.2637131372925625, -0.42894690745324804, 0.15220520963924042, 0.2171978777436021, -1.0019800436093944, -0.9082410683140086, -0.9323858380561356, -2.176514619233318, -2.041735481953146, 0.1900171138249872, 0.7957042354908531, -0.5964879028707374, -0.3146446170771317, -2.5337539168618295, -1.0869571144160752, 0.9013311410590518, -0.6131300774164766, 0.7959724948574082, -0.01817478619237521, 0.05015503961687754, 0.376814718222817, -1.548926641719814, 0.26002105343845394, -0.9509949673458841, -0.4274355159462603, 1.3031986142392404, -1.9640602579483455, -1.3617829420408287], \"y\": [0.23590897280929557, -0.5853191060130026, 0.45041649477698203, -1.4844634650877961, -0.7010019866089757, -1.7713343221822186, 0.3564783560049668, 1.1031620019724644, -0.534524659790858, 1.55516579284802, 0.9245808085412286, 1.3620636205948855, 0.6460233039467143, -1.3287700621303378, 2.113243524617769, -0.7039904787447651, 0.957708167234452, 0.38668960727077833, 1.0905405017303815, -0.15907806493007792, -0.05398389231091074, -0.5336742283108098, 0.3824419930821319, 0.7419908764060871, -0.4140242561179745, 0.2759136081174468, 0.8482704917519138, 2.0059405381970254, -1.3246650717679416, -0.5065540149600787, -0.6936235230043091, -0.19441117112133538, 0.887480460290256, -1.5166569531417406, -0.7190624137948296, 0.4102288680484326, -0.7379062568928512, -0.38612979211456566, -0.9814499423449278, -0.4359275292528566, -0.12292181575473174, 1.9056738072959156, -1.836401325717276, -2.792474660611752, -0.9083337804822073, 2.782345891898233, 0.2381865299508034, 0.9647682007237843, -1.1734425707908456, -1.9609962976837447, 1.904270892330739, -0.10400697771863725, 0.9179842824151149, 0.16380229188572826, -0.02490709779441639, -0.20790133058482613, 0.5399698264563033, -0.9674437863175008, 0.943420239562524, 0.1561027975165673, -1.6553424385101994, 0.8709325231705167, 1.3197016755016702, -2.287162353986225, 0.552534163797248, -2.9316789514534003, -1.413578565746748, 0.3066964640228571, -0.8862210615838182, 2.2245689170171943, -0.5073138082557282, 2.295896889626357, 0.03791532397259017, -0.27422129122939853, 0.12873175025274455, 0.4837720574093124, -0.29738246943237895, -0.0988932565886435, -1.3368837027277733, 0.07779215851650331, -2.1254522743271664, -0.35883373446418565, 0.008131872263935342, 1.3898536362783147, 1.010414278850495, -0.1442294615435738, 0.9808125838800891, -0.4968630660898616, -1.778081760893912, -0.12516367093881087, 0.06968580548842876, -0.7992199722691573, 0.217143175038511, 0.31265034609776243, 0.3134863468368505, 0.7484128321632029, -0.44746867845204136, -1.5837350747526953, -0.5834240333463931, -1.522918964431989]}],                        {\"legend\": {\"bgcolor\": \"#F5F6F9\", \"font\": {\"color\": \"#4D5663\"}}, \"paper_bgcolor\": \"#F5F6F9\", \"plot_bgcolor\": \"#F5F6F9\", \"template\": {\"data\": {\"bar\": [{\"error_x\": {\"color\": \"#2a3f5f\"}, \"error_y\": {\"color\": \"#2a3f5f\"}, \"marker\": {\"line\": {\"color\": \"#E5ECF6\", \"width\": 0.5}}, \"type\": \"bar\"}], \"barpolar\": [{\"marker\": {\"line\": {\"color\": \"#E5ECF6\", \"width\": 0.5}}, \"type\": \"barpolar\"}], \"carpet\": [{\"aaxis\": {\"endlinecolor\": \"#2a3f5f\", \"gridcolor\": \"white\", \"linecolor\": \"white\", \"minorgridcolor\": \"white\", \"startlinecolor\": \"#2a3f5f\"}, \"baxis\": {\"endlinecolor\": \"#2a3f5f\", \"gridcolor\": \"white\", \"linecolor\": \"white\", \"minorgridcolor\": \"white\", \"startlinecolor\": \"#2a3f5f\"}, \"type\": \"carpet\"}], \"choropleth\": [{\"colorbar\": {\"outlinewidth\": 0, \"ticks\": \"\"}, \"type\": \"choropleth\"}], \"contour\": [{\"colorbar\": {\"outlinewidth\": 0, \"ticks\": \"\"}, \"colorscale\": [[0.0, \"#0d0887\"], [0.1111111111111111, \"#46039f\"], [0.2222222222222222, \"#7201a8\"], [0.3333333333333333, \"#9c179e\"], [0.4444444444444444, \"#bd3786\"], [0.5555555555555556, \"#d8576b\"], [0.6666666666666666, \"#ed7953\"], [0.7777777777777778, \"#fb9f3a\"], [0.8888888888888888, \"#fdca26\"], [1.0, \"#f0f921\"]], \"type\": \"contour\"}], \"contourcarpet\": [{\"colorbar\": {\"outlinewidth\": 0, \"ticks\": \"\"}, \"type\": \"contourcarpet\"}], \"heatmap\": [{\"colorbar\": {\"outlinewidth\": 0, \"ticks\": \"\"}, \"colorscale\": [[0.0, \"#0d0887\"], [0.1111111111111111, \"#46039f\"], [0.2222222222222222, \"#7201a8\"], [0.3333333333333333, \"#9c179e\"], [0.4444444444444444, \"#bd3786\"], [0.5555555555555556, \"#d8576b\"], [0.6666666666666666, \"#ed7953\"], [0.7777777777777778, \"#fb9f3a\"], [0.8888888888888888, \"#fdca26\"], [1.0, \"#f0f921\"]], \"type\": \"heatmap\"}], \"heatmapgl\": [{\"colorbar\": {\"outlinewidth\": 0, \"ticks\": \"\"}, \"colorscale\": [[0.0, \"#0d0887\"], [0.1111111111111111, \"#46039f\"], [0.2222222222222222, \"#7201a8\"], [0.3333333333333333, \"#9c179e\"], [0.4444444444444444, \"#bd3786\"], [0.5555555555555556, \"#d8576b\"], [0.6666666666666666, \"#ed7953\"], [0.7777777777777778, \"#fb9f3a\"], [0.8888888888888888, \"#fdca26\"], [1.0, \"#f0f921\"]], \"type\": \"heatmapgl\"}], \"histogram\": [{\"marker\": {\"colorbar\": {\"outlinewidth\": 0, \"ticks\": \"\"}}, \"type\": \"histogram\"}], \"histogram2d\": [{\"colorbar\": {\"outlinewidth\": 0, \"ticks\": \"\"}, \"colorscale\": [[0.0, \"#0d0887\"], [0.1111111111111111, \"#46039f\"], [0.2222222222222222, \"#7201a8\"], [0.3333333333333333, \"#9c179e\"], [0.4444444444444444, \"#bd3786\"], [0.5555555555555556, \"#d8576b\"], [0.6666666666666666, \"#ed7953\"], [0.7777777777777778, \"#fb9f3a\"], [0.8888888888888888, \"#fdca26\"], [1.0, \"#f0f921\"]], \"type\": \"histogram2d\"}], \"histogram2dcontour\": [{\"colorbar\": {\"outlinewidth\": 0, \"ticks\": \"\"}, \"colorscale\": [[0.0, \"#0d0887\"], [0.1111111111111111, \"#46039f\"], [0.2222222222222222, \"#7201a8\"], [0.3333333333333333, \"#9c179e\"], [0.4444444444444444, \"#bd3786\"], [0.5555555555555556, \"#d8576b\"], [0.6666666666666666, \"#ed7953\"], [0.7777777777777778, \"#fb9f3a\"], [0.8888888888888888, \"#fdca26\"], [1.0, \"#f0f921\"]], \"type\": \"histogram2dcontour\"}], \"mesh3d\": [{\"colorbar\": {\"outlinewidth\": 0, \"ticks\": \"\"}, \"type\": \"mesh3d\"}], \"parcoords\": [{\"line\": {\"colorbar\": {\"outlinewidth\": 0, \"ticks\": \"\"}}, \"type\": \"parcoords\"}], \"pie\": [{\"automargin\": true, \"type\": \"pie\"}], \"scatter\": [{\"marker\": {\"colorbar\": {\"outlinewidth\": 0, \"ticks\": \"\"}}, \"type\": \"scatter\"}], \"scatter3d\": [{\"line\": {\"colorbar\": {\"outlinewidth\": 0, \"ticks\": \"\"}}, \"marker\": {\"colorbar\": {\"outlinewidth\": 0, \"ticks\": \"\"}}, \"type\": \"scatter3d\"}], \"scattercarpet\": [{\"marker\": {\"colorbar\": {\"outlinewidth\": 0, \"ticks\": \"\"}}, \"type\": \"scattercarpet\"}], \"scattergeo\": [{\"marker\": {\"colorbar\": {\"outlinewidth\": 0, \"ticks\": \"\"}}, \"type\": \"scattergeo\"}], \"scattergl\": [{\"marker\": {\"colorbar\": {\"outlinewidth\": 0, \"ticks\": \"\"}}, \"type\": \"scattergl\"}], \"scattermapbox\": [{\"marker\": {\"colorbar\": {\"outlinewidth\": 0, \"ticks\": \"\"}}, \"type\": \"scattermapbox\"}], \"scatterpolar\": [{\"marker\": {\"colorbar\": {\"outlinewidth\": 0, \"ticks\": \"\"}}, \"type\": \"scatterpolar\"}], \"scatterpolargl\": [{\"marker\": {\"colorbar\": {\"outlinewidth\": 0, \"ticks\": \"\"}}, \"type\": \"scatterpolargl\"}], \"scatterternary\": [{\"marker\": {\"colorbar\": {\"outlinewidth\": 0, \"ticks\": \"\"}}, \"type\": \"scatterternary\"}], \"surface\": [{\"colorbar\": {\"outlinewidth\": 0, \"ticks\": \"\"}, \"colorscale\": [[0.0, \"#0d0887\"], [0.1111111111111111, \"#46039f\"], [0.2222222222222222, \"#7201a8\"], [0.3333333333333333, \"#9c179e\"], [0.4444444444444444, \"#bd3786\"], [0.5555555555555556, \"#d8576b\"], [0.6666666666666666, \"#ed7953\"], [0.7777777777777778, \"#fb9f3a\"], [0.8888888888888888, \"#fdca26\"], [1.0, \"#f0f921\"]], \"type\": \"surface\"}], \"table\": [{\"cells\": {\"fill\": {\"color\": \"#EBF0F8\"}, \"line\": {\"color\": \"white\"}}, \"header\": {\"fill\": {\"color\": \"#C8D4E3\"}, \"line\": {\"color\": \"white\"}}, \"type\": \"table\"}]}, \"layout\": {\"annotationdefaults\": {\"arrowcolor\": \"#2a3f5f\", \"arrowhead\": 0, \"arrowwidth\": 1}, \"coloraxis\": {\"colorbar\": {\"outlinewidth\": 0, \"ticks\": \"\"}}, \"colorscale\": {\"diverging\": [[0, \"#8e0152\"], [0.1, \"#c51b7d\"], [0.2, \"#de77ae\"], [0.3, \"#f1b6da\"], [0.4, \"#fde0ef\"], [0.5, \"#f7f7f7\"], [0.6, \"#e6f5d0\"], [0.7, \"#b8e186\"], [0.8, \"#7fbc41\"], [0.9, \"#4d9221\"], [1, \"#276419\"]], \"sequential\": [[0.0, \"#0d0887\"], [0.1111111111111111, \"#46039f\"], [0.2222222222222222, \"#7201a8\"], [0.3333333333333333, \"#9c179e\"], [0.4444444444444444, \"#bd3786\"], [0.5555555555555556, \"#d8576b\"], [0.6666666666666666, \"#ed7953\"], [0.7777777777777778, \"#fb9f3a\"], [0.8888888888888888, \"#fdca26\"], [1.0, \"#f0f921\"]], \"sequentialminus\": [[0.0, \"#0d0887\"], [0.1111111111111111, \"#46039f\"], [0.2222222222222222, \"#7201a8\"], [0.3333333333333333, \"#9c179e\"], [0.4444444444444444, \"#bd3786\"], [0.5555555555555556, \"#d8576b\"], [0.6666666666666666, \"#ed7953\"], [0.7777777777777778, \"#fb9f3a\"], [0.8888888888888888, \"#fdca26\"], [1.0, \"#f0f921\"]]}, \"colorway\": [\"#636efa\", \"#EF553B\", \"#00cc96\", \"#ab63fa\", \"#FFA15A\", \"#19d3f3\", \"#FF6692\", \"#B6E880\", \"#FF97FF\", \"#FECB52\"], \"font\": {\"color\": \"#2a3f5f\"}, \"geo\": {\"bgcolor\": \"white\", \"lakecolor\": \"white\", \"landcolor\": \"#E5ECF6\", \"showlakes\": true, \"showland\": true, \"subunitcolor\": \"white\"}, \"hoverlabel\": {\"align\": \"left\"}, \"hovermode\": \"closest\", \"mapbox\": {\"style\": \"light\"}, \"paper_bgcolor\": \"white\", \"plot_bgcolor\": \"#E5ECF6\", \"polar\": {\"angularaxis\": {\"gridcolor\": \"white\", \"linecolor\": \"white\", \"ticks\": \"\"}, \"bgcolor\": \"#E5ECF6\", \"radialaxis\": {\"gridcolor\": \"white\", \"linecolor\": \"white\", \"ticks\": \"\"}}, \"scene\": {\"xaxis\": {\"backgroundcolor\": \"#E5ECF6\", \"gridcolor\": \"white\", \"gridwidth\": 2, \"linecolor\": \"white\", \"showbackground\": true, \"ticks\": \"\", \"zerolinecolor\": \"white\"}, \"yaxis\": {\"backgroundcolor\": \"#E5ECF6\", \"gridcolor\": \"white\", \"gridwidth\": 2, \"linecolor\": \"white\", \"showbackground\": true, \"ticks\": \"\", \"zerolinecolor\": \"white\"}, \"zaxis\": {\"backgroundcolor\": \"#E5ECF6\", \"gridcolor\": \"white\", \"gridwidth\": 2, \"linecolor\": \"white\", \"showbackground\": true, \"ticks\": \"\", \"zerolinecolor\": \"white\"}}, \"shapedefaults\": {\"line\": {\"color\": \"#2a3f5f\"}}, \"ternary\": {\"aaxis\": {\"gridcolor\": \"white\", \"linecolor\": \"white\", \"ticks\": \"\"}, \"baxis\": {\"gridcolor\": \"white\", \"linecolor\": \"white\", \"ticks\": \"\"}, \"bgcolor\": \"#E5ECF6\", \"caxis\": {\"gridcolor\": \"white\", \"linecolor\": \"white\", \"ticks\": \"\"}}, \"title\": {\"x\": 0.05}, \"xaxis\": {\"automargin\": true, \"gridcolor\": \"white\", \"linecolor\": \"white\", \"ticks\": \"\", \"title\": {\"standoff\": 15}, \"zerolinecolor\": \"white\", \"zerolinewidth\": 2}, \"yaxis\": {\"automargin\": true, \"gridcolor\": \"white\", \"linecolor\": \"white\", \"ticks\": \"\", \"title\": {\"standoff\": 15}, \"zerolinecolor\": \"white\", \"zerolinewidth\": 2}}}, \"title\": {\"font\": {\"color\": \"#4D5663\"}}, \"xaxis\": {\"gridcolor\": \"#E1E5ED\", \"showgrid\": true, \"tickfont\": {\"color\": \"#4D5663\"}, \"title\": {\"font\": {\"color\": \"#4D5663\"}, \"text\": \"\"}, \"zerolinecolor\": \"#E1E5ED\"}, \"yaxis\": {\"gridcolor\": \"#E1E5ED\", \"showgrid\": true, \"tickfont\": {\"color\": \"#4D5663\"}, \"title\": {\"font\": {\"color\": \"#4D5663\"}, \"text\": \"\"}, \"zerolinecolor\": \"#E1E5ED\"}},                        {\"showLink\": true, \"linkText\": \"Export to plot.ly\", \"plotlyServerURL\": \"https://plot.ly\", \"responsive\": true}                    ).then(function(){\n",
       "                            \n",
       "var gd = document.getElementById('c65460cf-39bc-463f-b00a-8121438f6127');\n",
       "var x = new MutationObserver(function (mutations, observer) {{\n",
       "        var display = window.getComputedStyle(gd).display;\n",
       "        if (!display || display === 'none') {{\n",
       "            console.log([gd, 'removed!']);\n",
       "            Plotly.purge(gd);\n",
       "            observer.disconnect();\n",
       "        }}\n",
       "}});\n",
       "\n",
       "// Listen for the removal of the full notebook cells\n",
       "var notebookContainer = gd.closest('#notebook-container');\n",
       "if (notebookContainer) {{\n",
       "    x.observe(notebookContainer, {childList: true});\n",
       "}}\n",
       "\n",
       "// Listen for the clearing of the current output cell\n",
       "var outputEl = gd.closest('.output');\n",
       "if (outputEl) {{\n",
       "    x.observe(outputEl, {childList: true});\n",
       "}}\n",
       "\n",
       "                        })                };                });            </script>        </div>"
      ]
     },
     "metadata": {},
     "output_type": "display_data"
    }
   ],
   "source": [
    "df.iplot(kind = 'scatter', x = 'A', y = 'B', mode = 'markers', size = 10)"
   ]
  },
  {
   "cell_type": "markdown",
   "metadata": {},
   "source": [
    "## Bar Plots"
   ]
  },
  {
   "cell_type": "code",
   "execution_count": 18,
   "metadata": {},
   "outputs": [
    {
     "data": {
      "application/vnd.plotly.v1+json": {
       "config": {
        "linkText": "Export to plot.ly",
        "plotlyServerURL": "https://plot.ly",
        "showLink": true
       },
       "data": [
        {
         "marker": {
          "color": "rgba(219, 64, 82, 0.6)",
          "line": {
           "color": "rgba(219, 64, 82, 1.0)",
           "width": 1
          }
         },
         "name": "Values",
         "orientation": "v",
         "text": "",
         "type": "bar",
         "x": [
          "A",
          "B",
          "C"
         ],
         "y": [
          32,
          43,
          50
         ]
        }
       ],
       "layout": {
        "legend": {
         "bgcolor": "#F5F6F9",
         "font": {
          "color": "#4D5663"
         }
        },
        "paper_bgcolor": "#F5F6F9",
        "plot_bgcolor": "#F5F6F9",
        "template": {
         "data": {
          "bar": [
           {
            "error_x": {
             "color": "#2a3f5f"
            },
            "error_y": {
             "color": "#2a3f5f"
            },
            "marker": {
             "line": {
              "color": "#E5ECF6",
              "width": 0.5
             }
            },
            "type": "bar"
           }
          ],
          "barpolar": [
           {
            "marker": {
             "line": {
              "color": "#E5ECF6",
              "width": 0.5
             }
            },
            "type": "barpolar"
           }
          ],
          "carpet": [
           {
            "aaxis": {
             "endlinecolor": "#2a3f5f",
             "gridcolor": "white",
             "linecolor": "white",
             "minorgridcolor": "white",
             "startlinecolor": "#2a3f5f"
            },
            "baxis": {
             "endlinecolor": "#2a3f5f",
             "gridcolor": "white",
             "linecolor": "white",
             "minorgridcolor": "white",
             "startlinecolor": "#2a3f5f"
            },
            "type": "carpet"
           }
          ],
          "choropleth": [
           {
            "colorbar": {
             "outlinewidth": 0,
             "ticks": ""
            },
            "type": "choropleth"
           }
          ],
          "contour": [
           {
            "colorbar": {
             "outlinewidth": 0,
             "ticks": ""
            },
            "colorscale": [
             [
              0,
              "#0d0887"
             ],
             [
              0.1111111111111111,
              "#46039f"
             ],
             [
              0.2222222222222222,
              "#7201a8"
             ],
             [
              0.3333333333333333,
              "#9c179e"
             ],
             [
              0.4444444444444444,
              "#bd3786"
             ],
             [
              0.5555555555555556,
              "#d8576b"
             ],
             [
              0.6666666666666666,
              "#ed7953"
             ],
             [
              0.7777777777777778,
              "#fb9f3a"
             ],
             [
              0.8888888888888888,
              "#fdca26"
             ],
             [
              1,
              "#f0f921"
             ]
            ],
            "type": "contour"
           }
          ],
          "contourcarpet": [
           {
            "colorbar": {
             "outlinewidth": 0,
             "ticks": ""
            },
            "type": "contourcarpet"
           }
          ],
          "heatmap": [
           {
            "colorbar": {
             "outlinewidth": 0,
             "ticks": ""
            },
            "colorscale": [
             [
              0,
              "#0d0887"
             ],
             [
              0.1111111111111111,
              "#46039f"
             ],
             [
              0.2222222222222222,
              "#7201a8"
             ],
             [
              0.3333333333333333,
              "#9c179e"
             ],
             [
              0.4444444444444444,
              "#bd3786"
             ],
             [
              0.5555555555555556,
              "#d8576b"
             ],
             [
              0.6666666666666666,
              "#ed7953"
             ],
             [
              0.7777777777777778,
              "#fb9f3a"
             ],
             [
              0.8888888888888888,
              "#fdca26"
             ],
             [
              1,
              "#f0f921"
             ]
            ],
            "type": "heatmap"
           }
          ],
          "heatmapgl": [
           {
            "colorbar": {
             "outlinewidth": 0,
             "ticks": ""
            },
            "colorscale": [
             [
              0,
              "#0d0887"
             ],
             [
              0.1111111111111111,
              "#46039f"
             ],
             [
              0.2222222222222222,
              "#7201a8"
             ],
             [
              0.3333333333333333,
              "#9c179e"
             ],
             [
              0.4444444444444444,
              "#bd3786"
             ],
             [
              0.5555555555555556,
              "#d8576b"
             ],
             [
              0.6666666666666666,
              "#ed7953"
             ],
             [
              0.7777777777777778,
              "#fb9f3a"
             ],
             [
              0.8888888888888888,
              "#fdca26"
             ],
             [
              1,
              "#f0f921"
             ]
            ],
            "type": "heatmapgl"
           }
          ],
          "histogram": [
           {
            "marker": {
             "colorbar": {
              "outlinewidth": 0,
              "ticks": ""
             }
            },
            "type": "histogram"
           }
          ],
          "histogram2d": [
           {
            "colorbar": {
             "outlinewidth": 0,
             "ticks": ""
            },
            "colorscale": [
             [
              0,
              "#0d0887"
             ],
             [
              0.1111111111111111,
              "#46039f"
             ],
             [
              0.2222222222222222,
              "#7201a8"
             ],
             [
              0.3333333333333333,
              "#9c179e"
             ],
             [
              0.4444444444444444,
              "#bd3786"
             ],
             [
              0.5555555555555556,
              "#d8576b"
             ],
             [
              0.6666666666666666,
              "#ed7953"
             ],
             [
              0.7777777777777778,
              "#fb9f3a"
             ],
             [
              0.8888888888888888,
              "#fdca26"
             ],
             [
              1,
              "#f0f921"
             ]
            ],
            "type": "histogram2d"
           }
          ],
          "histogram2dcontour": [
           {
            "colorbar": {
             "outlinewidth": 0,
             "ticks": ""
            },
            "colorscale": [
             [
              0,
              "#0d0887"
             ],
             [
              0.1111111111111111,
              "#46039f"
             ],
             [
              0.2222222222222222,
              "#7201a8"
             ],
             [
              0.3333333333333333,
              "#9c179e"
             ],
             [
              0.4444444444444444,
              "#bd3786"
             ],
             [
              0.5555555555555556,
              "#d8576b"
             ],
             [
              0.6666666666666666,
              "#ed7953"
             ],
             [
              0.7777777777777778,
              "#fb9f3a"
             ],
             [
              0.8888888888888888,
              "#fdca26"
             ],
             [
              1,
              "#f0f921"
             ]
            ],
            "type": "histogram2dcontour"
           }
          ],
          "mesh3d": [
           {
            "colorbar": {
             "outlinewidth": 0,
             "ticks": ""
            },
            "type": "mesh3d"
           }
          ],
          "parcoords": [
           {
            "line": {
             "colorbar": {
              "outlinewidth": 0,
              "ticks": ""
             }
            },
            "type": "parcoords"
           }
          ],
          "pie": [
           {
            "automargin": true,
            "type": "pie"
           }
          ],
          "scatter": [
           {
            "marker": {
             "colorbar": {
              "outlinewidth": 0,
              "ticks": ""
             }
            },
            "type": "scatter"
           }
          ],
          "scatter3d": [
           {
            "line": {
             "colorbar": {
              "outlinewidth": 0,
              "ticks": ""
             }
            },
            "marker": {
             "colorbar": {
              "outlinewidth": 0,
              "ticks": ""
             }
            },
            "type": "scatter3d"
           }
          ],
          "scattercarpet": [
           {
            "marker": {
             "colorbar": {
              "outlinewidth": 0,
              "ticks": ""
             }
            },
            "type": "scattercarpet"
           }
          ],
          "scattergeo": [
           {
            "marker": {
             "colorbar": {
              "outlinewidth": 0,
              "ticks": ""
             }
            },
            "type": "scattergeo"
           }
          ],
          "scattergl": [
           {
            "marker": {
             "colorbar": {
              "outlinewidth": 0,
              "ticks": ""
             }
            },
            "type": "scattergl"
           }
          ],
          "scattermapbox": [
           {
            "marker": {
             "colorbar": {
              "outlinewidth": 0,
              "ticks": ""
             }
            },
            "type": "scattermapbox"
           }
          ],
          "scatterpolar": [
           {
            "marker": {
             "colorbar": {
              "outlinewidth": 0,
              "ticks": ""
             }
            },
            "type": "scatterpolar"
           }
          ],
          "scatterpolargl": [
           {
            "marker": {
             "colorbar": {
              "outlinewidth": 0,
              "ticks": ""
             }
            },
            "type": "scatterpolargl"
           }
          ],
          "scatterternary": [
           {
            "marker": {
             "colorbar": {
              "outlinewidth": 0,
              "ticks": ""
             }
            },
            "type": "scatterternary"
           }
          ],
          "surface": [
           {
            "colorbar": {
             "outlinewidth": 0,
             "ticks": ""
            },
            "colorscale": [
             [
              0,
              "#0d0887"
             ],
             [
              0.1111111111111111,
              "#46039f"
             ],
             [
              0.2222222222222222,
              "#7201a8"
             ],
             [
              0.3333333333333333,
              "#9c179e"
             ],
             [
              0.4444444444444444,
              "#bd3786"
             ],
             [
              0.5555555555555556,
              "#d8576b"
             ],
             [
              0.6666666666666666,
              "#ed7953"
             ],
             [
              0.7777777777777778,
              "#fb9f3a"
             ],
             [
              0.8888888888888888,
              "#fdca26"
             ],
             [
              1,
              "#f0f921"
             ]
            ],
            "type": "surface"
           }
          ],
          "table": [
           {
            "cells": {
             "fill": {
              "color": "#EBF0F8"
             },
             "line": {
              "color": "white"
             }
            },
            "header": {
             "fill": {
              "color": "#C8D4E3"
             },
             "line": {
              "color": "white"
             }
            },
            "type": "table"
           }
          ]
         },
         "layout": {
          "annotationdefaults": {
           "arrowcolor": "#2a3f5f",
           "arrowhead": 0,
           "arrowwidth": 1
          },
          "coloraxis": {
           "colorbar": {
            "outlinewidth": 0,
            "ticks": ""
           }
          },
          "colorscale": {
           "diverging": [
            [
             0,
             "#8e0152"
            ],
            [
             0.1,
             "#c51b7d"
            ],
            [
             0.2,
             "#de77ae"
            ],
            [
             0.3,
             "#f1b6da"
            ],
            [
             0.4,
             "#fde0ef"
            ],
            [
             0.5,
             "#f7f7f7"
            ],
            [
             0.6,
             "#e6f5d0"
            ],
            [
             0.7,
             "#b8e186"
            ],
            [
             0.8,
             "#7fbc41"
            ],
            [
             0.9,
             "#4d9221"
            ],
            [
             1,
             "#276419"
            ]
           ],
           "sequential": [
            [
             0,
             "#0d0887"
            ],
            [
             0.1111111111111111,
             "#46039f"
            ],
            [
             0.2222222222222222,
             "#7201a8"
            ],
            [
             0.3333333333333333,
             "#9c179e"
            ],
            [
             0.4444444444444444,
             "#bd3786"
            ],
            [
             0.5555555555555556,
             "#d8576b"
            ],
            [
             0.6666666666666666,
             "#ed7953"
            ],
            [
             0.7777777777777778,
             "#fb9f3a"
            ],
            [
             0.8888888888888888,
             "#fdca26"
            ],
            [
             1,
             "#f0f921"
            ]
           ],
           "sequentialminus": [
            [
             0,
             "#0d0887"
            ],
            [
             0.1111111111111111,
             "#46039f"
            ],
            [
             0.2222222222222222,
             "#7201a8"
            ],
            [
             0.3333333333333333,
             "#9c179e"
            ],
            [
             0.4444444444444444,
             "#bd3786"
            ],
            [
             0.5555555555555556,
             "#d8576b"
            ],
            [
             0.6666666666666666,
             "#ed7953"
            ],
            [
             0.7777777777777778,
             "#fb9f3a"
            ],
            [
             0.8888888888888888,
             "#fdca26"
            ],
            [
             1,
             "#f0f921"
            ]
           ]
          },
          "colorway": [
           "#636efa",
           "#EF553B",
           "#00cc96",
           "#ab63fa",
           "#FFA15A",
           "#19d3f3",
           "#FF6692",
           "#B6E880",
           "#FF97FF",
           "#FECB52"
          ],
          "font": {
           "color": "#2a3f5f"
          },
          "geo": {
           "bgcolor": "white",
           "lakecolor": "white",
           "landcolor": "#E5ECF6",
           "showlakes": true,
           "showland": true,
           "subunitcolor": "white"
          },
          "hoverlabel": {
           "align": "left"
          },
          "hovermode": "closest",
          "mapbox": {
           "style": "light"
          },
          "paper_bgcolor": "white",
          "plot_bgcolor": "#E5ECF6",
          "polar": {
           "angularaxis": {
            "gridcolor": "white",
            "linecolor": "white",
            "ticks": ""
           },
           "bgcolor": "#E5ECF6",
           "radialaxis": {
            "gridcolor": "white",
            "linecolor": "white",
            "ticks": ""
           }
          },
          "scene": {
           "xaxis": {
            "backgroundcolor": "#E5ECF6",
            "gridcolor": "white",
            "gridwidth": 2,
            "linecolor": "white",
            "showbackground": true,
            "ticks": "",
            "zerolinecolor": "white"
           },
           "yaxis": {
            "backgroundcolor": "#E5ECF6",
            "gridcolor": "white",
            "gridwidth": 2,
            "linecolor": "white",
            "showbackground": true,
            "ticks": "",
            "zerolinecolor": "white"
           },
           "zaxis": {
            "backgroundcolor": "#E5ECF6",
            "gridcolor": "white",
            "gridwidth": 2,
            "linecolor": "white",
            "showbackground": true,
            "ticks": "",
            "zerolinecolor": "white"
           }
          },
          "shapedefaults": {
           "line": {
            "color": "#2a3f5f"
           }
          },
          "ternary": {
           "aaxis": {
            "gridcolor": "white",
            "linecolor": "white",
            "ticks": ""
           },
           "baxis": {
            "gridcolor": "white",
            "linecolor": "white",
            "ticks": ""
           },
           "bgcolor": "#E5ECF6",
           "caxis": {
            "gridcolor": "white",
            "linecolor": "white",
            "ticks": ""
           }
          },
          "title": {
           "x": 0.05
          },
          "xaxis": {
           "automargin": true,
           "gridcolor": "white",
           "linecolor": "white",
           "ticks": "",
           "title": {
            "standoff": 15
           },
           "zerolinecolor": "white",
           "zerolinewidth": 2
          },
          "yaxis": {
           "automargin": true,
           "gridcolor": "white",
           "linecolor": "white",
           "ticks": "",
           "title": {
            "standoff": 15
           },
           "zerolinecolor": "white",
           "zerolinewidth": 2
          }
         }
        },
        "title": {
         "font": {
          "color": "#4D5663"
         }
        },
        "xaxis": {
         "gridcolor": "#E1E5ED",
         "showgrid": true,
         "tickfont": {
          "color": "#4D5663"
         },
         "title": {
          "font": {
           "color": "#4D5663"
          },
          "text": ""
         },
         "zerolinecolor": "#E1E5ED"
        },
        "yaxis": {
         "gridcolor": "#E1E5ED",
         "showgrid": true,
         "tickfont": {
          "color": "#4D5663"
         },
         "title": {
          "font": {
           "color": "#4D5663"
          },
          "text": ""
         },
         "zerolinecolor": "#E1E5ED"
        }
       }
      },
      "text/html": [
       "<div>                            <div id=\"964aa890-fda1-41d8-94fe-7033ac4fa50e\" class=\"plotly-graph-div\" style=\"height:525px; width:100%;\"></div>            <script type=\"text/javascript\">                require([\"plotly\"], function(Plotly) {                    window.PLOTLYENV=window.PLOTLYENV || {};\n",
       "                    window.PLOTLYENV.BASE_URL='https://plot.ly';                                    if (document.getElementById(\"964aa890-fda1-41d8-94fe-7033ac4fa50e\")) {                    Plotly.newPlot(                        \"964aa890-fda1-41d8-94fe-7033ac4fa50e\",                        [{\"marker\": {\"color\": \"rgba(219, 64, 82, 0.6)\", \"line\": {\"color\": \"rgba(219, 64, 82, 1.0)\", \"width\": 1}}, \"name\": \"Values\", \"orientation\": \"v\", \"text\": \"\", \"type\": \"bar\", \"x\": [\"A\", \"B\", \"C\"], \"y\": [32, 43, 50]}],                        {\"legend\": {\"bgcolor\": \"#F5F6F9\", \"font\": {\"color\": \"#4D5663\"}}, \"paper_bgcolor\": \"#F5F6F9\", \"plot_bgcolor\": \"#F5F6F9\", \"template\": {\"data\": {\"bar\": [{\"error_x\": {\"color\": \"#2a3f5f\"}, \"error_y\": {\"color\": \"#2a3f5f\"}, \"marker\": {\"line\": {\"color\": \"#E5ECF6\", \"width\": 0.5}}, \"type\": \"bar\"}], \"barpolar\": [{\"marker\": {\"line\": {\"color\": \"#E5ECF6\", \"width\": 0.5}}, \"type\": \"barpolar\"}], \"carpet\": [{\"aaxis\": {\"endlinecolor\": \"#2a3f5f\", \"gridcolor\": \"white\", \"linecolor\": \"white\", \"minorgridcolor\": \"white\", \"startlinecolor\": \"#2a3f5f\"}, \"baxis\": {\"endlinecolor\": \"#2a3f5f\", \"gridcolor\": \"white\", \"linecolor\": \"white\", \"minorgridcolor\": \"white\", \"startlinecolor\": \"#2a3f5f\"}, \"type\": \"carpet\"}], \"choropleth\": [{\"colorbar\": {\"outlinewidth\": 0, \"ticks\": \"\"}, \"type\": \"choropleth\"}], \"contour\": [{\"colorbar\": {\"outlinewidth\": 0, \"ticks\": \"\"}, \"colorscale\": [[0.0, \"#0d0887\"], [0.1111111111111111, \"#46039f\"], [0.2222222222222222, \"#7201a8\"], [0.3333333333333333, \"#9c179e\"], [0.4444444444444444, \"#bd3786\"], [0.5555555555555556, \"#d8576b\"], [0.6666666666666666, \"#ed7953\"], [0.7777777777777778, \"#fb9f3a\"], [0.8888888888888888, \"#fdca26\"], [1.0, \"#f0f921\"]], \"type\": \"contour\"}], \"contourcarpet\": [{\"colorbar\": {\"outlinewidth\": 0, \"ticks\": \"\"}, \"type\": \"contourcarpet\"}], \"heatmap\": [{\"colorbar\": {\"outlinewidth\": 0, \"ticks\": \"\"}, \"colorscale\": [[0.0, \"#0d0887\"], [0.1111111111111111, \"#46039f\"], [0.2222222222222222, \"#7201a8\"], [0.3333333333333333, \"#9c179e\"], [0.4444444444444444, \"#bd3786\"], [0.5555555555555556, \"#d8576b\"], [0.6666666666666666, \"#ed7953\"], [0.7777777777777778, \"#fb9f3a\"], [0.8888888888888888, \"#fdca26\"], [1.0, \"#f0f921\"]], \"type\": \"heatmap\"}], \"heatmapgl\": [{\"colorbar\": {\"outlinewidth\": 0, \"ticks\": \"\"}, \"colorscale\": [[0.0, \"#0d0887\"], [0.1111111111111111, \"#46039f\"], [0.2222222222222222, \"#7201a8\"], [0.3333333333333333, \"#9c179e\"], [0.4444444444444444, \"#bd3786\"], [0.5555555555555556, \"#d8576b\"], [0.6666666666666666, \"#ed7953\"], [0.7777777777777778, \"#fb9f3a\"], [0.8888888888888888, \"#fdca26\"], [1.0, \"#f0f921\"]], \"type\": \"heatmapgl\"}], \"histogram\": [{\"marker\": {\"colorbar\": {\"outlinewidth\": 0, \"ticks\": \"\"}}, \"type\": \"histogram\"}], \"histogram2d\": [{\"colorbar\": {\"outlinewidth\": 0, \"ticks\": \"\"}, \"colorscale\": [[0.0, \"#0d0887\"], [0.1111111111111111, \"#46039f\"], [0.2222222222222222, \"#7201a8\"], [0.3333333333333333, \"#9c179e\"], [0.4444444444444444, \"#bd3786\"], [0.5555555555555556, \"#d8576b\"], [0.6666666666666666, \"#ed7953\"], [0.7777777777777778, \"#fb9f3a\"], [0.8888888888888888, \"#fdca26\"], [1.0, \"#f0f921\"]], \"type\": \"histogram2d\"}], \"histogram2dcontour\": [{\"colorbar\": {\"outlinewidth\": 0, \"ticks\": \"\"}, \"colorscale\": [[0.0, \"#0d0887\"], [0.1111111111111111, \"#46039f\"], [0.2222222222222222, \"#7201a8\"], [0.3333333333333333, \"#9c179e\"], [0.4444444444444444, \"#bd3786\"], [0.5555555555555556, \"#d8576b\"], [0.6666666666666666, \"#ed7953\"], [0.7777777777777778, \"#fb9f3a\"], [0.8888888888888888, \"#fdca26\"], [1.0, \"#f0f921\"]], \"type\": \"histogram2dcontour\"}], \"mesh3d\": [{\"colorbar\": {\"outlinewidth\": 0, \"ticks\": \"\"}, \"type\": \"mesh3d\"}], \"parcoords\": [{\"line\": {\"colorbar\": {\"outlinewidth\": 0, \"ticks\": \"\"}}, \"type\": \"parcoords\"}], \"pie\": [{\"automargin\": true, \"type\": \"pie\"}], \"scatter\": [{\"marker\": {\"colorbar\": {\"outlinewidth\": 0, \"ticks\": \"\"}}, \"type\": \"scatter\"}], \"scatter3d\": [{\"line\": {\"colorbar\": {\"outlinewidth\": 0, \"ticks\": \"\"}}, \"marker\": {\"colorbar\": {\"outlinewidth\": 0, \"ticks\": \"\"}}, \"type\": \"scatter3d\"}], \"scattercarpet\": [{\"marker\": {\"colorbar\": {\"outlinewidth\": 0, \"ticks\": \"\"}}, \"type\": \"scattercarpet\"}], \"scattergeo\": [{\"marker\": {\"colorbar\": {\"outlinewidth\": 0, \"ticks\": \"\"}}, \"type\": \"scattergeo\"}], \"scattergl\": [{\"marker\": {\"colorbar\": {\"outlinewidth\": 0, \"ticks\": \"\"}}, \"type\": \"scattergl\"}], \"scattermapbox\": [{\"marker\": {\"colorbar\": {\"outlinewidth\": 0, \"ticks\": \"\"}}, \"type\": \"scattermapbox\"}], \"scatterpolar\": [{\"marker\": {\"colorbar\": {\"outlinewidth\": 0, \"ticks\": \"\"}}, \"type\": \"scatterpolar\"}], \"scatterpolargl\": [{\"marker\": {\"colorbar\": {\"outlinewidth\": 0, \"ticks\": \"\"}}, \"type\": \"scatterpolargl\"}], \"scatterternary\": [{\"marker\": {\"colorbar\": {\"outlinewidth\": 0, \"ticks\": \"\"}}, \"type\": \"scatterternary\"}], \"surface\": [{\"colorbar\": {\"outlinewidth\": 0, \"ticks\": \"\"}, \"colorscale\": [[0.0, \"#0d0887\"], [0.1111111111111111, \"#46039f\"], [0.2222222222222222, \"#7201a8\"], [0.3333333333333333, \"#9c179e\"], [0.4444444444444444, \"#bd3786\"], [0.5555555555555556, \"#d8576b\"], [0.6666666666666666, \"#ed7953\"], [0.7777777777777778, \"#fb9f3a\"], [0.8888888888888888, \"#fdca26\"], [1.0, \"#f0f921\"]], \"type\": \"surface\"}], \"table\": [{\"cells\": {\"fill\": {\"color\": \"#EBF0F8\"}, \"line\": {\"color\": \"white\"}}, \"header\": {\"fill\": {\"color\": \"#C8D4E3\"}, \"line\": {\"color\": \"white\"}}, \"type\": \"table\"}]}, \"layout\": {\"annotationdefaults\": {\"arrowcolor\": \"#2a3f5f\", \"arrowhead\": 0, \"arrowwidth\": 1}, \"coloraxis\": {\"colorbar\": {\"outlinewidth\": 0, \"ticks\": \"\"}}, \"colorscale\": {\"diverging\": [[0, \"#8e0152\"], [0.1, \"#c51b7d\"], [0.2, \"#de77ae\"], [0.3, \"#f1b6da\"], [0.4, \"#fde0ef\"], [0.5, \"#f7f7f7\"], [0.6, \"#e6f5d0\"], [0.7, \"#b8e186\"], [0.8, \"#7fbc41\"], [0.9, \"#4d9221\"], [1, \"#276419\"]], \"sequential\": [[0.0, \"#0d0887\"], [0.1111111111111111, \"#46039f\"], [0.2222222222222222, \"#7201a8\"], [0.3333333333333333, \"#9c179e\"], [0.4444444444444444, \"#bd3786\"], [0.5555555555555556, \"#d8576b\"], [0.6666666666666666, \"#ed7953\"], [0.7777777777777778, \"#fb9f3a\"], [0.8888888888888888, \"#fdca26\"], [1.0, \"#f0f921\"]], \"sequentialminus\": [[0.0, \"#0d0887\"], [0.1111111111111111, \"#46039f\"], [0.2222222222222222, \"#7201a8\"], [0.3333333333333333, \"#9c179e\"], [0.4444444444444444, \"#bd3786\"], [0.5555555555555556, \"#d8576b\"], [0.6666666666666666, \"#ed7953\"], [0.7777777777777778, \"#fb9f3a\"], [0.8888888888888888, \"#fdca26\"], [1.0, \"#f0f921\"]]}, \"colorway\": [\"#636efa\", \"#EF553B\", \"#00cc96\", \"#ab63fa\", \"#FFA15A\", \"#19d3f3\", \"#FF6692\", \"#B6E880\", \"#FF97FF\", \"#FECB52\"], \"font\": {\"color\": \"#2a3f5f\"}, \"geo\": {\"bgcolor\": \"white\", \"lakecolor\": \"white\", \"landcolor\": \"#E5ECF6\", \"showlakes\": true, \"showland\": true, \"subunitcolor\": \"white\"}, \"hoverlabel\": {\"align\": \"left\"}, \"hovermode\": \"closest\", \"mapbox\": {\"style\": \"light\"}, \"paper_bgcolor\": \"white\", \"plot_bgcolor\": \"#E5ECF6\", \"polar\": {\"angularaxis\": {\"gridcolor\": \"white\", \"linecolor\": \"white\", \"ticks\": \"\"}, \"bgcolor\": \"#E5ECF6\", \"radialaxis\": {\"gridcolor\": \"white\", \"linecolor\": \"white\", \"ticks\": \"\"}}, \"scene\": {\"xaxis\": {\"backgroundcolor\": \"#E5ECF6\", \"gridcolor\": \"white\", \"gridwidth\": 2, \"linecolor\": \"white\", \"showbackground\": true, \"ticks\": \"\", \"zerolinecolor\": \"white\"}, \"yaxis\": {\"backgroundcolor\": \"#E5ECF6\", \"gridcolor\": \"white\", \"gridwidth\": 2, \"linecolor\": \"white\", \"showbackground\": true, \"ticks\": \"\", \"zerolinecolor\": \"white\"}, \"zaxis\": {\"backgroundcolor\": \"#E5ECF6\", \"gridcolor\": \"white\", \"gridwidth\": 2, \"linecolor\": \"white\", \"showbackground\": true, \"ticks\": \"\", \"zerolinecolor\": \"white\"}}, \"shapedefaults\": {\"line\": {\"color\": \"#2a3f5f\"}}, \"ternary\": {\"aaxis\": {\"gridcolor\": \"white\", \"linecolor\": \"white\", \"ticks\": \"\"}, \"baxis\": {\"gridcolor\": \"white\", \"linecolor\": \"white\", \"ticks\": \"\"}, \"bgcolor\": \"#E5ECF6\", \"caxis\": {\"gridcolor\": \"white\", \"linecolor\": \"white\", \"ticks\": \"\"}}, \"title\": {\"x\": 0.05}, \"xaxis\": {\"automargin\": true, \"gridcolor\": \"white\", \"linecolor\": \"white\", \"ticks\": \"\", \"title\": {\"standoff\": 15}, \"zerolinecolor\": \"white\", \"zerolinewidth\": 2}, \"yaxis\": {\"automargin\": true, \"gridcolor\": \"white\", \"linecolor\": \"white\", \"ticks\": \"\", \"title\": {\"standoff\": 15}, \"zerolinecolor\": \"white\", \"zerolinewidth\": 2}}}, \"title\": {\"font\": {\"color\": \"#4D5663\"}}, \"xaxis\": {\"gridcolor\": \"#E1E5ED\", \"showgrid\": true, \"tickfont\": {\"color\": \"#4D5663\"}, \"title\": {\"font\": {\"color\": \"#4D5663\"}, \"text\": \"\"}, \"zerolinecolor\": \"#E1E5ED\"}, \"yaxis\": {\"gridcolor\": \"#E1E5ED\", \"showgrid\": true, \"tickfont\": {\"color\": \"#4D5663\"}, \"title\": {\"font\": {\"color\": \"#4D5663\"}, \"text\": \"\"}, \"zerolinecolor\": \"#E1E5ED\"}},                        {\"showLink\": true, \"linkText\": \"Export to plot.ly\", \"plotlyServerURL\": \"https://plot.ly\", \"responsive\": true}                    ).then(function(){\n",
       "                            \n",
       "var gd = document.getElementById('964aa890-fda1-41d8-94fe-7033ac4fa50e');\n",
       "var x = new MutationObserver(function (mutations, observer) {{\n",
       "        var display = window.getComputedStyle(gd).display;\n",
       "        if (!display || display === 'none') {{\n",
       "            console.log([gd, 'removed!']);\n",
       "            Plotly.purge(gd);\n",
       "            observer.disconnect();\n",
       "        }}\n",
       "}});\n",
       "\n",
       "// Listen for the removal of the full notebook cells\n",
       "var notebookContainer = gd.closest('#notebook-container');\n",
       "if (notebookContainer) {{\n",
       "    x.observe(notebookContainer, {childList: true});\n",
       "}}\n",
       "\n",
       "// Listen for the clearing of the current output cell\n",
       "var outputEl = gd.closest('.output');\n",
       "if (outputEl) {{\n",
       "    x.observe(outputEl, {childList: true});\n",
       "}}\n",
       "\n",
       "                        })                };                });            </script>        </div>"
      ]
     },
     "metadata": {},
     "output_type": "display_data"
    }
   ],
   "source": [
    "df2.iplot(kind = 'bar', x = 'Category', y = 'Values', colors = 'red')"
   ]
  },
  {
   "cell_type": "code",
   "execution_count": 22,
   "metadata": {},
   "outputs": [
    {
     "data": {
      "application/vnd.plotly.v1+json": {
       "config": {
        "linkText": "Export to plot.ly",
        "plotlyServerURL": "https://plot.ly",
        "showLink": true
       },
       "data": [
        {
         "marker": {
          "color": "rgba(255, 153, 51, 0.6)",
          "line": {
           "color": "rgba(255, 153, 51, 1.0)",
           "width": 1
          }
         },
         "name": "None",
         "orientation": "v",
         "text": "",
         "type": "bar",
         "x": [
          "A",
          "B",
          "C",
          "D"
         ],
         "y": [
          -8.995607445332338,
          -6.91954387664167,
          15.775433202362805,
          1.1006619269220148
         ]
        }
       ],
       "layout": {
        "legend": {
         "bgcolor": "#F5F6F9",
         "font": {
          "color": "#4D5663"
         }
        },
        "paper_bgcolor": "#F5F6F9",
        "plot_bgcolor": "#F5F6F9",
        "template": {
         "data": {
          "bar": [
           {
            "error_x": {
             "color": "#2a3f5f"
            },
            "error_y": {
             "color": "#2a3f5f"
            },
            "marker": {
             "line": {
              "color": "#E5ECF6",
              "width": 0.5
             }
            },
            "type": "bar"
           }
          ],
          "barpolar": [
           {
            "marker": {
             "line": {
              "color": "#E5ECF6",
              "width": 0.5
             }
            },
            "type": "barpolar"
           }
          ],
          "carpet": [
           {
            "aaxis": {
             "endlinecolor": "#2a3f5f",
             "gridcolor": "white",
             "linecolor": "white",
             "minorgridcolor": "white",
             "startlinecolor": "#2a3f5f"
            },
            "baxis": {
             "endlinecolor": "#2a3f5f",
             "gridcolor": "white",
             "linecolor": "white",
             "minorgridcolor": "white",
             "startlinecolor": "#2a3f5f"
            },
            "type": "carpet"
           }
          ],
          "choropleth": [
           {
            "colorbar": {
             "outlinewidth": 0,
             "ticks": ""
            },
            "type": "choropleth"
           }
          ],
          "contour": [
           {
            "colorbar": {
             "outlinewidth": 0,
             "ticks": ""
            },
            "colorscale": [
             [
              0,
              "#0d0887"
             ],
             [
              0.1111111111111111,
              "#46039f"
             ],
             [
              0.2222222222222222,
              "#7201a8"
             ],
             [
              0.3333333333333333,
              "#9c179e"
             ],
             [
              0.4444444444444444,
              "#bd3786"
             ],
             [
              0.5555555555555556,
              "#d8576b"
             ],
             [
              0.6666666666666666,
              "#ed7953"
             ],
             [
              0.7777777777777778,
              "#fb9f3a"
             ],
             [
              0.8888888888888888,
              "#fdca26"
             ],
             [
              1,
              "#f0f921"
             ]
            ],
            "type": "contour"
           }
          ],
          "contourcarpet": [
           {
            "colorbar": {
             "outlinewidth": 0,
             "ticks": ""
            },
            "type": "contourcarpet"
           }
          ],
          "heatmap": [
           {
            "colorbar": {
             "outlinewidth": 0,
             "ticks": ""
            },
            "colorscale": [
             [
              0,
              "#0d0887"
             ],
             [
              0.1111111111111111,
              "#46039f"
             ],
             [
              0.2222222222222222,
              "#7201a8"
             ],
             [
              0.3333333333333333,
              "#9c179e"
             ],
             [
              0.4444444444444444,
              "#bd3786"
             ],
             [
              0.5555555555555556,
              "#d8576b"
             ],
             [
              0.6666666666666666,
              "#ed7953"
             ],
             [
              0.7777777777777778,
              "#fb9f3a"
             ],
             [
              0.8888888888888888,
              "#fdca26"
             ],
             [
              1,
              "#f0f921"
             ]
            ],
            "type": "heatmap"
           }
          ],
          "heatmapgl": [
           {
            "colorbar": {
             "outlinewidth": 0,
             "ticks": ""
            },
            "colorscale": [
             [
              0,
              "#0d0887"
             ],
             [
              0.1111111111111111,
              "#46039f"
             ],
             [
              0.2222222222222222,
              "#7201a8"
             ],
             [
              0.3333333333333333,
              "#9c179e"
             ],
             [
              0.4444444444444444,
              "#bd3786"
             ],
             [
              0.5555555555555556,
              "#d8576b"
             ],
             [
              0.6666666666666666,
              "#ed7953"
             ],
             [
              0.7777777777777778,
              "#fb9f3a"
             ],
             [
              0.8888888888888888,
              "#fdca26"
             ],
             [
              1,
              "#f0f921"
             ]
            ],
            "type": "heatmapgl"
           }
          ],
          "histogram": [
           {
            "marker": {
             "colorbar": {
              "outlinewidth": 0,
              "ticks": ""
             }
            },
            "type": "histogram"
           }
          ],
          "histogram2d": [
           {
            "colorbar": {
             "outlinewidth": 0,
             "ticks": ""
            },
            "colorscale": [
             [
              0,
              "#0d0887"
             ],
             [
              0.1111111111111111,
              "#46039f"
             ],
             [
              0.2222222222222222,
              "#7201a8"
             ],
             [
              0.3333333333333333,
              "#9c179e"
             ],
             [
              0.4444444444444444,
              "#bd3786"
             ],
             [
              0.5555555555555556,
              "#d8576b"
             ],
             [
              0.6666666666666666,
              "#ed7953"
             ],
             [
              0.7777777777777778,
              "#fb9f3a"
             ],
             [
              0.8888888888888888,
              "#fdca26"
             ],
             [
              1,
              "#f0f921"
             ]
            ],
            "type": "histogram2d"
           }
          ],
          "histogram2dcontour": [
           {
            "colorbar": {
             "outlinewidth": 0,
             "ticks": ""
            },
            "colorscale": [
             [
              0,
              "#0d0887"
             ],
             [
              0.1111111111111111,
              "#46039f"
             ],
             [
              0.2222222222222222,
              "#7201a8"
             ],
             [
              0.3333333333333333,
              "#9c179e"
             ],
             [
              0.4444444444444444,
              "#bd3786"
             ],
             [
              0.5555555555555556,
              "#d8576b"
             ],
             [
              0.6666666666666666,
              "#ed7953"
             ],
             [
              0.7777777777777778,
              "#fb9f3a"
             ],
             [
              0.8888888888888888,
              "#fdca26"
             ],
             [
              1,
              "#f0f921"
             ]
            ],
            "type": "histogram2dcontour"
           }
          ],
          "mesh3d": [
           {
            "colorbar": {
             "outlinewidth": 0,
             "ticks": ""
            },
            "type": "mesh3d"
           }
          ],
          "parcoords": [
           {
            "line": {
             "colorbar": {
              "outlinewidth": 0,
              "ticks": ""
             }
            },
            "type": "parcoords"
           }
          ],
          "pie": [
           {
            "automargin": true,
            "type": "pie"
           }
          ],
          "scatter": [
           {
            "marker": {
             "colorbar": {
              "outlinewidth": 0,
              "ticks": ""
             }
            },
            "type": "scatter"
           }
          ],
          "scatter3d": [
           {
            "line": {
             "colorbar": {
              "outlinewidth": 0,
              "ticks": ""
             }
            },
            "marker": {
             "colorbar": {
              "outlinewidth": 0,
              "ticks": ""
             }
            },
            "type": "scatter3d"
           }
          ],
          "scattercarpet": [
           {
            "marker": {
             "colorbar": {
              "outlinewidth": 0,
              "ticks": ""
             }
            },
            "type": "scattercarpet"
           }
          ],
          "scattergeo": [
           {
            "marker": {
             "colorbar": {
              "outlinewidth": 0,
              "ticks": ""
             }
            },
            "type": "scattergeo"
           }
          ],
          "scattergl": [
           {
            "marker": {
             "colorbar": {
              "outlinewidth": 0,
              "ticks": ""
             }
            },
            "type": "scattergl"
           }
          ],
          "scattermapbox": [
           {
            "marker": {
             "colorbar": {
              "outlinewidth": 0,
              "ticks": ""
             }
            },
            "type": "scattermapbox"
           }
          ],
          "scatterpolar": [
           {
            "marker": {
             "colorbar": {
              "outlinewidth": 0,
              "ticks": ""
             }
            },
            "type": "scatterpolar"
           }
          ],
          "scatterpolargl": [
           {
            "marker": {
             "colorbar": {
              "outlinewidth": 0,
              "ticks": ""
             }
            },
            "type": "scatterpolargl"
           }
          ],
          "scatterternary": [
           {
            "marker": {
             "colorbar": {
              "outlinewidth": 0,
              "ticks": ""
             }
            },
            "type": "scatterternary"
           }
          ],
          "surface": [
           {
            "colorbar": {
             "outlinewidth": 0,
             "ticks": ""
            },
            "colorscale": [
             [
              0,
              "#0d0887"
             ],
             [
              0.1111111111111111,
              "#46039f"
             ],
             [
              0.2222222222222222,
              "#7201a8"
             ],
             [
              0.3333333333333333,
              "#9c179e"
             ],
             [
              0.4444444444444444,
              "#bd3786"
             ],
             [
              0.5555555555555556,
              "#d8576b"
             ],
             [
              0.6666666666666666,
              "#ed7953"
             ],
             [
              0.7777777777777778,
              "#fb9f3a"
             ],
             [
              0.8888888888888888,
              "#fdca26"
             ],
             [
              1,
              "#f0f921"
             ]
            ],
            "type": "surface"
           }
          ],
          "table": [
           {
            "cells": {
             "fill": {
              "color": "#EBF0F8"
             },
             "line": {
              "color": "white"
             }
            },
            "header": {
             "fill": {
              "color": "#C8D4E3"
             },
             "line": {
              "color": "white"
             }
            },
            "type": "table"
           }
          ]
         },
         "layout": {
          "annotationdefaults": {
           "arrowcolor": "#2a3f5f",
           "arrowhead": 0,
           "arrowwidth": 1
          },
          "coloraxis": {
           "colorbar": {
            "outlinewidth": 0,
            "ticks": ""
           }
          },
          "colorscale": {
           "diverging": [
            [
             0,
             "#8e0152"
            ],
            [
             0.1,
             "#c51b7d"
            ],
            [
             0.2,
             "#de77ae"
            ],
            [
             0.3,
             "#f1b6da"
            ],
            [
             0.4,
             "#fde0ef"
            ],
            [
             0.5,
             "#f7f7f7"
            ],
            [
             0.6,
             "#e6f5d0"
            ],
            [
             0.7,
             "#b8e186"
            ],
            [
             0.8,
             "#7fbc41"
            ],
            [
             0.9,
             "#4d9221"
            ],
            [
             1,
             "#276419"
            ]
           ],
           "sequential": [
            [
             0,
             "#0d0887"
            ],
            [
             0.1111111111111111,
             "#46039f"
            ],
            [
             0.2222222222222222,
             "#7201a8"
            ],
            [
             0.3333333333333333,
             "#9c179e"
            ],
            [
             0.4444444444444444,
             "#bd3786"
            ],
            [
             0.5555555555555556,
             "#d8576b"
            ],
            [
             0.6666666666666666,
             "#ed7953"
            ],
            [
             0.7777777777777778,
             "#fb9f3a"
            ],
            [
             0.8888888888888888,
             "#fdca26"
            ],
            [
             1,
             "#f0f921"
            ]
           ],
           "sequentialminus": [
            [
             0,
             "#0d0887"
            ],
            [
             0.1111111111111111,
             "#46039f"
            ],
            [
             0.2222222222222222,
             "#7201a8"
            ],
            [
             0.3333333333333333,
             "#9c179e"
            ],
            [
             0.4444444444444444,
             "#bd3786"
            ],
            [
             0.5555555555555556,
             "#d8576b"
            ],
            [
             0.6666666666666666,
             "#ed7953"
            ],
            [
             0.7777777777777778,
             "#fb9f3a"
            ],
            [
             0.8888888888888888,
             "#fdca26"
            ],
            [
             1,
             "#f0f921"
            ]
           ]
          },
          "colorway": [
           "#636efa",
           "#EF553B",
           "#00cc96",
           "#ab63fa",
           "#FFA15A",
           "#19d3f3",
           "#FF6692",
           "#B6E880",
           "#FF97FF",
           "#FECB52"
          ],
          "font": {
           "color": "#2a3f5f"
          },
          "geo": {
           "bgcolor": "white",
           "lakecolor": "white",
           "landcolor": "#E5ECF6",
           "showlakes": true,
           "showland": true,
           "subunitcolor": "white"
          },
          "hoverlabel": {
           "align": "left"
          },
          "hovermode": "closest",
          "mapbox": {
           "style": "light"
          },
          "paper_bgcolor": "white",
          "plot_bgcolor": "#E5ECF6",
          "polar": {
           "angularaxis": {
            "gridcolor": "white",
            "linecolor": "white",
            "ticks": ""
           },
           "bgcolor": "#E5ECF6",
           "radialaxis": {
            "gridcolor": "white",
            "linecolor": "white",
            "ticks": ""
           }
          },
          "scene": {
           "xaxis": {
            "backgroundcolor": "#E5ECF6",
            "gridcolor": "white",
            "gridwidth": 2,
            "linecolor": "white",
            "showbackground": true,
            "ticks": "",
            "zerolinecolor": "white"
           },
           "yaxis": {
            "backgroundcolor": "#E5ECF6",
            "gridcolor": "white",
            "gridwidth": 2,
            "linecolor": "white",
            "showbackground": true,
            "ticks": "",
            "zerolinecolor": "white"
           },
           "zaxis": {
            "backgroundcolor": "#E5ECF6",
            "gridcolor": "white",
            "gridwidth": 2,
            "linecolor": "white",
            "showbackground": true,
            "ticks": "",
            "zerolinecolor": "white"
           }
          },
          "shapedefaults": {
           "line": {
            "color": "#2a3f5f"
           }
          },
          "ternary": {
           "aaxis": {
            "gridcolor": "white",
            "linecolor": "white",
            "ticks": ""
           },
           "baxis": {
            "gridcolor": "white",
            "linecolor": "white",
            "ticks": ""
           },
           "bgcolor": "#E5ECF6",
           "caxis": {
            "gridcolor": "white",
            "linecolor": "white",
            "ticks": ""
           }
          },
          "title": {
           "x": 0.05
          },
          "xaxis": {
           "automargin": true,
           "gridcolor": "white",
           "linecolor": "white",
           "ticks": "",
           "title": {
            "standoff": 15
           },
           "zerolinecolor": "white",
           "zerolinewidth": 2
          },
          "yaxis": {
           "automargin": true,
           "gridcolor": "white",
           "linecolor": "white",
           "ticks": "",
           "title": {
            "standoff": 15
           },
           "zerolinecolor": "white",
           "zerolinewidth": 2
          }
         }
        },
        "title": {
         "font": {
          "color": "#4D5663"
         }
        },
        "xaxis": {
         "gridcolor": "#E1E5ED",
         "showgrid": true,
         "tickfont": {
          "color": "#4D5663"
         },
         "title": {
          "font": {
           "color": "#4D5663"
          },
          "text": ""
         },
         "zerolinecolor": "#E1E5ED"
        },
        "yaxis": {
         "gridcolor": "#E1E5ED",
         "showgrid": true,
         "tickfont": {
          "color": "#4D5663"
         },
         "title": {
          "font": {
           "color": "#4D5663"
          },
          "text": ""
         },
         "zerolinecolor": "#E1E5ED"
        }
       }
      },
      "text/html": [
       "<div>                            <div id=\"32218029-585e-4d10-aa92-5359325a7bee\" class=\"plotly-graph-div\" style=\"height:525px; width:100%;\"></div>            <script type=\"text/javascript\">                require([\"plotly\"], function(Plotly) {                    window.PLOTLYENV=window.PLOTLYENV || {};\n",
       "                    window.PLOTLYENV.BASE_URL='https://plot.ly';                                    if (document.getElementById(\"32218029-585e-4d10-aa92-5359325a7bee\")) {                    Plotly.newPlot(                        \"32218029-585e-4d10-aa92-5359325a7bee\",                        [{\"marker\": {\"color\": \"rgba(255, 153, 51, 0.6)\", \"line\": {\"color\": \"rgba(255, 153, 51, 1.0)\", \"width\": 1}}, \"name\": \"None\", \"orientation\": \"v\", \"text\": \"\", \"type\": \"bar\", \"x\": [\"A\", \"B\", \"C\", \"D\"], \"y\": [-8.995607445332338, -6.91954387664167, 15.775433202362805, 1.1006619269220148]}],                        {\"legend\": {\"bgcolor\": \"#F5F6F9\", \"font\": {\"color\": \"#4D5663\"}}, \"paper_bgcolor\": \"#F5F6F9\", \"plot_bgcolor\": \"#F5F6F9\", \"template\": {\"data\": {\"bar\": [{\"error_x\": {\"color\": \"#2a3f5f\"}, \"error_y\": {\"color\": \"#2a3f5f\"}, \"marker\": {\"line\": {\"color\": \"#E5ECF6\", \"width\": 0.5}}, \"type\": \"bar\"}], \"barpolar\": [{\"marker\": {\"line\": {\"color\": \"#E5ECF6\", \"width\": 0.5}}, \"type\": \"barpolar\"}], \"carpet\": [{\"aaxis\": {\"endlinecolor\": \"#2a3f5f\", \"gridcolor\": \"white\", \"linecolor\": \"white\", \"minorgridcolor\": \"white\", \"startlinecolor\": \"#2a3f5f\"}, \"baxis\": {\"endlinecolor\": \"#2a3f5f\", \"gridcolor\": \"white\", \"linecolor\": \"white\", \"minorgridcolor\": \"white\", \"startlinecolor\": \"#2a3f5f\"}, \"type\": \"carpet\"}], \"choropleth\": [{\"colorbar\": {\"outlinewidth\": 0, \"ticks\": \"\"}, \"type\": \"choropleth\"}], \"contour\": [{\"colorbar\": {\"outlinewidth\": 0, \"ticks\": \"\"}, \"colorscale\": [[0.0, \"#0d0887\"], [0.1111111111111111, \"#46039f\"], [0.2222222222222222, \"#7201a8\"], [0.3333333333333333, \"#9c179e\"], [0.4444444444444444, \"#bd3786\"], [0.5555555555555556, \"#d8576b\"], [0.6666666666666666, \"#ed7953\"], [0.7777777777777778, \"#fb9f3a\"], [0.8888888888888888, \"#fdca26\"], [1.0, \"#f0f921\"]], \"type\": \"contour\"}], \"contourcarpet\": [{\"colorbar\": {\"outlinewidth\": 0, \"ticks\": \"\"}, \"type\": \"contourcarpet\"}], \"heatmap\": [{\"colorbar\": {\"outlinewidth\": 0, \"ticks\": \"\"}, \"colorscale\": [[0.0, \"#0d0887\"], [0.1111111111111111, \"#46039f\"], [0.2222222222222222, \"#7201a8\"], [0.3333333333333333, \"#9c179e\"], [0.4444444444444444, \"#bd3786\"], [0.5555555555555556, \"#d8576b\"], [0.6666666666666666, \"#ed7953\"], [0.7777777777777778, \"#fb9f3a\"], [0.8888888888888888, \"#fdca26\"], [1.0, \"#f0f921\"]], \"type\": \"heatmap\"}], \"heatmapgl\": [{\"colorbar\": {\"outlinewidth\": 0, \"ticks\": \"\"}, \"colorscale\": [[0.0, \"#0d0887\"], [0.1111111111111111, \"#46039f\"], [0.2222222222222222, \"#7201a8\"], [0.3333333333333333, \"#9c179e\"], [0.4444444444444444, \"#bd3786\"], [0.5555555555555556, \"#d8576b\"], [0.6666666666666666, \"#ed7953\"], [0.7777777777777778, \"#fb9f3a\"], [0.8888888888888888, \"#fdca26\"], [1.0, \"#f0f921\"]], \"type\": \"heatmapgl\"}], \"histogram\": [{\"marker\": {\"colorbar\": {\"outlinewidth\": 0, \"ticks\": \"\"}}, \"type\": \"histogram\"}], \"histogram2d\": [{\"colorbar\": {\"outlinewidth\": 0, \"ticks\": \"\"}, \"colorscale\": [[0.0, \"#0d0887\"], [0.1111111111111111, \"#46039f\"], [0.2222222222222222, \"#7201a8\"], [0.3333333333333333, \"#9c179e\"], [0.4444444444444444, \"#bd3786\"], [0.5555555555555556, \"#d8576b\"], [0.6666666666666666, \"#ed7953\"], [0.7777777777777778, \"#fb9f3a\"], [0.8888888888888888, \"#fdca26\"], [1.0, \"#f0f921\"]], \"type\": \"histogram2d\"}], \"histogram2dcontour\": [{\"colorbar\": {\"outlinewidth\": 0, \"ticks\": \"\"}, \"colorscale\": [[0.0, \"#0d0887\"], [0.1111111111111111, \"#46039f\"], [0.2222222222222222, \"#7201a8\"], [0.3333333333333333, \"#9c179e\"], [0.4444444444444444, \"#bd3786\"], [0.5555555555555556, \"#d8576b\"], [0.6666666666666666, \"#ed7953\"], [0.7777777777777778, \"#fb9f3a\"], [0.8888888888888888, \"#fdca26\"], [1.0, \"#f0f921\"]], \"type\": \"histogram2dcontour\"}], \"mesh3d\": [{\"colorbar\": {\"outlinewidth\": 0, \"ticks\": \"\"}, \"type\": \"mesh3d\"}], \"parcoords\": [{\"line\": {\"colorbar\": {\"outlinewidth\": 0, \"ticks\": \"\"}}, \"type\": \"parcoords\"}], \"pie\": [{\"automargin\": true, \"type\": \"pie\"}], \"scatter\": [{\"marker\": {\"colorbar\": {\"outlinewidth\": 0, \"ticks\": \"\"}}, \"type\": \"scatter\"}], \"scatter3d\": [{\"line\": {\"colorbar\": {\"outlinewidth\": 0, \"ticks\": \"\"}}, \"marker\": {\"colorbar\": {\"outlinewidth\": 0, \"ticks\": \"\"}}, \"type\": \"scatter3d\"}], \"scattercarpet\": [{\"marker\": {\"colorbar\": {\"outlinewidth\": 0, \"ticks\": \"\"}}, \"type\": \"scattercarpet\"}], \"scattergeo\": [{\"marker\": {\"colorbar\": {\"outlinewidth\": 0, \"ticks\": \"\"}}, \"type\": \"scattergeo\"}], \"scattergl\": [{\"marker\": {\"colorbar\": {\"outlinewidth\": 0, \"ticks\": \"\"}}, \"type\": \"scattergl\"}], \"scattermapbox\": [{\"marker\": {\"colorbar\": {\"outlinewidth\": 0, \"ticks\": \"\"}}, \"type\": \"scattermapbox\"}], \"scatterpolar\": [{\"marker\": {\"colorbar\": {\"outlinewidth\": 0, \"ticks\": \"\"}}, \"type\": \"scatterpolar\"}], \"scatterpolargl\": [{\"marker\": {\"colorbar\": {\"outlinewidth\": 0, \"ticks\": \"\"}}, \"type\": \"scatterpolargl\"}], \"scatterternary\": [{\"marker\": {\"colorbar\": {\"outlinewidth\": 0, \"ticks\": \"\"}}, \"type\": \"scatterternary\"}], \"surface\": [{\"colorbar\": {\"outlinewidth\": 0, \"ticks\": \"\"}, \"colorscale\": [[0.0, \"#0d0887\"], [0.1111111111111111, \"#46039f\"], [0.2222222222222222, \"#7201a8\"], [0.3333333333333333, \"#9c179e\"], [0.4444444444444444, \"#bd3786\"], [0.5555555555555556, \"#d8576b\"], [0.6666666666666666, \"#ed7953\"], [0.7777777777777778, \"#fb9f3a\"], [0.8888888888888888, \"#fdca26\"], [1.0, \"#f0f921\"]], \"type\": \"surface\"}], \"table\": [{\"cells\": {\"fill\": {\"color\": \"#EBF0F8\"}, \"line\": {\"color\": \"white\"}}, \"header\": {\"fill\": {\"color\": \"#C8D4E3\"}, \"line\": {\"color\": \"white\"}}, \"type\": \"table\"}]}, \"layout\": {\"annotationdefaults\": {\"arrowcolor\": \"#2a3f5f\", \"arrowhead\": 0, \"arrowwidth\": 1}, \"coloraxis\": {\"colorbar\": {\"outlinewidth\": 0, \"ticks\": \"\"}}, \"colorscale\": {\"diverging\": [[0, \"#8e0152\"], [0.1, \"#c51b7d\"], [0.2, \"#de77ae\"], [0.3, \"#f1b6da\"], [0.4, \"#fde0ef\"], [0.5, \"#f7f7f7\"], [0.6, \"#e6f5d0\"], [0.7, \"#b8e186\"], [0.8, \"#7fbc41\"], [0.9, \"#4d9221\"], [1, \"#276419\"]], \"sequential\": [[0.0, \"#0d0887\"], [0.1111111111111111, \"#46039f\"], [0.2222222222222222, \"#7201a8\"], [0.3333333333333333, \"#9c179e\"], [0.4444444444444444, \"#bd3786\"], [0.5555555555555556, \"#d8576b\"], [0.6666666666666666, \"#ed7953\"], [0.7777777777777778, \"#fb9f3a\"], [0.8888888888888888, \"#fdca26\"], [1.0, \"#f0f921\"]], \"sequentialminus\": [[0.0, \"#0d0887\"], [0.1111111111111111, \"#46039f\"], [0.2222222222222222, \"#7201a8\"], [0.3333333333333333, \"#9c179e\"], [0.4444444444444444, \"#bd3786\"], [0.5555555555555556, \"#d8576b\"], [0.6666666666666666, \"#ed7953\"], [0.7777777777777778, \"#fb9f3a\"], [0.8888888888888888, \"#fdca26\"], [1.0, \"#f0f921\"]]}, \"colorway\": [\"#636efa\", \"#EF553B\", \"#00cc96\", \"#ab63fa\", \"#FFA15A\", \"#19d3f3\", \"#FF6692\", \"#B6E880\", \"#FF97FF\", \"#FECB52\"], \"font\": {\"color\": \"#2a3f5f\"}, \"geo\": {\"bgcolor\": \"white\", \"lakecolor\": \"white\", \"landcolor\": \"#E5ECF6\", \"showlakes\": true, \"showland\": true, \"subunitcolor\": \"white\"}, \"hoverlabel\": {\"align\": \"left\"}, \"hovermode\": \"closest\", \"mapbox\": {\"style\": \"light\"}, \"paper_bgcolor\": \"white\", \"plot_bgcolor\": \"#E5ECF6\", \"polar\": {\"angularaxis\": {\"gridcolor\": \"white\", \"linecolor\": \"white\", \"ticks\": \"\"}, \"bgcolor\": \"#E5ECF6\", \"radialaxis\": {\"gridcolor\": \"white\", \"linecolor\": \"white\", \"ticks\": \"\"}}, \"scene\": {\"xaxis\": {\"backgroundcolor\": \"#E5ECF6\", \"gridcolor\": \"white\", \"gridwidth\": 2, \"linecolor\": \"white\", \"showbackground\": true, \"ticks\": \"\", \"zerolinecolor\": \"white\"}, \"yaxis\": {\"backgroundcolor\": \"#E5ECF6\", \"gridcolor\": \"white\", \"gridwidth\": 2, \"linecolor\": \"white\", \"showbackground\": true, \"ticks\": \"\", \"zerolinecolor\": \"white\"}, \"zaxis\": {\"backgroundcolor\": \"#E5ECF6\", \"gridcolor\": \"white\", \"gridwidth\": 2, \"linecolor\": \"white\", \"showbackground\": true, \"ticks\": \"\", \"zerolinecolor\": \"white\"}}, \"shapedefaults\": {\"line\": {\"color\": \"#2a3f5f\"}}, \"ternary\": {\"aaxis\": {\"gridcolor\": \"white\", \"linecolor\": \"white\", \"ticks\": \"\"}, \"baxis\": {\"gridcolor\": \"white\", \"linecolor\": \"white\", \"ticks\": \"\"}, \"bgcolor\": \"#E5ECF6\", \"caxis\": {\"gridcolor\": \"white\", \"linecolor\": \"white\", \"ticks\": \"\"}}, \"title\": {\"x\": 0.05}, \"xaxis\": {\"automargin\": true, \"gridcolor\": \"white\", \"linecolor\": \"white\", \"ticks\": \"\", \"title\": {\"standoff\": 15}, \"zerolinecolor\": \"white\", \"zerolinewidth\": 2}, \"yaxis\": {\"automargin\": true, \"gridcolor\": \"white\", \"linecolor\": \"white\", \"ticks\": \"\", \"title\": {\"standoff\": 15}, \"zerolinecolor\": \"white\", \"zerolinewidth\": 2}}}, \"title\": {\"font\": {\"color\": \"#4D5663\"}}, \"xaxis\": {\"gridcolor\": \"#E1E5ED\", \"showgrid\": true, \"tickfont\": {\"color\": \"#4D5663\"}, \"title\": {\"font\": {\"color\": \"#4D5663\"}, \"text\": \"\"}, \"zerolinecolor\": \"#E1E5ED\"}, \"yaxis\": {\"gridcolor\": \"#E1E5ED\", \"showgrid\": true, \"tickfont\": {\"color\": \"#4D5663\"}, \"title\": {\"font\": {\"color\": \"#4D5663\"}, \"text\": \"\"}, \"zerolinecolor\": \"#E1E5ED\"}},                        {\"showLink\": true, \"linkText\": \"Export to plot.ly\", \"plotlyServerURL\": \"https://plot.ly\", \"responsive\": true}                    ).then(function(){\n",
       "                            \n",
       "var gd = document.getElementById('32218029-585e-4d10-aa92-5359325a7bee');\n",
       "var x = new MutationObserver(function (mutations, observer) {{\n",
       "        var display = window.getComputedStyle(gd).display;\n",
       "        if (!display || display === 'none') {{\n",
       "            console.log([gd, 'removed!']);\n",
       "            Plotly.purge(gd);\n",
       "            observer.disconnect();\n",
       "        }}\n",
       "}});\n",
       "\n",
       "// Listen for the removal of the full notebook cells\n",
       "var notebookContainer = gd.closest('#notebook-container');\n",
       "if (notebookContainer) {{\n",
       "    x.observe(notebookContainer, {childList: true});\n",
       "}}\n",
       "\n",
       "// Listen for the clearing of the current output cell\n",
       "var outputEl = gd.closest('.output');\n",
       "if (outputEl) {{\n",
       "    x.observe(outputEl, {childList: true});\n",
       "}}\n",
       "\n",
       "                        })                };                });            </script>        </div>"
      ]
     },
     "metadata": {},
     "output_type": "display_data"
    }
   ],
   "source": [
    "df.sum().iplot(kind='bar')"
   ]
  },
  {
   "cell_type": "markdown",
   "metadata": {},
   "source": [
    "## Boxplots"
   ]
  },
  {
   "cell_type": "code",
   "execution_count": 23,
   "metadata": {},
   "outputs": [
    {
     "data": {
      "application/vnd.plotly.v1+json": {
       "config": {
        "linkText": "Export to plot.ly",
        "plotlyServerURL": "https://plot.ly",
        "showLink": true
       },
       "data": [
        {
         "boxpoints": false,
         "line": {
          "width": 1.3
         },
         "marker": {
          "color": "rgba(255, 153, 51, 1.0)"
         },
         "name": "A",
         "orientation": "v",
         "type": "box",
         "y": [
          0.019430806383181284,
          0.608603613411356,
          0.07247562241777829,
          -0.9104428128373663,
          1.3735657891542405,
          0.07519673113819865,
          0.06395658164671109,
          -1.6195694639137597,
          0.7554966666743327,
          0.45097740835769223,
          -0.10156324731745073,
          -0.4158522716260824,
          0.9954541144280701,
          -0.48555200602878423,
          1.490823288469039,
          -0.13194416978954118,
          -0.7528004178239888,
          -0.544262017467453,
          -1.437649785582203,
          0.17187226223968824,
          -1.2375300092105108,
          0.49278868970672296,
          -0.6361730509889744,
          -0.13764319117463106,
          0.062410111597416565,
          -0.5187075611984749,
          -1.4102344376792062,
          -0.3572026445885095,
          -0.6376315054537319,
          -0.08196403616906862,
          1.2918666744199032,
          1.834095870683521,
          1.028800443585434,
          0.9937885884309238,
          -0.37089692485727643,
          -0.3412877759764047,
          2.262481668740981,
          -0.2951852827270955,
          1.1249926939573314,
          0.5702750889136583,
          -0.7551453700363403,
          1.0505410054870346,
          -2.1796411612126207,
          1.4633293246578305,
          -0.9824685130984081,
          -0.8896242240185488,
          -0.15830524409511837,
          0.8207907173546565,
          -1.1853010290819173,
          -0.04668477075582644,
          -0.4923965618308851,
          1.347160076177271,
          0.010843352382841287,
          0.6173535522890893,
          -1.5062569479408272,
          0.19394046597445944,
          -1.5703035237848442,
          -0.8017093258648721,
          -0.5420091277779893,
          0.12398167085240544,
          1.0336758962507486,
          0.7370393163266648,
          1.0215708043915677,
          -0.40016276626102376,
          1.5133921798813612,
          0.7624574546404679,
          0.12204337931158848,
          0.3878926000196656,
          -1.9858807909062057,
          1.5619887939186559,
          1.9262998520500085,
          0.6179697050361458,
          -0.2637131372925625,
          -0.42894690745324804,
          0.15220520963924042,
          0.2171978777436021,
          -1.0019800436093944,
          -0.9082410683140086,
          -0.9323858380561356,
          -2.176514619233318,
          -2.041735481953146,
          0.1900171138249872,
          0.7957042354908531,
          -0.5964879028707374,
          -0.3146446170771317,
          -2.5337539168618295,
          -1.0869571144160752,
          0.9013311410590518,
          -0.6131300774164766,
          0.7959724948574082,
          -0.01817478619237521,
          0.05015503961687754,
          0.376814718222817,
          -1.548926641719814,
          0.26002105343845394,
          -0.9509949673458841,
          -0.4274355159462603,
          1.3031986142392404,
          -1.9640602579483455,
          -1.3617829420408287
         ]
        },
        {
         "boxpoints": false,
         "line": {
          "width": 1.3
         },
         "marker": {
          "color": "rgba(55, 128, 191, 1.0)"
         },
         "name": "B",
         "orientation": "v",
         "type": "box",
         "y": [
          0.23590897280929557,
          -0.5853191060130026,
          0.45041649477698203,
          -1.4844634650877961,
          -0.7010019866089757,
          -1.7713343221822186,
          0.3564783560049668,
          1.1031620019724644,
          -0.534524659790858,
          1.55516579284802,
          0.9245808085412286,
          1.3620636205948855,
          0.6460233039467143,
          -1.3287700621303378,
          2.113243524617769,
          -0.7039904787447651,
          0.957708167234452,
          0.38668960727077833,
          1.0905405017303815,
          -0.15907806493007792,
          -0.05398389231091074,
          -0.5336742283108098,
          0.3824419930821319,
          0.7419908764060871,
          -0.4140242561179745,
          0.2759136081174468,
          0.8482704917519138,
          2.0059405381970254,
          -1.3246650717679416,
          -0.5065540149600787,
          -0.6936235230043091,
          -0.19441117112133538,
          0.887480460290256,
          -1.5166569531417406,
          -0.7190624137948296,
          0.4102288680484326,
          -0.7379062568928512,
          -0.38612979211456566,
          -0.9814499423449278,
          -0.4359275292528566,
          -0.12292181575473174,
          1.9056738072959156,
          -1.836401325717276,
          -2.792474660611752,
          -0.9083337804822073,
          2.782345891898233,
          0.2381865299508034,
          0.9647682007237843,
          -1.1734425707908456,
          -1.9609962976837447,
          1.904270892330739,
          -0.10400697771863725,
          0.9179842824151149,
          0.16380229188572826,
          -0.02490709779441639,
          -0.20790133058482613,
          0.5399698264563033,
          -0.9674437863175008,
          0.943420239562524,
          0.1561027975165673,
          -1.6553424385101994,
          0.8709325231705167,
          1.3197016755016702,
          -2.287162353986225,
          0.552534163797248,
          -2.9316789514534003,
          -1.413578565746748,
          0.3066964640228571,
          -0.8862210615838182,
          2.2245689170171943,
          -0.5073138082557282,
          2.295896889626357,
          0.03791532397259017,
          -0.27422129122939853,
          0.12873175025274455,
          0.4837720574093124,
          -0.29738246943237895,
          -0.0988932565886435,
          -1.3368837027277733,
          0.07779215851650331,
          -2.1254522743271664,
          -0.35883373446418565,
          0.008131872263935342,
          1.3898536362783147,
          1.010414278850495,
          -0.1442294615435738,
          0.9808125838800891,
          -0.4968630660898616,
          -1.778081760893912,
          -0.12516367093881087,
          0.06968580548842876,
          -0.7992199722691573,
          0.217143175038511,
          0.31265034609776243,
          0.3134863468368505,
          0.7484128321632029,
          -0.44746867845204136,
          -1.5837350747526953,
          -0.5834240333463931,
          -1.522918964431989
         ]
        },
        {
         "boxpoints": false,
         "line": {
          "width": 1.3
         },
         "marker": {
          "color": "rgba(50, 171, 96, 1.0)"
         },
         "name": "C",
         "orientation": "v",
         "type": "box",
         "y": [
          -0.15684046679247937,
          0.0013828717725460275,
          -0.20717052487752494,
          -0.7206190182063845,
          0.1586724861805863,
          0.34911398085786866,
          -0.44956744070842763,
          1.391230362803256,
          -0.46585330693668414,
          2.375752738731807,
          2.8013418024600076,
          -0.8922346367023012,
          -0.926846171443639,
          1.3309078366225244,
          0.1865029925576986,
          0.3440165820448021,
          2.0006673071046435,
          2.1218335358455778,
          -1.0851681629427428,
          0.036401360337058986,
          -0.7900458544606217,
          -0.4240780143001388,
          -0.23030482293717486,
          0.49875171251720374,
          2.813766329755358,
          0.51816636356984,
          0.6739908495930921,
          0.9727277361803863,
          1.7404161611034967,
          -1.052396263040642,
          0.6507507419833379,
          -0.3300921789049227,
          -0.31312308122181687,
          -1.057779781449692,
          0.5620379645886366,
          -0.6271297467319812,
          0.7904803881217852,
          -0.460998677311609,
          -1.0011704250170772,
          -0.15164477527511522,
          0.8641526804073327,
          -0.37518655065331746,
          1.324477199089354,
          -1.3033235959487661,
          0.5546707941496423,
          0.0033896549462594018,
          2.1165944224416005,
          1.521280594969115,
          -0.687675505707438,
          -0.28642443104729887,
          0.3519115913584386,
          0.6065211681422118,
          -1.3550957258383545,
          -0.8850366659186174,
          -0.1993180820639049,
          1.3426081981955984,
          -0.5434397045615473,
          -0.2632372324367694,
          0.685903186648751,
          -0.18105477889980426,
          -0.24896203088279126,
          -0.22713275470744318,
          0.5174468834197568,
          0.8823079341631708,
          1.2896006276980028,
          -0.34861199578961743,
          2.6913746255706466,
          1.0625561710492792,
          -0.661242484110436,
          -0.04914036281608619,
          -0.7900573785253736,
          -1.3699078137285237,
          1.2106250200809991,
          1.954255197101674,
          0.8058253342193138,
          -1.192938271012122,
          -0.4177302008237818,
          1.0272729885317131,
          -1.3244327715514042,
          -1.8162033125358932,
          0.029861675707530972,
          1.0681575098153913,
          1.6727332730577504,
          1.2032897688914128,
          0.410352298190852,
          1.1288481375445711,
          -1.206014819993071,
          -0.6803987372025606,
          0.16928314305903994,
          0.7653848749316945,
          -1.333754491270903,
          -0.578849785869674,
          0.14091504799203886,
          -0.3101137020582831,
          -0.4458092234831239,
          -0.23501363415754506,
          -0.4824689949430698,
          0.43215075292197663,
          -1.656409175252382,
          -1.57918209361295
         ]
        },
        {
         "boxpoints": false,
         "line": {
          "width": 1.3
         },
         "marker": {
          "color": "rgba(128, 0, 128, 1.0)"
         },
         "name": "D",
         "orientation": "v",
         "type": "box",
         "y": [
          2.2119370484889576,
          0.2619538103571365,
          0.8924094077570193,
          -0.5904685993833743,
          0.0552766009411597,
          2.0386234968326233,
          -0.25921632958910207,
          1.258045812592153,
          -0.08375681524517528,
          0.2538557571671244,
          -0.9808152294413444,
          -0.6605595449516914,
          0.4678417811418773,
          0.012704562790264128,
          -0.49564194168079495,
          -2.135336493694956,
          1.0892234105248118,
          -0.21360836380081863,
          -1.2613303261030369,
          1.035530865770712,
          -2.2045106392997607,
          0.06781027645605417,
          -0.45458982731005415,
          -0.3630801656225834,
          0.657052299328566,
          0.6815713140492817,
          -0.3897900022027989,
          -1.5049851594981454,
          0.15542984351047032,
          -1.3532537632383819,
          0.5421869087975931,
          -0.9224892806340775,
          0.3513501900277581,
          -0.07555797465127363,
          -0.6736932749088854,
          0.39738379048588646,
          -0.513421368766816,
          0.13413567842431964,
          -0.41991144116608936,
          -0.7679773578512785,
          0.09927167247266122,
          0.2012677871419946,
          -0.1577219516692262,
          1.1368320110964723,
          0.387050190537693,
          1.8464697724505594,
          1.2655109411395482,
          1.4951956376058737,
          -1.188969723957844,
          -1.4146526735965659,
          -0.33825855148940037,
          -0.6279954052839511,
          0.23567593565933517,
          -1.0838590379437678,
          0.48304949369169115,
          -0.9668849864757662,
          -1.916287177830883,
          -0.5987588134419914,
          -0.43167766267818847,
          0.013125054891238325,
          -0.41132387441817775,
          -0.6243641075528994,
          -1.7040332454851073,
          2.9207575651107422,
          0.7338794324191147,
          0.18321432885336975,
          0.013204974415856777,
          -0.8640017165699477,
          0.1359464985400466,
          1.3093257097497903,
          -0.7779322939228172,
          -0.08474790121831398,
          0.6161921263538989,
          1.7975959989461179,
          1.5136315138421899,
          -0.19724401324219779,
          0.6253145261221091,
          0.15313896089343393,
          0.40401649761872777,
          0.9651431109184552,
          0.38881372859376023,
          -0.6800301885102675,
          0.5101696045730842,
          -0.8924176361306555,
          1.1597589320492567,
          -1.2091195603747213,
          -1.0211547747396779,
          -0.014112913171826398,
          0.13757985259358255,
          1.255842447019908,
          -0.30486794662000666,
          -0.07208922509598602,
          -0.28942993707462106,
          1.6803990367619053,
          0.42185433806988926,
          -0.36360146286425926,
          -0.3645471771058133,
          -0.8201607479181384,
          -0.20209701308029454,
          0.39344700984968983
         ]
        }
       ],
       "layout": {
        "legend": {
         "bgcolor": "#F5F6F9",
         "font": {
          "color": "#4D5663"
         }
        },
        "paper_bgcolor": "#F5F6F9",
        "plot_bgcolor": "#F5F6F9",
        "template": {
         "data": {
          "bar": [
           {
            "error_x": {
             "color": "#2a3f5f"
            },
            "error_y": {
             "color": "#2a3f5f"
            },
            "marker": {
             "line": {
              "color": "#E5ECF6",
              "width": 0.5
             }
            },
            "type": "bar"
           }
          ],
          "barpolar": [
           {
            "marker": {
             "line": {
              "color": "#E5ECF6",
              "width": 0.5
             }
            },
            "type": "barpolar"
           }
          ],
          "carpet": [
           {
            "aaxis": {
             "endlinecolor": "#2a3f5f",
             "gridcolor": "white",
             "linecolor": "white",
             "minorgridcolor": "white",
             "startlinecolor": "#2a3f5f"
            },
            "baxis": {
             "endlinecolor": "#2a3f5f",
             "gridcolor": "white",
             "linecolor": "white",
             "minorgridcolor": "white",
             "startlinecolor": "#2a3f5f"
            },
            "type": "carpet"
           }
          ],
          "choropleth": [
           {
            "colorbar": {
             "outlinewidth": 0,
             "ticks": ""
            },
            "type": "choropleth"
           }
          ],
          "contour": [
           {
            "colorbar": {
             "outlinewidth": 0,
             "ticks": ""
            },
            "colorscale": [
             [
              0,
              "#0d0887"
             ],
             [
              0.1111111111111111,
              "#46039f"
             ],
             [
              0.2222222222222222,
              "#7201a8"
             ],
             [
              0.3333333333333333,
              "#9c179e"
             ],
             [
              0.4444444444444444,
              "#bd3786"
             ],
             [
              0.5555555555555556,
              "#d8576b"
             ],
             [
              0.6666666666666666,
              "#ed7953"
             ],
             [
              0.7777777777777778,
              "#fb9f3a"
             ],
             [
              0.8888888888888888,
              "#fdca26"
             ],
             [
              1,
              "#f0f921"
             ]
            ],
            "type": "contour"
           }
          ],
          "contourcarpet": [
           {
            "colorbar": {
             "outlinewidth": 0,
             "ticks": ""
            },
            "type": "contourcarpet"
           }
          ],
          "heatmap": [
           {
            "colorbar": {
             "outlinewidth": 0,
             "ticks": ""
            },
            "colorscale": [
             [
              0,
              "#0d0887"
             ],
             [
              0.1111111111111111,
              "#46039f"
             ],
             [
              0.2222222222222222,
              "#7201a8"
             ],
             [
              0.3333333333333333,
              "#9c179e"
             ],
             [
              0.4444444444444444,
              "#bd3786"
             ],
             [
              0.5555555555555556,
              "#d8576b"
             ],
             [
              0.6666666666666666,
              "#ed7953"
             ],
             [
              0.7777777777777778,
              "#fb9f3a"
             ],
             [
              0.8888888888888888,
              "#fdca26"
             ],
             [
              1,
              "#f0f921"
             ]
            ],
            "type": "heatmap"
           }
          ],
          "heatmapgl": [
           {
            "colorbar": {
             "outlinewidth": 0,
             "ticks": ""
            },
            "colorscale": [
             [
              0,
              "#0d0887"
             ],
             [
              0.1111111111111111,
              "#46039f"
             ],
             [
              0.2222222222222222,
              "#7201a8"
             ],
             [
              0.3333333333333333,
              "#9c179e"
             ],
             [
              0.4444444444444444,
              "#bd3786"
             ],
             [
              0.5555555555555556,
              "#d8576b"
             ],
             [
              0.6666666666666666,
              "#ed7953"
             ],
             [
              0.7777777777777778,
              "#fb9f3a"
             ],
             [
              0.8888888888888888,
              "#fdca26"
             ],
             [
              1,
              "#f0f921"
             ]
            ],
            "type": "heatmapgl"
           }
          ],
          "histogram": [
           {
            "marker": {
             "colorbar": {
              "outlinewidth": 0,
              "ticks": ""
             }
            },
            "type": "histogram"
           }
          ],
          "histogram2d": [
           {
            "colorbar": {
             "outlinewidth": 0,
             "ticks": ""
            },
            "colorscale": [
             [
              0,
              "#0d0887"
             ],
             [
              0.1111111111111111,
              "#46039f"
             ],
             [
              0.2222222222222222,
              "#7201a8"
             ],
             [
              0.3333333333333333,
              "#9c179e"
             ],
             [
              0.4444444444444444,
              "#bd3786"
             ],
             [
              0.5555555555555556,
              "#d8576b"
             ],
             [
              0.6666666666666666,
              "#ed7953"
             ],
             [
              0.7777777777777778,
              "#fb9f3a"
             ],
             [
              0.8888888888888888,
              "#fdca26"
             ],
             [
              1,
              "#f0f921"
             ]
            ],
            "type": "histogram2d"
           }
          ],
          "histogram2dcontour": [
           {
            "colorbar": {
             "outlinewidth": 0,
             "ticks": ""
            },
            "colorscale": [
             [
              0,
              "#0d0887"
             ],
             [
              0.1111111111111111,
              "#46039f"
             ],
             [
              0.2222222222222222,
              "#7201a8"
             ],
             [
              0.3333333333333333,
              "#9c179e"
             ],
             [
              0.4444444444444444,
              "#bd3786"
             ],
             [
              0.5555555555555556,
              "#d8576b"
             ],
             [
              0.6666666666666666,
              "#ed7953"
             ],
             [
              0.7777777777777778,
              "#fb9f3a"
             ],
             [
              0.8888888888888888,
              "#fdca26"
             ],
             [
              1,
              "#f0f921"
             ]
            ],
            "type": "histogram2dcontour"
           }
          ],
          "mesh3d": [
           {
            "colorbar": {
             "outlinewidth": 0,
             "ticks": ""
            },
            "type": "mesh3d"
           }
          ],
          "parcoords": [
           {
            "line": {
             "colorbar": {
              "outlinewidth": 0,
              "ticks": ""
             }
            },
            "type": "parcoords"
           }
          ],
          "pie": [
           {
            "automargin": true,
            "type": "pie"
           }
          ],
          "scatter": [
           {
            "marker": {
             "colorbar": {
              "outlinewidth": 0,
              "ticks": ""
             }
            },
            "type": "scatter"
           }
          ],
          "scatter3d": [
           {
            "line": {
             "colorbar": {
              "outlinewidth": 0,
              "ticks": ""
             }
            },
            "marker": {
             "colorbar": {
              "outlinewidth": 0,
              "ticks": ""
             }
            },
            "type": "scatter3d"
           }
          ],
          "scattercarpet": [
           {
            "marker": {
             "colorbar": {
              "outlinewidth": 0,
              "ticks": ""
             }
            },
            "type": "scattercarpet"
           }
          ],
          "scattergeo": [
           {
            "marker": {
             "colorbar": {
              "outlinewidth": 0,
              "ticks": ""
             }
            },
            "type": "scattergeo"
           }
          ],
          "scattergl": [
           {
            "marker": {
             "colorbar": {
              "outlinewidth": 0,
              "ticks": ""
             }
            },
            "type": "scattergl"
           }
          ],
          "scattermapbox": [
           {
            "marker": {
             "colorbar": {
              "outlinewidth": 0,
              "ticks": ""
             }
            },
            "type": "scattermapbox"
           }
          ],
          "scatterpolar": [
           {
            "marker": {
             "colorbar": {
              "outlinewidth": 0,
              "ticks": ""
             }
            },
            "type": "scatterpolar"
           }
          ],
          "scatterpolargl": [
           {
            "marker": {
             "colorbar": {
              "outlinewidth": 0,
              "ticks": ""
             }
            },
            "type": "scatterpolargl"
           }
          ],
          "scatterternary": [
           {
            "marker": {
             "colorbar": {
              "outlinewidth": 0,
              "ticks": ""
             }
            },
            "type": "scatterternary"
           }
          ],
          "surface": [
           {
            "colorbar": {
             "outlinewidth": 0,
             "ticks": ""
            },
            "colorscale": [
             [
              0,
              "#0d0887"
             ],
             [
              0.1111111111111111,
              "#46039f"
             ],
             [
              0.2222222222222222,
              "#7201a8"
             ],
             [
              0.3333333333333333,
              "#9c179e"
             ],
             [
              0.4444444444444444,
              "#bd3786"
             ],
             [
              0.5555555555555556,
              "#d8576b"
             ],
             [
              0.6666666666666666,
              "#ed7953"
             ],
             [
              0.7777777777777778,
              "#fb9f3a"
             ],
             [
              0.8888888888888888,
              "#fdca26"
             ],
             [
              1,
              "#f0f921"
             ]
            ],
            "type": "surface"
           }
          ],
          "table": [
           {
            "cells": {
             "fill": {
              "color": "#EBF0F8"
             },
             "line": {
              "color": "white"
             }
            },
            "header": {
             "fill": {
              "color": "#C8D4E3"
             },
             "line": {
              "color": "white"
             }
            },
            "type": "table"
           }
          ]
         },
         "layout": {
          "annotationdefaults": {
           "arrowcolor": "#2a3f5f",
           "arrowhead": 0,
           "arrowwidth": 1
          },
          "coloraxis": {
           "colorbar": {
            "outlinewidth": 0,
            "ticks": ""
           }
          },
          "colorscale": {
           "diverging": [
            [
             0,
             "#8e0152"
            ],
            [
             0.1,
             "#c51b7d"
            ],
            [
             0.2,
             "#de77ae"
            ],
            [
             0.3,
             "#f1b6da"
            ],
            [
             0.4,
             "#fde0ef"
            ],
            [
             0.5,
             "#f7f7f7"
            ],
            [
             0.6,
             "#e6f5d0"
            ],
            [
             0.7,
             "#b8e186"
            ],
            [
             0.8,
             "#7fbc41"
            ],
            [
             0.9,
             "#4d9221"
            ],
            [
             1,
             "#276419"
            ]
           ],
           "sequential": [
            [
             0,
             "#0d0887"
            ],
            [
             0.1111111111111111,
             "#46039f"
            ],
            [
             0.2222222222222222,
             "#7201a8"
            ],
            [
             0.3333333333333333,
             "#9c179e"
            ],
            [
             0.4444444444444444,
             "#bd3786"
            ],
            [
             0.5555555555555556,
             "#d8576b"
            ],
            [
             0.6666666666666666,
             "#ed7953"
            ],
            [
             0.7777777777777778,
             "#fb9f3a"
            ],
            [
             0.8888888888888888,
             "#fdca26"
            ],
            [
             1,
             "#f0f921"
            ]
           ],
           "sequentialminus": [
            [
             0,
             "#0d0887"
            ],
            [
             0.1111111111111111,
             "#46039f"
            ],
            [
             0.2222222222222222,
             "#7201a8"
            ],
            [
             0.3333333333333333,
             "#9c179e"
            ],
            [
             0.4444444444444444,
             "#bd3786"
            ],
            [
             0.5555555555555556,
             "#d8576b"
            ],
            [
             0.6666666666666666,
             "#ed7953"
            ],
            [
             0.7777777777777778,
             "#fb9f3a"
            ],
            [
             0.8888888888888888,
             "#fdca26"
            ],
            [
             1,
             "#f0f921"
            ]
           ]
          },
          "colorway": [
           "#636efa",
           "#EF553B",
           "#00cc96",
           "#ab63fa",
           "#FFA15A",
           "#19d3f3",
           "#FF6692",
           "#B6E880",
           "#FF97FF",
           "#FECB52"
          ],
          "font": {
           "color": "#2a3f5f"
          },
          "geo": {
           "bgcolor": "white",
           "lakecolor": "white",
           "landcolor": "#E5ECF6",
           "showlakes": true,
           "showland": true,
           "subunitcolor": "white"
          },
          "hoverlabel": {
           "align": "left"
          },
          "hovermode": "closest",
          "mapbox": {
           "style": "light"
          },
          "paper_bgcolor": "white",
          "plot_bgcolor": "#E5ECF6",
          "polar": {
           "angularaxis": {
            "gridcolor": "white",
            "linecolor": "white",
            "ticks": ""
           },
           "bgcolor": "#E5ECF6",
           "radialaxis": {
            "gridcolor": "white",
            "linecolor": "white",
            "ticks": ""
           }
          },
          "scene": {
           "xaxis": {
            "backgroundcolor": "#E5ECF6",
            "gridcolor": "white",
            "gridwidth": 2,
            "linecolor": "white",
            "showbackground": true,
            "ticks": "",
            "zerolinecolor": "white"
           },
           "yaxis": {
            "backgroundcolor": "#E5ECF6",
            "gridcolor": "white",
            "gridwidth": 2,
            "linecolor": "white",
            "showbackground": true,
            "ticks": "",
            "zerolinecolor": "white"
           },
           "zaxis": {
            "backgroundcolor": "#E5ECF6",
            "gridcolor": "white",
            "gridwidth": 2,
            "linecolor": "white",
            "showbackground": true,
            "ticks": "",
            "zerolinecolor": "white"
           }
          },
          "shapedefaults": {
           "line": {
            "color": "#2a3f5f"
           }
          },
          "ternary": {
           "aaxis": {
            "gridcolor": "white",
            "linecolor": "white",
            "ticks": ""
           },
           "baxis": {
            "gridcolor": "white",
            "linecolor": "white",
            "ticks": ""
           },
           "bgcolor": "#E5ECF6",
           "caxis": {
            "gridcolor": "white",
            "linecolor": "white",
            "ticks": ""
           }
          },
          "title": {
           "x": 0.05
          },
          "xaxis": {
           "automargin": true,
           "gridcolor": "white",
           "linecolor": "white",
           "ticks": "",
           "title": {
            "standoff": 15
           },
           "zerolinecolor": "white",
           "zerolinewidth": 2
          },
          "yaxis": {
           "automargin": true,
           "gridcolor": "white",
           "linecolor": "white",
           "ticks": "",
           "title": {
            "standoff": 15
           },
           "zerolinecolor": "white",
           "zerolinewidth": 2
          }
         }
        },
        "title": {
         "font": {
          "color": "#4D5663"
         }
        },
        "xaxis": {
         "gridcolor": "#E1E5ED",
         "showgrid": true,
         "tickfont": {
          "color": "#4D5663"
         },
         "title": {
          "font": {
           "color": "#4D5663"
          },
          "text": ""
         },
         "zerolinecolor": "#E1E5ED"
        },
        "yaxis": {
         "gridcolor": "#E1E5ED",
         "showgrid": true,
         "tickfont": {
          "color": "#4D5663"
         },
         "title": {
          "font": {
           "color": "#4D5663"
          },
          "text": ""
         },
         "zerolinecolor": "#E1E5ED"
        }
       }
      },
      "text/html": [
       "<div>                            <div id=\"48578107-5588-4a77-8561-65bd2fcceab5\" class=\"plotly-graph-div\" style=\"height:525px; width:100%;\"></div>            <script type=\"text/javascript\">                require([\"plotly\"], function(Plotly) {                    window.PLOTLYENV=window.PLOTLYENV || {};\n",
       "                    window.PLOTLYENV.BASE_URL='https://plot.ly';                                    if (document.getElementById(\"48578107-5588-4a77-8561-65bd2fcceab5\")) {                    Plotly.newPlot(                        \"48578107-5588-4a77-8561-65bd2fcceab5\",                        [{\"boxpoints\": false, \"line\": {\"width\": 1.3}, \"marker\": {\"color\": \"rgba(255, 153, 51, 1.0)\"}, \"name\": \"A\", \"orientation\": \"v\", \"type\": \"box\", \"y\": [0.019430806383181284, 0.608603613411356, 0.07247562241777829, -0.9104428128373663, 1.3735657891542405, 0.07519673113819865, 0.06395658164671109, -1.6195694639137597, 0.7554966666743327, 0.45097740835769223, -0.10156324731745073, -0.4158522716260824, 0.9954541144280701, -0.48555200602878423, 1.490823288469039, -0.13194416978954118, -0.7528004178239888, -0.544262017467453, -1.437649785582203, 0.17187226223968824, -1.2375300092105108, 0.49278868970672296, -0.6361730509889744, -0.13764319117463106, 0.062410111597416565, -0.5187075611984749, -1.4102344376792062, -0.3572026445885095, -0.6376315054537319, -0.08196403616906862, 1.2918666744199032, 1.834095870683521, 1.028800443585434, 0.9937885884309238, -0.37089692485727643, -0.3412877759764047, 2.262481668740981, -0.2951852827270955, 1.1249926939573314, 0.5702750889136583, -0.7551453700363403, 1.0505410054870346, -2.1796411612126207, 1.4633293246578305, -0.9824685130984081, -0.8896242240185488, -0.15830524409511837, 0.8207907173546565, -1.1853010290819173, -0.04668477075582644, -0.4923965618308851, 1.347160076177271, 0.010843352382841287, 0.6173535522890893, -1.5062569479408272, 0.19394046597445944, -1.5703035237848442, -0.8017093258648721, -0.5420091277779893, 0.12398167085240544, 1.0336758962507486, 0.7370393163266648, 1.0215708043915677, -0.40016276626102376, 1.5133921798813612, 0.7624574546404679, 0.12204337931158848, 0.3878926000196656, -1.9858807909062057, 1.5619887939186559, 1.9262998520500085, 0.6179697050361458, -0.2637131372925625, -0.42894690745324804, 0.15220520963924042, 0.2171978777436021, -1.0019800436093944, -0.9082410683140086, -0.9323858380561356, -2.176514619233318, -2.041735481953146, 0.1900171138249872, 0.7957042354908531, -0.5964879028707374, -0.3146446170771317, -2.5337539168618295, -1.0869571144160752, 0.9013311410590518, -0.6131300774164766, 0.7959724948574082, -0.01817478619237521, 0.05015503961687754, 0.376814718222817, -1.548926641719814, 0.26002105343845394, -0.9509949673458841, -0.4274355159462603, 1.3031986142392404, -1.9640602579483455, -1.3617829420408287]}, {\"boxpoints\": false, \"line\": {\"width\": 1.3}, \"marker\": {\"color\": \"rgba(55, 128, 191, 1.0)\"}, \"name\": \"B\", \"orientation\": \"v\", \"type\": \"box\", \"y\": [0.23590897280929557, -0.5853191060130026, 0.45041649477698203, -1.4844634650877961, -0.7010019866089757, -1.7713343221822186, 0.3564783560049668, 1.1031620019724644, -0.534524659790858, 1.55516579284802, 0.9245808085412286, 1.3620636205948855, 0.6460233039467143, -1.3287700621303378, 2.113243524617769, -0.7039904787447651, 0.957708167234452, 0.38668960727077833, 1.0905405017303815, -0.15907806493007792, -0.05398389231091074, -0.5336742283108098, 0.3824419930821319, 0.7419908764060871, -0.4140242561179745, 0.2759136081174468, 0.8482704917519138, 2.0059405381970254, -1.3246650717679416, -0.5065540149600787, -0.6936235230043091, -0.19441117112133538, 0.887480460290256, -1.5166569531417406, -0.7190624137948296, 0.4102288680484326, -0.7379062568928512, -0.38612979211456566, -0.9814499423449278, -0.4359275292528566, -0.12292181575473174, 1.9056738072959156, -1.836401325717276, -2.792474660611752, -0.9083337804822073, 2.782345891898233, 0.2381865299508034, 0.9647682007237843, -1.1734425707908456, -1.9609962976837447, 1.904270892330739, -0.10400697771863725, 0.9179842824151149, 0.16380229188572826, -0.02490709779441639, -0.20790133058482613, 0.5399698264563033, -0.9674437863175008, 0.943420239562524, 0.1561027975165673, -1.6553424385101994, 0.8709325231705167, 1.3197016755016702, -2.287162353986225, 0.552534163797248, -2.9316789514534003, -1.413578565746748, 0.3066964640228571, -0.8862210615838182, 2.2245689170171943, -0.5073138082557282, 2.295896889626357, 0.03791532397259017, -0.27422129122939853, 0.12873175025274455, 0.4837720574093124, -0.29738246943237895, -0.0988932565886435, -1.3368837027277733, 0.07779215851650331, -2.1254522743271664, -0.35883373446418565, 0.008131872263935342, 1.3898536362783147, 1.010414278850495, -0.1442294615435738, 0.9808125838800891, -0.4968630660898616, -1.778081760893912, -0.12516367093881087, 0.06968580548842876, -0.7992199722691573, 0.217143175038511, 0.31265034609776243, 0.3134863468368505, 0.7484128321632029, -0.44746867845204136, -1.5837350747526953, -0.5834240333463931, -1.522918964431989]}, {\"boxpoints\": false, \"line\": {\"width\": 1.3}, \"marker\": {\"color\": \"rgba(50, 171, 96, 1.0)\"}, \"name\": \"C\", \"orientation\": \"v\", \"type\": \"box\", \"y\": [-0.15684046679247937, 0.0013828717725460275, -0.20717052487752494, -0.7206190182063845, 0.1586724861805863, 0.34911398085786866, -0.44956744070842763, 1.391230362803256, -0.46585330693668414, 2.375752738731807, 2.8013418024600076, -0.8922346367023012, -0.926846171443639, 1.3309078366225244, 0.1865029925576986, 0.3440165820448021, 2.0006673071046435, 2.1218335358455778, -1.0851681629427428, 0.036401360337058986, -0.7900458544606217, -0.4240780143001388, -0.23030482293717486, 0.49875171251720374, 2.813766329755358, 0.51816636356984, 0.6739908495930921, 0.9727277361803863, 1.7404161611034967, -1.052396263040642, 0.6507507419833379, -0.3300921789049227, -0.31312308122181687, -1.057779781449692, 0.5620379645886366, -0.6271297467319812, 0.7904803881217852, -0.460998677311609, -1.0011704250170772, -0.15164477527511522, 0.8641526804073327, -0.37518655065331746, 1.324477199089354, -1.3033235959487661, 0.5546707941496423, 0.0033896549462594018, 2.1165944224416005, 1.521280594969115, -0.687675505707438, -0.28642443104729887, 0.3519115913584386, 0.6065211681422118, -1.3550957258383545, -0.8850366659186174, -0.1993180820639049, 1.3426081981955984, -0.5434397045615473, -0.2632372324367694, 0.685903186648751, -0.18105477889980426, -0.24896203088279126, -0.22713275470744318, 0.5174468834197568, 0.8823079341631708, 1.2896006276980028, -0.34861199578961743, 2.6913746255706466, 1.0625561710492792, -0.661242484110436, -0.04914036281608619, -0.7900573785253736, -1.3699078137285237, 1.2106250200809991, 1.954255197101674, 0.8058253342193138, -1.192938271012122, -0.4177302008237818, 1.0272729885317131, -1.3244327715514042, -1.8162033125358932, 0.029861675707530972, 1.0681575098153913, 1.6727332730577504, 1.2032897688914128, 0.410352298190852, 1.1288481375445711, -1.206014819993071, -0.6803987372025606, 0.16928314305903994, 0.7653848749316945, -1.333754491270903, -0.578849785869674, 0.14091504799203886, -0.3101137020582831, -0.4458092234831239, -0.23501363415754506, -0.4824689949430698, 0.43215075292197663, -1.656409175252382, -1.57918209361295]}, {\"boxpoints\": false, \"line\": {\"width\": 1.3}, \"marker\": {\"color\": \"rgba(128, 0, 128, 1.0)\"}, \"name\": \"D\", \"orientation\": \"v\", \"type\": \"box\", \"y\": [2.2119370484889576, 0.2619538103571365, 0.8924094077570193, -0.5904685993833743, 0.0552766009411597, 2.0386234968326233, -0.25921632958910207, 1.258045812592153, -0.08375681524517528, 0.2538557571671244, -0.9808152294413444, -0.6605595449516914, 0.4678417811418773, 0.012704562790264128, -0.49564194168079495, -2.135336493694956, 1.0892234105248118, -0.21360836380081863, -1.2613303261030369, 1.035530865770712, -2.2045106392997607, 0.06781027645605417, -0.45458982731005415, -0.3630801656225834, 0.657052299328566, 0.6815713140492817, -0.3897900022027989, -1.5049851594981454, 0.15542984351047032, -1.3532537632383819, 0.5421869087975931, -0.9224892806340775, 0.3513501900277581, -0.07555797465127363, -0.6736932749088854, 0.39738379048588646, -0.513421368766816, 0.13413567842431964, -0.41991144116608936, -0.7679773578512785, 0.09927167247266122, 0.2012677871419946, -0.1577219516692262, 1.1368320110964723, 0.387050190537693, 1.8464697724505594, 1.2655109411395482, 1.4951956376058737, -1.188969723957844, -1.4146526735965659, -0.33825855148940037, -0.6279954052839511, 0.23567593565933517, -1.0838590379437678, 0.48304949369169115, -0.9668849864757662, -1.916287177830883, -0.5987588134419914, -0.43167766267818847, 0.013125054891238325, -0.41132387441817775, -0.6243641075528994, -1.7040332454851073, 2.9207575651107422, 0.7338794324191147, 0.18321432885336975, 0.013204974415856777, -0.8640017165699477, 0.1359464985400466, 1.3093257097497903, -0.7779322939228172, -0.08474790121831398, 0.6161921263538989, 1.7975959989461179, 1.5136315138421899, -0.19724401324219779, 0.6253145261221091, 0.15313896089343393, 0.40401649761872777, 0.9651431109184552, 0.38881372859376023, -0.6800301885102675, 0.5101696045730842, -0.8924176361306555, 1.1597589320492567, -1.2091195603747213, -1.0211547747396779, -0.014112913171826398, 0.13757985259358255, 1.255842447019908, -0.30486794662000666, -0.07208922509598602, -0.28942993707462106, 1.6803990367619053, 0.42185433806988926, -0.36360146286425926, -0.3645471771058133, -0.8201607479181384, -0.20209701308029454, 0.39344700984968983]}],                        {\"legend\": {\"bgcolor\": \"#F5F6F9\", \"font\": {\"color\": \"#4D5663\"}}, \"paper_bgcolor\": \"#F5F6F9\", \"plot_bgcolor\": \"#F5F6F9\", \"template\": {\"data\": {\"bar\": [{\"error_x\": {\"color\": \"#2a3f5f\"}, \"error_y\": {\"color\": \"#2a3f5f\"}, \"marker\": {\"line\": {\"color\": \"#E5ECF6\", \"width\": 0.5}}, \"type\": \"bar\"}], \"barpolar\": [{\"marker\": {\"line\": {\"color\": \"#E5ECF6\", \"width\": 0.5}}, \"type\": \"barpolar\"}], \"carpet\": [{\"aaxis\": {\"endlinecolor\": \"#2a3f5f\", \"gridcolor\": \"white\", \"linecolor\": \"white\", \"minorgridcolor\": \"white\", \"startlinecolor\": \"#2a3f5f\"}, \"baxis\": {\"endlinecolor\": \"#2a3f5f\", \"gridcolor\": \"white\", \"linecolor\": \"white\", \"minorgridcolor\": \"white\", \"startlinecolor\": \"#2a3f5f\"}, \"type\": \"carpet\"}], \"choropleth\": [{\"colorbar\": {\"outlinewidth\": 0, \"ticks\": \"\"}, \"type\": \"choropleth\"}], \"contour\": [{\"colorbar\": {\"outlinewidth\": 0, \"ticks\": \"\"}, \"colorscale\": [[0.0, \"#0d0887\"], [0.1111111111111111, \"#46039f\"], [0.2222222222222222, \"#7201a8\"], [0.3333333333333333, \"#9c179e\"], [0.4444444444444444, \"#bd3786\"], [0.5555555555555556, \"#d8576b\"], [0.6666666666666666, \"#ed7953\"], [0.7777777777777778, \"#fb9f3a\"], [0.8888888888888888, \"#fdca26\"], [1.0, \"#f0f921\"]], \"type\": \"contour\"}], \"contourcarpet\": [{\"colorbar\": {\"outlinewidth\": 0, \"ticks\": \"\"}, \"type\": \"contourcarpet\"}], \"heatmap\": [{\"colorbar\": {\"outlinewidth\": 0, \"ticks\": \"\"}, \"colorscale\": [[0.0, \"#0d0887\"], [0.1111111111111111, \"#46039f\"], [0.2222222222222222, \"#7201a8\"], [0.3333333333333333, \"#9c179e\"], [0.4444444444444444, \"#bd3786\"], [0.5555555555555556, \"#d8576b\"], [0.6666666666666666, \"#ed7953\"], [0.7777777777777778, \"#fb9f3a\"], [0.8888888888888888, \"#fdca26\"], [1.0, \"#f0f921\"]], \"type\": \"heatmap\"}], \"heatmapgl\": [{\"colorbar\": {\"outlinewidth\": 0, \"ticks\": \"\"}, \"colorscale\": [[0.0, \"#0d0887\"], [0.1111111111111111, \"#46039f\"], [0.2222222222222222, \"#7201a8\"], [0.3333333333333333, \"#9c179e\"], [0.4444444444444444, \"#bd3786\"], [0.5555555555555556, \"#d8576b\"], [0.6666666666666666, \"#ed7953\"], [0.7777777777777778, \"#fb9f3a\"], [0.8888888888888888, \"#fdca26\"], [1.0, \"#f0f921\"]], \"type\": \"heatmapgl\"}], \"histogram\": [{\"marker\": {\"colorbar\": {\"outlinewidth\": 0, \"ticks\": \"\"}}, \"type\": \"histogram\"}], \"histogram2d\": [{\"colorbar\": {\"outlinewidth\": 0, \"ticks\": \"\"}, \"colorscale\": [[0.0, \"#0d0887\"], [0.1111111111111111, \"#46039f\"], [0.2222222222222222, \"#7201a8\"], [0.3333333333333333, \"#9c179e\"], [0.4444444444444444, \"#bd3786\"], [0.5555555555555556, \"#d8576b\"], [0.6666666666666666, \"#ed7953\"], [0.7777777777777778, \"#fb9f3a\"], [0.8888888888888888, \"#fdca26\"], [1.0, \"#f0f921\"]], \"type\": \"histogram2d\"}], \"histogram2dcontour\": [{\"colorbar\": {\"outlinewidth\": 0, \"ticks\": \"\"}, \"colorscale\": [[0.0, \"#0d0887\"], [0.1111111111111111, \"#46039f\"], [0.2222222222222222, \"#7201a8\"], [0.3333333333333333, \"#9c179e\"], [0.4444444444444444, \"#bd3786\"], [0.5555555555555556, \"#d8576b\"], [0.6666666666666666, \"#ed7953\"], [0.7777777777777778, \"#fb9f3a\"], [0.8888888888888888, \"#fdca26\"], [1.0, \"#f0f921\"]], \"type\": \"histogram2dcontour\"}], \"mesh3d\": [{\"colorbar\": {\"outlinewidth\": 0, \"ticks\": \"\"}, \"type\": \"mesh3d\"}], \"parcoords\": [{\"line\": {\"colorbar\": {\"outlinewidth\": 0, \"ticks\": \"\"}}, \"type\": \"parcoords\"}], \"pie\": [{\"automargin\": true, \"type\": \"pie\"}], \"scatter\": [{\"marker\": {\"colorbar\": {\"outlinewidth\": 0, \"ticks\": \"\"}}, \"type\": \"scatter\"}], \"scatter3d\": [{\"line\": {\"colorbar\": {\"outlinewidth\": 0, \"ticks\": \"\"}}, \"marker\": {\"colorbar\": {\"outlinewidth\": 0, \"ticks\": \"\"}}, \"type\": \"scatter3d\"}], \"scattercarpet\": [{\"marker\": {\"colorbar\": {\"outlinewidth\": 0, \"ticks\": \"\"}}, \"type\": \"scattercarpet\"}], \"scattergeo\": [{\"marker\": {\"colorbar\": {\"outlinewidth\": 0, \"ticks\": \"\"}}, \"type\": \"scattergeo\"}], \"scattergl\": [{\"marker\": {\"colorbar\": {\"outlinewidth\": 0, \"ticks\": \"\"}}, \"type\": \"scattergl\"}], \"scattermapbox\": [{\"marker\": {\"colorbar\": {\"outlinewidth\": 0, \"ticks\": \"\"}}, \"type\": \"scattermapbox\"}], \"scatterpolar\": [{\"marker\": {\"colorbar\": {\"outlinewidth\": 0, \"ticks\": \"\"}}, \"type\": \"scatterpolar\"}], \"scatterpolargl\": [{\"marker\": {\"colorbar\": {\"outlinewidth\": 0, \"ticks\": \"\"}}, \"type\": \"scatterpolargl\"}], \"scatterternary\": [{\"marker\": {\"colorbar\": {\"outlinewidth\": 0, \"ticks\": \"\"}}, \"type\": \"scatterternary\"}], \"surface\": [{\"colorbar\": {\"outlinewidth\": 0, \"ticks\": \"\"}, \"colorscale\": [[0.0, \"#0d0887\"], [0.1111111111111111, \"#46039f\"], [0.2222222222222222, \"#7201a8\"], [0.3333333333333333, \"#9c179e\"], [0.4444444444444444, \"#bd3786\"], [0.5555555555555556, \"#d8576b\"], [0.6666666666666666, \"#ed7953\"], [0.7777777777777778, \"#fb9f3a\"], [0.8888888888888888, \"#fdca26\"], [1.0, \"#f0f921\"]], \"type\": \"surface\"}], \"table\": [{\"cells\": {\"fill\": {\"color\": \"#EBF0F8\"}, \"line\": {\"color\": \"white\"}}, \"header\": {\"fill\": {\"color\": \"#C8D4E3\"}, \"line\": {\"color\": \"white\"}}, \"type\": \"table\"}]}, \"layout\": {\"annotationdefaults\": {\"arrowcolor\": \"#2a3f5f\", \"arrowhead\": 0, \"arrowwidth\": 1}, \"coloraxis\": {\"colorbar\": {\"outlinewidth\": 0, \"ticks\": \"\"}}, \"colorscale\": {\"diverging\": [[0, \"#8e0152\"], [0.1, \"#c51b7d\"], [0.2, \"#de77ae\"], [0.3, \"#f1b6da\"], [0.4, \"#fde0ef\"], [0.5, \"#f7f7f7\"], [0.6, \"#e6f5d0\"], [0.7, \"#b8e186\"], [0.8, \"#7fbc41\"], [0.9, \"#4d9221\"], [1, \"#276419\"]], \"sequential\": [[0.0, \"#0d0887\"], [0.1111111111111111, \"#46039f\"], [0.2222222222222222, \"#7201a8\"], [0.3333333333333333, \"#9c179e\"], [0.4444444444444444, \"#bd3786\"], [0.5555555555555556, \"#d8576b\"], [0.6666666666666666, \"#ed7953\"], [0.7777777777777778, \"#fb9f3a\"], [0.8888888888888888, \"#fdca26\"], [1.0, \"#f0f921\"]], \"sequentialminus\": [[0.0, \"#0d0887\"], [0.1111111111111111, \"#46039f\"], [0.2222222222222222, \"#7201a8\"], [0.3333333333333333, \"#9c179e\"], [0.4444444444444444, \"#bd3786\"], [0.5555555555555556, \"#d8576b\"], [0.6666666666666666, \"#ed7953\"], [0.7777777777777778, \"#fb9f3a\"], [0.8888888888888888, \"#fdca26\"], [1.0, \"#f0f921\"]]}, \"colorway\": [\"#636efa\", \"#EF553B\", \"#00cc96\", \"#ab63fa\", \"#FFA15A\", \"#19d3f3\", \"#FF6692\", \"#B6E880\", \"#FF97FF\", \"#FECB52\"], \"font\": {\"color\": \"#2a3f5f\"}, \"geo\": {\"bgcolor\": \"white\", \"lakecolor\": \"white\", \"landcolor\": \"#E5ECF6\", \"showlakes\": true, \"showland\": true, \"subunitcolor\": \"white\"}, \"hoverlabel\": {\"align\": \"left\"}, \"hovermode\": \"closest\", \"mapbox\": {\"style\": \"light\"}, \"paper_bgcolor\": \"white\", \"plot_bgcolor\": \"#E5ECF6\", \"polar\": {\"angularaxis\": {\"gridcolor\": \"white\", \"linecolor\": \"white\", \"ticks\": \"\"}, \"bgcolor\": \"#E5ECF6\", \"radialaxis\": {\"gridcolor\": \"white\", \"linecolor\": \"white\", \"ticks\": \"\"}}, \"scene\": {\"xaxis\": {\"backgroundcolor\": \"#E5ECF6\", \"gridcolor\": \"white\", \"gridwidth\": 2, \"linecolor\": \"white\", \"showbackground\": true, \"ticks\": \"\", \"zerolinecolor\": \"white\"}, \"yaxis\": {\"backgroundcolor\": \"#E5ECF6\", \"gridcolor\": \"white\", \"gridwidth\": 2, \"linecolor\": \"white\", \"showbackground\": true, \"ticks\": \"\", \"zerolinecolor\": \"white\"}, \"zaxis\": {\"backgroundcolor\": \"#E5ECF6\", \"gridcolor\": \"white\", \"gridwidth\": 2, \"linecolor\": \"white\", \"showbackground\": true, \"ticks\": \"\", \"zerolinecolor\": \"white\"}}, \"shapedefaults\": {\"line\": {\"color\": \"#2a3f5f\"}}, \"ternary\": {\"aaxis\": {\"gridcolor\": \"white\", \"linecolor\": \"white\", \"ticks\": \"\"}, \"baxis\": {\"gridcolor\": \"white\", \"linecolor\": \"white\", \"ticks\": \"\"}, \"bgcolor\": \"#E5ECF6\", \"caxis\": {\"gridcolor\": \"white\", \"linecolor\": \"white\", \"ticks\": \"\"}}, \"title\": {\"x\": 0.05}, \"xaxis\": {\"automargin\": true, \"gridcolor\": \"white\", \"linecolor\": \"white\", \"ticks\": \"\", \"title\": {\"standoff\": 15}, \"zerolinecolor\": \"white\", \"zerolinewidth\": 2}, \"yaxis\": {\"automargin\": true, \"gridcolor\": \"white\", \"linecolor\": \"white\", \"ticks\": \"\", \"title\": {\"standoff\": 15}, \"zerolinecolor\": \"white\", \"zerolinewidth\": 2}}}, \"title\": {\"font\": {\"color\": \"#4D5663\"}}, \"xaxis\": {\"gridcolor\": \"#E1E5ED\", \"showgrid\": true, \"tickfont\": {\"color\": \"#4D5663\"}, \"title\": {\"font\": {\"color\": \"#4D5663\"}, \"text\": \"\"}, \"zerolinecolor\": \"#E1E5ED\"}, \"yaxis\": {\"gridcolor\": \"#E1E5ED\", \"showgrid\": true, \"tickfont\": {\"color\": \"#4D5663\"}, \"title\": {\"font\": {\"color\": \"#4D5663\"}, \"text\": \"\"}, \"zerolinecolor\": \"#E1E5ED\"}},                        {\"showLink\": true, \"linkText\": \"Export to plot.ly\", \"plotlyServerURL\": \"https://plot.ly\", \"responsive\": true}                    ).then(function(){\n",
       "                            \n",
       "var gd = document.getElementById('48578107-5588-4a77-8561-65bd2fcceab5');\n",
       "var x = new MutationObserver(function (mutations, observer) {{\n",
       "        var display = window.getComputedStyle(gd).display;\n",
       "        if (!display || display === 'none') {{\n",
       "            console.log([gd, 'removed!']);\n",
       "            Plotly.purge(gd);\n",
       "            observer.disconnect();\n",
       "        }}\n",
       "}});\n",
       "\n",
       "// Listen for the removal of the full notebook cells\n",
       "var notebookContainer = gd.closest('#notebook-container');\n",
       "if (notebookContainer) {{\n",
       "    x.observe(notebookContainer, {childList: true});\n",
       "}}\n",
       "\n",
       "// Listen for the clearing of the current output cell\n",
       "var outputEl = gd.closest('.output');\n",
       "if (outputEl) {{\n",
       "    x.observe(outputEl, {childList: true});\n",
       "}}\n",
       "\n",
       "                        })                };                });            </script>        </div>"
      ]
     },
     "metadata": {},
     "output_type": "display_data"
    }
   ],
   "source": [
    "df.iplot(kind='box')"
   ]
  },
  {
   "cell_type": "markdown",
   "metadata": {},
   "source": [
    "## 3d Surface"
   ]
  },
  {
   "cell_type": "code",
   "execution_count": 24,
   "metadata": {},
   "outputs": [
    {
     "data": {
      "application/vnd.plotly.v1+json": {
       "config": {
        "linkText": "Export to plot.ly",
        "plotlyServerURL": "https://plot.ly",
        "showLink": true
       },
       "data": [
        {
         "colorscale": [
          [
           0,
           "rgb(165,0,38)"
          ],
          [
           0.1,
           "rgb(215,48,39)"
          ],
          [
           0.2,
           "rgb(244,109,67)"
          ],
          [
           0.3,
           "rgb(253,174,97)"
          ],
          [
           0.4,
           "rgb(254,224,144)"
          ],
          [
           0.5,
           "rgb(255,255,191)"
          ],
          [
           0.6,
           "rgb(224,243,248)"
          ],
          [
           0.7,
           "rgb(171,217,233)"
          ],
          [
           0.8,
           "rgb(116,173,209)"
          ],
          [
           0.9,
           "rgb(69,117,180)"
          ],
          [
           1,
           "rgb(49,54,149)"
          ]
         ],
         "type": "surface",
         "x": [
          0,
          1,
          2,
          3,
          4
         ],
         "y": [
          "x",
          "y",
          "z"
         ],
         "z": [
          [
           1,
           2,
           3,
           4,
           5
          ],
          [
           10,
           20,
           30,
           20,
           10
          ],
          [
           5,
           4,
           3,
           2,
           1
          ]
         ]
        }
       ],
       "layout": {
        "legend": {
         "bgcolor": "#F5F6F9",
         "font": {
          "color": "#4D5663"
         }
        },
        "paper_bgcolor": "#F5F6F9",
        "plot_bgcolor": "#F5F6F9",
        "template": {
         "data": {
          "bar": [
           {
            "error_x": {
             "color": "#2a3f5f"
            },
            "error_y": {
             "color": "#2a3f5f"
            },
            "marker": {
             "line": {
              "color": "#E5ECF6",
              "width": 0.5
             }
            },
            "type": "bar"
           }
          ],
          "barpolar": [
           {
            "marker": {
             "line": {
              "color": "#E5ECF6",
              "width": 0.5
             }
            },
            "type": "barpolar"
           }
          ],
          "carpet": [
           {
            "aaxis": {
             "endlinecolor": "#2a3f5f",
             "gridcolor": "white",
             "linecolor": "white",
             "minorgridcolor": "white",
             "startlinecolor": "#2a3f5f"
            },
            "baxis": {
             "endlinecolor": "#2a3f5f",
             "gridcolor": "white",
             "linecolor": "white",
             "minorgridcolor": "white",
             "startlinecolor": "#2a3f5f"
            },
            "type": "carpet"
           }
          ],
          "choropleth": [
           {
            "colorbar": {
             "outlinewidth": 0,
             "ticks": ""
            },
            "type": "choropleth"
           }
          ],
          "contour": [
           {
            "colorbar": {
             "outlinewidth": 0,
             "ticks": ""
            },
            "colorscale": [
             [
              0,
              "#0d0887"
             ],
             [
              0.1111111111111111,
              "#46039f"
             ],
             [
              0.2222222222222222,
              "#7201a8"
             ],
             [
              0.3333333333333333,
              "#9c179e"
             ],
             [
              0.4444444444444444,
              "#bd3786"
             ],
             [
              0.5555555555555556,
              "#d8576b"
             ],
             [
              0.6666666666666666,
              "#ed7953"
             ],
             [
              0.7777777777777778,
              "#fb9f3a"
             ],
             [
              0.8888888888888888,
              "#fdca26"
             ],
             [
              1,
              "#f0f921"
             ]
            ],
            "type": "contour"
           }
          ],
          "contourcarpet": [
           {
            "colorbar": {
             "outlinewidth": 0,
             "ticks": ""
            },
            "type": "contourcarpet"
           }
          ],
          "heatmap": [
           {
            "colorbar": {
             "outlinewidth": 0,
             "ticks": ""
            },
            "colorscale": [
             [
              0,
              "#0d0887"
             ],
             [
              0.1111111111111111,
              "#46039f"
             ],
             [
              0.2222222222222222,
              "#7201a8"
             ],
             [
              0.3333333333333333,
              "#9c179e"
             ],
             [
              0.4444444444444444,
              "#bd3786"
             ],
             [
              0.5555555555555556,
              "#d8576b"
             ],
             [
              0.6666666666666666,
              "#ed7953"
             ],
             [
              0.7777777777777778,
              "#fb9f3a"
             ],
             [
              0.8888888888888888,
              "#fdca26"
             ],
             [
              1,
              "#f0f921"
             ]
            ],
            "type": "heatmap"
           }
          ],
          "heatmapgl": [
           {
            "colorbar": {
             "outlinewidth": 0,
             "ticks": ""
            },
            "colorscale": [
             [
              0,
              "#0d0887"
             ],
             [
              0.1111111111111111,
              "#46039f"
             ],
             [
              0.2222222222222222,
              "#7201a8"
             ],
             [
              0.3333333333333333,
              "#9c179e"
             ],
             [
              0.4444444444444444,
              "#bd3786"
             ],
             [
              0.5555555555555556,
              "#d8576b"
             ],
             [
              0.6666666666666666,
              "#ed7953"
             ],
             [
              0.7777777777777778,
              "#fb9f3a"
             ],
             [
              0.8888888888888888,
              "#fdca26"
             ],
             [
              1,
              "#f0f921"
             ]
            ],
            "type": "heatmapgl"
           }
          ],
          "histogram": [
           {
            "marker": {
             "colorbar": {
              "outlinewidth": 0,
              "ticks": ""
             }
            },
            "type": "histogram"
           }
          ],
          "histogram2d": [
           {
            "colorbar": {
             "outlinewidth": 0,
             "ticks": ""
            },
            "colorscale": [
             [
              0,
              "#0d0887"
             ],
             [
              0.1111111111111111,
              "#46039f"
             ],
             [
              0.2222222222222222,
              "#7201a8"
             ],
             [
              0.3333333333333333,
              "#9c179e"
             ],
             [
              0.4444444444444444,
              "#bd3786"
             ],
             [
              0.5555555555555556,
              "#d8576b"
             ],
             [
              0.6666666666666666,
              "#ed7953"
             ],
             [
              0.7777777777777778,
              "#fb9f3a"
             ],
             [
              0.8888888888888888,
              "#fdca26"
             ],
             [
              1,
              "#f0f921"
             ]
            ],
            "type": "histogram2d"
           }
          ],
          "histogram2dcontour": [
           {
            "colorbar": {
             "outlinewidth": 0,
             "ticks": ""
            },
            "colorscale": [
             [
              0,
              "#0d0887"
             ],
             [
              0.1111111111111111,
              "#46039f"
             ],
             [
              0.2222222222222222,
              "#7201a8"
             ],
             [
              0.3333333333333333,
              "#9c179e"
             ],
             [
              0.4444444444444444,
              "#bd3786"
             ],
             [
              0.5555555555555556,
              "#d8576b"
             ],
             [
              0.6666666666666666,
              "#ed7953"
             ],
             [
              0.7777777777777778,
              "#fb9f3a"
             ],
             [
              0.8888888888888888,
              "#fdca26"
             ],
             [
              1,
              "#f0f921"
             ]
            ],
            "type": "histogram2dcontour"
           }
          ],
          "mesh3d": [
           {
            "colorbar": {
             "outlinewidth": 0,
             "ticks": ""
            },
            "type": "mesh3d"
           }
          ],
          "parcoords": [
           {
            "line": {
             "colorbar": {
              "outlinewidth": 0,
              "ticks": ""
             }
            },
            "type": "parcoords"
           }
          ],
          "pie": [
           {
            "automargin": true,
            "type": "pie"
           }
          ],
          "scatter": [
           {
            "marker": {
             "colorbar": {
              "outlinewidth": 0,
              "ticks": ""
             }
            },
            "type": "scatter"
           }
          ],
          "scatter3d": [
           {
            "line": {
             "colorbar": {
              "outlinewidth": 0,
              "ticks": ""
             }
            },
            "marker": {
             "colorbar": {
              "outlinewidth": 0,
              "ticks": ""
             }
            },
            "type": "scatter3d"
           }
          ],
          "scattercarpet": [
           {
            "marker": {
             "colorbar": {
              "outlinewidth": 0,
              "ticks": ""
             }
            },
            "type": "scattercarpet"
           }
          ],
          "scattergeo": [
           {
            "marker": {
             "colorbar": {
              "outlinewidth": 0,
              "ticks": ""
             }
            },
            "type": "scattergeo"
           }
          ],
          "scattergl": [
           {
            "marker": {
             "colorbar": {
              "outlinewidth": 0,
              "ticks": ""
             }
            },
            "type": "scattergl"
           }
          ],
          "scattermapbox": [
           {
            "marker": {
             "colorbar": {
              "outlinewidth": 0,
              "ticks": ""
             }
            },
            "type": "scattermapbox"
           }
          ],
          "scatterpolar": [
           {
            "marker": {
             "colorbar": {
              "outlinewidth": 0,
              "ticks": ""
             }
            },
            "type": "scatterpolar"
           }
          ],
          "scatterpolargl": [
           {
            "marker": {
             "colorbar": {
              "outlinewidth": 0,
              "ticks": ""
             }
            },
            "type": "scatterpolargl"
           }
          ],
          "scatterternary": [
           {
            "marker": {
             "colorbar": {
              "outlinewidth": 0,
              "ticks": ""
             }
            },
            "type": "scatterternary"
           }
          ],
          "surface": [
           {
            "colorbar": {
             "outlinewidth": 0,
             "ticks": ""
            },
            "colorscale": [
             [
              0,
              "#0d0887"
             ],
             [
              0.1111111111111111,
              "#46039f"
             ],
             [
              0.2222222222222222,
              "#7201a8"
             ],
             [
              0.3333333333333333,
              "#9c179e"
             ],
             [
              0.4444444444444444,
              "#bd3786"
             ],
             [
              0.5555555555555556,
              "#d8576b"
             ],
             [
              0.6666666666666666,
              "#ed7953"
             ],
             [
              0.7777777777777778,
              "#fb9f3a"
             ],
             [
              0.8888888888888888,
              "#fdca26"
             ],
             [
              1,
              "#f0f921"
             ]
            ],
            "type": "surface"
           }
          ],
          "table": [
           {
            "cells": {
             "fill": {
              "color": "#EBF0F8"
             },
             "line": {
              "color": "white"
             }
            },
            "header": {
             "fill": {
              "color": "#C8D4E3"
             },
             "line": {
              "color": "white"
             }
            },
            "type": "table"
           }
          ]
         },
         "layout": {
          "annotationdefaults": {
           "arrowcolor": "#2a3f5f",
           "arrowhead": 0,
           "arrowwidth": 1
          },
          "coloraxis": {
           "colorbar": {
            "outlinewidth": 0,
            "ticks": ""
           }
          },
          "colorscale": {
           "diverging": [
            [
             0,
             "#8e0152"
            ],
            [
             0.1,
             "#c51b7d"
            ],
            [
             0.2,
             "#de77ae"
            ],
            [
             0.3,
             "#f1b6da"
            ],
            [
             0.4,
             "#fde0ef"
            ],
            [
             0.5,
             "#f7f7f7"
            ],
            [
             0.6,
             "#e6f5d0"
            ],
            [
             0.7,
             "#b8e186"
            ],
            [
             0.8,
             "#7fbc41"
            ],
            [
             0.9,
             "#4d9221"
            ],
            [
             1,
             "#276419"
            ]
           ],
           "sequential": [
            [
             0,
             "#0d0887"
            ],
            [
             0.1111111111111111,
             "#46039f"
            ],
            [
             0.2222222222222222,
             "#7201a8"
            ],
            [
             0.3333333333333333,
             "#9c179e"
            ],
            [
             0.4444444444444444,
             "#bd3786"
            ],
            [
             0.5555555555555556,
             "#d8576b"
            ],
            [
             0.6666666666666666,
             "#ed7953"
            ],
            [
             0.7777777777777778,
             "#fb9f3a"
            ],
            [
             0.8888888888888888,
             "#fdca26"
            ],
            [
             1,
             "#f0f921"
            ]
           ],
           "sequentialminus": [
            [
             0,
             "#0d0887"
            ],
            [
             0.1111111111111111,
             "#46039f"
            ],
            [
             0.2222222222222222,
             "#7201a8"
            ],
            [
             0.3333333333333333,
             "#9c179e"
            ],
            [
             0.4444444444444444,
             "#bd3786"
            ],
            [
             0.5555555555555556,
             "#d8576b"
            ],
            [
             0.6666666666666666,
             "#ed7953"
            ],
            [
             0.7777777777777778,
             "#fb9f3a"
            ],
            [
             0.8888888888888888,
             "#fdca26"
            ],
            [
             1,
             "#f0f921"
            ]
           ]
          },
          "colorway": [
           "#636efa",
           "#EF553B",
           "#00cc96",
           "#ab63fa",
           "#FFA15A",
           "#19d3f3",
           "#FF6692",
           "#B6E880",
           "#FF97FF",
           "#FECB52"
          ],
          "font": {
           "color": "#2a3f5f"
          },
          "geo": {
           "bgcolor": "white",
           "lakecolor": "white",
           "landcolor": "#E5ECF6",
           "showlakes": true,
           "showland": true,
           "subunitcolor": "white"
          },
          "hoverlabel": {
           "align": "left"
          },
          "hovermode": "closest",
          "mapbox": {
           "style": "light"
          },
          "paper_bgcolor": "white",
          "plot_bgcolor": "#E5ECF6",
          "polar": {
           "angularaxis": {
            "gridcolor": "white",
            "linecolor": "white",
            "ticks": ""
           },
           "bgcolor": "#E5ECF6",
           "radialaxis": {
            "gridcolor": "white",
            "linecolor": "white",
            "ticks": ""
           }
          },
          "scene": {
           "xaxis": {
            "backgroundcolor": "#E5ECF6",
            "gridcolor": "white",
            "gridwidth": 2,
            "linecolor": "white",
            "showbackground": true,
            "ticks": "",
            "zerolinecolor": "white"
           },
           "yaxis": {
            "backgroundcolor": "#E5ECF6",
            "gridcolor": "white",
            "gridwidth": 2,
            "linecolor": "white",
            "showbackground": true,
            "ticks": "",
            "zerolinecolor": "white"
           },
           "zaxis": {
            "backgroundcolor": "#E5ECF6",
            "gridcolor": "white",
            "gridwidth": 2,
            "linecolor": "white",
            "showbackground": true,
            "ticks": "",
            "zerolinecolor": "white"
           }
          },
          "shapedefaults": {
           "line": {
            "color": "#2a3f5f"
           }
          },
          "ternary": {
           "aaxis": {
            "gridcolor": "white",
            "linecolor": "white",
            "ticks": ""
           },
           "baxis": {
            "gridcolor": "white",
            "linecolor": "white",
            "ticks": ""
           },
           "bgcolor": "#E5ECF6",
           "caxis": {
            "gridcolor": "white",
            "linecolor": "white",
            "ticks": ""
           }
          },
          "title": {
           "x": 0.05
          },
          "xaxis": {
           "automargin": true,
           "gridcolor": "white",
           "linecolor": "white",
           "ticks": "",
           "title": {
            "standoff": 15
           },
           "zerolinecolor": "white",
           "zerolinewidth": 2
          },
          "yaxis": {
           "automargin": true,
           "gridcolor": "white",
           "linecolor": "white",
           "ticks": "",
           "title": {
            "standoff": 15
           },
           "zerolinecolor": "white",
           "zerolinewidth": 2
          }
         }
        },
        "title": {
         "font": {
          "color": "#4D5663"
         }
        },
        "xaxis": {
         "gridcolor": "#E1E5ED",
         "showgrid": true,
         "tickfont": {
          "color": "#4D5663"
         },
         "title": {
          "font": {
           "color": "#4D5663"
          },
          "text": ""
         },
         "zerolinecolor": "#E1E5ED"
        },
        "yaxis": {
         "gridcolor": "#E1E5ED",
         "showgrid": true,
         "tickfont": {
          "color": "#4D5663"
         },
         "title": {
          "font": {
           "color": "#4D5663"
          },
          "text": ""
         },
         "zerolinecolor": "#E1E5ED"
        }
       }
      },
      "text/html": [
       "<div>                            <div id=\"6dd4ee84-469d-4e15-b0b2-342e700ac599\" class=\"plotly-graph-div\" style=\"height:525px; width:100%;\"></div>            <script type=\"text/javascript\">                require([\"plotly\"], function(Plotly) {                    window.PLOTLYENV=window.PLOTLYENV || {};\n",
       "                    window.PLOTLYENV.BASE_URL='https://plot.ly';                                    if (document.getElementById(\"6dd4ee84-469d-4e15-b0b2-342e700ac599\")) {                    Plotly.newPlot(                        \"6dd4ee84-469d-4e15-b0b2-342e700ac599\",                        [{\"colorscale\": [[0.0, \"rgb(165,0,38)\"], [0.1, \"rgb(215,48,39)\"], [0.2, \"rgb(244,109,67)\"], [0.3, \"rgb(253,174,97)\"], [0.4, \"rgb(254,224,144)\"], [0.5, \"rgb(255,255,191)\"], [0.6, \"rgb(224,243,248)\"], [0.7, \"rgb(171,217,233)\"], [0.8, \"rgb(116,173,209)\"], [0.9, \"rgb(69,117,180)\"], [1.0, \"rgb(49,54,149)\"]], \"type\": \"surface\", \"x\": [0, 1, 2, 3, 4], \"y\": [\"x\", \"y\", \"z\"], \"z\": [[1, 2, 3, 4, 5], [10, 20, 30, 20, 10], [5, 4, 3, 2, 1]]}],                        {\"legend\": {\"bgcolor\": \"#F5F6F9\", \"font\": {\"color\": \"#4D5663\"}}, \"paper_bgcolor\": \"#F5F6F9\", \"plot_bgcolor\": \"#F5F6F9\", \"template\": {\"data\": {\"bar\": [{\"error_x\": {\"color\": \"#2a3f5f\"}, \"error_y\": {\"color\": \"#2a3f5f\"}, \"marker\": {\"line\": {\"color\": \"#E5ECF6\", \"width\": 0.5}}, \"type\": \"bar\"}], \"barpolar\": [{\"marker\": {\"line\": {\"color\": \"#E5ECF6\", \"width\": 0.5}}, \"type\": \"barpolar\"}], \"carpet\": [{\"aaxis\": {\"endlinecolor\": \"#2a3f5f\", \"gridcolor\": \"white\", \"linecolor\": \"white\", \"minorgridcolor\": \"white\", \"startlinecolor\": \"#2a3f5f\"}, \"baxis\": {\"endlinecolor\": \"#2a3f5f\", \"gridcolor\": \"white\", \"linecolor\": \"white\", \"minorgridcolor\": \"white\", \"startlinecolor\": \"#2a3f5f\"}, \"type\": \"carpet\"}], \"choropleth\": [{\"colorbar\": {\"outlinewidth\": 0, \"ticks\": \"\"}, \"type\": \"choropleth\"}], \"contour\": [{\"colorbar\": {\"outlinewidth\": 0, \"ticks\": \"\"}, \"colorscale\": [[0.0, \"#0d0887\"], [0.1111111111111111, \"#46039f\"], [0.2222222222222222, \"#7201a8\"], [0.3333333333333333, \"#9c179e\"], [0.4444444444444444, \"#bd3786\"], [0.5555555555555556, \"#d8576b\"], [0.6666666666666666, \"#ed7953\"], [0.7777777777777778, \"#fb9f3a\"], [0.8888888888888888, \"#fdca26\"], [1.0, \"#f0f921\"]], \"type\": \"contour\"}], \"contourcarpet\": [{\"colorbar\": {\"outlinewidth\": 0, \"ticks\": \"\"}, \"type\": \"contourcarpet\"}], \"heatmap\": [{\"colorbar\": {\"outlinewidth\": 0, \"ticks\": \"\"}, \"colorscale\": [[0.0, \"#0d0887\"], [0.1111111111111111, \"#46039f\"], [0.2222222222222222, \"#7201a8\"], [0.3333333333333333, \"#9c179e\"], [0.4444444444444444, \"#bd3786\"], [0.5555555555555556, \"#d8576b\"], [0.6666666666666666, \"#ed7953\"], [0.7777777777777778, \"#fb9f3a\"], [0.8888888888888888, \"#fdca26\"], [1.0, \"#f0f921\"]], \"type\": \"heatmap\"}], \"heatmapgl\": [{\"colorbar\": {\"outlinewidth\": 0, \"ticks\": \"\"}, \"colorscale\": [[0.0, \"#0d0887\"], [0.1111111111111111, \"#46039f\"], [0.2222222222222222, \"#7201a8\"], [0.3333333333333333, \"#9c179e\"], [0.4444444444444444, \"#bd3786\"], [0.5555555555555556, \"#d8576b\"], [0.6666666666666666, \"#ed7953\"], [0.7777777777777778, \"#fb9f3a\"], [0.8888888888888888, \"#fdca26\"], [1.0, \"#f0f921\"]], \"type\": \"heatmapgl\"}], \"histogram\": [{\"marker\": {\"colorbar\": {\"outlinewidth\": 0, \"ticks\": \"\"}}, \"type\": \"histogram\"}], \"histogram2d\": [{\"colorbar\": {\"outlinewidth\": 0, \"ticks\": \"\"}, \"colorscale\": [[0.0, \"#0d0887\"], [0.1111111111111111, \"#46039f\"], [0.2222222222222222, \"#7201a8\"], [0.3333333333333333, \"#9c179e\"], [0.4444444444444444, \"#bd3786\"], [0.5555555555555556, \"#d8576b\"], [0.6666666666666666, \"#ed7953\"], [0.7777777777777778, \"#fb9f3a\"], [0.8888888888888888, \"#fdca26\"], [1.0, \"#f0f921\"]], \"type\": \"histogram2d\"}], \"histogram2dcontour\": [{\"colorbar\": {\"outlinewidth\": 0, \"ticks\": \"\"}, \"colorscale\": [[0.0, \"#0d0887\"], [0.1111111111111111, \"#46039f\"], [0.2222222222222222, \"#7201a8\"], [0.3333333333333333, \"#9c179e\"], [0.4444444444444444, \"#bd3786\"], [0.5555555555555556, \"#d8576b\"], [0.6666666666666666, \"#ed7953\"], [0.7777777777777778, \"#fb9f3a\"], [0.8888888888888888, \"#fdca26\"], [1.0, \"#f0f921\"]], \"type\": \"histogram2dcontour\"}], \"mesh3d\": [{\"colorbar\": {\"outlinewidth\": 0, \"ticks\": \"\"}, \"type\": \"mesh3d\"}], \"parcoords\": [{\"line\": {\"colorbar\": {\"outlinewidth\": 0, \"ticks\": \"\"}}, \"type\": \"parcoords\"}], \"pie\": [{\"automargin\": true, \"type\": \"pie\"}], \"scatter\": [{\"marker\": {\"colorbar\": {\"outlinewidth\": 0, \"ticks\": \"\"}}, \"type\": \"scatter\"}], \"scatter3d\": [{\"line\": {\"colorbar\": {\"outlinewidth\": 0, \"ticks\": \"\"}}, \"marker\": {\"colorbar\": {\"outlinewidth\": 0, \"ticks\": \"\"}}, \"type\": \"scatter3d\"}], \"scattercarpet\": [{\"marker\": {\"colorbar\": {\"outlinewidth\": 0, \"ticks\": \"\"}}, \"type\": \"scattercarpet\"}], \"scattergeo\": [{\"marker\": {\"colorbar\": {\"outlinewidth\": 0, \"ticks\": \"\"}}, \"type\": \"scattergeo\"}], \"scattergl\": [{\"marker\": {\"colorbar\": {\"outlinewidth\": 0, \"ticks\": \"\"}}, \"type\": \"scattergl\"}], \"scattermapbox\": [{\"marker\": {\"colorbar\": {\"outlinewidth\": 0, \"ticks\": \"\"}}, \"type\": \"scattermapbox\"}], \"scatterpolar\": [{\"marker\": {\"colorbar\": {\"outlinewidth\": 0, \"ticks\": \"\"}}, \"type\": \"scatterpolar\"}], \"scatterpolargl\": [{\"marker\": {\"colorbar\": {\"outlinewidth\": 0, \"ticks\": \"\"}}, \"type\": \"scatterpolargl\"}], \"scatterternary\": [{\"marker\": {\"colorbar\": {\"outlinewidth\": 0, \"ticks\": \"\"}}, \"type\": \"scatterternary\"}], \"surface\": [{\"colorbar\": {\"outlinewidth\": 0, \"ticks\": \"\"}, \"colorscale\": [[0.0, \"#0d0887\"], [0.1111111111111111, \"#46039f\"], [0.2222222222222222, \"#7201a8\"], [0.3333333333333333, \"#9c179e\"], [0.4444444444444444, \"#bd3786\"], [0.5555555555555556, \"#d8576b\"], [0.6666666666666666, \"#ed7953\"], [0.7777777777777778, \"#fb9f3a\"], [0.8888888888888888, \"#fdca26\"], [1.0, \"#f0f921\"]], \"type\": \"surface\"}], \"table\": [{\"cells\": {\"fill\": {\"color\": \"#EBF0F8\"}, \"line\": {\"color\": \"white\"}}, \"header\": {\"fill\": {\"color\": \"#C8D4E3\"}, \"line\": {\"color\": \"white\"}}, \"type\": \"table\"}]}, \"layout\": {\"annotationdefaults\": {\"arrowcolor\": \"#2a3f5f\", \"arrowhead\": 0, \"arrowwidth\": 1}, \"coloraxis\": {\"colorbar\": {\"outlinewidth\": 0, \"ticks\": \"\"}}, \"colorscale\": {\"diverging\": [[0, \"#8e0152\"], [0.1, \"#c51b7d\"], [0.2, \"#de77ae\"], [0.3, \"#f1b6da\"], [0.4, \"#fde0ef\"], [0.5, \"#f7f7f7\"], [0.6, \"#e6f5d0\"], [0.7, \"#b8e186\"], [0.8, \"#7fbc41\"], [0.9, \"#4d9221\"], [1, \"#276419\"]], \"sequential\": [[0.0, \"#0d0887\"], [0.1111111111111111, \"#46039f\"], [0.2222222222222222, \"#7201a8\"], [0.3333333333333333, \"#9c179e\"], [0.4444444444444444, \"#bd3786\"], [0.5555555555555556, \"#d8576b\"], [0.6666666666666666, \"#ed7953\"], [0.7777777777777778, \"#fb9f3a\"], [0.8888888888888888, \"#fdca26\"], [1.0, \"#f0f921\"]], \"sequentialminus\": [[0.0, \"#0d0887\"], [0.1111111111111111, \"#46039f\"], [0.2222222222222222, \"#7201a8\"], [0.3333333333333333, \"#9c179e\"], [0.4444444444444444, \"#bd3786\"], [0.5555555555555556, \"#d8576b\"], [0.6666666666666666, \"#ed7953\"], [0.7777777777777778, \"#fb9f3a\"], [0.8888888888888888, \"#fdca26\"], [1.0, \"#f0f921\"]]}, \"colorway\": [\"#636efa\", \"#EF553B\", \"#00cc96\", \"#ab63fa\", \"#FFA15A\", \"#19d3f3\", \"#FF6692\", \"#B6E880\", \"#FF97FF\", \"#FECB52\"], \"font\": {\"color\": \"#2a3f5f\"}, \"geo\": {\"bgcolor\": \"white\", \"lakecolor\": \"white\", \"landcolor\": \"#E5ECF6\", \"showlakes\": true, \"showland\": true, \"subunitcolor\": \"white\"}, \"hoverlabel\": {\"align\": \"left\"}, \"hovermode\": \"closest\", \"mapbox\": {\"style\": \"light\"}, \"paper_bgcolor\": \"white\", \"plot_bgcolor\": \"#E5ECF6\", \"polar\": {\"angularaxis\": {\"gridcolor\": \"white\", \"linecolor\": \"white\", \"ticks\": \"\"}, \"bgcolor\": \"#E5ECF6\", \"radialaxis\": {\"gridcolor\": \"white\", \"linecolor\": \"white\", \"ticks\": \"\"}}, \"scene\": {\"xaxis\": {\"backgroundcolor\": \"#E5ECF6\", \"gridcolor\": \"white\", \"gridwidth\": 2, \"linecolor\": \"white\", \"showbackground\": true, \"ticks\": \"\", \"zerolinecolor\": \"white\"}, \"yaxis\": {\"backgroundcolor\": \"#E5ECF6\", \"gridcolor\": \"white\", \"gridwidth\": 2, \"linecolor\": \"white\", \"showbackground\": true, \"ticks\": \"\", \"zerolinecolor\": \"white\"}, \"zaxis\": {\"backgroundcolor\": \"#E5ECF6\", \"gridcolor\": \"white\", \"gridwidth\": 2, \"linecolor\": \"white\", \"showbackground\": true, \"ticks\": \"\", \"zerolinecolor\": \"white\"}}, \"shapedefaults\": {\"line\": {\"color\": \"#2a3f5f\"}}, \"ternary\": {\"aaxis\": {\"gridcolor\": \"white\", \"linecolor\": \"white\", \"ticks\": \"\"}, \"baxis\": {\"gridcolor\": \"white\", \"linecolor\": \"white\", \"ticks\": \"\"}, \"bgcolor\": \"#E5ECF6\", \"caxis\": {\"gridcolor\": \"white\", \"linecolor\": \"white\", \"ticks\": \"\"}}, \"title\": {\"x\": 0.05}, \"xaxis\": {\"automargin\": true, \"gridcolor\": \"white\", \"linecolor\": \"white\", \"ticks\": \"\", \"title\": {\"standoff\": 15}, \"zerolinecolor\": \"white\", \"zerolinewidth\": 2}, \"yaxis\": {\"automargin\": true, \"gridcolor\": \"white\", \"linecolor\": \"white\", \"ticks\": \"\", \"title\": {\"standoff\": 15}, \"zerolinecolor\": \"white\", \"zerolinewidth\": 2}}}, \"title\": {\"font\": {\"color\": \"#4D5663\"}}, \"xaxis\": {\"gridcolor\": \"#E1E5ED\", \"showgrid\": true, \"tickfont\": {\"color\": \"#4D5663\"}, \"title\": {\"font\": {\"color\": \"#4D5663\"}, \"text\": \"\"}, \"zerolinecolor\": \"#E1E5ED\"}, \"yaxis\": {\"gridcolor\": \"#E1E5ED\", \"showgrid\": true, \"tickfont\": {\"color\": \"#4D5663\"}, \"title\": {\"font\": {\"color\": \"#4D5663\"}, \"text\": \"\"}, \"zerolinecolor\": \"#E1E5ED\"}},                        {\"showLink\": true, \"linkText\": \"Export to plot.ly\", \"plotlyServerURL\": \"https://plot.ly\", \"responsive\": true}                    ).then(function(){\n",
       "                            \n",
       "var gd = document.getElementById('6dd4ee84-469d-4e15-b0b2-342e700ac599');\n",
       "var x = new MutationObserver(function (mutations, observer) {{\n",
       "        var display = window.getComputedStyle(gd).display;\n",
       "        if (!display || display === 'none') {{\n",
       "            console.log([gd, 'removed!']);\n",
       "            Plotly.purge(gd);\n",
       "            observer.disconnect();\n",
       "        }}\n",
       "}});\n",
       "\n",
       "// Listen for the removal of the full notebook cells\n",
       "var notebookContainer = gd.closest('#notebook-container');\n",
       "if (notebookContainer) {{\n",
       "    x.observe(notebookContainer, {childList: true});\n",
       "}}\n",
       "\n",
       "// Listen for the clearing of the current output cell\n",
       "var outputEl = gd.closest('.output');\n",
       "if (outputEl) {{\n",
       "    x.observe(outputEl, {childList: true});\n",
       "}}\n",
       "\n",
       "                        })                };                });            </script>        </div>"
      ]
     },
     "metadata": {},
     "output_type": "display_data"
    }
   ],
   "source": [
    "df3 = pd.DataFrame({'x':[1,2,3,4,5],'y':[10,20,30,20,10],'z':[5,4,3,2,1]})\n",
    "\n",
    "df3.iplot(kind = 'surface', colorscale = 'rdylbu')"
   ]
  },
  {
   "cell_type": "markdown",
   "metadata": {},
   "source": [
    "## Spread"
   ]
  },
  {
   "cell_type": "code",
   "execution_count": 25,
   "metadata": {},
   "outputs": [
    {
     "name": "stderr",
     "output_type": "stream",
     "text": [
      "C:\\Users\\Geral\\anaconda3\\lib\\site-packages\\cufflinks\\plotlytools.py:849: FutureWarning:\n",
      "\n",
      "The pandas.np module is deprecated and will be removed from pandas in a future version. Import numpy directly instead\n",
      "\n",
      "C:\\Users\\Geral\\anaconda3\\lib\\site-packages\\cufflinks\\plotlytools.py:850: FutureWarning:\n",
      "\n",
      "The pandas.np module is deprecated and will be removed from pandas in a future version. Import numpy directly instead\n",
      "\n"
     ]
    },
    {
     "data": {
      "application/vnd.plotly.v1+json": {
       "config": {
        "linkText": "Export to plot.ly",
        "plotlyServerURL": "https://plot.ly",
        "showLink": true
       },
       "data": [
        {
         "line": {
          "color": "rgba(255, 153, 51, 1.0)",
          "dash": "solid",
          "shape": "linear",
          "width": 1.3
         },
         "mode": "lines",
         "name": "A",
         "text": "",
         "type": "scatter",
         "x": [
          0,
          1,
          2,
          3,
          4,
          5,
          6,
          7,
          8,
          9,
          10,
          11,
          12,
          13,
          14,
          15,
          16,
          17,
          18,
          19,
          20,
          21,
          22,
          23,
          24,
          25,
          26,
          27,
          28,
          29,
          30,
          31,
          32,
          33,
          34,
          35,
          36,
          37,
          38,
          39,
          40,
          41,
          42,
          43,
          44,
          45,
          46,
          47,
          48,
          49,
          50,
          51,
          52,
          53,
          54,
          55,
          56,
          57,
          58,
          59,
          60,
          61,
          62,
          63,
          64,
          65,
          66,
          67,
          68,
          69,
          70,
          71,
          72,
          73,
          74,
          75,
          76,
          77,
          78,
          79,
          80,
          81,
          82,
          83,
          84,
          85,
          86,
          87,
          88,
          89,
          90,
          91,
          92,
          93,
          94,
          95,
          96,
          97,
          98,
          99
         ],
         "y": [
          0.019430806383181284,
          0.608603613411356,
          0.07247562241777829,
          -0.9104428128373663,
          1.3735657891542405,
          0.07519673113819865,
          0.06395658164671109,
          -1.6195694639137597,
          0.7554966666743327,
          0.45097740835769223,
          -0.10156324731745073,
          -0.4158522716260824,
          0.9954541144280701,
          -0.48555200602878423,
          1.490823288469039,
          -0.13194416978954118,
          -0.7528004178239888,
          -0.544262017467453,
          -1.437649785582203,
          0.17187226223968824,
          -1.2375300092105108,
          0.49278868970672296,
          -0.6361730509889744,
          -0.13764319117463106,
          0.062410111597416565,
          -0.5187075611984749,
          -1.4102344376792062,
          -0.3572026445885095,
          -0.6376315054537319,
          -0.08196403616906862,
          1.2918666744199032,
          1.834095870683521,
          1.028800443585434,
          0.9937885884309238,
          -0.37089692485727643,
          -0.3412877759764047,
          2.262481668740981,
          -0.2951852827270955,
          1.1249926939573314,
          0.5702750889136583,
          -0.7551453700363403,
          1.0505410054870346,
          -2.1796411612126207,
          1.4633293246578305,
          -0.9824685130984081,
          -0.8896242240185488,
          -0.15830524409511837,
          0.8207907173546565,
          -1.1853010290819173,
          -0.04668477075582644,
          -0.4923965618308851,
          1.347160076177271,
          0.010843352382841287,
          0.6173535522890893,
          -1.5062569479408272,
          0.19394046597445944,
          -1.5703035237848442,
          -0.8017093258648721,
          -0.5420091277779893,
          0.12398167085240544,
          1.0336758962507486,
          0.7370393163266648,
          1.0215708043915677,
          -0.40016276626102376,
          1.5133921798813612,
          0.7624574546404679,
          0.12204337931158848,
          0.3878926000196656,
          -1.9858807909062057,
          1.5619887939186559,
          1.9262998520500085,
          0.6179697050361458,
          -0.2637131372925625,
          -0.42894690745324804,
          0.15220520963924042,
          0.2171978777436021,
          -1.0019800436093944,
          -0.9082410683140086,
          -0.9323858380561356,
          -2.176514619233318,
          -2.041735481953146,
          0.1900171138249872,
          0.7957042354908531,
          -0.5964879028707374,
          -0.3146446170771317,
          -2.5337539168618295,
          -1.0869571144160752,
          0.9013311410590518,
          -0.6131300774164766,
          0.7959724948574082,
          -0.01817478619237521,
          0.05015503961687754,
          0.376814718222817,
          -1.548926641719814,
          0.26002105343845394,
          -0.9509949673458841,
          -0.4274355159462603,
          1.3031986142392404,
          -1.9640602579483455,
          -1.3617829420408287
         ]
        },
        {
         "line": {
          "color": "rgba(55, 128, 191, 1.0)",
          "dash": "solid",
          "shape": "linear",
          "width": 1.3
         },
         "mode": "lines",
         "name": "B",
         "text": "",
         "type": "scatter",
         "x": [
          0,
          1,
          2,
          3,
          4,
          5,
          6,
          7,
          8,
          9,
          10,
          11,
          12,
          13,
          14,
          15,
          16,
          17,
          18,
          19,
          20,
          21,
          22,
          23,
          24,
          25,
          26,
          27,
          28,
          29,
          30,
          31,
          32,
          33,
          34,
          35,
          36,
          37,
          38,
          39,
          40,
          41,
          42,
          43,
          44,
          45,
          46,
          47,
          48,
          49,
          50,
          51,
          52,
          53,
          54,
          55,
          56,
          57,
          58,
          59,
          60,
          61,
          62,
          63,
          64,
          65,
          66,
          67,
          68,
          69,
          70,
          71,
          72,
          73,
          74,
          75,
          76,
          77,
          78,
          79,
          80,
          81,
          82,
          83,
          84,
          85,
          86,
          87,
          88,
          89,
          90,
          91,
          92,
          93,
          94,
          95,
          96,
          97,
          98,
          99
         ],
         "y": [
          0.23590897280929557,
          -0.5853191060130026,
          0.45041649477698203,
          -1.4844634650877961,
          -0.7010019866089757,
          -1.7713343221822186,
          0.3564783560049668,
          1.1031620019724644,
          -0.534524659790858,
          1.55516579284802,
          0.9245808085412286,
          1.3620636205948855,
          0.6460233039467143,
          -1.3287700621303378,
          2.113243524617769,
          -0.7039904787447651,
          0.957708167234452,
          0.38668960727077833,
          1.0905405017303815,
          -0.15907806493007792,
          -0.05398389231091074,
          -0.5336742283108098,
          0.3824419930821319,
          0.7419908764060871,
          -0.4140242561179745,
          0.2759136081174468,
          0.8482704917519138,
          2.0059405381970254,
          -1.3246650717679416,
          -0.5065540149600787,
          -0.6936235230043091,
          -0.19441117112133538,
          0.887480460290256,
          -1.5166569531417406,
          -0.7190624137948296,
          0.4102288680484326,
          -0.7379062568928512,
          -0.38612979211456566,
          -0.9814499423449278,
          -0.4359275292528566,
          -0.12292181575473174,
          1.9056738072959156,
          -1.836401325717276,
          -2.792474660611752,
          -0.9083337804822073,
          2.782345891898233,
          0.2381865299508034,
          0.9647682007237843,
          -1.1734425707908456,
          -1.9609962976837447,
          1.904270892330739,
          -0.10400697771863725,
          0.9179842824151149,
          0.16380229188572826,
          -0.02490709779441639,
          -0.20790133058482613,
          0.5399698264563033,
          -0.9674437863175008,
          0.943420239562524,
          0.1561027975165673,
          -1.6553424385101994,
          0.8709325231705167,
          1.3197016755016702,
          -2.287162353986225,
          0.552534163797248,
          -2.9316789514534003,
          -1.413578565746748,
          0.3066964640228571,
          -0.8862210615838182,
          2.2245689170171943,
          -0.5073138082557282,
          2.295896889626357,
          0.03791532397259017,
          -0.27422129122939853,
          0.12873175025274455,
          0.4837720574093124,
          -0.29738246943237895,
          -0.0988932565886435,
          -1.3368837027277733,
          0.07779215851650331,
          -2.1254522743271664,
          -0.35883373446418565,
          0.008131872263935342,
          1.3898536362783147,
          1.010414278850495,
          -0.1442294615435738,
          0.9808125838800891,
          -0.4968630660898616,
          -1.778081760893912,
          -0.12516367093881087,
          0.06968580548842876,
          -0.7992199722691573,
          0.217143175038511,
          0.31265034609776243,
          0.3134863468368505,
          0.7484128321632029,
          -0.44746867845204136,
          -1.5837350747526953,
          -0.5834240333463931,
          -1.522918964431989
         ]
        },
        {
         "connectgaps": false,
         "fill": "tozeroy",
         "line": {
          "color": "green",
          "dash": "solid",
          "shape": "linear",
          "width": 0.5
         },
         "mode": "lines",
         "name": "Spread",
         "showlegend": false,
         "type": "scatter",
         "x": [
          0,
          1,
          2,
          3,
          4,
          5,
          6,
          7,
          8,
          9,
          10,
          11,
          12,
          13,
          14,
          15,
          16,
          17,
          18,
          19,
          20,
          21,
          22,
          23,
          24,
          25,
          26,
          27,
          28,
          29,
          30,
          31,
          32,
          33,
          34,
          35,
          36,
          37,
          38,
          39,
          40,
          41,
          42,
          43,
          44,
          45,
          46,
          47,
          48,
          49,
          50,
          51,
          52,
          53,
          54,
          55,
          56,
          57,
          58,
          59,
          60,
          61,
          62,
          63,
          64,
          65,
          66,
          67,
          68,
          69,
          70,
          71,
          72,
          73,
          74,
          75,
          76,
          77,
          78,
          79,
          80,
          81,
          82,
          83,
          84,
          85,
          86,
          87,
          88,
          89,
          90,
          91,
          92,
          93,
          94,
          95,
          96,
          97,
          98,
          99
         ],
         "xaxis": "x2",
         "y": [
          "",
          1.1939227194243587,
          "",
          0.5740206522504299,
          2.0745677757632164,
          1.8465310533204173,
          "",
          "",
          1.2900213264651907,
          "",
          "",
          "",
          0.3494308104813558,
          0.8432180561015535,
          "",
          0.5720463089552239,
          "",
          "",
          "",
          0.33095032716976613,
          "",
          1.0264629180175326,
          "",
          "",
          0.47643436771539105,
          "",
          "",
          "",
          0.6870335663142096,
          0.42458997879101007,
          1.9854901974242123,
          2.0285070418048563,
          0.14131998329517814,
          2.5104455415726643,
          0.34816548893755317,
          "",
          3.000387925633832,
          0.09094450938747017,
          2.1064426363022593,
          1.006202618166515,
          "",
          "",
          "",
          4.255803985269583,
          "",
          "",
          "",
          "",
          "",
          1.9143115269279183,
          "",
          1.4511670538959083,
          "",
          0.453551260403361,
          "",
          0.40184179655928554,
          "",
          0.16573446045262874,
          "",
          "",
          2.6890183347609478,
          "",
          "",
          1.8869995877252013,
          0.9608580160841133,
          3.694136406093868,
          1.5356219450583364,
          0.08119613599680847,
          "",
          "",
          2.4336136603057366,
          "",
          "",
          "",
          0.023473459386495865,
          "",
          "",
          "",
          0.40449786467163773,
          "",
          0.08371679237402052,
          0.5488508482891729,
          0.7875723632269178,
          "",
          "",
          "",
          "",
          1.3981942071489133,
          1.1649516834774354,
          0.921136165796219,
          "",
          0.8493750118860348,
          0.159671543184306,
          "",
          "",
          "",
          0.020033162505781077,
          2.8869336889919355,
          "",
          0.1611360223911602
         ],
         "yaxis": "y2"
        },
        {
         "connectgaps": false,
         "fill": "tozeroy",
         "line": {
          "color": "red",
          "dash": "solid",
          "shape": "linear",
          "width": 0.5
         },
         "mode": "lines",
         "name": "Spread",
         "showlegend": false,
         "type": "scatter",
         "x": [
          0,
          1,
          2,
          3,
          4,
          5,
          6,
          7,
          8,
          9,
          10,
          11,
          12,
          13,
          14,
          15,
          16,
          17,
          18,
          19,
          20,
          21,
          22,
          23,
          24,
          25,
          26,
          27,
          28,
          29,
          30,
          31,
          32,
          33,
          34,
          35,
          36,
          37,
          38,
          39,
          40,
          41,
          42,
          43,
          44,
          45,
          46,
          47,
          48,
          49,
          50,
          51,
          52,
          53,
          54,
          55,
          56,
          57,
          58,
          59,
          60,
          61,
          62,
          63,
          64,
          65,
          66,
          67,
          68,
          69,
          70,
          71,
          72,
          73,
          74,
          75,
          76,
          77,
          78,
          79,
          80,
          81,
          82,
          83,
          84,
          85,
          86,
          87,
          88,
          89,
          90,
          91,
          92,
          93,
          94,
          95,
          96,
          97,
          98,
          99
         ],
         "xaxis": "x2",
         "y": [
          -0.21647816642611428,
          "",
          -0.37794087235920376,
          "",
          "",
          "",
          -0.2925217743582557,
          -2.7227314658862243,
          "",
          -1.1041883844903277,
          -1.0261440558586794,
          -1.777915892220968,
          "",
          "",
          -0.6224202361487299,
          "",
          -1.7105085850584407,
          -0.9309516247382312,
          -2.5281902873125848,
          "",
          -1.1835461168996,
          "",
          -1.0186150440711064,
          -0.8796340675807182,
          "",
          -0.7946211693159217,
          -2.25850492943112,
          -2.363143182785535,
          "",
          "",
          "",
          "",
          "",
          "",
          "",
          -0.7515166440248373,
          "",
          "",
          "",
          "",
          -0.6322235542816086,
          -0.8551328018088811,
          -0.34323983549534476,
          "",
          -0.07413473261620085,
          -3.671970115916782,
          -0.39649177404592173,
          -0.14397748336912786,
          -0.011858458291071683,
          "",
          -2.396667454161624,
          "",
          -0.9071409300322736,
          "",
          -1.4813498501464109,
          "",
          -2.1102733502411475,
          "",
          -1.4854293673405132,
          -0.032121126664161864,
          "",
          -0.13389320684385198,
          -0.2981308711101025,
          "",
          "",
          "",
          "",
          "",
          -1.0996597293223875,
          -0.6625801230985384,
          "",
          -1.677927184590211,
          -0.3016284612651527,
          -0.1547256162238495,
          "",
          -0.2665741796657103,
          -0.7045975741770154,
          -0.8093478117253652,
          "",
          -2.254306777749821,
          "",
          "",
          "",
          -1.986341539149052,
          -1.3250588959276268,
          -2.3895244553182557,
          -2.067769698296164,
          "",
          "",
          "",
          -0.08786059168080397,
          "",
          "",
          -1.8615769878175765,
          -0.05346529339839656,
          -1.6994077995090868,
          "",
          "",
          -1.3806362246019523,
          ""
         ],
         "yaxis": "y2"
        }
       ],
       "layout": {
        "hovermode": "x",
        "legend": {
         "bgcolor": "#F5F6F9",
         "font": {
          "color": "#4D5663"
         }
        },
        "paper_bgcolor": "#F5F6F9",
        "plot_bgcolor": "#F5F6F9",
        "template": {
         "data": {
          "bar": [
           {
            "error_x": {
             "color": "#2a3f5f"
            },
            "error_y": {
             "color": "#2a3f5f"
            },
            "marker": {
             "line": {
              "color": "#E5ECF6",
              "width": 0.5
             }
            },
            "type": "bar"
           }
          ],
          "barpolar": [
           {
            "marker": {
             "line": {
              "color": "#E5ECF6",
              "width": 0.5
             }
            },
            "type": "barpolar"
           }
          ],
          "carpet": [
           {
            "aaxis": {
             "endlinecolor": "#2a3f5f",
             "gridcolor": "white",
             "linecolor": "white",
             "minorgridcolor": "white",
             "startlinecolor": "#2a3f5f"
            },
            "baxis": {
             "endlinecolor": "#2a3f5f",
             "gridcolor": "white",
             "linecolor": "white",
             "minorgridcolor": "white",
             "startlinecolor": "#2a3f5f"
            },
            "type": "carpet"
           }
          ],
          "choropleth": [
           {
            "colorbar": {
             "outlinewidth": 0,
             "ticks": ""
            },
            "type": "choropleth"
           }
          ],
          "contour": [
           {
            "colorbar": {
             "outlinewidth": 0,
             "ticks": ""
            },
            "colorscale": [
             [
              0,
              "#0d0887"
             ],
             [
              0.1111111111111111,
              "#46039f"
             ],
             [
              0.2222222222222222,
              "#7201a8"
             ],
             [
              0.3333333333333333,
              "#9c179e"
             ],
             [
              0.4444444444444444,
              "#bd3786"
             ],
             [
              0.5555555555555556,
              "#d8576b"
             ],
             [
              0.6666666666666666,
              "#ed7953"
             ],
             [
              0.7777777777777778,
              "#fb9f3a"
             ],
             [
              0.8888888888888888,
              "#fdca26"
             ],
             [
              1,
              "#f0f921"
             ]
            ],
            "type": "contour"
           }
          ],
          "contourcarpet": [
           {
            "colorbar": {
             "outlinewidth": 0,
             "ticks": ""
            },
            "type": "contourcarpet"
           }
          ],
          "heatmap": [
           {
            "colorbar": {
             "outlinewidth": 0,
             "ticks": ""
            },
            "colorscale": [
             [
              0,
              "#0d0887"
             ],
             [
              0.1111111111111111,
              "#46039f"
             ],
             [
              0.2222222222222222,
              "#7201a8"
             ],
             [
              0.3333333333333333,
              "#9c179e"
             ],
             [
              0.4444444444444444,
              "#bd3786"
             ],
             [
              0.5555555555555556,
              "#d8576b"
             ],
             [
              0.6666666666666666,
              "#ed7953"
             ],
             [
              0.7777777777777778,
              "#fb9f3a"
             ],
             [
              0.8888888888888888,
              "#fdca26"
             ],
             [
              1,
              "#f0f921"
             ]
            ],
            "type": "heatmap"
           }
          ],
          "heatmapgl": [
           {
            "colorbar": {
             "outlinewidth": 0,
             "ticks": ""
            },
            "colorscale": [
             [
              0,
              "#0d0887"
             ],
             [
              0.1111111111111111,
              "#46039f"
             ],
             [
              0.2222222222222222,
              "#7201a8"
             ],
             [
              0.3333333333333333,
              "#9c179e"
             ],
             [
              0.4444444444444444,
              "#bd3786"
             ],
             [
              0.5555555555555556,
              "#d8576b"
             ],
             [
              0.6666666666666666,
              "#ed7953"
             ],
             [
              0.7777777777777778,
              "#fb9f3a"
             ],
             [
              0.8888888888888888,
              "#fdca26"
             ],
             [
              1,
              "#f0f921"
             ]
            ],
            "type": "heatmapgl"
           }
          ],
          "histogram": [
           {
            "marker": {
             "colorbar": {
              "outlinewidth": 0,
              "ticks": ""
             }
            },
            "type": "histogram"
           }
          ],
          "histogram2d": [
           {
            "colorbar": {
             "outlinewidth": 0,
             "ticks": ""
            },
            "colorscale": [
             [
              0,
              "#0d0887"
             ],
             [
              0.1111111111111111,
              "#46039f"
             ],
             [
              0.2222222222222222,
              "#7201a8"
             ],
             [
              0.3333333333333333,
              "#9c179e"
             ],
             [
              0.4444444444444444,
              "#bd3786"
             ],
             [
              0.5555555555555556,
              "#d8576b"
             ],
             [
              0.6666666666666666,
              "#ed7953"
             ],
             [
              0.7777777777777778,
              "#fb9f3a"
             ],
             [
              0.8888888888888888,
              "#fdca26"
             ],
             [
              1,
              "#f0f921"
             ]
            ],
            "type": "histogram2d"
           }
          ],
          "histogram2dcontour": [
           {
            "colorbar": {
             "outlinewidth": 0,
             "ticks": ""
            },
            "colorscale": [
             [
              0,
              "#0d0887"
             ],
             [
              0.1111111111111111,
              "#46039f"
             ],
             [
              0.2222222222222222,
              "#7201a8"
             ],
             [
              0.3333333333333333,
              "#9c179e"
             ],
             [
              0.4444444444444444,
              "#bd3786"
             ],
             [
              0.5555555555555556,
              "#d8576b"
             ],
             [
              0.6666666666666666,
              "#ed7953"
             ],
             [
              0.7777777777777778,
              "#fb9f3a"
             ],
             [
              0.8888888888888888,
              "#fdca26"
             ],
             [
              1,
              "#f0f921"
             ]
            ],
            "type": "histogram2dcontour"
           }
          ],
          "mesh3d": [
           {
            "colorbar": {
             "outlinewidth": 0,
             "ticks": ""
            },
            "type": "mesh3d"
           }
          ],
          "parcoords": [
           {
            "line": {
             "colorbar": {
              "outlinewidth": 0,
              "ticks": ""
             }
            },
            "type": "parcoords"
           }
          ],
          "pie": [
           {
            "automargin": true,
            "type": "pie"
           }
          ],
          "scatter": [
           {
            "marker": {
             "colorbar": {
              "outlinewidth": 0,
              "ticks": ""
             }
            },
            "type": "scatter"
           }
          ],
          "scatter3d": [
           {
            "line": {
             "colorbar": {
              "outlinewidth": 0,
              "ticks": ""
             }
            },
            "marker": {
             "colorbar": {
              "outlinewidth": 0,
              "ticks": ""
             }
            },
            "type": "scatter3d"
           }
          ],
          "scattercarpet": [
           {
            "marker": {
             "colorbar": {
              "outlinewidth": 0,
              "ticks": ""
             }
            },
            "type": "scattercarpet"
           }
          ],
          "scattergeo": [
           {
            "marker": {
             "colorbar": {
              "outlinewidth": 0,
              "ticks": ""
             }
            },
            "type": "scattergeo"
           }
          ],
          "scattergl": [
           {
            "marker": {
             "colorbar": {
              "outlinewidth": 0,
              "ticks": ""
             }
            },
            "type": "scattergl"
           }
          ],
          "scattermapbox": [
           {
            "marker": {
             "colorbar": {
              "outlinewidth": 0,
              "ticks": ""
             }
            },
            "type": "scattermapbox"
           }
          ],
          "scatterpolar": [
           {
            "marker": {
             "colorbar": {
              "outlinewidth": 0,
              "ticks": ""
             }
            },
            "type": "scatterpolar"
           }
          ],
          "scatterpolargl": [
           {
            "marker": {
             "colorbar": {
              "outlinewidth": 0,
              "ticks": ""
             }
            },
            "type": "scatterpolargl"
           }
          ],
          "scatterternary": [
           {
            "marker": {
             "colorbar": {
              "outlinewidth": 0,
              "ticks": ""
             }
            },
            "type": "scatterternary"
           }
          ],
          "surface": [
           {
            "colorbar": {
             "outlinewidth": 0,
             "ticks": ""
            },
            "colorscale": [
             [
              0,
              "#0d0887"
             ],
             [
              0.1111111111111111,
              "#46039f"
             ],
             [
              0.2222222222222222,
              "#7201a8"
             ],
             [
              0.3333333333333333,
              "#9c179e"
             ],
             [
              0.4444444444444444,
              "#bd3786"
             ],
             [
              0.5555555555555556,
              "#d8576b"
             ],
             [
              0.6666666666666666,
              "#ed7953"
             ],
             [
              0.7777777777777778,
              "#fb9f3a"
             ],
             [
              0.8888888888888888,
              "#fdca26"
             ],
             [
              1,
              "#f0f921"
             ]
            ],
            "type": "surface"
           }
          ],
          "table": [
           {
            "cells": {
             "fill": {
              "color": "#EBF0F8"
             },
             "line": {
              "color": "white"
             }
            },
            "header": {
             "fill": {
              "color": "#C8D4E3"
             },
             "line": {
              "color": "white"
             }
            },
            "type": "table"
           }
          ]
         },
         "layout": {
          "annotationdefaults": {
           "arrowcolor": "#2a3f5f",
           "arrowhead": 0,
           "arrowwidth": 1
          },
          "coloraxis": {
           "colorbar": {
            "outlinewidth": 0,
            "ticks": ""
           }
          },
          "colorscale": {
           "diverging": [
            [
             0,
             "#8e0152"
            ],
            [
             0.1,
             "#c51b7d"
            ],
            [
             0.2,
             "#de77ae"
            ],
            [
             0.3,
             "#f1b6da"
            ],
            [
             0.4,
             "#fde0ef"
            ],
            [
             0.5,
             "#f7f7f7"
            ],
            [
             0.6,
             "#e6f5d0"
            ],
            [
             0.7,
             "#b8e186"
            ],
            [
             0.8,
             "#7fbc41"
            ],
            [
             0.9,
             "#4d9221"
            ],
            [
             1,
             "#276419"
            ]
           ],
           "sequential": [
            [
             0,
             "#0d0887"
            ],
            [
             0.1111111111111111,
             "#46039f"
            ],
            [
             0.2222222222222222,
             "#7201a8"
            ],
            [
             0.3333333333333333,
             "#9c179e"
            ],
            [
             0.4444444444444444,
             "#bd3786"
            ],
            [
             0.5555555555555556,
             "#d8576b"
            ],
            [
             0.6666666666666666,
             "#ed7953"
            ],
            [
             0.7777777777777778,
             "#fb9f3a"
            ],
            [
             0.8888888888888888,
             "#fdca26"
            ],
            [
             1,
             "#f0f921"
            ]
           ],
           "sequentialminus": [
            [
             0,
             "#0d0887"
            ],
            [
             0.1111111111111111,
             "#46039f"
            ],
            [
             0.2222222222222222,
             "#7201a8"
            ],
            [
             0.3333333333333333,
             "#9c179e"
            ],
            [
             0.4444444444444444,
             "#bd3786"
            ],
            [
             0.5555555555555556,
             "#d8576b"
            ],
            [
             0.6666666666666666,
             "#ed7953"
            ],
            [
             0.7777777777777778,
             "#fb9f3a"
            ],
            [
             0.8888888888888888,
             "#fdca26"
            ],
            [
             1,
             "#f0f921"
            ]
           ]
          },
          "colorway": [
           "#636efa",
           "#EF553B",
           "#00cc96",
           "#ab63fa",
           "#FFA15A",
           "#19d3f3",
           "#FF6692",
           "#B6E880",
           "#FF97FF",
           "#FECB52"
          ],
          "font": {
           "color": "#2a3f5f"
          },
          "geo": {
           "bgcolor": "white",
           "lakecolor": "white",
           "landcolor": "#E5ECF6",
           "showlakes": true,
           "showland": true,
           "subunitcolor": "white"
          },
          "hoverlabel": {
           "align": "left"
          },
          "hovermode": "closest",
          "mapbox": {
           "style": "light"
          },
          "paper_bgcolor": "white",
          "plot_bgcolor": "#E5ECF6",
          "polar": {
           "angularaxis": {
            "gridcolor": "white",
            "linecolor": "white",
            "ticks": ""
           },
           "bgcolor": "#E5ECF6",
           "radialaxis": {
            "gridcolor": "white",
            "linecolor": "white",
            "ticks": ""
           }
          },
          "scene": {
           "xaxis": {
            "backgroundcolor": "#E5ECF6",
            "gridcolor": "white",
            "gridwidth": 2,
            "linecolor": "white",
            "showbackground": true,
            "ticks": "",
            "zerolinecolor": "white"
           },
           "yaxis": {
            "backgroundcolor": "#E5ECF6",
            "gridcolor": "white",
            "gridwidth": 2,
            "linecolor": "white",
            "showbackground": true,
            "ticks": "",
            "zerolinecolor": "white"
           },
           "zaxis": {
            "backgroundcolor": "#E5ECF6",
            "gridcolor": "white",
            "gridwidth": 2,
            "linecolor": "white",
            "showbackground": true,
            "ticks": "",
            "zerolinecolor": "white"
           }
          },
          "shapedefaults": {
           "line": {
            "color": "#2a3f5f"
           }
          },
          "ternary": {
           "aaxis": {
            "gridcolor": "white",
            "linecolor": "white",
            "ticks": ""
           },
           "baxis": {
            "gridcolor": "white",
            "linecolor": "white",
            "ticks": ""
           },
           "bgcolor": "#E5ECF6",
           "caxis": {
            "gridcolor": "white",
            "linecolor": "white",
            "ticks": ""
           }
          },
          "title": {
           "x": 0.05
          },
          "xaxis": {
           "automargin": true,
           "gridcolor": "white",
           "linecolor": "white",
           "ticks": "",
           "title": {
            "standoff": 15
           },
           "zerolinecolor": "white",
           "zerolinewidth": 2
          },
          "yaxis": {
           "automargin": true,
           "gridcolor": "white",
           "linecolor": "white",
           "ticks": "",
           "title": {
            "standoff": 15
           },
           "zerolinecolor": "white",
           "zerolinewidth": 2
          }
         }
        },
        "title": {
         "font": {
          "color": "#4D5663"
         }
        },
        "xaxis": {
         "gridcolor": "#E1E5ED",
         "showgrid": true,
         "tickfont": {
          "color": "#4D5663"
         },
         "title": {
          "font": {
           "color": "#4D5663"
          },
          "text": ""
         },
         "zerolinecolor": "#E1E5ED"
        },
        "xaxis2": {
         "anchor": "y2",
         "gridcolor": "#E1E5ED",
         "showgrid": true,
         "showticklabels": false,
         "tickfont": {
          "color": "#4D5663"
         },
         "title": {
          "font": {
           "color": "#4D5663"
          },
          "text": ""
         },
         "zerolinecolor": "#E1E5ED"
        },
        "yaxis": {
         "domain": [
          0.3,
          1
         ],
         "gridcolor": "#E1E5ED",
         "showgrid": true,
         "tickfont": {
          "color": "#4D5663"
         },
         "title": {
          "font": {
           "color": "#4D5663"
          },
          "text": ""
         },
         "zerolinecolor": "#E1E5ED"
        },
        "yaxis2": {
         "domain": [
          0,
          0.25
         ],
         "gridcolor": "#E1E5ED",
         "showgrid": true,
         "tickfont": {
          "color": "#4D5663"
         },
         "title": {
          "font": {
           "color": "#4D5663"
          },
          "text": "Spread"
         },
         "zerolinecolor": "#E1E5ED"
        }
       }
      },
      "text/html": [
       "<div>                            <div id=\"236554cf-7a32-4886-a819-7c75b1125d6e\" class=\"plotly-graph-div\" style=\"height:525px; width:100%;\"></div>            <script type=\"text/javascript\">                require([\"plotly\"], function(Plotly) {                    window.PLOTLYENV=window.PLOTLYENV || {};\n",
       "                    window.PLOTLYENV.BASE_URL='https://plot.ly';                                    if (document.getElementById(\"236554cf-7a32-4886-a819-7c75b1125d6e\")) {                    Plotly.newPlot(                        \"236554cf-7a32-4886-a819-7c75b1125d6e\",                        [{\"line\": {\"color\": \"rgba(255, 153, 51, 1.0)\", \"dash\": \"solid\", \"shape\": \"linear\", \"width\": 1.3}, \"mode\": \"lines\", \"name\": \"A\", \"text\": \"\", \"type\": \"scatter\", \"x\": [0, 1, 2, 3, 4, 5, 6, 7, 8, 9, 10, 11, 12, 13, 14, 15, 16, 17, 18, 19, 20, 21, 22, 23, 24, 25, 26, 27, 28, 29, 30, 31, 32, 33, 34, 35, 36, 37, 38, 39, 40, 41, 42, 43, 44, 45, 46, 47, 48, 49, 50, 51, 52, 53, 54, 55, 56, 57, 58, 59, 60, 61, 62, 63, 64, 65, 66, 67, 68, 69, 70, 71, 72, 73, 74, 75, 76, 77, 78, 79, 80, 81, 82, 83, 84, 85, 86, 87, 88, 89, 90, 91, 92, 93, 94, 95, 96, 97, 98, 99], \"y\": [0.019430806383181284, 0.608603613411356, 0.07247562241777829, -0.9104428128373663, 1.3735657891542405, 0.07519673113819865, 0.06395658164671109, -1.6195694639137597, 0.7554966666743327, 0.45097740835769223, -0.10156324731745073, -0.4158522716260824, 0.9954541144280701, -0.48555200602878423, 1.490823288469039, -0.13194416978954118, -0.7528004178239888, -0.544262017467453, -1.437649785582203, 0.17187226223968824, -1.2375300092105108, 0.49278868970672296, -0.6361730509889744, -0.13764319117463106, 0.062410111597416565, -0.5187075611984749, -1.4102344376792062, -0.3572026445885095, -0.6376315054537319, -0.08196403616906862, 1.2918666744199032, 1.834095870683521, 1.028800443585434, 0.9937885884309238, -0.37089692485727643, -0.3412877759764047, 2.262481668740981, -0.2951852827270955, 1.1249926939573314, 0.5702750889136583, -0.7551453700363403, 1.0505410054870346, -2.1796411612126207, 1.4633293246578305, -0.9824685130984081, -0.8896242240185488, -0.15830524409511837, 0.8207907173546565, -1.1853010290819173, -0.04668477075582644, -0.4923965618308851, 1.347160076177271, 0.010843352382841287, 0.6173535522890893, -1.5062569479408272, 0.19394046597445944, -1.5703035237848442, -0.8017093258648721, -0.5420091277779893, 0.12398167085240544, 1.0336758962507486, 0.7370393163266648, 1.0215708043915677, -0.40016276626102376, 1.5133921798813612, 0.7624574546404679, 0.12204337931158848, 0.3878926000196656, -1.9858807909062057, 1.5619887939186559, 1.9262998520500085, 0.6179697050361458, -0.2637131372925625, -0.42894690745324804, 0.15220520963924042, 0.2171978777436021, -1.0019800436093944, -0.9082410683140086, -0.9323858380561356, -2.176514619233318, -2.041735481953146, 0.1900171138249872, 0.7957042354908531, -0.5964879028707374, -0.3146446170771317, -2.5337539168618295, -1.0869571144160752, 0.9013311410590518, -0.6131300774164766, 0.7959724948574082, -0.01817478619237521, 0.05015503961687754, 0.376814718222817, -1.548926641719814, 0.26002105343845394, -0.9509949673458841, -0.4274355159462603, 1.3031986142392404, -1.9640602579483455, -1.3617829420408287]}, {\"line\": {\"color\": \"rgba(55, 128, 191, 1.0)\", \"dash\": \"solid\", \"shape\": \"linear\", \"width\": 1.3}, \"mode\": \"lines\", \"name\": \"B\", \"text\": \"\", \"type\": \"scatter\", \"x\": [0, 1, 2, 3, 4, 5, 6, 7, 8, 9, 10, 11, 12, 13, 14, 15, 16, 17, 18, 19, 20, 21, 22, 23, 24, 25, 26, 27, 28, 29, 30, 31, 32, 33, 34, 35, 36, 37, 38, 39, 40, 41, 42, 43, 44, 45, 46, 47, 48, 49, 50, 51, 52, 53, 54, 55, 56, 57, 58, 59, 60, 61, 62, 63, 64, 65, 66, 67, 68, 69, 70, 71, 72, 73, 74, 75, 76, 77, 78, 79, 80, 81, 82, 83, 84, 85, 86, 87, 88, 89, 90, 91, 92, 93, 94, 95, 96, 97, 98, 99], \"y\": [0.23590897280929557, -0.5853191060130026, 0.45041649477698203, -1.4844634650877961, -0.7010019866089757, -1.7713343221822186, 0.3564783560049668, 1.1031620019724644, -0.534524659790858, 1.55516579284802, 0.9245808085412286, 1.3620636205948855, 0.6460233039467143, -1.3287700621303378, 2.113243524617769, -0.7039904787447651, 0.957708167234452, 0.38668960727077833, 1.0905405017303815, -0.15907806493007792, -0.05398389231091074, -0.5336742283108098, 0.3824419930821319, 0.7419908764060871, -0.4140242561179745, 0.2759136081174468, 0.8482704917519138, 2.0059405381970254, -1.3246650717679416, -0.5065540149600787, -0.6936235230043091, -0.19441117112133538, 0.887480460290256, -1.5166569531417406, -0.7190624137948296, 0.4102288680484326, -0.7379062568928512, -0.38612979211456566, -0.9814499423449278, -0.4359275292528566, -0.12292181575473174, 1.9056738072959156, -1.836401325717276, -2.792474660611752, -0.9083337804822073, 2.782345891898233, 0.2381865299508034, 0.9647682007237843, -1.1734425707908456, -1.9609962976837447, 1.904270892330739, -0.10400697771863725, 0.9179842824151149, 0.16380229188572826, -0.02490709779441639, -0.20790133058482613, 0.5399698264563033, -0.9674437863175008, 0.943420239562524, 0.1561027975165673, -1.6553424385101994, 0.8709325231705167, 1.3197016755016702, -2.287162353986225, 0.552534163797248, -2.9316789514534003, -1.413578565746748, 0.3066964640228571, -0.8862210615838182, 2.2245689170171943, -0.5073138082557282, 2.295896889626357, 0.03791532397259017, -0.27422129122939853, 0.12873175025274455, 0.4837720574093124, -0.29738246943237895, -0.0988932565886435, -1.3368837027277733, 0.07779215851650331, -2.1254522743271664, -0.35883373446418565, 0.008131872263935342, 1.3898536362783147, 1.010414278850495, -0.1442294615435738, 0.9808125838800891, -0.4968630660898616, -1.778081760893912, -0.12516367093881087, 0.06968580548842876, -0.7992199722691573, 0.217143175038511, 0.31265034609776243, 0.3134863468368505, 0.7484128321632029, -0.44746867845204136, -1.5837350747526953, -0.5834240333463931, -1.522918964431989]}, {\"connectgaps\": false, \"fill\": \"tozeroy\", \"line\": {\"color\": \"green\", \"dash\": \"solid\", \"shape\": \"linear\", \"width\": 0.5}, \"mode\": \"lines\", \"name\": \"Spread\", \"showlegend\": false, \"type\": \"scatter\", \"x\": [0, 1, 2, 3, 4, 5, 6, 7, 8, 9, 10, 11, 12, 13, 14, 15, 16, 17, 18, 19, 20, 21, 22, 23, 24, 25, 26, 27, 28, 29, 30, 31, 32, 33, 34, 35, 36, 37, 38, 39, 40, 41, 42, 43, 44, 45, 46, 47, 48, 49, 50, 51, 52, 53, 54, 55, 56, 57, 58, 59, 60, 61, 62, 63, 64, 65, 66, 67, 68, 69, 70, 71, 72, 73, 74, 75, 76, 77, 78, 79, 80, 81, 82, 83, 84, 85, 86, 87, 88, 89, 90, 91, 92, 93, 94, 95, 96, 97, 98, 99], \"xaxis\": \"x2\", \"y\": [\"\", 1.1939227194243587, \"\", 0.5740206522504299, 2.0745677757632164, 1.8465310533204173, \"\", \"\", 1.2900213264651907, \"\", \"\", \"\", 0.3494308104813558, 0.8432180561015535, \"\", 0.5720463089552239, \"\", \"\", \"\", 0.33095032716976613, \"\", 1.0264629180175326, \"\", \"\", 0.47643436771539105, \"\", \"\", \"\", 0.6870335663142096, 0.42458997879101007, 1.9854901974242123, 2.0285070418048563, 0.14131998329517814, 2.5104455415726643, 0.34816548893755317, \"\", 3.000387925633832, 0.09094450938747017, 2.1064426363022593, 1.006202618166515, \"\", \"\", \"\", 4.255803985269583, \"\", \"\", \"\", \"\", \"\", 1.9143115269279183, \"\", 1.4511670538959083, \"\", 0.453551260403361, \"\", 0.40184179655928554, \"\", 0.16573446045262874, \"\", \"\", 2.6890183347609478, \"\", \"\", 1.8869995877252013, 0.9608580160841133, 3.694136406093868, 1.5356219450583364, 0.08119613599680847, \"\", \"\", 2.4336136603057366, \"\", \"\", \"\", 0.023473459386495865, \"\", \"\", \"\", 0.40449786467163773, \"\", 0.08371679237402052, 0.5488508482891729, 0.7875723632269178, \"\", \"\", \"\", \"\", 1.3981942071489133, 1.1649516834774354, 0.921136165796219, \"\", 0.8493750118860348, 0.159671543184306, \"\", \"\", \"\", 0.020033162505781077, 2.8869336889919355, \"\", 0.1611360223911602], \"yaxis\": \"y2\"}, {\"connectgaps\": false, \"fill\": \"tozeroy\", \"line\": {\"color\": \"red\", \"dash\": \"solid\", \"shape\": \"linear\", \"width\": 0.5}, \"mode\": \"lines\", \"name\": \"Spread\", \"showlegend\": false, \"type\": \"scatter\", \"x\": [0, 1, 2, 3, 4, 5, 6, 7, 8, 9, 10, 11, 12, 13, 14, 15, 16, 17, 18, 19, 20, 21, 22, 23, 24, 25, 26, 27, 28, 29, 30, 31, 32, 33, 34, 35, 36, 37, 38, 39, 40, 41, 42, 43, 44, 45, 46, 47, 48, 49, 50, 51, 52, 53, 54, 55, 56, 57, 58, 59, 60, 61, 62, 63, 64, 65, 66, 67, 68, 69, 70, 71, 72, 73, 74, 75, 76, 77, 78, 79, 80, 81, 82, 83, 84, 85, 86, 87, 88, 89, 90, 91, 92, 93, 94, 95, 96, 97, 98, 99], \"xaxis\": \"x2\", \"y\": [-0.21647816642611428, \"\", -0.37794087235920376, \"\", \"\", \"\", -0.2925217743582557, -2.7227314658862243, \"\", -1.1041883844903277, -1.0261440558586794, -1.777915892220968, \"\", \"\", -0.6224202361487299, \"\", -1.7105085850584407, -0.9309516247382312, -2.5281902873125848, \"\", -1.1835461168996, \"\", -1.0186150440711064, -0.8796340675807182, \"\", -0.7946211693159217, -2.25850492943112, -2.363143182785535, \"\", \"\", \"\", \"\", \"\", \"\", \"\", -0.7515166440248373, \"\", \"\", \"\", \"\", -0.6322235542816086, -0.8551328018088811, -0.34323983549534476, \"\", -0.07413473261620085, -3.671970115916782, -0.39649177404592173, -0.14397748336912786, -0.011858458291071683, \"\", -2.396667454161624, \"\", -0.9071409300322736, \"\", -1.4813498501464109, \"\", -2.1102733502411475, \"\", -1.4854293673405132, -0.032121126664161864, \"\", -0.13389320684385198, -0.2981308711101025, \"\", \"\", \"\", \"\", \"\", -1.0996597293223875, -0.6625801230985384, \"\", -1.677927184590211, -0.3016284612651527, -0.1547256162238495, \"\", -0.2665741796657103, -0.7045975741770154, -0.8093478117253652, \"\", -2.254306777749821, \"\", \"\", \"\", -1.986341539149052, -1.3250588959276268, -2.3895244553182557, -2.067769698296164, \"\", \"\", \"\", -0.08786059168080397, \"\", \"\", -1.8615769878175765, -0.05346529339839656, -1.6994077995090868, \"\", \"\", -1.3806362246019523, \"\"], \"yaxis\": \"y2\"}],                        {\"hovermode\": \"x\", \"legend\": {\"bgcolor\": \"#F5F6F9\", \"font\": {\"color\": \"#4D5663\"}}, \"paper_bgcolor\": \"#F5F6F9\", \"plot_bgcolor\": \"#F5F6F9\", \"template\": {\"data\": {\"bar\": [{\"error_x\": {\"color\": \"#2a3f5f\"}, \"error_y\": {\"color\": \"#2a3f5f\"}, \"marker\": {\"line\": {\"color\": \"#E5ECF6\", \"width\": 0.5}}, \"type\": \"bar\"}], \"barpolar\": [{\"marker\": {\"line\": {\"color\": \"#E5ECF6\", \"width\": 0.5}}, \"type\": \"barpolar\"}], \"carpet\": [{\"aaxis\": {\"endlinecolor\": \"#2a3f5f\", \"gridcolor\": \"white\", \"linecolor\": \"white\", \"minorgridcolor\": \"white\", \"startlinecolor\": \"#2a3f5f\"}, \"baxis\": {\"endlinecolor\": \"#2a3f5f\", \"gridcolor\": \"white\", \"linecolor\": \"white\", \"minorgridcolor\": \"white\", \"startlinecolor\": \"#2a3f5f\"}, \"type\": \"carpet\"}], \"choropleth\": [{\"colorbar\": {\"outlinewidth\": 0, \"ticks\": \"\"}, \"type\": \"choropleth\"}], \"contour\": [{\"colorbar\": {\"outlinewidth\": 0, \"ticks\": \"\"}, \"colorscale\": [[0.0, \"#0d0887\"], [0.1111111111111111, \"#46039f\"], [0.2222222222222222, \"#7201a8\"], [0.3333333333333333, \"#9c179e\"], [0.4444444444444444, \"#bd3786\"], [0.5555555555555556, \"#d8576b\"], [0.6666666666666666, \"#ed7953\"], [0.7777777777777778, \"#fb9f3a\"], [0.8888888888888888, \"#fdca26\"], [1.0, \"#f0f921\"]], \"type\": \"contour\"}], \"contourcarpet\": [{\"colorbar\": {\"outlinewidth\": 0, \"ticks\": \"\"}, \"type\": \"contourcarpet\"}], \"heatmap\": [{\"colorbar\": {\"outlinewidth\": 0, \"ticks\": \"\"}, \"colorscale\": [[0.0, \"#0d0887\"], [0.1111111111111111, \"#46039f\"], [0.2222222222222222, \"#7201a8\"], [0.3333333333333333, \"#9c179e\"], [0.4444444444444444, \"#bd3786\"], [0.5555555555555556, \"#d8576b\"], [0.6666666666666666, \"#ed7953\"], [0.7777777777777778, \"#fb9f3a\"], [0.8888888888888888, \"#fdca26\"], [1.0, \"#f0f921\"]], \"type\": \"heatmap\"}], \"heatmapgl\": [{\"colorbar\": {\"outlinewidth\": 0, \"ticks\": \"\"}, \"colorscale\": [[0.0, \"#0d0887\"], [0.1111111111111111, \"#46039f\"], [0.2222222222222222, \"#7201a8\"], [0.3333333333333333, \"#9c179e\"], [0.4444444444444444, \"#bd3786\"], [0.5555555555555556, \"#d8576b\"], [0.6666666666666666, \"#ed7953\"], [0.7777777777777778, \"#fb9f3a\"], [0.8888888888888888, \"#fdca26\"], [1.0, \"#f0f921\"]], \"type\": \"heatmapgl\"}], \"histogram\": [{\"marker\": {\"colorbar\": {\"outlinewidth\": 0, \"ticks\": \"\"}}, \"type\": \"histogram\"}], \"histogram2d\": [{\"colorbar\": {\"outlinewidth\": 0, \"ticks\": \"\"}, \"colorscale\": [[0.0, \"#0d0887\"], [0.1111111111111111, \"#46039f\"], [0.2222222222222222, \"#7201a8\"], [0.3333333333333333, \"#9c179e\"], [0.4444444444444444, \"#bd3786\"], [0.5555555555555556, \"#d8576b\"], [0.6666666666666666, \"#ed7953\"], [0.7777777777777778, \"#fb9f3a\"], [0.8888888888888888, \"#fdca26\"], [1.0, \"#f0f921\"]], \"type\": \"histogram2d\"}], \"histogram2dcontour\": [{\"colorbar\": {\"outlinewidth\": 0, \"ticks\": \"\"}, \"colorscale\": [[0.0, \"#0d0887\"], [0.1111111111111111, \"#46039f\"], [0.2222222222222222, \"#7201a8\"], [0.3333333333333333, \"#9c179e\"], [0.4444444444444444, \"#bd3786\"], [0.5555555555555556, \"#d8576b\"], [0.6666666666666666, \"#ed7953\"], [0.7777777777777778, \"#fb9f3a\"], [0.8888888888888888, \"#fdca26\"], [1.0, \"#f0f921\"]], \"type\": \"histogram2dcontour\"}], \"mesh3d\": [{\"colorbar\": {\"outlinewidth\": 0, \"ticks\": \"\"}, \"type\": \"mesh3d\"}], \"parcoords\": [{\"line\": {\"colorbar\": {\"outlinewidth\": 0, \"ticks\": \"\"}}, \"type\": \"parcoords\"}], \"pie\": [{\"automargin\": true, \"type\": \"pie\"}], \"scatter\": [{\"marker\": {\"colorbar\": {\"outlinewidth\": 0, \"ticks\": \"\"}}, \"type\": \"scatter\"}], \"scatter3d\": [{\"line\": {\"colorbar\": {\"outlinewidth\": 0, \"ticks\": \"\"}}, \"marker\": {\"colorbar\": {\"outlinewidth\": 0, \"ticks\": \"\"}}, \"type\": \"scatter3d\"}], \"scattercarpet\": [{\"marker\": {\"colorbar\": {\"outlinewidth\": 0, \"ticks\": \"\"}}, \"type\": \"scattercarpet\"}], \"scattergeo\": [{\"marker\": {\"colorbar\": {\"outlinewidth\": 0, \"ticks\": \"\"}}, \"type\": \"scattergeo\"}], \"scattergl\": [{\"marker\": {\"colorbar\": {\"outlinewidth\": 0, \"ticks\": \"\"}}, \"type\": \"scattergl\"}], \"scattermapbox\": [{\"marker\": {\"colorbar\": {\"outlinewidth\": 0, \"ticks\": \"\"}}, \"type\": \"scattermapbox\"}], \"scatterpolar\": [{\"marker\": {\"colorbar\": {\"outlinewidth\": 0, \"ticks\": \"\"}}, \"type\": \"scatterpolar\"}], \"scatterpolargl\": [{\"marker\": {\"colorbar\": {\"outlinewidth\": 0, \"ticks\": \"\"}}, \"type\": \"scatterpolargl\"}], \"scatterternary\": [{\"marker\": {\"colorbar\": {\"outlinewidth\": 0, \"ticks\": \"\"}}, \"type\": \"scatterternary\"}], \"surface\": [{\"colorbar\": {\"outlinewidth\": 0, \"ticks\": \"\"}, \"colorscale\": [[0.0, \"#0d0887\"], [0.1111111111111111, \"#46039f\"], [0.2222222222222222, \"#7201a8\"], [0.3333333333333333, \"#9c179e\"], [0.4444444444444444, \"#bd3786\"], [0.5555555555555556, \"#d8576b\"], [0.6666666666666666, \"#ed7953\"], [0.7777777777777778, \"#fb9f3a\"], [0.8888888888888888, \"#fdca26\"], [1.0, \"#f0f921\"]], \"type\": \"surface\"}], \"table\": [{\"cells\": {\"fill\": {\"color\": \"#EBF0F8\"}, \"line\": {\"color\": \"white\"}}, \"header\": {\"fill\": {\"color\": \"#C8D4E3\"}, \"line\": {\"color\": \"white\"}}, \"type\": \"table\"}]}, \"layout\": {\"annotationdefaults\": {\"arrowcolor\": \"#2a3f5f\", \"arrowhead\": 0, \"arrowwidth\": 1}, \"coloraxis\": {\"colorbar\": {\"outlinewidth\": 0, \"ticks\": \"\"}}, \"colorscale\": {\"diverging\": [[0, \"#8e0152\"], [0.1, \"#c51b7d\"], [0.2, \"#de77ae\"], [0.3, \"#f1b6da\"], [0.4, \"#fde0ef\"], [0.5, \"#f7f7f7\"], [0.6, \"#e6f5d0\"], [0.7, \"#b8e186\"], [0.8, \"#7fbc41\"], [0.9, \"#4d9221\"], [1, \"#276419\"]], \"sequential\": [[0.0, \"#0d0887\"], [0.1111111111111111, \"#46039f\"], [0.2222222222222222, \"#7201a8\"], [0.3333333333333333, \"#9c179e\"], [0.4444444444444444, \"#bd3786\"], [0.5555555555555556, \"#d8576b\"], [0.6666666666666666, \"#ed7953\"], [0.7777777777777778, \"#fb9f3a\"], [0.8888888888888888, \"#fdca26\"], [1.0, \"#f0f921\"]], \"sequentialminus\": [[0.0, \"#0d0887\"], [0.1111111111111111, \"#46039f\"], [0.2222222222222222, \"#7201a8\"], [0.3333333333333333, \"#9c179e\"], [0.4444444444444444, \"#bd3786\"], [0.5555555555555556, \"#d8576b\"], [0.6666666666666666, \"#ed7953\"], [0.7777777777777778, \"#fb9f3a\"], [0.8888888888888888, \"#fdca26\"], [1.0, \"#f0f921\"]]}, \"colorway\": [\"#636efa\", \"#EF553B\", \"#00cc96\", \"#ab63fa\", \"#FFA15A\", \"#19d3f3\", \"#FF6692\", \"#B6E880\", \"#FF97FF\", \"#FECB52\"], \"font\": {\"color\": \"#2a3f5f\"}, \"geo\": {\"bgcolor\": \"white\", \"lakecolor\": \"white\", \"landcolor\": \"#E5ECF6\", \"showlakes\": true, \"showland\": true, \"subunitcolor\": \"white\"}, \"hoverlabel\": {\"align\": \"left\"}, \"hovermode\": \"closest\", \"mapbox\": {\"style\": \"light\"}, \"paper_bgcolor\": \"white\", \"plot_bgcolor\": \"#E5ECF6\", \"polar\": {\"angularaxis\": {\"gridcolor\": \"white\", \"linecolor\": \"white\", \"ticks\": \"\"}, \"bgcolor\": \"#E5ECF6\", \"radialaxis\": {\"gridcolor\": \"white\", \"linecolor\": \"white\", \"ticks\": \"\"}}, \"scene\": {\"xaxis\": {\"backgroundcolor\": \"#E5ECF6\", \"gridcolor\": \"white\", \"gridwidth\": 2, \"linecolor\": \"white\", \"showbackground\": true, \"ticks\": \"\", \"zerolinecolor\": \"white\"}, \"yaxis\": {\"backgroundcolor\": \"#E5ECF6\", \"gridcolor\": \"white\", \"gridwidth\": 2, \"linecolor\": \"white\", \"showbackground\": true, \"ticks\": \"\", \"zerolinecolor\": \"white\"}, \"zaxis\": {\"backgroundcolor\": \"#E5ECF6\", \"gridcolor\": \"white\", \"gridwidth\": 2, \"linecolor\": \"white\", \"showbackground\": true, \"ticks\": \"\", \"zerolinecolor\": \"white\"}}, \"shapedefaults\": {\"line\": {\"color\": \"#2a3f5f\"}}, \"ternary\": {\"aaxis\": {\"gridcolor\": \"white\", \"linecolor\": \"white\", \"ticks\": \"\"}, \"baxis\": {\"gridcolor\": \"white\", \"linecolor\": \"white\", \"ticks\": \"\"}, \"bgcolor\": \"#E5ECF6\", \"caxis\": {\"gridcolor\": \"white\", \"linecolor\": \"white\", \"ticks\": \"\"}}, \"title\": {\"x\": 0.05}, \"xaxis\": {\"automargin\": true, \"gridcolor\": \"white\", \"linecolor\": \"white\", \"ticks\": \"\", \"title\": {\"standoff\": 15}, \"zerolinecolor\": \"white\", \"zerolinewidth\": 2}, \"yaxis\": {\"automargin\": true, \"gridcolor\": \"white\", \"linecolor\": \"white\", \"ticks\": \"\", \"title\": {\"standoff\": 15}, \"zerolinecolor\": \"white\", \"zerolinewidth\": 2}}}, \"title\": {\"font\": {\"color\": \"#4D5663\"}}, \"xaxis\": {\"gridcolor\": \"#E1E5ED\", \"showgrid\": true, \"tickfont\": {\"color\": \"#4D5663\"}, \"title\": {\"font\": {\"color\": \"#4D5663\"}, \"text\": \"\"}, \"zerolinecolor\": \"#E1E5ED\"}, \"xaxis2\": {\"anchor\": \"y2\", \"gridcolor\": \"#E1E5ED\", \"showgrid\": true, \"showticklabels\": false, \"tickfont\": {\"color\": \"#4D5663\"}, \"title\": {\"font\": {\"color\": \"#4D5663\"}, \"text\": \"\"}, \"zerolinecolor\": \"#E1E5ED\"}, \"yaxis\": {\"domain\": [0.3, 1], \"gridcolor\": \"#E1E5ED\", \"showgrid\": true, \"tickfont\": {\"color\": \"#4D5663\"}, \"title\": {\"font\": {\"color\": \"#4D5663\"}, \"text\": \"\"}, \"zerolinecolor\": \"#E1E5ED\"}, \"yaxis2\": {\"domain\": [0, 0.25], \"gridcolor\": \"#E1E5ED\", \"showgrid\": true, \"tickfont\": {\"color\": \"#4D5663\"}, \"title\": {\"font\": {\"color\": \"#4D5663\"}, \"text\": \"Spread\"}, \"zerolinecolor\": \"#E1E5ED\"}},                        {\"showLink\": true, \"linkText\": \"Export to plot.ly\", \"plotlyServerURL\": \"https://plot.ly\", \"responsive\": true}                    ).then(function(){\n",
       "                            \n",
       "var gd = document.getElementById('236554cf-7a32-4886-a819-7c75b1125d6e');\n",
       "var x = new MutationObserver(function (mutations, observer) {{\n",
       "        var display = window.getComputedStyle(gd).display;\n",
       "        if (!display || display === 'none') {{\n",
       "            console.log([gd, 'removed!']);\n",
       "            Plotly.purge(gd);\n",
       "            observer.disconnect();\n",
       "        }}\n",
       "}});\n",
       "\n",
       "// Listen for the removal of the full notebook cells\n",
       "var notebookContainer = gd.closest('#notebook-container');\n",
       "if (notebookContainer) {{\n",
       "    x.observe(notebookContainer, {childList: true});\n",
       "}}\n",
       "\n",
       "// Listen for the clearing of the current output cell\n",
       "var outputEl = gd.closest('.output');\n",
       "if (outputEl) {{\n",
       "    x.observe(outputEl, {childList: true});\n",
       "}}\n",
       "\n",
       "                        })                };                });            </script>        </div>"
      ]
     },
     "metadata": {},
     "output_type": "display_data"
    }
   ],
   "source": [
    "df[['A','B']].iplot(kind='spread')"
   ]
  },
  {
   "cell_type": "markdown",
   "metadata": {},
   "source": [
    "## histogram"
   ]
  },
  {
   "cell_type": "code",
   "execution_count": 26,
   "metadata": {},
   "outputs": [
    {
     "data": {
      "application/vnd.plotly.v1+json": {
       "config": {
        "linkText": "Export to plot.ly",
        "plotlyServerURL": "https://plot.ly",
        "showLink": true
       },
       "data": [
        {
         "histfunc": "count",
         "histnorm": "",
         "marker": {
          "color": "rgba(255, 153, 51, 1.0)",
          "line": {
           "color": "#4D5663",
           "width": 1.3
          }
         },
         "name": "A",
         "nbinsx": 25,
         "opacity": 0.8,
         "orientation": "v",
         "type": "histogram",
         "x": [
          0.019430806383181284,
          0.608603613411356,
          0.07247562241777829,
          -0.9104428128373663,
          1.3735657891542405,
          0.07519673113819865,
          0.06395658164671109,
          -1.6195694639137597,
          0.7554966666743327,
          0.45097740835769223,
          -0.10156324731745073,
          -0.4158522716260824,
          0.9954541144280701,
          -0.48555200602878423,
          1.490823288469039,
          -0.13194416978954118,
          -0.7528004178239888,
          -0.544262017467453,
          -1.437649785582203,
          0.17187226223968824,
          -1.2375300092105108,
          0.49278868970672296,
          -0.6361730509889744,
          -0.13764319117463106,
          0.062410111597416565,
          -0.5187075611984749,
          -1.4102344376792062,
          -0.3572026445885095,
          -0.6376315054537319,
          -0.08196403616906862,
          1.2918666744199032,
          1.834095870683521,
          1.028800443585434,
          0.9937885884309238,
          -0.37089692485727643,
          -0.3412877759764047,
          2.262481668740981,
          -0.2951852827270955,
          1.1249926939573314,
          0.5702750889136583,
          -0.7551453700363403,
          1.0505410054870346,
          -2.1796411612126207,
          1.4633293246578305,
          -0.9824685130984081,
          -0.8896242240185488,
          -0.15830524409511837,
          0.8207907173546565,
          -1.1853010290819173,
          -0.04668477075582644,
          -0.4923965618308851,
          1.347160076177271,
          0.010843352382841287,
          0.6173535522890893,
          -1.5062569479408272,
          0.19394046597445944,
          -1.5703035237848442,
          -0.8017093258648721,
          -0.5420091277779893,
          0.12398167085240544,
          1.0336758962507486,
          0.7370393163266648,
          1.0215708043915677,
          -0.40016276626102376,
          1.5133921798813612,
          0.7624574546404679,
          0.12204337931158848,
          0.3878926000196656,
          -1.9858807909062057,
          1.5619887939186559,
          1.9262998520500085,
          0.6179697050361458,
          -0.2637131372925625,
          -0.42894690745324804,
          0.15220520963924042,
          0.2171978777436021,
          -1.0019800436093944,
          -0.9082410683140086,
          -0.9323858380561356,
          -2.176514619233318,
          -2.041735481953146,
          0.1900171138249872,
          0.7957042354908531,
          -0.5964879028707374,
          -0.3146446170771317,
          -2.5337539168618295,
          -1.0869571144160752,
          0.9013311410590518,
          -0.6131300774164766,
          0.7959724948574082,
          -0.01817478619237521,
          0.05015503961687754,
          0.376814718222817,
          -1.548926641719814,
          0.26002105343845394,
          -0.9509949673458841,
          -0.4274355159462603,
          1.3031986142392404,
          -1.9640602579483455,
          -1.3617829420408287
         ]
        }
       ],
       "layout": {
        "barmode": "overlay",
        "legend": {
         "bgcolor": "#F5F6F9",
         "font": {
          "color": "#4D5663"
         }
        },
        "paper_bgcolor": "#F5F6F9",
        "plot_bgcolor": "#F5F6F9",
        "template": {
         "data": {
          "bar": [
           {
            "error_x": {
             "color": "#2a3f5f"
            },
            "error_y": {
             "color": "#2a3f5f"
            },
            "marker": {
             "line": {
              "color": "#E5ECF6",
              "width": 0.5
             }
            },
            "type": "bar"
           }
          ],
          "barpolar": [
           {
            "marker": {
             "line": {
              "color": "#E5ECF6",
              "width": 0.5
             }
            },
            "type": "barpolar"
           }
          ],
          "carpet": [
           {
            "aaxis": {
             "endlinecolor": "#2a3f5f",
             "gridcolor": "white",
             "linecolor": "white",
             "minorgridcolor": "white",
             "startlinecolor": "#2a3f5f"
            },
            "baxis": {
             "endlinecolor": "#2a3f5f",
             "gridcolor": "white",
             "linecolor": "white",
             "minorgridcolor": "white",
             "startlinecolor": "#2a3f5f"
            },
            "type": "carpet"
           }
          ],
          "choropleth": [
           {
            "colorbar": {
             "outlinewidth": 0,
             "ticks": ""
            },
            "type": "choropleth"
           }
          ],
          "contour": [
           {
            "colorbar": {
             "outlinewidth": 0,
             "ticks": ""
            },
            "colorscale": [
             [
              0,
              "#0d0887"
             ],
             [
              0.1111111111111111,
              "#46039f"
             ],
             [
              0.2222222222222222,
              "#7201a8"
             ],
             [
              0.3333333333333333,
              "#9c179e"
             ],
             [
              0.4444444444444444,
              "#bd3786"
             ],
             [
              0.5555555555555556,
              "#d8576b"
             ],
             [
              0.6666666666666666,
              "#ed7953"
             ],
             [
              0.7777777777777778,
              "#fb9f3a"
             ],
             [
              0.8888888888888888,
              "#fdca26"
             ],
             [
              1,
              "#f0f921"
             ]
            ],
            "type": "contour"
           }
          ],
          "contourcarpet": [
           {
            "colorbar": {
             "outlinewidth": 0,
             "ticks": ""
            },
            "type": "contourcarpet"
           }
          ],
          "heatmap": [
           {
            "colorbar": {
             "outlinewidth": 0,
             "ticks": ""
            },
            "colorscale": [
             [
              0,
              "#0d0887"
             ],
             [
              0.1111111111111111,
              "#46039f"
             ],
             [
              0.2222222222222222,
              "#7201a8"
             ],
             [
              0.3333333333333333,
              "#9c179e"
             ],
             [
              0.4444444444444444,
              "#bd3786"
             ],
             [
              0.5555555555555556,
              "#d8576b"
             ],
             [
              0.6666666666666666,
              "#ed7953"
             ],
             [
              0.7777777777777778,
              "#fb9f3a"
             ],
             [
              0.8888888888888888,
              "#fdca26"
             ],
             [
              1,
              "#f0f921"
             ]
            ],
            "type": "heatmap"
           }
          ],
          "heatmapgl": [
           {
            "colorbar": {
             "outlinewidth": 0,
             "ticks": ""
            },
            "colorscale": [
             [
              0,
              "#0d0887"
             ],
             [
              0.1111111111111111,
              "#46039f"
             ],
             [
              0.2222222222222222,
              "#7201a8"
             ],
             [
              0.3333333333333333,
              "#9c179e"
             ],
             [
              0.4444444444444444,
              "#bd3786"
             ],
             [
              0.5555555555555556,
              "#d8576b"
             ],
             [
              0.6666666666666666,
              "#ed7953"
             ],
             [
              0.7777777777777778,
              "#fb9f3a"
             ],
             [
              0.8888888888888888,
              "#fdca26"
             ],
             [
              1,
              "#f0f921"
             ]
            ],
            "type": "heatmapgl"
           }
          ],
          "histogram": [
           {
            "marker": {
             "colorbar": {
              "outlinewidth": 0,
              "ticks": ""
             }
            },
            "type": "histogram"
           }
          ],
          "histogram2d": [
           {
            "colorbar": {
             "outlinewidth": 0,
             "ticks": ""
            },
            "colorscale": [
             [
              0,
              "#0d0887"
             ],
             [
              0.1111111111111111,
              "#46039f"
             ],
             [
              0.2222222222222222,
              "#7201a8"
             ],
             [
              0.3333333333333333,
              "#9c179e"
             ],
             [
              0.4444444444444444,
              "#bd3786"
             ],
             [
              0.5555555555555556,
              "#d8576b"
             ],
             [
              0.6666666666666666,
              "#ed7953"
             ],
             [
              0.7777777777777778,
              "#fb9f3a"
             ],
             [
              0.8888888888888888,
              "#fdca26"
             ],
             [
              1,
              "#f0f921"
             ]
            ],
            "type": "histogram2d"
           }
          ],
          "histogram2dcontour": [
           {
            "colorbar": {
             "outlinewidth": 0,
             "ticks": ""
            },
            "colorscale": [
             [
              0,
              "#0d0887"
             ],
             [
              0.1111111111111111,
              "#46039f"
             ],
             [
              0.2222222222222222,
              "#7201a8"
             ],
             [
              0.3333333333333333,
              "#9c179e"
             ],
             [
              0.4444444444444444,
              "#bd3786"
             ],
             [
              0.5555555555555556,
              "#d8576b"
             ],
             [
              0.6666666666666666,
              "#ed7953"
             ],
             [
              0.7777777777777778,
              "#fb9f3a"
             ],
             [
              0.8888888888888888,
              "#fdca26"
             ],
             [
              1,
              "#f0f921"
             ]
            ],
            "type": "histogram2dcontour"
           }
          ],
          "mesh3d": [
           {
            "colorbar": {
             "outlinewidth": 0,
             "ticks": ""
            },
            "type": "mesh3d"
           }
          ],
          "parcoords": [
           {
            "line": {
             "colorbar": {
              "outlinewidth": 0,
              "ticks": ""
             }
            },
            "type": "parcoords"
           }
          ],
          "pie": [
           {
            "automargin": true,
            "type": "pie"
           }
          ],
          "scatter": [
           {
            "marker": {
             "colorbar": {
              "outlinewidth": 0,
              "ticks": ""
             }
            },
            "type": "scatter"
           }
          ],
          "scatter3d": [
           {
            "line": {
             "colorbar": {
              "outlinewidth": 0,
              "ticks": ""
             }
            },
            "marker": {
             "colorbar": {
              "outlinewidth": 0,
              "ticks": ""
             }
            },
            "type": "scatter3d"
           }
          ],
          "scattercarpet": [
           {
            "marker": {
             "colorbar": {
              "outlinewidth": 0,
              "ticks": ""
             }
            },
            "type": "scattercarpet"
           }
          ],
          "scattergeo": [
           {
            "marker": {
             "colorbar": {
              "outlinewidth": 0,
              "ticks": ""
             }
            },
            "type": "scattergeo"
           }
          ],
          "scattergl": [
           {
            "marker": {
             "colorbar": {
              "outlinewidth": 0,
              "ticks": ""
             }
            },
            "type": "scattergl"
           }
          ],
          "scattermapbox": [
           {
            "marker": {
             "colorbar": {
              "outlinewidth": 0,
              "ticks": ""
             }
            },
            "type": "scattermapbox"
           }
          ],
          "scatterpolar": [
           {
            "marker": {
             "colorbar": {
              "outlinewidth": 0,
              "ticks": ""
             }
            },
            "type": "scatterpolar"
           }
          ],
          "scatterpolargl": [
           {
            "marker": {
             "colorbar": {
              "outlinewidth": 0,
              "ticks": ""
             }
            },
            "type": "scatterpolargl"
           }
          ],
          "scatterternary": [
           {
            "marker": {
             "colorbar": {
              "outlinewidth": 0,
              "ticks": ""
             }
            },
            "type": "scatterternary"
           }
          ],
          "surface": [
           {
            "colorbar": {
             "outlinewidth": 0,
             "ticks": ""
            },
            "colorscale": [
             [
              0,
              "#0d0887"
             ],
             [
              0.1111111111111111,
              "#46039f"
             ],
             [
              0.2222222222222222,
              "#7201a8"
             ],
             [
              0.3333333333333333,
              "#9c179e"
             ],
             [
              0.4444444444444444,
              "#bd3786"
             ],
             [
              0.5555555555555556,
              "#d8576b"
             ],
             [
              0.6666666666666666,
              "#ed7953"
             ],
             [
              0.7777777777777778,
              "#fb9f3a"
             ],
             [
              0.8888888888888888,
              "#fdca26"
             ],
             [
              1,
              "#f0f921"
             ]
            ],
            "type": "surface"
           }
          ],
          "table": [
           {
            "cells": {
             "fill": {
              "color": "#EBF0F8"
             },
             "line": {
              "color": "white"
             }
            },
            "header": {
             "fill": {
              "color": "#C8D4E3"
             },
             "line": {
              "color": "white"
             }
            },
            "type": "table"
           }
          ]
         },
         "layout": {
          "annotationdefaults": {
           "arrowcolor": "#2a3f5f",
           "arrowhead": 0,
           "arrowwidth": 1
          },
          "coloraxis": {
           "colorbar": {
            "outlinewidth": 0,
            "ticks": ""
           }
          },
          "colorscale": {
           "diverging": [
            [
             0,
             "#8e0152"
            ],
            [
             0.1,
             "#c51b7d"
            ],
            [
             0.2,
             "#de77ae"
            ],
            [
             0.3,
             "#f1b6da"
            ],
            [
             0.4,
             "#fde0ef"
            ],
            [
             0.5,
             "#f7f7f7"
            ],
            [
             0.6,
             "#e6f5d0"
            ],
            [
             0.7,
             "#b8e186"
            ],
            [
             0.8,
             "#7fbc41"
            ],
            [
             0.9,
             "#4d9221"
            ],
            [
             1,
             "#276419"
            ]
           ],
           "sequential": [
            [
             0,
             "#0d0887"
            ],
            [
             0.1111111111111111,
             "#46039f"
            ],
            [
             0.2222222222222222,
             "#7201a8"
            ],
            [
             0.3333333333333333,
             "#9c179e"
            ],
            [
             0.4444444444444444,
             "#bd3786"
            ],
            [
             0.5555555555555556,
             "#d8576b"
            ],
            [
             0.6666666666666666,
             "#ed7953"
            ],
            [
             0.7777777777777778,
             "#fb9f3a"
            ],
            [
             0.8888888888888888,
             "#fdca26"
            ],
            [
             1,
             "#f0f921"
            ]
           ],
           "sequentialminus": [
            [
             0,
             "#0d0887"
            ],
            [
             0.1111111111111111,
             "#46039f"
            ],
            [
             0.2222222222222222,
             "#7201a8"
            ],
            [
             0.3333333333333333,
             "#9c179e"
            ],
            [
             0.4444444444444444,
             "#bd3786"
            ],
            [
             0.5555555555555556,
             "#d8576b"
            ],
            [
             0.6666666666666666,
             "#ed7953"
            ],
            [
             0.7777777777777778,
             "#fb9f3a"
            ],
            [
             0.8888888888888888,
             "#fdca26"
            ],
            [
             1,
             "#f0f921"
            ]
           ]
          },
          "colorway": [
           "#636efa",
           "#EF553B",
           "#00cc96",
           "#ab63fa",
           "#FFA15A",
           "#19d3f3",
           "#FF6692",
           "#B6E880",
           "#FF97FF",
           "#FECB52"
          ],
          "font": {
           "color": "#2a3f5f"
          },
          "geo": {
           "bgcolor": "white",
           "lakecolor": "white",
           "landcolor": "#E5ECF6",
           "showlakes": true,
           "showland": true,
           "subunitcolor": "white"
          },
          "hoverlabel": {
           "align": "left"
          },
          "hovermode": "closest",
          "mapbox": {
           "style": "light"
          },
          "paper_bgcolor": "white",
          "plot_bgcolor": "#E5ECF6",
          "polar": {
           "angularaxis": {
            "gridcolor": "white",
            "linecolor": "white",
            "ticks": ""
           },
           "bgcolor": "#E5ECF6",
           "radialaxis": {
            "gridcolor": "white",
            "linecolor": "white",
            "ticks": ""
           }
          },
          "scene": {
           "xaxis": {
            "backgroundcolor": "#E5ECF6",
            "gridcolor": "white",
            "gridwidth": 2,
            "linecolor": "white",
            "showbackground": true,
            "ticks": "",
            "zerolinecolor": "white"
           },
           "yaxis": {
            "backgroundcolor": "#E5ECF6",
            "gridcolor": "white",
            "gridwidth": 2,
            "linecolor": "white",
            "showbackground": true,
            "ticks": "",
            "zerolinecolor": "white"
           },
           "zaxis": {
            "backgroundcolor": "#E5ECF6",
            "gridcolor": "white",
            "gridwidth": 2,
            "linecolor": "white",
            "showbackground": true,
            "ticks": "",
            "zerolinecolor": "white"
           }
          },
          "shapedefaults": {
           "line": {
            "color": "#2a3f5f"
           }
          },
          "ternary": {
           "aaxis": {
            "gridcolor": "white",
            "linecolor": "white",
            "ticks": ""
           },
           "baxis": {
            "gridcolor": "white",
            "linecolor": "white",
            "ticks": ""
           },
           "bgcolor": "#E5ECF6",
           "caxis": {
            "gridcolor": "white",
            "linecolor": "white",
            "ticks": ""
           }
          },
          "title": {
           "x": 0.05
          },
          "xaxis": {
           "automargin": true,
           "gridcolor": "white",
           "linecolor": "white",
           "ticks": "",
           "title": {
            "standoff": 15
           },
           "zerolinecolor": "white",
           "zerolinewidth": 2
          },
          "yaxis": {
           "automargin": true,
           "gridcolor": "white",
           "linecolor": "white",
           "ticks": "",
           "title": {
            "standoff": 15
           },
           "zerolinecolor": "white",
           "zerolinewidth": 2
          }
         }
        },
        "title": {
         "font": {
          "color": "#4D5663"
         }
        },
        "xaxis": {
         "gridcolor": "#E1E5ED",
         "showgrid": true,
         "tickfont": {
          "color": "#4D5663"
         },
         "title": {
          "font": {
           "color": "#4D5663"
          },
          "text": ""
         },
         "zerolinecolor": "#E1E5ED"
        },
        "yaxis": {
         "gridcolor": "#E1E5ED",
         "showgrid": true,
         "tickfont": {
          "color": "#4D5663"
         },
         "title": {
          "font": {
           "color": "#4D5663"
          },
          "text": ""
         },
         "zerolinecolor": "#E1E5ED"
        }
       }
      },
      "text/html": [
       "<div>                            <div id=\"32ea4aa4-2021-4573-b18e-e0c9c2f4d33b\" class=\"plotly-graph-div\" style=\"height:525px; width:100%;\"></div>            <script type=\"text/javascript\">                require([\"plotly\"], function(Plotly) {                    window.PLOTLYENV=window.PLOTLYENV || {};\n",
       "                    window.PLOTLYENV.BASE_URL='https://plot.ly';                                    if (document.getElementById(\"32ea4aa4-2021-4573-b18e-e0c9c2f4d33b\")) {                    Plotly.newPlot(                        \"32ea4aa4-2021-4573-b18e-e0c9c2f4d33b\",                        [{\"histfunc\": \"count\", \"histnorm\": \"\", \"marker\": {\"color\": \"rgba(255, 153, 51, 1.0)\", \"line\": {\"color\": \"#4D5663\", \"width\": 1.3}}, \"name\": \"A\", \"nbinsx\": 25, \"opacity\": 0.8, \"orientation\": \"v\", \"type\": \"histogram\", \"x\": [0.019430806383181284, 0.608603613411356, 0.07247562241777829, -0.9104428128373663, 1.3735657891542405, 0.07519673113819865, 0.06395658164671109, -1.6195694639137597, 0.7554966666743327, 0.45097740835769223, -0.10156324731745073, -0.4158522716260824, 0.9954541144280701, -0.48555200602878423, 1.490823288469039, -0.13194416978954118, -0.7528004178239888, -0.544262017467453, -1.437649785582203, 0.17187226223968824, -1.2375300092105108, 0.49278868970672296, -0.6361730509889744, -0.13764319117463106, 0.062410111597416565, -0.5187075611984749, -1.4102344376792062, -0.3572026445885095, -0.6376315054537319, -0.08196403616906862, 1.2918666744199032, 1.834095870683521, 1.028800443585434, 0.9937885884309238, -0.37089692485727643, -0.3412877759764047, 2.262481668740981, -0.2951852827270955, 1.1249926939573314, 0.5702750889136583, -0.7551453700363403, 1.0505410054870346, -2.1796411612126207, 1.4633293246578305, -0.9824685130984081, -0.8896242240185488, -0.15830524409511837, 0.8207907173546565, -1.1853010290819173, -0.04668477075582644, -0.4923965618308851, 1.347160076177271, 0.010843352382841287, 0.6173535522890893, -1.5062569479408272, 0.19394046597445944, -1.5703035237848442, -0.8017093258648721, -0.5420091277779893, 0.12398167085240544, 1.0336758962507486, 0.7370393163266648, 1.0215708043915677, -0.40016276626102376, 1.5133921798813612, 0.7624574546404679, 0.12204337931158848, 0.3878926000196656, -1.9858807909062057, 1.5619887939186559, 1.9262998520500085, 0.6179697050361458, -0.2637131372925625, -0.42894690745324804, 0.15220520963924042, 0.2171978777436021, -1.0019800436093944, -0.9082410683140086, -0.9323858380561356, -2.176514619233318, -2.041735481953146, 0.1900171138249872, 0.7957042354908531, -0.5964879028707374, -0.3146446170771317, -2.5337539168618295, -1.0869571144160752, 0.9013311410590518, -0.6131300774164766, 0.7959724948574082, -0.01817478619237521, 0.05015503961687754, 0.376814718222817, -1.548926641719814, 0.26002105343845394, -0.9509949673458841, -0.4274355159462603, 1.3031986142392404, -1.9640602579483455, -1.3617829420408287]}],                        {\"barmode\": \"overlay\", \"legend\": {\"bgcolor\": \"#F5F6F9\", \"font\": {\"color\": \"#4D5663\"}}, \"paper_bgcolor\": \"#F5F6F9\", \"plot_bgcolor\": \"#F5F6F9\", \"template\": {\"data\": {\"bar\": [{\"error_x\": {\"color\": \"#2a3f5f\"}, \"error_y\": {\"color\": \"#2a3f5f\"}, \"marker\": {\"line\": {\"color\": \"#E5ECF6\", \"width\": 0.5}}, \"type\": \"bar\"}], \"barpolar\": [{\"marker\": {\"line\": {\"color\": \"#E5ECF6\", \"width\": 0.5}}, \"type\": \"barpolar\"}], \"carpet\": [{\"aaxis\": {\"endlinecolor\": \"#2a3f5f\", \"gridcolor\": \"white\", \"linecolor\": \"white\", \"minorgridcolor\": \"white\", \"startlinecolor\": \"#2a3f5f\"}, \"baxis\": {\"endlinecolor\": \"#2a3f5f\", \"gridcolor\": \"white\", \"linecolor\": \"white\", \"minorgridcolor\": \"white\", \"startlinecolor\": \"#2a3f5f\"}, \"type\": \"carpet\"}], \"choropleth\": [{\"colorbar\": {\"outlinewidth\": 0, \"ticks\": \"\"}, \"type\": \"choropleth\"}], \"contour\": [{\"colorbar\": {\"outlinewidth\": 0, \"ticks\": \"\"}, \"colorscale\": [[0.0, \"#0d0887\"], [0.1111111111111111, \"#46039f\"], [0.2222222222222222, \"#7201a8\"], [0.3333333333333333, \"#9c179e\"], [0.4444444444444444, \"#bd3786\"], [0.5555555555555556, \"#d8576b\"], [0.6666666666666666, \"#ed7953\"], [0.7777777777777778, \"#fb9f3a\"], [0.8888888888888888, \"#fdca26\"], [1.0, \"#f0f921\"]], \"type\": \"contour\"}], \"contourcarpet\": [{\"colorbar\": {\"outlinewidth\": 0, \"ticks\": \"\"}, \"type\": \"contourcarpet\"}], \"heatmap\": [{\"colorbar\": {\"outlinewidth\": 0, \"ticks\": \"\"}, \"colorscale\": [[0.0, \"#0d0887\"], [0.1111111111111111, \"#46039f\"], [0.2222222222222222, \"#7201a8\"], [0.3333333333333333, \"#9c179e\"], [0.4444444444444444, \"#bd3786\"], [0.5555555555555556, \"#d8576b\"], [0.6666666666666666, \"#ed7953\"], [0.7777777777777778, \"#fb9f3a\"], [0.8888888888888888, \"#fdca26\"], [1.0, \"#f0f921\"]], \"type\": \"heatmap\"}], \"heatmapgl\": [{\"colorbar\": {\"outlinewidth\": 0, \"ticks\": \"\"}, \"colorscale\": [[0.0, \"#0d0887\"], [0.1111111111111111, \"#46039f\"], [0.2222222222222222, \"#7201a8\"], [0.3333333333333333, \"#9c179e\"], [0.4444444444444444, \"#bd3786\"], [0.5555555555555556, \"#d8576b\"], [0.6666666666666666, \"#ed7953\"], [0.7777777777777778, \"#fb9f3a\"], [0.8888888888888888, \"#fdca26\"], [1.0, \"#f0f921\"]], \"type\": \"heatmapgl\"}], \"histogram\": [{\"marker\": {\"colorbar\": {\"outlinewidth\": 0, \"ticks\": \"\"}}, \"type\": \"histogram\"}], \"histogram2d\": [{\"colorbar\": {\"outlinewidth\": 0, \"ticks\": \"\"}, \"colorscale\": [[0.0, \"#0d0887\"], [0.1111111111111111, \"#46039f\"], [0.2222222222222222, \"#7201a8\"], [0.3333333333333333, \"#9c179e\"], [0.4444444444444444, \"#bd3786\"], [0.5555555555555556, \"#d8576b\"], [0.6666666666666666, \"#ed7953\"], [0.7777777777777778, \"#fb9f3a\"], [0.8888888888888888, \"#fdca26\"], [1.0, \"#f0f921\"]], \"type\": \"histogram2d\"}], \"histogram2dcontour\": [{\"colorbar\": {\"outlinewidth\": 0, \"ticks\": \"\"}, \"colorscale\": [[0.0, \"#0d0887\"], [0.1111111111111111, \"#46039f\"], [0.2222222222222222, \"#7201a8\"], [0.3333333333333333, \"#9c179e\"], [0.4444444444444444, \"#bd3786\"], [0.5555555555555556, \"#d8576b\"], [0.6666666666666666, \"#ed7953\"], [0.7777777777777778, \"#fb9f3a\"], [0.8888888888888888, \"#fdca26\"], [1.0, \"#f0f921\"]], \"type\": \"histogram2dcontour\"}], \"mesh3d\": [{\"colorbar\": {\"outlinewidth\": 0, \"ticks\": \"\"}, \"type\": \"mesh3d\"}], \"parcoords\": [{\"line\": {\"colorbar\": {\"outlinewidth\": 0, \"ticks\": \"\"}}, \"type\": \"parcoords\"}], \"pie\": [{\"automargin\": true, \"type\": \"pie\"}], \"scatter\": [{\"marker\": {\"colorbar\": {\"outlinewidth\": 0, \"ticks\": \"\"}}, \"type\": \"scatter\"}], \"scatter3d\": [{\"line\": {\"colorbar\": {\"outlinewidth\": 0, \"ticks\": \"\"}}, \"marker\": {\"colorbar\": {\"outlinewidth\": 0, \"ticks\": \"\"}}, \"type\": \"scatter3d\"}], \"scattercarpet\": [{\"marker\": {\"colorbar\": {\"outlinewidth\": 0, \"ticks\": \"\"}}, \"type\": \"scattercarpet\"}], \"scattergeo\": [{\"marker\": {\"colorbar\": {\"outlinewidth\": 0, \"ticks\": \"\"}}, \"type\": \"scattergeo\"}], \"scattergl\": [{\"marker\": {\"colorbar\": {\"outlinewidth\": 0, \"ticks\": \"\"}}, \"type\": \"scattergl\"}], \"scattermapbox\": [{\"marker\": {\"colorbar\": {\"outlinewidth\": 0, \"ticks\": \"\"}}, \"type\": \"scattermapbox\"}], \"scatterpolar\": [{\"marker\": {\"colorbar\": {\"outlinewidth\": 0, \"ticks\": \"\"}}, \"type\": \"scatterpolar\"}], \"scatterpolargl\": [{\"marker\": {\"colorbar\": {\"outlinewidth\": 0, \"ticks\": \"\"}}, \"type\": \"scatterpolargl\"}], \"scatterternary\": [{\"marker\": {\"colorbar\": {\"outlinewidth\": 0, \"ticks\": \"\"}}, \"type\": \"scatterternary\"}], \"surface\": [{\"colorbar\": {\"outlinewidth\": 0, \"ticks\": \"\"}, \"colorscale\": [[0.0, \"#0d0887\"], [0.1111111111111111, \"#46039f\"], [0.2222222222222222, \"#7201a8\"], [0.3333333333333333, \"#9c179e\"], [0.4444444444444444, \"#bd3786\"], [0.5555555555555556, \"#d8576b\"], [0.6666666666666666, \"#ed7953\"], [0.7777777777777778, \"#fb9f3a\"], [0.8888888888888888, \"#fdca26\"], [1.0, \"#f0f921\"]], \"type\": \"surface\"}], \"table\": [{\"cells\": {\"fill\": {\"color\": \"#EBF0F8\"}, \"line\": {\"color\": \"white\"}}, \"header\": {\"fill\": {\"color\": \"#C8D4E3\"}, \"line\": {\"color\": \"white\"}}, \"type\": \"table\"}]}, \"layout\": {\"annotationdefaults\": {\"arrowcolor\": \"#2a3f5f\", \"arrowhead\": 0, \"arrowwidth\": 1}, \"coloraxis\": {\"colorbar\": {\"outlinewidth\": 0, \"ticks\": \"\"}}, \"colorscale\": {\"diverging\": [[0, \"#8e0152\"], [0.1, \"#c51b7d\"], [0.2, \"#de77ae\"], [0.3, \"#f1b6da\"], [0.4, \"#fde0ef\"], [0.5, \"#f7f7f7\"], [0.6, \"#e6f5d0\"], [0.7, \"#b8e186\"], [0.8, \"#7fbc41\"], [0.9, \"#4d9221\"], [1, \"#276419\"]], \"sequential\": [[0.0, \"#0d0887\"], [0.1111111111111111, \"#46039f\"], [0.2222222222222222, \"#7201a8\"], [0.3333333333333333, \"#9c179e\"], [0.4444444444444444, \"#bd3786\"], [0.5555555555555556, \"#d8576b\"], [0.6666666666666666, \"#ed7953\"], [0.7777777777777778, \"#fb9f3a\"], [0.8888888888888888, \"#fdca26\"], [1.0, \"#f0f921\"]], \"sequentialminus\": [[0.0, \"#0d0887\"], [0.1111111111111111, \"#46039f\"], [0.2222222222222222, \"#7201a8\"], [0.3333333333333333, \"#9c179e\"], [0.4444444444444444, \"#bd3786\"], [0.5555555555555556, \"#d8576b\"], [0.6666666666666666, \"#ed7953\"], [0.7777777777777778, \"#fb9f3a\"], [0.8888888888888888, \"#fdca26\"], [1.0, \"#f0f921\"]]}, \"colorway\": [\"#636efa\", \"#EF553B\", \"#00cc96\", \"#ab63fa\", \"#FFA15A\", \"#19d3f3\", \"#FF6692\", \"#B6E880\", \"#FF97FF\", \"#FECB52\"], \"font\": {\"color\": \"#2a3f5f\"}, \"geo\": {\"bgcolor\": \"white\", \"lakecolor\": \"white\", \"landcolor\": \"#E5ECF6\", \"showlakes\": true, \"showland\": true, \"subunitcolor\": \"white\"}, \"hoverlabel\": {\"align\": \"left\"}, \"hovermode\": \"closest\", \"mapbox\": {\"style\": \"light\"}, \"paper_bgcolor\": \"white\", \"plot_bgcolor\": \"#E5ECF6\", \"polar\": {\"angularaxis\": {\"gridcolor\": \"white\", \"linecolor\": \"white\", \"ticks\": \"\"}, \"bgcolor\": \"#E5ECF6\", \"radialaxis\": {\"gridcolor\": \"white\", \"linecolor\": \"white\", \"ticks\": \"\"}}, \"scene\": {\"xaxis\": {\"backgroundcolor\": \"#E5ECF6\", \"gridcolor\": \"white\", \"gridwidth\": 2, \"linecolor\": \"white\", \"showbackground\": true, \"ticks\": \"\", \"zerolinecolor\": \"white\"}, \"yaxis\": {\"backgroundcolor\": \"#E5ECF6\", \"gridcolor\": \"white\", \"gridwidth\": 2, \"linecolor\": \"white\", \"showbackground\": true, \"ticks\": \"\", \"zerolinecolor\": \"white\"}, \"zaxis\": {\"backgroundcolor\": \"#E5ECF6\", \"gridcolor\": \"white\", \"gridwidth\": 2, \"linecolor\": \"white\", \"showbackground\": true, \"ticks\": \"\", \"zerolinecolor\": \"white\"}}, \"shapedefaults\": {\"line\": {\"color\": \"#2a3f5f\"}}, \"ternary\": {\"aaxis\": {\"gridcolor\": \"white\", \"linecolor\": \"white\", \"ticks\": \"\"}, \"baxis\": {\"gridcolor\": \"white\", \"linecolor\": \"white\", \"ticks\": \"\"}, \"bgcolor\": \"#E5ECF6\", \"caxis\": {\"gridcolor\": \"white\", \"linecolor\": \"white\", \"ticks\": \"\"}}, \"title\": {\"x\": 0.05}, \"xaxis\": {\"automargin\": true, \"gridcolor\": \"white\", \"linecolor\": \"white\", \"ticks\": \"\", \"title\": {\"standoff\": 15}, \"zerolinecolor\": \"white\", \"zerolinewidth\": 2}, \"yaxis\": {\"automargin\": true, \"gridcolor\": \"white\", \"linecolor\": \"white\", \"ticks\": \"\", \"title\": {\"standoff\": 15}, \"zerolinecolor\": \"white\", \"zerolinewidth\": 2}}}, \"title\": {\"font\": {\"color\": \"#4D5663\"}}, \"xaxis\": {\"gridcolor\": \"#E1E5ED\", \"showgrid\": true, \"tickfont\": {\"color\": \"#4D5663\"}, \"title\": {\"font\": {\"color\": \"#4D5663\"}, \"text\": \"\"}, \"zerolinecolor\": \"#E1E5ED\"}, \"yaxis\": {\"gridcolor\": \"#E1E5ED\", \"showgrid\": true, \"tickfont\": {\"color\": \"#4D5663\"}, \"title\": {\"font\": {\"color\": \"#4D5663\"}, \"text\": \"\"}, \"zerolinecolor\": \"#E1E5ED\"}},                        {\"showLink\": true, \"linkText\": \"Export to plot.ly\", \"plotlyServerURL\": \"https://plot.ly\", \"responsive\": true}                    ).then(function(){\n",
       "                            \n",
       "var gd = document.getElementById('32ea4aa4-2021-4573-b18e-e0c9c2f4d33b');\n",
       "var x = new MutationObserver(function (mutations, observer) {{\n",
       "        var display = window.getComputedStyle(gd).display;\n",
       "        if (!display || display === 'none') {{\n",
       "            console.log([gd, 'removed!']);\n",
       "            Plotly.purge(gd);\n",
       "            observer.disconnect();\n",
       "        }}\n",
       "}});\n",
       "\n",
       "// Listen for the removal of the full notebook cells\n",
       "var notebookContainer = gd.closest('#notebook-container');\n",
       "if (notebookContainer) {{\n",
       "    x.observe(notebookContainer, {childList: true});\n",
       "}}\n",
       "\n",
       "// Listen for the clearing of the current output cell\n",
       "var outputEl = gd.closest('.output');\n",
       "if (outputEl) {{\n",
       "    x.observe(outputEl, {childList: true});\n",
       "}}\n",
       "\n",
       "                        })                };                });            </script>        </div>"
      ]
     },
     "metadata": {},
     "output_type": "display_data"
    }
   ],
   "source": [
    "df['A'].iplot(kind = 'hist', bins = 25)"
   ]
  },
  {
   "cell_type": "code",
   "execution_count": 27,
   "metadata": {},
   "outputs": [
    {
     "data": {
      "application/vnd.plotly.v1+json": {
       "config": {
        "linkText": "Export to plot.ly",
        "plotlyServerURL": "https://plot.ly",
        "showLink": true
       },
       "data": [
        {
         "marker": {
          "color": [
           "rgb(255, 153, 51)",
           "rgb(55, 128, 191)",
           "rgb(50, 171, 96)",
           "rgb(128, 0, 128)",
           "rgb(219, 64, 82)",
           "rgb(0, 128, 128)",
           "rgb(255, 255, 51)",
           "rgb(128, 128, 0)",
           "rgb(251, 128, 114)",
           "rgb(128, 177, 211)"
          ],
          "line": {
           "width": 1.3
          },
          "size": [
           47,
           51,
           46,
           35,
           54,
           58,
           41,
           81,
           41,
           102,
           111,
           31,
           31,
           79,
           55,
           58,
           94,
           97,
           27,
           52,
           34,
           42,
           46,
           61,
           112,
           62,
           65,
           72,
           88,
           28,
           65,
           44,
           44,
           28,
           63,
           37,
           68,
           41,
           29,
           47,
           69,
           43,
           79,
           23,
           63,
           51,
           96,
           84,
           36,
           45,
           58,
           64,
           21,
           32,
           46,
           80,
           39,
           45,
           66,
           47,
           45,
           46,
           62,
           70,
           79,
           43,
           109,
           74,
           36,
           50,
           34,
           21,
           77,
           93,
           68,
           25,
           42,
           73,
           22,
           12,
           51,
           74,
           87,
           77,
           60,
           75,
           25,
           36,
           54,
           67,
           22,
           38,
           54,
           44,
           41,
           46,
           40,
           60,
           15,
           17
          ],
          "symbol": "circle"
         },
         "mode": "markers",
         "text": "",
         "type": "scatter",
         "x": [
          0.019430806383181284,
          0.608603613411356,
          0.07247562241777829,
          -0.9104428128373663,
          1.3735657891542405,
          0.07519673113819865,
          0.06395658164671109,
          -1.6195694639137597,
          0.7554966666743327,
          0.45097740835769223,
          -0.10156324731745073,
          -0.4158522716260824,
          0.9954541144280701,
          -0.48555200602878423,
          1.490823288469039,
          -0.13194416978954118,
          -0.7528004178239888,
          -0.544262017467453,
          -1.437649785582203,
          0.17187226223968824,
          -1.2375300092105108,
          0.49278868970672296,
          -0.6361730509889744,
          -0.13764319117463106,
          0.062410111597416565,
          -0.5187075611984749,
          -1.4102344376792062,
          -0.3572026445885095,
          -0.6376315054537319,
          -0.08196403616906862,
          1.2918666744199032,
          1.834095870683521,
          1.028800443585434,
          0.9937885884309238,
          -0.37089692485727643,
          -0.3412877759764047,
          2.262481668740981,
          -0.2951852827270955,
          1.1249926939573314,
          0.5702750889136583,
          -0.7551453700363403,
          1.0505410054870346,
          -2.1796411612126207,
          1.4633293246578305,
          -0.9824685130984081,
          -0.8896242240185488,
          -0.15830524409511837,
          0.8207907173546565,
          -1.1853010290819173,
          -0.04668477075582644,
          -0.4923965618308851,
          1.347160076177271,
          0.010843352382841287,
          0.6173535522890893,
          -1.5062569479408272,
          0.19394046597445944,
          -1.5703035237848442,
          -0.8017093258648721,
          -0.5420091277779893,
          0.12398167085240544,
          1.0336758962507486,
          0.7370393163266648,
          1.0215708043915677,
          -0.40016276626102376,
          1.5133921798813612,
          0.7624574546404679,
          0.12204337931158848,
          0.3878926000196656,
          -1.9858807909062057,
          1.5619887939186559,
          1.9262998520500085,
          0.6179697050361458,
          -0.2637131372925625,
          -0.42894690745324804,
          0.15220520963924042,
          0.2171978777436021,
          -1.0019800436093944,
          -0.9082410683140086,
          -0.9323858380561356,
          -2.176514619233318,
          -2.041735481953146,
          0.1900171138249872,
          0.7957042354908531,
          -0.5964879028707374,
          -0.3146446170771317,
          -2.5337539168618295,
          -1.0869571144160752,
          0.9013311410590518,
          -0.6131300774164766,
          0.7959724948574082,
          -0.01817478619237521,
          0.05015503961687754,
          0.376814718222817,
          -1.548926641719814,
          0.26002105343845394,
          -0.9509949673458841,
          -0.4274355159462603,
          1.3031986142392404,
          -1.9640602579483455,
          -1.3617829420408287
         ],
         "y": [
          0.23590897280929557,
          -0.5853191060130026,
          0.45041649477698203,
          -1.4844634650877961,
          -0.7010019866089757,
          -1.7713343221822186,
          0.3564783560049668,
          1.1031620019724644,
          -0.534524659790858,
          1.55516579284802,
          0.9245808085412286,
          1.3620636205948855,
          0.6460233039467143,
          -1.3287700621303378,
          2.113243524617769,
          -0.7039904787447651,
          0.957708167234452,
          0.38668960727077833,
          1.0905405017303815,
          -0.15907806493007792,
          -0.05398389231091074,
          -0.5336742283108098,
          0.3824419930821319,
          0.7419908764060871,
          -0.4140242561179745,
          0.2759136081174468,
          0.8482704917519138,
          2.0059405381970254,
          -1.3246650717679416,
          -0.5065540149600787,
          -0.6936235230043091,
          -0.19441117112133538,
          0.887480460290256,
          -1.5166569531417406,
          -0.7190624137948296,
          0.4102288680484326,
          -0.7379062568928512,
          -0.38612979211456566,
          -0.9814499423449278,
          -0.4359275292528566,
          -0.12292181575473174,
          1.9056738072959156,
          -1.836401325717276,
          -2.792474660611752,
          -0.9083337804822073,
          2.782345891898233,
          0.2381865299508034,
          0.9647682007237843,
          -1.1734425707908456,
          -1.9609962976837447,
          1.904270892330739,
          -0.10400697771863725,
          0.9179842824151149,
          0.16380229188572826,
          -0.02490709779441639,
          -0.20790133058482613,
          0.5399698264563033,
          -0.9674437863175008,
          0.943420239562524,
          0.1561027975165673,
          -1.6553424385101994,
          0.8709325231705167,
          1.3197016755016702,
          -2.287162353986225,
          0.552534163797248,
          -2.9316789514534003,
          -1.413578565746748,
          0.3066964640228571,
          -0.8862210615838182,
          2.2245689170171943,
          -0.5073138082557282,
          2.295896889626357,
          0.03791532397259017,
          -0.27422129122939853,
          0.12873175025274455,
          0.4837720574093124,
          -0.29738246943237895,
          -0.0988932565886435,
          -1.3368837027277733,
          0.07779215851650331,
          -2.1254522743271664,
          -0.35883373446418565,
          0.008131872263935342,
          1.3898536362783147,
          1.010414278850495,
          -0.1442294615435738,
          0.9808125838800891,
          -0.4968630660898616,
          -1.778081760893912,
          -0.12516367093881087,
          0.06968580548842876,
          -0.7992199722691573,
          0.217143175038511,
          0.31265034609776243,
          0.3134863468368505,
          0.7484128321632029,
          -0.44746867845204136,
          -1.5837350747526953,
          -0.5834240333463931,
          -1.522918964431989
         ]
        }
       ],
       "layout": {
        "legend": {
         "bgcolor": "#F5F6F9",
         "font": {
          "color": "#4D5663"
         }
        },
        "paper_bgcolor": "#F5F6F9",
        "plot_bgcolor": "#F5F6F9",
        "template": {
         "data": {
          "bar": [
           {
            "error_x": {
             "color": "#2a3f5f"
            },
            "error_y": {
             "color": "#2a3f5f"
            },
            "marker": {
             "line": {
              "color": "#E5ECF6",
              "width": 0.5
             }
            },
            "type": "bar"
           }
          ],
          "barpolar": [
           {
            "marker": {
             "line": {
              "color": "#E5ECF6",
              "width": 0.5
             }
            },
            "type": "barpolar"
           }
          ],
          "carpet": [
           {
            "aaxis": {
             "endlinecolor": "#2a3f5f",
             "gridcolor": "white",
             "linecolor": "white",
             "minorgridcolor": "white",
             "startlinecolor": "#2a3f5f"
            },
            "baxis": {
             "endlinecolor": "#2a3f5f",
             "gridcolor": "white",
             "linecolor": "white",
             "minorgridcolor": "white",
             "startlinecolor": "#2a3f5f"
            },
            "type": "carpet"
           }
          ],
          "choropleth": [
           {
            "colorbar": {
             "outlinewidth": 0,
             "ticks": ""
            },
            "type": "choropleth"
           }
          ],
          "contour": [
           {
            "colorbar": {
             "outlinewidth": 0,
             "ticks": ""
            },
            "colorscale": [
             [
              0,
              "#0d0887"
             ],
             [
              0.1111111111111111,
              "#46039f"
             ],
             [
              0.2222222222222222,
              "#7201a8"
             ],
             [
              0.3333333333333333,
              "#9c179e"
             ],
             [
              0.4444444444444444,
              "#bd3786"
             ],
             [
              0.5555555555555556,
              "#d8576b"
             ],
             [
              0.6666666666666666,
              "#ed7953"
             ],
             [
              0.7777777777777778,
              "#fb9f3a"
             ],
             [
              0.8888888888888888,
              "#fdca26"
             ],
             [
              1,
              "#f0f921"
             ]
            ],
            "type": "contour"
           }
          ],
          "contourcarpet": [
           {
            "colorbar": {
             "outlinewidth": 0,
             "ticks": ""
            },
            "type": "contourcarpet"
           }
          ],
          "heatmap": [
           {
            "colorbar": {
             "outlinewidth": 0,
             "ticks": ""
            },
            "colorscale": [
             [
              0,
              "#0d0887"
             ],
             [
              0.1111111111111111,
              "#46039f"
             ],
             [
              0.2222222222222222,
              "#7201a8"
             ],
             [
              0.3333333333333333,
              "#9c179e"
             ],
             [
              0.4444444444444444,
              "#bd3786"
             ],
             [
              0.5555555555555556,
              "#d8576b"
             ],
             [
              0.6666666666666666,
              "#ed7953"
             ],
             [
              0.7777777777777778,
              "#fb9f3a"
             ],
             [
              0.8888888888888888,
              "#fdca26"
             ],
             [
              1,
              "#f0f921"
             ]
            ],
            "type": "heatmap"
           }
          ],
          "heatmapgl": [
           {
            "colorbar": {
             "outlinewidth": 0,
             "ticks": ""
            },
            "colorscale": [
             [
              0,
              "#0d0887"
             ],
             [
              0.1111111111111111,
              "#46039f"
             ],
             [
              0.2222222222222222,
              "#7201a8"
             ],
             [
              0.3333333333333333,
              "#9c179e"
             ],
             [
              0.4444444444444444,
              "#bd3786"
             ],
             [
              0.5555555555555556,
              "#d8576b"
             ],
             [
              0.6666666666666666,
              "#ed7953"
             ],
             [
              0.7777777777777778,
              "#fb9f3a"
             ],
             [
              0.8888888888888888,
              "#fdca26"
             ],
             [
              1,
              "#f0f921"
             ]
            ],
            "type": "heatmapgl"
           }
          ],
          "histogram": [
           {
            "marker": {
             "colorbar": {
              "outlinewidth": 0,
              "ticks": ""
             }
            },
            "type": "histogram"
           }
          ],
          "histogram2d": [
           {
            "colorbar": {
             "outlinewidth": 0,
             "ticks": ""
            },
            "colorscale": [
             [
              0,
              "#0d0887"
             ],
             [
              0.1111111111111111,
              "#46039f"
             ],
             [
              0.2222222222222222,
              "#7201a8"
             ],
             [
              0.3333333333333333,
              "#9c179e"
             ],
             [
              0.4444444444444444,
              "#bd3786"
             ],
             [
              0.5555555555555556,
              "#d8576b"
             ],
             [
              0.6666666666666666,
              "#ed7953"
             ],
             [
              0.7777777777777778,
              "#fb9f3a"
             ],
             [
              0.8888888888888888,
              "#fdca26"
             ],
             [
              1,
              "#f0f921"
             ]
            ],
            "type": "histogram2d"
           }
          ],
          "histogram2dcontour": [
           {
            "colorbar": {
             "outlinewidth": 0,
             "ticks": ""
            },
            "colorscale": [
             [
              0,
              "#0d0887"
             ],
             [
              0.1111111111111111,
              "#46039f"
             ],
             [
              0.2222222222222222,
              "#7201a8"
             ],
             [
              0.3333333333333333,
              "#9c179e"
             ],
             [
              0.4444444444444444,
              "#bd3786"
             ],
             [
              0.5555555555555556,
              "#d8576b"
             ],
             [
              0.6666666666666666,
              "#ed7953"
             ],
             [
              0.7777777777777778,
              "#fb9f3a"
             ],
             [
              0.8888888888888888,
              "#fdca26"
             ],
             [
              1,
              "#f0f921"
             ]
            ],
            "type": "histogram2dcontour"
           }
          ],
          "mesh3d": [
           {
            "colorbar": {
             "outlinewidth": 0,
             "ticks": ""
            },
            "type": "mesh3d"
           }
          ],
          "parcoords": [
           {
            "line": {
             "colorbar": {
              "outlinewidth": 0,
              "ticks": ""
             }
            },
            "type": "parcoords"
           }
          ],
          "pie": [
           {
            "automargin": true,
            "type": "pie"
           }
          ],
          "scatter": [
           {
            "marker": {
             "colorbar": {
              "outlinewidth": 0,
              "ticks": ""
             }
            },
            "type": "scatter"
           }
          ],
          "scatter3d": [
           {
            "line": {
             "colorbar": {
              "outlinewidth": 0,
              "ticks": ""
             }
            },
            "marker": {
             "colorbar": {
              "outlinewidth": 0,
              "ticks": ""
             }
            },
            "type": "scatter3d"
           }
          ],
          "scattercarpet": [
           {
            "marker": {
             "colorbar": {
              "outlinewidth": 0,
              "ticks": ""
             }
            },
            "type": "scattercarpet"
           }
          ],
          "scattergeo": [
           {
            "marker": {
             "colorbar": {
              "outlinewidth": 0,
              "ticks": ""
             }
            },
            "type": "scattergeo"
           }
          ],
          "scattergl": [
           {
            "marker": {
             "colorbar": {
              "outlinewidth": 0,
              "ticks": ""
             }
            },
            "type": "scattergl"
           }
          ],
          "scattermapbox": [
           {
            "marker": {
             "colorbar": {
              "outlinewidth": 0,
              "ticks": ""
             }
            },
            "type": "scattermapbox"
           }
          ],
          "scatterpolar": [
           {
            "marker": {
             "colorbar": {
              "outlinewidth": 0,
              "ticks": ""
             }
            },
            "type": "scatterpolar"
           }
          ],
          "scatterpolargl": [
           {
            "marker": {
             "colorbar": {
              "outlinewidth": 0,
              "ticks": ""
             }
            },
            "type": "scatterpolargl"
           }
          ],
          "scatterternary": [
           {
            "marker": {
             "colorbar": {
              "outlinewidth": 0,
              "ticks": ""
             }
            },
            "type": "scatterternary"
           }
          ],
          "surface": [
           {
            "colorbar": {
             "outlinewidth": 0,
             "ticks": ""
            },
            "colorscale": [
             [
              0,
              "#0d0887"
             ],
             [
              0.1111111111111111,
              "#46039f"
             ],
             [
              0.2222222222222222,
              "#7201a8"
             ],
             [
              0.3333333333333333,
              "#9c179e"
             ],
             [
              0.4444444444444444,
              "#bd3786"
             ],
             [
              0.5555555555555556,
              "#d8576b"
             ],
             [
              0.6666666666666666,
              "#ed7953"
             ],
             [
              0.7777777777777778,
              "#fb9f3a"
             ],
             [
              0.8888888888888888,
              "#fdca26"
             ],
             [
              1,
              "#f0f921"
             ]
            ],
            "type": "surface"
           }
          ],
          "table": [
           {
            "cells": {
             "fill": {
              "color": "#EBF0F8"
             },
             "line": {
              "color": "white"
             }
            },
            "header": {
             "fill": {
              "color": "#C8D4E3"
             },
             "line": {
              "color": "white"
             }
            },
            "type": "table"
           }
          ]
         },
         "layout": {
          "annotationdefaults": {
           "arrowcolor": "#2a3f5f",
           "arrowhead": 0,
           "arrowwidth": 1
          },
          "coloraxis": {
           "colorbar": {
            "outlinewidth": 0,
            "ticks": ""
           }
          },
          "colorscale": {
           "diverging": [
            [
             0,
             "#8e0152"
            ],
            [
             0.1,
             "#c51b7d"
            ],
            [
             0.2,
             "#de77ae"
            ],
            [
             0.3,
             "#f1b6da"
            ],
            [
             0.4,
             "#fde0ef"
            ],
            [
             0.5,
             "#f7f7f7"
            ],
            [
             0.6,
             "#e6f5d0"
            ],
            [
             0.7,
             "#b8e186"
            ],
            [
             0.8,
             "#7fbc41"
            ],
            [
             0.9,
             "#4d9221"
            ],
            [
             1,
             "#276419"
            ]
           ],
           "sequential": [
            [
             0,
             "#0d0887"
            ],
            [
             0.1111111111111111,
             "#46039f"
            ],
            [
             0.2222222222222222,
             "#7201a8"
            ],
            [
             0.3333333333333333,
             "#9c179e"
            ],
            [
             0.4444444444444444,
             "#bd3786"
            ],
            [
             0.5555555555555556,
             "#d8576b"
            ],
            [
             0.6666666666666666,
             "#ed7953"
            ],
            [
             0.7777777777777778,
             "#fb9f3a"
            ],
            [
             0.8888888888888888,
             "#fdca26"
            ],
            [
             1,
             "#f0f921"
            ]
           ],
           "sequentialminus": [
            [
             0,
             "#0d0887"
            ],
            [
             0.1111111111111111,
             "#46039f"
            ],
            [
             0.2222222222222222,
             "#7201a8"
            ],
            [
             0.3333333333333333,
             "#9c179e"
            ],
            [
             0.4444444444444444,
             "#bd3786"
            ],
            [
             0.5555555555555556,
             "#d8576b"
            ],
            [
             0.6666666666666666,
             "#ed7953"
            ],
            [
             0.7777777777777778,
             "#fb9f3a"
            ],
            [
             0.8888888888888888,
             "#fdca26"
            ],
            [
             1,
             "#f0f921"
            ]
           ]
          },
          "colorway": [
           "#636efa",
           "#EF553B",
           "#00cc96",
           "#ab63fa",
           "#FFA15A",
           "#19d3f3",
           "#FF6692",
           "#B6E880",
           "#FF97FF",
           "#FECB52"
          ],
          "font": {
           "color": "#2a3f5f"
          },
          "geo": {
           "bgcolor": "white",
           "lakecolor": "white",
           "landcolor": "#E5ECF6",
           "showlakes": true,
           "showland": true,
           "subunitcolor": "white"
          },
          "hoverlabel": {
           "align": "left"
          },
          "hovermode": "closest",
          "mapbox": {
           "style": "light"
          },
          "paper_bgcolor": "white",
          "plot_bgcolor": "#E5ECF6",
          "polar": {
           "angularaxis": {
            "gridcolor": "white",
            "linecolor": "white",
            "ticks": ""
           },
           "bgcolor": "#E5ECF6",
           "radialaxis": {
            "gridcolor": "white",
            "linecolor": "white",
            "ticks": ""
           }
          },
          "scene": {
           "xaxis": {
            "backgroundcolor": "#E5ECF6",
            "gridcolor": "white",
            "gridwidth": 2,
            "linecolor": "white",
            "showbackground": true,
            "ticks": "",
            "zerolinecolor": "white"
           },
           "yaxis": {
            "backgroundcolor": "#E5ECF6",
            "gridcolor": "white",
            "gridwidth": 2,
            "linecolor": "white",
            "showbackground": true,
            "ticks": "",
            "zerolinecolor": "white"
           },
           "zaxis": {
            "backgroundcolor": "#E5ECF6",
            "gridcolor": "white",
            "gridwidth": 2,
            "linecolor": "white",
            "showbackground": true,
            "ticks": "",
            "zerolinecolor": "white"
           }
          },
          "shapedefaults": {
           "line": {
            "color": "#2a3f5f"
           }
          },
          "ternary": {
           "aaxis": {
            "gridcolor": "white",
            "linecolor": "white",
            "ticks": ""
           },
           "baxis": {
            "gridcolor": "white",
            "linecolor": "white",
            "ticks": ""
           },
           "bgcolor": "#E5ECF6",
           "caxis": {
            "gridcolor": "white",
            "linecolor": "white",
            "ticks": ""
           }
          },
          "title": {
           "x": 0.05
          },
          "xaxis": {
           "automargin": true,
           "gridcolor": "white",
           "linecolor": "white",
           "ticks": "",
           "title": {
            "standoff": 15
           },
           "zerolinecolor": "white",
           "zerolinewidth": 2
          },
          "yaxis": {
           "automargin": true,
           "gridcolor": "white",
           "linecolor": "white",
           "ticks": "",
           "title": {
            "standoff": 15
           },
           "zerolinecolor": "white",
           "zerolinewidth": 2
          }
         }
        },
        "title": {
         "font": {
          "color": "#4D5663"
         }
        },
        "xaxis": {
         "gridcolor": "#E1E5ED",
         "showgrid": true,
         "tickfont": {
          "color": "#4D5663"
         },
         "title": {
          "font": {
           "color": "#4D5663"
          },
          "text": ""
         },
         "zerolinecolor": "#E1E5ED"
        },
        "yaxis": {
         "gridcolor": "#E1E5ED",
         "showgrid": true,
         "tickfont": {
          "color": "#4D5663"
         },
         "title": {
          "font": {
           "color": "#4D5663"
          },
          "text": ""
         },
         "zerolinecolor": "#E1E5ED"
        }
       }
      },
      "text/html": [
       "<div>                            <div id=\"b4b04bc6-0cf4-4464-bec8-85b87a069f7b\" class=\"plotly-graph-div\" style=\"height:525px; width:100%;\"></div>            <script type=\"text/javascript\">                require([\"plotly\"], function(Plotly) {                    window.PLOTLYENV=window.PLOTLYENV || {};\n",
       "                    window.PLOTLYENV.BASE_URL='https://plot.ly';                                    if (document.getElementById(\"b4b04bc6-0cf4-4464-bec8-85b87a069f7b\")) {                    Plotly.newPlot(                        \"b4b04bc6-0cf4-4464-bec8-85b87a069f7b\",                        [{\"marker\": {\"color\": [\"rgb(255, 153, 51)\", \"rgb(55, 128, 191)\", \"rgb(50, 171, 96)\", \"rgb(128, 0, 128)\", \"rgb(219, 64, 82)\", \"rgb(0, 128, 128)\", \"rgb(255, 255, 51)\", \"rgb(128, 128, 0)\", \"rgb(251, 128, 114)\", \"rgb(128, 177, 211)\"], \"line\": {\"width\": 1.3}, \"size\": [47, 51, 46, 35, 54, 58, 41, 81, 41, 102, 111, 31, 31, 79, 55, 58, 94, 97, 27, 52, 34, 42, 46, 61, 112, 62, 65, 72, 88, 28, 65, 44, 44, 28, 63, 37, 68, 41, 29, 47, 69, 43, 79, 23, 63, 51, 96, 84, 36, 45, 58, 64, 21, 32, 46, 80, 39, 45, 66, 47, 45, 46, 62, 70, 79, 43, 109, 74, 36, 50, 34, 21, 77, 93, 68, 25, 42, 73, 22, 12, 51, 74, 87, 77, 60, 75, 25, 36, 54, 67, 22, 38, 54, 44, 41, 46, 40, 60, 15, 17], \"symbol\": \"circle\"}, \"mode\": \"markers\", \"text\": \"\", \"type\": \"scatter\", \"x\": [0.019430806383181284, 0.608603613411356, 0.07247562241777829, -0.9104428128373663, 1.3735657891542405, 0.07519673113819865, 0.06395658164671109, -1.6195694639137597, 0.7554966666743327, 0.45097740835769223, -0.10156324731745073, -0.4158522716260824, 0.9954541144280701, -0.48555200602878423, 1.490823288469039, -0.13194416978954118, -0.7528004178239888, -0.544262017467453, -1.437649785582203, 0.17187226223968824, -1.2375300092105108, 0.49278868970672296, -0.6361730509889744, -0.13764319117463106, 0.062410111597416565, -0.5187075611984749, -1.4102344376792062, -0.3572026445885095, -0.6376315054537319, -0.08196403616906862, 1.2918666744199032, 1.834095870683521, 1.028800443585434, 0.9937885884309238, -0.37089692485727643, -0.3412877759764047, 2.262481668740981, -0.2951852827270955, 1.1249926939573314, 0.5702750889136583, -0.7551453700363403, 1.0505410054870346, -2.1796411612126207, 1.4633293246578305, -0.9824685130984081, -0.8896242240185488, -0.15830524409511837, 0.8207907173546565, -1.1853010290819173, -0.04668477075582644, -0.4923965618308851, 1.347160076177271, 0.010843352382841287, 0.6173535522890893, -1.5062569479408272, 0.19394046597445944, -1.5703035237848442, -0.8017093258648721, -0.5420091277779893, 0.12398167085240544, 1.0336758962507486, 0.7370393163266648, 1.0215708043915677, -0.40016276626102376, 1.5133921798813612, 0.7624574546404679, 0.12204337931158848, 0.3878926000196656, -1.9858807909062057, 1.5619887939186559, 1.9262998520500085, 0.6179697050361458, -0.2637131372925625, -0.42894690745324804, 0.15220520963924042, 0.2171978777436021, -1.0019800436093944, -0.9082410683140086, -0.9323858380561356, -2.176514619233318, -2.041735481953146, 0.1900171138249872, 0.7957042354908531, -0.5964879028707374, -0.3146446170771317, -2.5337539168618295, -1.0869571144160752, 0.9013311410590518, -0.6131300774164766, 0.7959724948574082, -0.01817478619237521, 0.05015503961687754, 0.376814718222817, -1.548926641719814, 0.26002105343845394, -0.9509949673458841, -0.4274355159462603, 1.3031986142392404, -1.9640602579483455, -1.3617829420408287], \"y\": [0.23590897280929557, -0.5853191060130026, 0.45041649477698203, -1.4844634650877961, -0.7010019866089757, -1.7713343221822186, 0.3564783560049668, 1.1031620019724644, -0.534524659790858, 1.55516579284802, 0.9245808085412286, 1.3620636205948855, 0.6460233039467143, -1.3287700621303378, 2.113243524617769, -0.7039904787447651, 0.957708167234452, 0.38668960727077833, 1.0905405017303815, -0.15907806493007792, -0.05398389231091074, -0.5336742283108098, 0.3824419930821319, 0.7419908764060871, -0.4140242561179745, 0.2759136081174468, 0.8482704917519138, 2.0059405381970254, -1.3246650717679416, -0.5065540149600787, -0.6936235230043091, -0.19441117112133538, 0.887480460290256, -1.5166569531417406, -0.7190624137948296, 0.4102288680484326, -0.7379062568928512, -0.38612979211456566, -0.9814499423449278, -0.4359275292528566, -0.12292181575473174, 1.9056738072959156, -1.836401325717276, -2.792474660611752, -0.9083337804822073, 2.782345891898233, 0.2381865299508034, 0.9647682007237843, -1.1734425707908456, -1.9609962976837447, 1.904270892330739, -0.10400697771863725, 0.9179842824151149, 0.16380229188572826, -0.02490709779441639, -0.20790133058482613, 0.5399698264563033, -0.9674437863175008, 0.943420239562524, 0.1561027975165673, -1.6553424385101994, 0.8709325231705167, 1.3197016755016702, -2.287162353986225, 0.552534163797248, -2.9316789514534003, -1.413578565746748, 0.3066964640228571, -0.8862210615838182, 2.2245689170171943, -0.5073138082557282, 2.295896889626357, 0.03791532397259017, -0.27422129122939853, 0.12873175025274455, 0.4837720574093124, -0.29738246943237895, -0.0988932565886435, -1.3368837027277733, 0.07779215851650331, -2.1254522743271664, -0.35883373446418565, 0.008131872263935342, 1.3898536362783147, 1.010414278850495, -0.1442294615435738, 0.9808125838800891, -0.4968630660898616, -1.778081760893912, -0.12516367093881087, 0.06968580548842876, -0.7992199722691573, 0.217143175038511, 0.31265034609776243, 0.3134863468368505, 0.7484128321632029, -0.44746867845204136, -1.5837350747526953, -0.5834240333463931, -1.522918964431989]}],                        {\"legend\": {\"bgcolor\": \"#F5F6F9\", \"font\": {\"color\": \"#4D5663\"}}, \"paper_bgcolor\": \"#F5F6F9\", \"plot_bgcolor\": \"#F5F6F9\", \"template\": {\"data\": {\"bar\": [{\"error_x\": {\"color\": \"#2a3f5f\"}, \"error_y\": {\"color\": \"#2a3f5f\"}, \"marker\": {\"line\": {\"color\": \"#E5ECF6\", \"width\": 0.5}}, \"type\": \"bar\"}], \"barpolar\": [{\"marker\": {\"line\": {\"color\": \"#E5ECF6\", \"width\": 0.5}}, \"type\": \"barpolar\"}], \"carpet\": [{\"aaxis\": {\"endlinecolor\": \"#2a3f5f\", \"gridcolor\": \"white\", \"linecolor\": \"white\", \"minorgridcolor\": \"white\", \"startlinecolor\": \"#2a3f5f\"}, \"baxis\": {\"endlinecolor\": \"#2a3f5f\", \"gridcolor\": \"white\", \"linecolor\": \"white\", \"minorgridcolor\": \"white\", \"startlinecolor\": \"#2a3f5f\"}, \"type\": \"carpet\"}], \"choropleth\": [{\"colorbar\": {\"outlinewidth\": 0, \"ticks\": \"\"}, \"type\": \"choropleth\"}], \"contour\": [{\"colorbar\": {\"outlinewidth\": 0, \"ticks\": \"\"}, \"colorscale\": [[0.0, \"#0d0887\"], [0.1111111111111111, \"#46039f\"], [0.2222222222222222, \"#7201a8\"], [0.3333333333333333, \"#9c179e\"], [0.4444444444444444, \"#bd3786\"], [0.5555555555555556, \"#d8576b\"], [0.6666666666666666, \"#ed7953\"], [0.7777777777777778, \"#fb9f3a\"], [0.8888888888888888, \"#fdca26\"], [1.0, \"#f0f921\"]], \"type\": \"contour\"}], \"contourcarpet\": [{\"colorbar\": {\"outlinewidth\": 0, \"ticks\": \"\"}, \"type\": \"contourcarpet\"}], \"heatmap\": [{\"colorbar\": {\"outlinewidth\": 0, \"ticks\": \"\"}, \"colorscale\": [[0.0, \"#0d0887\"], [0.1111111111111111, \"#46039f\"], [0.2222222222222222, \"#7201a8\"], [0.3333333333333333, \"#9c179e\"], [0.4444444444444444, \"#bd3786\"], [0.5555555555555556, \"#d8576b\"], [0.6666666666666666, \"#ed7953\"], [0.7777777777777778, \"#fb9f3a\"], [0.8888888888888888, \"#fdca26\"], [1.0, \"#f0f921\"]], \"type\": \"heatmap\"}], \"heatmapgl\": [{\"colorbar\": {\"outlinewidth\": 0, \"ticks\": \"\"}, \"colorscale\": [[0.0, \"#0d0887\"], [0.1111111111111111, \"#46039f\"], [0.2222222222222222, \"#7201a8\"], [0.3333333333333333, \"#9c179e\"], [0.4444444444444444, \"#bd3786\"], [0.5555555555555556, \"#d8576b\"], [0.6666666666666666, \"#ed7953\"], [0.7777777777777778, \"#fb9f3a\"], [0.8888888888888888, \"#fdca26\"], [1.0, \"#f0f921\"]], \"type\": \"heatmapgl\"}], \"histogram\": [{\"marker\": {\"colorbar\": {\"outlinewidth\": 0, \"ticks\": \"\"}}, \"type\": \"histogram\"}], \"histogram2d\": [{\"colorbar\": {\"outlinewidth\": 0, \"ticks\": \"\"}, \"colorscale\": [[0.0, \"#0d0887\"], [0.1111111111111111, \"#46039f\"], [0.2222222222222222, \"#7201a8\"], [0.3333333333333333, \"#9c179e\"], [0.4444444444444444, \"#bd3786\"], [0.5555555555555556, \"#d8576b\"], [0.6666666666666666, \"#ed7953\"], [0.7777777777777778, \"#fb9f3a\"], [0.8888888888888888, \"#fdca26\"], [1.0, \"#f0f921\"]], \"type\": \"histogram2d\"}], \"histogram2dcontour\": [{\"colorbar\": {\"outlinewidth\": 0, \"ticks\": \"\"}, \"colorscale\": [[0.0, \"#0d0887\"], [0.1111111111111111, \"#46039f\"], [0.2222222222222222, \"#7201a8\"], [0.3333333333333333, \"#9c179e\"], [0.4444444444444444, \"#bd3786\"], [0.5555555555555556, \"#d8576b\"], [0.6666666666666666, \"#ed7953\"], [0.7777777777777778, \"#fb9f3a\"], [0.8888888888888888, \"#fdca26\"], [1.0, \"#f0f921\"]], \"type\": \"histogram2dcontour\"}], \"mesh3d\": [{\"colorbar\": {\"outlinewidth\": 0, \"ticks\": \"\"}, \"type\": \"mesh3d\"}], \"parcoords\": [{\"line\": {\"colorbar\": {\"outlinewidth\": 0, \"ticks\": \"\"}}, \"type\": \"parcoords\"}], \"pie\": [{\"automargin\": true, \"type\": \"pie\"}], \"scatter\": [{\"marker\": {\"colorbar\": {\"outlinewidth\": 0, \"ticks\": \"\"}}, \"type\": \"scatter\"}], \"scatter3d\": [{\"line\": {\"colorbar\": {\"outlinewidth\": 0, \"ticks\": \"\"}}, \"marker\": {\"colorbar\": {\"outlinewidth\": 0, \"ticks\": \"\"}}, \"type\": \"scatter3d\"}], \"scattercarpet\": [{\"marker\": {\"colorbar\": {\"outlinewidth\": 0, \"ticks\": \"\"}}, \"type\": \"scattercarpet\"}], \"scattergeo\": [{\"marker\": {\"colorbar\": {\"outlinewidth\": 0, \"ticks\": \"\"}}, \"type\": \"scattergeo\"}], \"scattergl\": [{\"marker\": {\"colorbar\": {\"outlinewidth\": 0, \"ticks\": \"\"}}, \"type\": \"scattergl\"}], \"scattermapbox\": [{\"marker\": {\"colorbar\": {\"outlinewidth\": 0, \"ticks\": \"\"}}, \"type\": \"scattermapbox\"}], \"scatterpolar\": [{\"marker\": {\"colorbar\": {\"outlinewidth\": 0, \"ticks\": \"\"}}, \"type\": \"scatterpolar\"}], \"scatterpolargl\": [{\"marker\": {\"colorbar\": {\"outlinewidth\": 0, \"ticks\": \"\"}}, \"type\": \"scatterpolargl\"}], \"scatterternary\": [{\"marker\": {\"colorbar\": {\"outlinewidth\": 0, \"ticks\": \"\"}}, \"type\": \"scatterternary\"}], \"surface\": [{\"colorbar\": {\"outlinewidth\": 0, \"ticks\": \"\"}, \"colorscale\": [[0.0, \"#0d0887\"], [0.1111111111111111, \"#46039f\"], [0.2222222222222222, \"#7201a8\"], [0.3333333333333333, \"#9c179e\"], [0.4444444444444444, \"#bd3786\"], [0.5555555555555556, \"#d8576b\"], [0.6666666666666666, \"#ed7953\"], [0.7777777777777778, \"#fb9f3a\"], [0.8888888888888888, \"#fdca26\"], [1.0, \"#f0f921\"]], \"type\": \"surface\"}], \"table\": [{\"cells\": {\"fill\": {\"color\": \"#EBF0F8\"}, \"line\": {\"color\": \"white\"}}, \"header\": {\"fill\": {\"color\": \"#C8D4E3\"}, \"line\": {\"color\": \"white\"}}, \"type\": \"table\"}]}, \"layout\": {\"annotationdefaults\": {\"arrowcolor\": \"#2a3f5f\", \"arrowhead\": 0, \"arrowwidth\": 1}, \"coloraxis\": {\"colorbar\": {\"outlinewidth\": 0, \"ticks\": \"\"}}, \"colorscale\": {\"diverging\": [[0, \"#8e0152\"], [0.1, \"#c51b7d\"], [0.2, \"#de77ae\"], [0.3, \"#f1b6da\"], [0.4, \"#fde0ef\"], [0.5, \"#f7f7f7\"], [0.6, \"#e6f5d0\"], [0.7, \"#b8e186\"], [0.8, \"#7fbc41\"], [0.9, \"#4d9221\"], [1, \"#276419\"]], \"sequential\": [[0.0, \"#0d0887\"], [0.1111111111111111, \"#46039f\"], [0.2222222222222222, \"#7201a8\"], [0.3333333333333333, \"#9c179e\"], [0.4444444444444444, \"#bd3786\"], [0.5555555555555556, \"#d8576b\"], [0.6666666666666666, \"#ed7953\"], [0.7777777777777778, \"#fb9f3a\"], [0.8888888888888888, \"#fdca26\"], [1.0, \"#f0f921\"]], \"sequentialminus\": [[0.0, \"#0d0887\"], [0.1111111111111111, \"#46039f\"], [0.2222222222222222, \"#7201a8\"], [0.3333333333333333, \"#9c179e\"], [0.4444444444444444, \"#bd3786\"], [0.5555555555555556, \"#d8576b\"], [0.6666666666666666, \"#ed7953\"], [0.7777777777777778, \"#fb9f3a\"], [0.8888888888888888, \"#fdca26\"], [1.0, \"#f0f921\"]]}, \"colorway\": [\"#636efa\", \"#EF553B\", \"#00cc96\", \"#ab63fa\", \"#FFA15A\", \"#19d3f3\", \"#FF6692\", \"#B6E880\", \"#FF97FF\", \"#FECB52\"], \"font\": {\"color\": \"#2a3f5f\"}, \"geo\": {\"bgcolor\": \"white\", \"lakecolor\": \"white\", \"landcolor\": \"#E5ECF6\", \"showlakes\": true, \"showland\": true, \"subunitcolor\": \"white\"}, \"hoverlabel\": {\"align\": \"left\"}, \"hovermode\": \"closest\", \"mapbox\": {\"style\": \"light\"}, \"paper_bgcolor\": \"white\", \"plot_bgcolor\": \"#E5ECF6\", \"polar\": {\"angularaxis\": {\"gridcolor\": \"white\", \"linecolor\": \"white\", \"ticks\": \"\"}, \"bgcolor\": \"#E5ECF6\", \"radialaxis\": {\"gridcolor\": \"white\", \"linecolor\": \"white\", \"ticks\": \"\"}}, \"scene\": {\"xaxis\": {\"backgroundcolor\": \"#E5ECF6\", \"gridcolor\": \"white\", \"gridwidth\": 2, \"linecolor\": \"white\", \"showbackground\": true, \"ticks\": \"\", \"zerolinecolor\": \"white\"}, \"yaxis\": {\"backgroundcolor\": \"#E5ECF6\", \"gridcolor\": \"white\", \"gridwidth\": 2, \"linecolor\": \"white\", \"showbackground\": true, \"ticks\": \"\", \"zerolinecolor\": \"white\"}, \"zaxis\": {\"backgroundcolor\": \"#E5ECF6\", \"gridcolor\": \"white\", \"gridwidth\": 2, \"linecolor\": \"white\", \"showbackground\": true, \"ticks\": \"\", \"zerolinecolor\": \"white\"}}, \"shapedefaults\": {\"line\": {\"color\": \"#2a3f5f\"}}, \"ternary\": {\"aaxis\": {\"gridcolor\": \"white\", \"linecolor\": \"white\", \"ticks\": \"\"}, \"baxis\": {\"gridcolor\": \"white\", \"linecolor\": \"white\", \"ticks\": \"\"}, \"bgcolor\": \"#E5ECF6\", \"caxis\": {\"gridcolor\": \"white\", \"linecolor\": \"white\", \"ticks\": \"\"}}, \"title\": {\"x\": 0.05}, \"xaxis\": {\"automargin\": true, \"gridcolor\": \"white\", \"linecolor\": \"white\", \"ticks\": \"\", \"title\": {\"standoff\": 15}, \"zerolinecolor\": \"white\", \"zerolinewidth\": 2}, \"yaxis\": {\"automargin\": true, \"gridcolor\": \"white\", \"linecolor\": \"white\", \"ticks\": \"\", \"title\": {\"standoff\": 15}, \"zerolinecolor\": \"white\", \"zerolinewidth\": 2}}}, \"title\": {\"font\": {\"color\": \"#4D5663\"}}, \"xaxis\": {\"gridcolor\": \"#E1E5ED\", \"showgrid\": true, \"tickfont\": {\"color\": \"#4D5663\"}, \"title\": {\"font\": {\"color\": \"#4D5663\"}, \"text\": \"\"}, \"zerolinecolor\": \"#E1E5ED\"}, \"yaxis\": {\"gridcolor\": \"#E1E5ED\", \"showgrid\": true, \"tickfont\": {\"color\": \"#4D5663\"}, \"title\": {\"font\": {\"color\": \"#4D5663\"}, \"text\": \"\"}, \"zerolinecolor\": \"#E1E5ED\"}},                        {\"showLink\": true, \"linkText\": \"Export to plot.ly\", \"plotlyServerURL\": \"https://plot.ly\", \"responsive\": true}                    ).then(function(){\n",
       "                            \n",
       "var gd = document.getElementById('b4b04bc6-0cf4-4464-bec8-85b87a069f7b');\n",
       "var x = new MutationObserver(function (mutations, observer) {{\n",
       "        var display = window.getComputedStyle(gd).display;\n",
       "        if (!display || display === 'none') {{\n",
       "            console.log([gd, 'removed!']);\n",
       "            Plotly.purge(gd);\n",
       "            observer.disconnect();\n",
       "        }}\n",
       "}});\n",
       "\n",
       "// Listen for the removal of the full notebook cells\n",
       "var notebookContainer = gd.closest('#notebook-container');\n",
       "if (notebookContainer) {{\n",
       "    x.observe(notebookContainer, {childList: true});\n",
       "}}\n",
       "\n",
       "// Listen for the clearing of the current output cell\n",
       "var outputEl = gd.closest('.output');\n",
       "if (outputEl) {{\n",
       "    x.observe(outputEl, {childList: true});\n",
       "}}\n",
       "\n",
       "                        })                };                });            </script>        </div>"
      ]
     },
     "metadata": {},
     "output_type": "display_data"
    }
   ],
   "source": [
    "df.iplot(kind = 'bubble', x = 'A', y = 'B', size = 'C')"
   ]
  },
  {
   "cell_type": "markdown",
   "metadata": {},
   "source": [
    "## scatter_matrix()\n",
    "\n",
    "Similar to sns.pairplot()"
   ]
  },
  {
   "cell_type": "code",
   "execution_count": 28,
   "metadata": {},
   "outputs": [
    {
     "data": {
      "application/vnd.plotly.v1+json": {
       "config": {
        "linkText": "Export to plot.ly",
        "plotlyServerURL": "https://plot.ly",
        "showLink": true
       },
       "data": [
        {
         "histfunc": "count",
         "histnorm": "",
         "marker": {
          "color": "rgba(255, 153, 51, 1.0)",
          "line": {
           "color": "#4D5663",
           "width": 1.3
          }
         },
         "name": "A",
         "nbinsx": 10,
         "opacity": 0.8,
         "orientation": "v",
         "type": "histogram",
         "x": [
          0.019430806383181284,
          0.608603613411356,
          0.07247562241777829,
          -0.9104428128373663,
          1.3735657891542405,
          0.07519673113819865,
          0.06395658164671109,
          -1.6195694639137597,
          0.7554966666743327,
          0.45097740835769223,
          -0.10156324731745073,
          -0.4158522716260824,
          0.9954541144280701,
          -0.48555200602878423,
          1.490823288469039,
          -0.13194416978954118,
          -0.7528004178239888,
          -0.544262017467453,
          -1.437649785582203,
          0.17187226223968824,
          -1.2375300092105108,
          0.49278868970672296,
          -0.6361730509889744,
          -0.13764319117463106,
          0.062410111597416565,
          -0.5187075611984749,
          -1.4102344376792062,
          -0.3572026445885095,
          -0.6376315054537319,
          -0.08196403616906862,
          1.2918666744199032,
          1.834095870683521,
          1.028800443585434,
          0.9937885884309238,
          -0.37089692485727643,
          -0.3412877759764047,
          2.262481668740981,
          -0.2951852827270955,
          1.1249926939573314,
          0.5702750889136583,
          -0.7551453700363403,
          1.0505410054870346,
          -2.1796411612126207,
          1.4633293246578305,
          -0.9824685130984081,
          -0.8896242240185488,
          -0.15830524409511837,
          0.8207907173546565,
          -1.1853010290819173,
          -0.04668477075582644,
          -0.4923965618308851,
          1.347160076177271,
          0.010843352382841287,
          0.6173535522890893,
          -1.5062569479408272,
          0.19394046597445944,
          -1.5703035237848442,
          -0.8017093258648721,
          -0.5420091277779893,
          0.12398167085240544,
          1.0336758962507486,
          0.7370393163266648,
          1.0215708043915677,
          -0.40016276626102376,
          1.5133921798813612,
          0.7624574546404679,
          0.12204337931158848,
          0.3878926000196656,
          -1.9858807909062057,
          1.5619887939186559,
          1.9262998520500085,
          0.6179697050361458,
          -0.2637131372925625,
          -0.42894690745324804,
          0.15220520963924042,
          0.2171978777436021,
          -1.0019800436093944,
          -0.9082410683140086,
          -0.9323858380561356,
          -2.176514619233318,
          -2.041735481953146,
          0.1900171138249872,
          0.7957042354908531,
          -0.5964879028707374,
          -0.3146446170771317,
          -2.5337539168618295,
          -1.0869571144160752,
          0.9013311410590518,
          -0.6131300774164766,
          0.7959724948574082,
          -0.01817478619237521,
          0.05015503961687754,
          0.376814718222817,
          -1.548926641719814,
          0.26002105343845394,
          -0.9509949673458841,
          -0.4274355159462603,
          1.3031986142392404,
          -1.9640602579483455,
          -1.3617829420408287
         ],
         "xaxis": "x",
         "yaxis": "y"
        },
        {
         "line": {
          "color": "rgba(128, 128, 128, 1.0)",
          "dash": "solid",
          "shape": "linear",
          "width": 1.3
         },
         "marker": {
          "size": 2,
          "symbol": "circle"
         },
         "mode": "markers",
         "name": "A",
         "text": "",
         "type": "scatter",
         "x": [
          0.23590897280929557,
          -0.5853191060130026,
          0.45041649477698203,
          -1.4844634650877961,
          -0.7010019866089757,
          -1.7713343221822186,
          0.3564783560049668,
          1.1031620019724644,
          -0.534524659790858,
          1.55516579284802,
          0.9245808085412286,
          1.3620636205948855,
          0.6460233039467143,
          -1.3287700621303378,
          2.113243524617769,
          -0.7039904787447651,
          0.957708167234452,
          0.38668960727077833,
          1.0905405017303815,
          -0.15907806493007792,
          -0.05398389231091074,
          -0.5336742283108098,
          0.3824419930821319,
          0.7419908764060871,
          -0.4140242561179745,
          0.2759136081174468,
          0.8482704917519138,
          2.0059405381970254,
          -1.3246650717679416,
          -0.5065540149600787,
          -0.6936235230043091,
          -0.19441117112133538,
          0.887480460290256,
          -1.5166569531417406,
          -0.7190624137948296,
          0.4102288680484326,
          -0.7379062568928512,
          -0.38612979211456566,
          -0.9814499423449278,
          -0.4359275292528566,
          -0.12292181575473174,
          1.9056738072959156,
          -1.836401325717276,
          -2.792474660611752,
          -0.9083337804822073,
          2.782345891898233,
          0.2381865299508034,
          0.9647682007237843,
          -1.1734425707908456,
          -1.9609962976837447,
          1.904270892330739,
          -0.10400697771863725,
          0.9179842824151149,
          0.16380229188572826,
          -0.02490709779441639,
          -0.20790133058482613,
          0.5399698264563033,
          -0.9674437863175008,
          0.943420239562524,
          0.1561027975165673,
          -1.6553424385101994,
          0.8709325231705167,
          1.3197016755016702,
          -2.287162353986225,
          0.552534163797248,
          -2.9316789514534003,
          -1.413578565746748,
          0.3066964640228571,
          -0.8862210615838182,
          2.2245689170171943,
          -0.5073138082557282,
          2.295896889626357,
          0.03791532397259017,
          -0.27422129122939853,
          0.12873175025274455,
          0.4837720574093124,
          -0.29738246943237895,
          -0.0988932565886435,
          -1.3368837027277733,
          0.07779215851650331,
          -2.1254522743271664,
          -0.35883373446418565,
          0.008131872263935342,
          1.3898536362783147,
          1.010414278850495,
          -0.1442294615435738,
          0.9808125838800891,
          -0.4968630660898616,
          -1.778081760893912,
          -0.12516367093881087,
          0.06968580548842876,
          -0.7992199722691573,
          0.217143175038511,
          0.31265034609776243,
          0.3134863468368505,
          0.7484128321632029,
          -0.44746867845204136,
          -1.5837350747526953,
          -0.5834240333463931,
          -1.522918964431989
         ],
         "xaxis": "x2",
         "y": [
          0.019430806383181284,
          0.608603613411356,
          0.07247562241777829,
          -0.9104428128373663,
          1.3735657891542405,
          0.07519673113819865,
          0.06395658164671109,
          -1.6195694639137597,
          0.7554966666743327,
          0.45097740835769223,
          -0.10156324731745073,
          -0.4158522716260824,
          0.9954541144280701,
          -0.48555200602878423,
          1.490823288469039,
          -0.13194416978954118,
          -0.7528004178239888,
          -0.544262017467453,
          -1.437649785582203,
          0.17187226223968824,
          -1.2375300092105108,
          0.49278868970672296,
          -0.6361730509889744,
          -0.13764319117463106,
          0.062410111597416565,
          -0.5187075611984749,
          -1.4102344376792062,
          -0.3572026445885095,
          -0.6376315054537319,
          -0.08196403616906862,
          1.2918666744199032,
          1.834095870683521,
          1.028800443585434,
          0.9937885884309238,
          -0.37089692485727643,
          -0.3412877759764047,
          2.262481668740981,
          -0.2951852827270955,
          1.1249926939573314,
          0.5702750889136583,
          -0.7551453700363403,
          1.0505410054870346,
          -2.1796411612126207,
          1.4633293246578305,
          -0.9824685130984081,
          -0.8896242240185488,
          -0.15830524409511837,
          0.8207907173546565,
          -1.1853010290819173,
          -0.04668477075582644,
          -0.4923965618308851,
          1.347160076177271,
          0.010843352382841287,
          0.6173535522890893,
          -1.5062569479408272,
          0.19394046597445944,
          -1.5703035237848442,
          -0.8017093258648721,
          -0.5420091277779893,
          0.12398167085240544,
          1.0336758962507486,
          0.7370393163266648,
          1.0215708043915677,
          -0.40016276626102376,
          1.5133921798813612,
          0.7624574546404679,
          0.12204337931158848,
          0.3878926000196656,
          -1.9858807909062057,
          1.5619887939186559,
          1.9262998520500085,
          0.6179697050361458,
          -0.2637131372925625,
          -0.42894690745324804,
          0.15220520963924042,
          0.2171978777436021,
          -1.0019800436093944,
          -0.9082410683140086,
          -0.9323858380561356,
          -2.176514619233318,
          -2.041735481953146,
          0.1900171138249872,
          0.7957042354908531,
          -0.5964879028707374,
          -0.3146446170771317,
          -2.5337539168618295,
          -1.0869571144160752,
          0.9013311410590518,
          -0.6131300774164766,
          0.7959724948574082,
          -0.01817478619237521,
          0.05015503961687754,
          0.376814718222817,
          -1.548926641719814,
          0.26002105343845394,
          -0.9509949673458841,
          -0.4274355159462603,
          1.3031986142392404,
          -1.9640602579483455,
          -1.3617829420408287
         ],
         "yaxis": "y2"
        },
        {
         "line": {
          "color": "rgba(128, 128, 128, 1.0)",
          "dash": "solid",
          "shape": "linear",
          "width": 1.3
         },
         "marker": {
          "size": 2,
          "symbol": "circle"
         },
         "mode": "markers",
         "name": "A",
         "text": "",
         "type": "scatter",
         "x": [
          -0.15684046679247937,
          0.0013828717725460275,
          -0.20717052487752494,
          -0.7206190182063845,
          0.1586724861805863,
          0.34911398085786866,
          -0.44956744070842763,
          1.391230362803256,
          -0.46585330693668414,
          2.375752738731807,
          2.8013418024600076,
          -0.8922346367023012,
          -0.926846171443639,
          1.3309078366225244,
          0.1865029925576986,
          0.3440165820448021,
          2.0006673071046435,
          2.1218335358455778,
          -1.0851681629427428,
          0.036401360337058986,
          -0.7900458544606217,
          -0.4240780143001388,
          -0.23030482293717486,
          0.49875171251720374,
          2.813766329755358,
          0.51816636356984,
          0.6739908495930921,
          0.9727277361803863,
          1.7404161611034967,
          -1.052396263040642,
          0.6507507419833379,
          -0.3300921789049227,
          -0.31312308122181687,
          -1.057779781449692,
          0.5620379645886366,
          -0.6271297467319812,
          0.7904803881217852,
          -0.460998677311609,
          -1.0011704250170772,
          -0.15164477527511522,
          0.8641526804073327,
          -0.37518655065331746,
          1.324477199089354,
          -1.3033235959487661,
          0.5546707941496423,
          0.0033896549462594018,
          2.1165944224416005,
          1.521280594969115,
          -0.687675505707438,
          -0.28642443104729887,
          0.3519115913584386,
          0.6065211681422118,
          -1.3550957258383545,
          -0.8850366659186174,
          -0.1993180820639049,
          1.3426081981955984,
          -0.5434397045615473,
          -0.2632372324367694,
          0.685903186648751,
          -0.18105477889980426,
          -0.24896203088279126,
          -0.22713275470744318,
          0.5174468834197568,
          0.8823079341631708,
          1.2896006276980028,
          -0.34861199578961743,
          2.6913746255706466,
          1.0625561710492792,
          -0.661242484110436,
          -0.04914036281608619,
          -0.7900573785253736,
          -1.3699078137285237,
          1.2106250200809991,
          1.954255197101674,
          0.8058253342193138,
          -1.192938271012122,
          -0.4177302008237818,
          1.0272729885317131,
          -1.3244327715514042,
          -1.8162033125358932,
          0.029861675707530972,
          1.0681575098153913,
          1.6727332730577504,
          1.2032897688914128,
          0.410352298190852,
          1.1288481375445711,
          -1.206014819993071,
          -0.6803987372025606,
          0.16928314305903994,
          0.7653848749316945,
          -1.333754491270903,
          -0.578849785869674,
          0.14091504799203886,
          -0.3101137020582831,
          -0.4458092234831239,
          -0.23501363415754506,
          -0.4824689949430698,
          0.43215075292197663,
          -1.656409175252382,
          -1.57918209361295
         ],
         "xaxis": "x3",
         "y": [
          0.019430806383181284,
          0.608603613411356,
          0.07247562241777829,
          -0.9104428128373663,
          1.3735657891542405,
          0.07519673113819865,
          0.06395658164671109,
          -1.6195694639137597,
          0.7554966666743327,
          0.45097740835769223,
          -0.10156324731745073,
          -0.4158522716260824,
          0.9954541144280701,
          -0.48555200602878423,
          1.490823288469039,
          -0.13194416978954118,
          -0.7528004178239888,
          -0.544262017467453,
          -1.437649785582203,
          0.17187226223968824,
          -1.2375300092105108,
          0.49278868970672296,
          -0.6361730509889744,
          -0.13764319117463106,
          0.062410111597416565,
          -0.5187075611984749,
          -1.4102344376792062,
          -0.3572026445885095,
          -0.6376315054537319,
          -0.08196403616906862,
          1.2918666744199032,
          1.834095870683521,
          1.028800443585434,
          0.9937885884309238,
          -0.37089692485727643,
          -0.3412877759764047,
          2.262481668740981,
          -0.2951852827270955,
          1.1249926939573314,
          0.5702750889136583,
          -0.7551453700363403,
          1.0505410054870346,
          -2.1796411612126207,
          1.4633293246578305,
          -0.9824685130984081,
          -0.8896242240185488,
          -0.15830524409511837,
          0.8207907173546565,
          -1.1853010290819173,
          -0.04668477075582644,
          -0.4923965618308851,
          1.347160076177271,
          0.010843352382841287,
          0.6173535522890893,
          -1.5062569479408272,
          0.19394046597445944,
          -1.5703035237848442,
          -0.8017093258648721,
          -0.5420091277779893,
          0.12398167085240544,
          1.0336758962507486,
          0.7370393163266648,
          1.0215708043915677,
          -0.40016276626102376,
          1.5133921798813612,
          0.7624574546404679,
          0.12204337931158848,
          0.3878926000196656,
          -1.9858807909062057,
          1.5619887939186559,
          1.9262998520500085,
          0.6179697050361458,
          -0.2637131372925625,
          -0.42894690745324804,
          0.15220520963924042,
          0.2171978777436021,
          -1.0019800436093944,
          -0.9082410683140086,
          -0.9323858380561356,
          -2.176514619233318,
          -2.041735481953146,
          0.1900171138249872,
          0.7957042354908531,
          -0.5964879028707374,
          -0.3146446170771317,
          -2.5337539168618295,
          -1.0869571144160752,
          0.9013311410590518,
          -0.6131300774164766,
          0.7959724948574082,
          -0.01817478619237521,
          0.05015503961687754,
          0.376814718222817,
          -1.548926641719814,
          0.26002105343845394,
          -0.9509949673458841,
          -0.4274355159462603,
          1.3031986142392404,
          -1.9640602579483455,
          -1.3617829420408287
         ],
         "yaxis": "y3"
        },
        {
         "line": {
          "color": "rgba(128, 128, 128, 1.0)",
          "dash": "solid",
          "shape": "linear",
          "width": 1.3
         },
         "marker": {
          "size": 2,
          "symbol": "circle"
         },
         "mode": "markers",
         "name": "A",
         "text": "",
         "type": "scatter",
         "x": [
          2.2119370484889576,
          0.2619538103571365,
          0.8924094077570193,
          -0.5904685993833743,
          0.0552766009411597,
          2.0386234968326233,
          -0.25921632958910207,
          1.258045812592153,
          -0.08375681524517528,
          0.2538557571671244,
          -0.9808152294413444,
          -0.6605595449516914,
          0.4678417811418773,
          0.012704562790264128,
          -0.49564194168079495,
          -2.135336493694956,
          1.0892234105248118,
          -0.21360836380081863,
          -1.2613303261030369,
          1.035530865770712,
          -2.2045106392997607,
          0.06781027645605417,
          -0.45458982731005415,
          -0.3630801656225834,
          0.657052299328566,
          0.6815713140492817,
          -0.3897900022027989,
          -1.5049851594981454,
          0.15542984351047032,
          -1.3532537632383819,
          0.5421869087975931,
          -0.9224892806340775,
          0.3513501900277581,
          -0.07555797465127363,
          -0.6736932749088854,
          0.39738379048588646,
          -0.513421368766816,
          0.13413567842431964,
          -0.41991144116608936,
          -0.7679773578512785,
          0.09927167247266122,
          0.2012677871419946,
          -0.1577219516692262,
          1.1368320110964723,
          0.387050190537693,
          1.8464697724505594,
          1.2655109411395482,
          1.4951956376058737,
          -1.188969723957844,
          -1.4146526735965659,
          -0.33825855148940037,
          -0.6279954052839511,
          0.23567593565933517,
          -1.0838590379437678,
          0.48304949369169115,
          -0.9668849864757662,
          -1.916287177830883,
          -0.5987588134419914,
          -0.43167766267818847,
          0.013125054891238325,
          -0.41132387441817775,
          -0.6243641075528994,
          -1.7040332454851073,
          2.9207575651107422,
          0.7338794324191147,
          0.18321432885336975,
          0.013204974415856777,
          -0.8640017165699477,
          0.1359464985400466,
          1.3093257097497903,
          -0.7779322939228172,
          -0.08474790121831398,
          0.6161921263538989,
          1.7975959989461179,
          1.5136315138421899,
          -0.19724401324219779,
          0.6253145261221091,
          0.15313896089343393,
          0.40401649761872777,
          0.9651431109184552,
          0.38881372859376023,
          -0.6800301885102675,
          0.5101696045730842,
          -0.8924176361306555,
          1.1597589320492567,
          -1.2091195603747213,
          -1.0211547747396779,
          -0.014112913171826398,
          0.13757985259358255,
          1.255842447019908,
          -0.30486794662000666,
          -0.07208922509598602,
          -0.28942993707462106,
          1.6803990367619053,
          0.42185433806988926,
          -0.36360146286425926,
          -0.3645471771058133,
          -0.8201607479181384,
          -0.20209701308029454,
          0.39344700984968983
         ],
         "xaxis": "x4",
         "y": [
          0.019430806383181284,
          0.608603613411356,
          0.07247562241777829,
          -0.9104428128373663,
          1.3735657891542405,
          0.07519673113819865,
          0.06395658164671109,
          -1.6195694639137597,
          0.7554966666743327,
          0.45097740835769223,
          -0.10156324731745073,
          -0.4158522716260824,
          0.9954541144280701,
          -0.48555200602878423,
          1.490823288469039,
          -0.13194416978954118,
          -0.7528004178239888,
          -0.544262017467453,
          -1.437649785582203,
          0.17187226223968824,
          -1.2375300092105108,
          0.49278868970672296,
          -0.6361730509889744,
          -0.13764319117463106,
          0.062410111597416565,
          -0.5187075611984749,
          -1.4102344376792062,
          -0.3572026445885095,
          -0.6376315054537319,
          -0.08196403616906862,
          1.2918666744199032,
          1.834095870683521,
          1.028800443585434,
          0.9937885884309238,
          -0.37089692485727643,
          -0.3412877759764047,
          2.262481668740981,
          -0.2951852827270955,
          1.1249926939573314,
          0.5702750889136583,
          -0.7551453700363403,
          1.0505410054870346,
          -2.1796411612126207,
          1.4633293246578305,
          -0.9824685130984081,
          -0.8896242240185488,
          -0.15830524409511837,
          0.8207907173546565,
          -1.1853010290819173,
          -0.04668477075582644,
          -0.4923965618308851,
          1.347160076177271,
          0.010843352382841287,
          0.6173535522890893,
          -1.5062569479408272,
          0.19394046597445944,
          -1.5703035237848442,
          -0.8017093258648721,
          -0.5420091277779893,
          0.12398167085240544,
          1.0336758962507486,
          0.7370393163266648,
          1.0215708043915677,
          -0.40016276626102376,
          1.5133921798813612,
          0.7624574546404679,
          0.12204337931158848,
          0.3878926000196656,
          -1.9858807909062057,
          1.5619887939186559,
          1.9262998520500085,
          0.6179697050361458,
          -0.2637131372925625,
          -0.42894690745324804,
          0.15220520963924042,
          0.2171978777436021,
          -1.0019800436093944,
          -0.9082410683140086,
          -0.9323858380561356,
          -2.176514619233318,
          -2.041735481953146,
          0.1900171138249872,
          0.7957042354908531,
          -0.5964879028707374,
          -0.3146446170771317,
          -2.5337539168618295,
          -1.0869571144160752,
          0.9013311410590518,
          -0.6131300774164766,
          0.7959724948574082,
          -0.01817478619237521,
          0.05015503961687754,
          0.376814718222817,
          -1.548926641719814,
          0.26002105343845394,
          -0.9509949673458841,
          -0.4274355159462603,
          1.3031986142392404,
          -1.9640602579483455,
          -1.3617829420408287
         ],
         "yaxis": "y4"
        },
        {
         "line": {
          "color": "rgba(128, 128, 128, 1.0)",
          "dash": "solid",
          "shape": "linear",
          "width": 1.3
         },
         "marker": {
          "size": 2,
          "symbol": "circle"
         },
         "mode": "markers",
         "name": "B",
         "text": "",
         "type": "scatter",
         "x": [
          0.019430806383181284,
          0.608603613411356,
          0.07247562241777829,
          -0.9104428128373663,
          1.3735657891542405,
          0.07519673113819865,
          0.06395658164671109,
          -1.6195694639137597,
          0.7554966666743327,
          0.45097740835769223,
          -0.10156324731745073,
          -0.4158522716260824,
          0.9954541144280701,
          -0.48555200602878423,
          1.490823288469039,
          -0.13194416978954118,
          -0.7528004178239888,
          -0.544262017467453,
          -1.437649785582203,
          0.17187226223968824,
          -1.2375300092105108,
          0.49278868970672296,
          -0.6361730509889744,
          -0.13764319117463106,
          0.062410111597416565,
          -0.5187075611984749,
          -1.4102344376792062,
          -0.3572026445885095,
          -0.6376315054537319,
          -0.08196403616906862,
          1.2918666744199032,
          1.834095870683521,
          1.028800443585434,
          0.9937885884309238,
          -0.37089692485727643,
          -0.3412877759764047,
          2.262481668740981,
          -0.2951852827270955,
          1.1249926939573314,
          0.5702750889136583,
          -0.7551453700363403,
          1.0505410054870346,
          -2.1796411612126207,
          1.4633293246578305,
          -0.9824685130984081,
          -0.8896242240185488,
          -0.15830524409511837,
          0.8207907173546565,
          -1.1853010290819173,
          -0.04668477075582644,
          -0.4923965618308851,
          1.347160076177271,
          0.010843352382841287,
          0.6173535522890893,
          -1.5062569479408272,
          0.19394046597445944,
          -1.5703035237848442,
          -0.8017093258648721,
          -0.5420091277779893,
          0.12398167085240544,
          1.0336758962507486,
          0.7370393163266648,
          1.0215708043915677,
          -0.40016276626102376,
          1.5133921798813612,
          0.7624574546404679,
          0.12204337931158848,
          0.3878926000196656,
          -1.9858807909062057,
          1.5619887939186559,
          1.9262998520500085,
          0.6179697050361458,
          -0.2637131372925625,
          -0.42894690745324804,
          0.15220520963924042,
          0.2171978777436021,
          -1.0019800436093944,
          -0.9082410683140086,
          -0.9323858380561356,
          -2.176514619233318,
          -2.041735481953146,
          0.1900171138249872,
          0.7957042354908531,
          -0.5964879028707374,
          -0.3146446170771317,
          -2.5337539168618295,
          -1.0869571144160752,
          0.9013311410590518,
          -0.6131300774164766,
          0.7959724948574082,
          -0.01817478619237521,
          0.05015503961687754,
          0.376814718222817,
          -1.548926641719814,
          0.26002105343845394,
          -0.9509949673458841,
          -0.4274355159462603,
          1.3031986142392404,
          -1.9640602579483455,
          -1.3617829420408287
         ],
         "xaxis": "x5",
         "y": [
          0.23590897280929557,
          -0.5853191060130026,
          0.45041649477698203,
          -1.4844634650877961,
          -0.7010019866089757,
          -1.7713343221822186,
          0.3564783560049668,
          1.1031620019724644,
          -0.534524659790858,
          1.55516579284802,
          0.9245808085412286,
          1.3620636205948855,
          0.6460233039467143,
          -1.3287700621303378,
          2.113243524617769,
          -0.7039904787447651,
          0.957708167234452,
          0.38668960727077833,
          1.0905405017303815,
          -0.15907806493007792,
          -0.05398389231091074,
          -0.5336742283108098,
          0.3824419930821319,
          0.7419908764060871,
          -0.4140242561179745,
          0.2759136081174468,
          0.8482704917519138,
          2.0059405381970254,
          -1.3246650717679416,
          -0.5065540149600787,
          -0.6936235230043091,
          -0.19441117112133538,
          0.887480460290256,
          -1.5166569531417406,
          -0.7190624137948296,
          0.4102288680484326,
          -0.7379062568928512,
          -0.38612979211456566,
          -0.9814499423449278,
          -0.4359275292528566,
          -0.12292181575473174,
          1.9056738072959156,
          -1.836401325717276,
          -2.792474660611752,
          -0.9083337804822073,
          2.782345891898233,
          0.2381865299508034,
          0.9647682007237843,
          -1.1734425707908456,
          -1.9609962976837447,
          1.904270892330739,
          -0.10400697771863725,
          0.9179842824151149,
          0.16380229188572826,
          -0.02490709779441639,
          -0.20790133058482613,
          0.5399698264563033,
          -0.9674437863175008,
          0.943420239562524,
          0.1561027975165673,
          -1.6553424385101994,
          0.8709325231705167,
          1.3197016755016702,
          -2.287162353986225,
          0.552534163797248,
          -2.9316789514534003,
          -1.413578565746748,
          0.3066964640228571,
          -0.8862210615838182,
          2.2245689170171943,
          -0.5073138082557282,
          2.295896889626357,
          0.03791532397259017,
          -0.27422129122939853,
          0.12873175025274455,
          0.4837720574093124,
          -0.29738246943237895,
          -0.0988932565886435,
          -1.3368837027277733,
          0.07779215851650331,
          -2.1254522743271664,
          -0.35883373446418565,
          0.008131872263935342,
          1.3898536362783147,
          1.010414278850495,
          -0.1442294615435738,
          0.9808125838800891,
          -0.4968630660898616,
          -1.778081760893912,
          -0.12516367093881087,
          0.06968580548842876,
          -0.7992199722691573,
          0.217143175038511,
          0.31265034609776243,
          0.3134863468368505,
          0.7484128321632029,
          -0.44746867845204136,
          -1.5837350747526953,
          -0.5834240333463931,
          -1.522918964431989
         ],
         "yaxis": "y5"
        },
        {
         "histfunc": "count",
         "histnorm": "",
         "marker": {
          "color": "rgba(55, 128, 191, 1.0)",
          "line": {
           "color": "#4D5663",
           "width": 1.3
          }
         },
         "name": "B",
         "nbinsx": 10,
         "opacity": 0.8,
         "orientation": "v",
         "type": "histogram",
         "x": [
          0.23590897280929557,
          -0.5853191060130026,
          0.45041649477698203,
          -1.4844634650877961,
          -0.7010019866089757,
          -1.7713343221822186,
          0.3564783560049668,
          1.1031620019724644,
          -0.534524659790858,
          1.55516579284802,
          0.9245808085412286,
          1.3620636205948855,
          0.6460233039467143,
          -1.3287700621303378,
          2.113243524617769,
          -0.7039904787447651,
          0.957708167234452,
          0.38668960727077833,
          1.0905405017303815,
          -0.15907806493007792,
          -0.05398389231091074,
          -0.5336742283108098,
          0.3824419930821319,
          0.7419908764060871,
          -0.4140242561179745,
          0.2759136081174468,
          0.8482704917519138,
          2.0059405381970254,
          -1.3246650717679416,
          -0.5065540149600787,
          -0.6936235230043091,
          -0.19441117112133538,
          0.887480460290256,
          -1.5166569531417406,
          -0.7190624137948296,
          0.4102288680484326,
          -0.7379062568928512,
          -0.38612979211456566,
          -0.9814499423449278,
          -0.4359275292528566,
          -0.12292181575473174,
          1.9056738072959156,
          -1.836401325717276,
          -2.792474660611752,
          -0.9083337804822073,
          2.782345891898233,
          0.2381865299508034,
          0.9647682007237843,
          -1.1734425707908456,
          -1.9609962976837447,
          1.904270892330739,
          -0.10400697771863725,
          0.9179842824151149,
          0.16380229188572826,
          -0.02490709779441639,
          -0.20790133058482613,
          0.5399698264563033,
          -0.9674437863175008,
          0.943420239562524,
          0.1561027975165673,
          -1.6553424385101994,
          0.8709325231705167,
          1.3197016755016702,
          -2.287162353986225,
          0.552534163797248,
          -2.9316789514534003,
          -1.413578565746748,
          0.3066964640228571,
          -0.8862210615838182,
          2.2245689170171943,
          -0.5073138082557282,
          2.295896889626357,
          0.03791532397259017,
          -0.27422129122939853,
          0.12873175025274455,
          0.4837720574093124,
          -0.29738246943237895,
          -0.0988932565886435,
          -1.3368837027277733,
          0.07779215851650331,
          -2.1254522743271664,
          -0.35883373446418565,
          0.008131872263935342,
          1.3898536362783147,
          1.010414278850495,
          -0.1442294615435738,
          0.9808125838800891,
          -0.4968630660898616,
          -1.778081760893912,
          -0.12516367093881087,
          0.06968580548842876,
          -0.7992199722691573,
          0.217143175038511,
          0.31265034609776243,
          0.3134863468368505,
          0.7484128321632029,
          -0.44746867845204136,
          -1.5837350747526953,
          -0.5834240333463931,
          -1.522918964431989
         ],
         "xaxis": "x6",
         "yaxis": "y6"
        },
        {
         "line": {
          "color": "rgba(128, 128, 128, 1.0)",
          "dash": "solid",
          "shape": "linear",
          "width": 1.3
         },
         "marker": {
          "size": 2,
          "symbol": "circle"
         },
         "mode": "markers",
         "name": "B",
         "text": "",
         "type": "scatter",
         "x": [
          -0.15684046679247937,
          0.0013828717725460275,
          -0.20717052487752494,
          -0.7206190182063845,
          0.1586724861805863,
          0.34911398085786866,
          -0.44956744070842763,
          1.391230362803256,
          -0.46585330693668414,
          2.375752738731807,
          2.8013418024600076,
          -0.8922346367023012,
          -0.926846171443639,
          1.3309078366225244,
          0.1865029925576986,
          0.3440165820448021,
          2.0006673071046435,
          2.1218335358455778,
          -1.0851681629427428,
          0.036401360337058986,
          -0.7900458544606217,
          -0.4240780143001388,
          -0.23030482293717486,
          0.49875171251720374,
          2.813766329755358,
          0.51816636356984,
          0.6739908495930921,
          0.9727277361803863,
          1.7404161611034967,
          -1.052396263040642,
          0.6507507419833379,
          -0.3300921789049227,
          -0.31312308122181687,
          -1.057779781449692,
          0.5620379645886366,
          -0.6271297467319812,
          0.7904803881217852,
          -0.460998677311609,
          -1.0011704250170772,
          -0.15164477527511522,
          0.8641526804073327,
          -0.37518655065331746,
          1.324477199089354,
          -1.3033235959487661,
          0.5546707941496423,
          0.0033896549462594018,
          2.1165944224416005,
          1.521280594969115,
          -0.687675505707438,
          -0.28642443104729887,
          0.3519115913584386,
          0.6065211681422118,
          -1.3550957258383545,
          -0.8850366659186174,
          -0.1993180820639049,
          1.3426081981955984,
          -0.5434397045615473,
          -0.2632372324367694,
          0.685903186648751,
          -0.18105477889980426,
          -0.24896203088279126,
          -0.22713275470744318,
          0.5174468834197568,
          0.8823079341631708,
          1.2896006276980028,
          -0.34861199578961743,
          2.6913746255706466,
          1.0625561710492792,
          -0.661242484110436,
          -0.04914036281608619,
          -0.7900573785253736,
          -1.3699078137285237,
          1.2106250200809991,
          1.954255197101674,
          0.8058253342193138,
          -1.192938271012122,
          -0.4177302008237818,
          1.0272729885317131,
          -1.3244327715514042,
          -1.8162033125358932,
          0.029861675707530972,
          1.0681575098153913,
          1.6727332730577504,
          1.2032897688914128,
          0.410352298190852,
          1.1288481375445711,
          -1.206014819993071,
          -0.6803987372025606,
          0.16928314305903994,
          0.7653848749316945,
          -1.333754491270903,
          -0.578849785869674,
          0.14091504799203886,
          -0.3101137020582831,
          -0.4458092234831239,
          -0.23501363415754506,
          -0.4824689949430698,
          0.43215075292197663,
          -1.656409175252382,
          -1.57918209361295
         ],
         "xaxis": "x7",
         "y": [
          0.23590897280929557,
          -0.5853191060130026,
          0.45041649477698203,
          -1.4844634650877961,
          -0.7010019866089757,
          -1.7713343221822186,
          0.3564783560049668,
          1.1031620019724644,
          -0.534524659790858,
          1.55516579284802,
          0.9245808085412286,
          1.3620636205948855,
          0.6460233039467143,
          -1.3287700621303378,
          2.113243524617769,
          -0.7039904787447651,
          0.957708167234452,
          0.38668960727077833,
          1.0905405017303815,
          -0.15907806493007792,
          -0.05398389231091074,
          -0.5336742283108098,
          0.3824419930821319,
          0.7419908764060871,
          -0.4140242561179745,
          0.2759136081174468,
          0.8482704917519138,
          2.0059405381970254,
          -1.3246650717679416,
          -0.5065540149600787,
          -0.6936235230043091,
          -0.19441117112133538,
          0.887480460290256,
          -1.5166569531417406,
          -0.7190624137948296,
          0.4102288680484326,
          -0.7379062568928512,
          -0.38612979211456566,
          -0.9814499423449278,
          -0.4359275292528566,
          -0.12292181575473174,
          1.9056738072959156,
          -1.836401325717276,
          -2.792474660611752,
          -0.9083337804822073,
          2.782345891898233,
          0.2381865299508034,
          0.9647682007237843,
          -1.1734425707908456,
          -1.9609962976837447,
          1.904270892330739,
          -0.10400697771863725,
          0.9179842824151149,
          0.16380229188572826,
          -0.02490709779441639,
          -0.20790133058482613,
          0.5399698264563033,
          -0.9674437863175008,
          0.943420239562524,
          0.1561027975165673,
          -1.6553424385101994,
          0.8709325231705167,
          1.3197016755016702,
          -2.287162353986225,
          0.552534163797248,
          -2.9316789514534003,
          -1.413578565746748,
          0.3066964640228571,
          -0.8862210615838182,
          2.2245689170171943,
          -0.5073138082557282,
          2.295896889626357,
          0.03791532397259017,
          -0.27422129122939853,
          0.12873175025274455,
          0.4837720574093124,
          -0.29738246943237895,
          -0.0988932565886435,
          -1.3368837027277733,
          0.07779215851650331,
          -2.1254522743271664,
          -0.35883373446418565,
          0.008131872263935342,
          1.3898536362783147,
          1.010414278850495,
          -0.1442294615435738,
          0.9808125838800891,
          -0.4968630660898616,
          -1.778081760893912,
          -0.12516367093881087,
          0.06968580548842876,
          -0.7992199722691573,
          0.217143175038511,
          0.31265034609776243,
          0.3134863468368505,
          0.7484128321632029,
          -0.44746867845204136,
          -1.5837350747526953,
          -0.5834240333463931,
          -1.522918964431989
         ],
         "yaxis": "y7"
        },
        {
         "line": {
          "color": "rgba(128, 128, 128, 1.0)",
          "dash": "solid",
          "shape": "linear",
          "width": 1.3
         },
         "marker": {
          "size": 2,
          "symbol": "circle"
         },
         "mode": "markers",
         "name": "B",
         "text": "",
         "type": "scatter",
         "x": [
          2.2119370484889576,
          0.2619538103571365,
          0.8924094077570193,
          -0.5904685993833743,
          0.0552766009411597,
          2.0386234968326233,
          -0.25921632958910207,
          1.258045812592153,
          -0.08375681524517528,
          0.2538557571671244,
          -0.9808152294413444,
          -0.6605595449516914,
          0.4678417811418773,
          0.012704562790264128,
          -0.49564194168079495,
          -2.135336493694956,
          1.0892234105248118,
          -0.21360836380081863,
          -1.2613303261030369,
          1.035530865770712,
          -2.2045106392997607,
          0.06781027645605417,
          -0.45458982731005415,
          -0.3630801656225834,
          0.657052299328566,
          0.6815713140492817,
          -0.3897900022027989,
          -1.5049851594981454,
          0.15542984351047032,
          -1.3532537632383819,
          0.5421869087975931,
          -0.9224892806340775,
          0.3513501900277581,
          -0.07555797465127363,
          -0.6736932749088854,
          0.39738379048588646,
          -0.513421368766816,
          0.13413567842431964,
          -0.41991144116608936,
          -0.7679773578512785,
          0.09927167247266122,
          0.2012677871419946,
          -0.1577219516692262,
          1.1368320110964723,
          0.387050190537693,
          1.8464697724505594,
          1.2655109411395482,
          1.4951956376058737,
          -1.188969723957844,
          -1.4146526735965659,
          -0.33825855148940037,
          -0.6279954052839511,
          0.23567593565933517,
          -1.0838590379437678,
          0.48304949369169115,
          -0.9668849864757662,
          -1.916287177830883,
          -0.5987588134419914,
          -0.43167766267818847,
          0.013125054891238325,
          -0.41132387441817775,
          -0.6243641075528994,
          -1.7040332454851073,
          2.9207575651107422,
          0.7338794324191147,
          0.18321432885336975,
          0.013204974415856777,
          -0.8640017165699477,
          0.1359464985400466,
          1.3093257097497903,
          -0.7779322939228172,
          -0.08474790121831398,
          0.6161921263538989,
          1.7975959989461179,
          1.5136315138421899,
          -0.19724401324219779,
          0.6253145261221091,
          0.15313896089343393,
          0.40401649761872777,
          0.9651431109184552,
          0.38881372859376023,
          -0.6800301885102675,
          0.5101696045730842,
          -0.8924176361306555,
          1.1597589320492567,
          -1.2091195603747213,
          -1.0211547747396779,
          -0.014112913171826398,
          0.13757985259358255,
          1.255842447019908,
          -0.30486794662000666,
          -0.07208922509598602,
          -0.28942993707462106,
          1.6803990367619053,
          0.42185433806988926,
          -0.36360146286425926,
          -0.3645471771058133,
          -0.8201607479181384,
          -0.20209701308029454,
          0.39344700984968983
         ],
         "xaxis": "x8",
         "y": [
          0.23590897280929557,
          -0.5853191060130026,
          0.45041649477698203,
          -1.4844634650877961,
          -0.7010019866089757,
          -1.7713343221822186,
          0.3564783560049668,
          1.1031620019724644,
          -0.534524659790858,
          1.55516579284802,
          0.9245808085412286,
          1.3620636205948855,
          0.6460233039467143,
          -1.3287700621303378,
          2.113243524617769,
          -0.7039904787447651,
          0.957708167234452,
          0.38668960727077833,
          1.0905405017303815,
          -0.15907806493007792,
          -0.05398389231091074,
          -0.5336742283108098,
          0.3824419930821319,
          0.7419908764060871,
          -0.4140242561179745,
          0.2759136081174468,
          0.8482704917519138,
          2.0059405381970254,
          -1.3246650717679416,
          -0.5065540149600787,
          -0.6936235230043091,
          -0.19441117112133538,
          0.887480460290256,
          -1.5166569531417406,
          -0.7190624137948296,
          0.4102288680484326,
          -0.7379062568928512,
          -0.38612979211456566,
          -0.9814499423449278,
          -0.4359275292528566,
          -0.12292181575473174,
          1.9056738072959156,
          -1.836401325717276,
          -2.792474660611752,
          -0.9083337804822073,
          2.782345891898233,
          0.2381865299508034,
          0.9647682007237843,
          -1.1734425707908456,
          -1.9609962976837447,
          1.904270892330739,
          -0.10400697771863725,
          0.9179842824151149,
          0.16380229188572826,
          -0.02490709779441639,
          -0.20790133058482613,
          0.5399698264563033,
          -0.9674437863175008,
          0.943420239562524,
          0.1561027975165673,
          -1.6553424385101994,
          0.8709325231705167,
          1.3197016755016702,
          -2.287162353986225,
          0.552534163797248,
          -2.9316789514534003,
          -1.413578565746748,
          0.3066964640228571,
          -0.8862210615838182,
          2.2245689170171943,
          -0.5073138082557282,
          2.295896889626357,
          0.03791532397259017,
          -0.27422129122939853,
          0.12873175025274455,
          0.4837720574093124,
          -0.29738246943237895,
          -0.0988932565886435,
          -1.3368837027277733,
          0.07779215851650331,
          -2.1254522743271664,
          -0.35883373446418565,
          0.008131872263935342,
          1.3898536362783147,
          1.010414278850495,
          -0.1442294615435738,
          0.9808125838800891,
          -0.4968630660898616,
          -1.778081760893912,
          -0.12516367093881087,
          0.06968580548842876,
          -0.7992199722691573,
          0.217143175038511,
          0.31265034609776243,
          0.3134863468368505,
          0.7484128321632029,
          -0.44746867845204136,
          -1.5837350747526953,
          -0.5834240333463931,
          -1.522918964431989
         ],
         "yaxis": "y8"
        },
        {
         "line": {
          "color": "rgba(128, 128, 128, 1.0)",
          "dash": "solid",
          "shape": "linear",
          "width": 1.3
         },
         "marker": {
          "size": 2,
          "symbol": "circle"
         },
         "mode": "markers",
         "name": "C",
         "text": "",
         "type": "scatter",
         "x": [
          0.019430806383181284,
          0.608603613411356,
          0.07247562241777829,
          -0.9104428128373663,
          1.3735657891542405,
          0.07519673113819865,
          0.06395658164671109,
          -1.6195694639137597,
          0.7554966666743327,
          0.45097740835769223,
          -0.10156324731745073,
          -0.4158522716260824,
          0.9954541144280701,
          -0.48555200602878423,
          1.490823288469039,
          -0.13194416978954118,
          -0.7528004178239888,
          -0.544262017467453,
          -1.437649785582203,
          0.17187226223968824,
          -1.2375300092105108,
          0.49278868970672296,
          -0.6361730509889744,
          -0.13764319117463106,
          0.062410111597416565,
          -0.5187075611984749,
          -1.4102344376792062,
          -0.3572026445885095,
          -0.6376315054537319,
          -0.08196403616906862,
          1.2918666744199032,
          1.834095870683521,
          1.028800443585434,
          0.9937885884309238,
          -0.37089692485727643,
          -0.3412877759764047,
          2.262481668740981,
          -0.2951852827270955,
          1.1249926939573314,
          0.5702750889136583,
          -0.7551453700363403,
          1.0505410054870346,
          -2.1796411612126207,
          1.4633293246578305,
          -0.9824685130984081,
          -0.8896242240185488,
          -0.15830524409511837,
          0.8207907173546565,
          -1.1853010290819173,
          -0.04668477075582644,
          -0.4923965618308851,
          1.347160076177271,
          0.010843352382841287,
          0.6173535522890893,
          -1.5062569479408272,
          0.19394046597445944,
          -1.5703035237848442,
          -0.8017093258648721,
          -0.5420091277779893,
          0.12398167085240544,
          1.0336758962507486,
          0.7370393163266648,
          1.0215708043915677,
          -0.40016276626102376,
          1.5133921798813612,
          0.7624574546404679,
          0.12204337931158848,
          0.3878926000196656,
          -1.9858807909062057,
          1.5619887939186559,
          1.9262998520500085,
          0.6179697050361458,
          -0.2637131372925625,
          -0.42894690745324804,
          0.15220520963924042,
          0.2171978777436021,
          -1.0019800436093944,
          -0.9082410683140086,
          -0.9323858380561356,
          -2.176514619233318,
          -2.041735481953146,
          0.1900171138249872,
          0.7957042354908531,
          -0.5964879028707374,
          -0.3146446170771317,
          -2.5337539168618295,
          -1.0869571144160752,
          0.9013311410590518,
          -0.6131300774164766,
          0.7959724948574082,
          -0.01817478619237521,
          0.05015503961687754,
          0.376814718222817,
          -1.548926641719814,
          0.26002105343845394,
          -0.9509949673458841,
          -0.4274355159462603,
          1.3031986142392404,
          -1.9640602579483455,
          -1.3617829420408287
         ],
         "xaxis": "x9",
         "y": [
          -0.15684046679247937,
          0.0013828717725460275,
          -0.20717052487752494,
          -0.7206190182063845,
          0.1586724861805863,
          0.34911398085786866,
          -0.44956744070842763,
          1.391230362803256,
          -0.46585330693668414,
          2.375752738731807,
          2.8013418024600076,
          -0.8922346367023012,
          -0.926846171443639,
          1.3309078366225244,
          0.1865029925576986,
          0.3440165820448021,
          2.0006673071046435,
          2.1218335358455778,
          -1.0851681629427428,
          0.036401360337058986,
          -0.7900458544606217,
          -0.4240780143001388,
          -0.23030482293717486,
          0.49875171251720374,
          2.813766329755358,
          0.51816636356984,
          0.6739908495930921,
          0.9727277361803863,
          1.7404161611034967,
          -1.052396263040642,
          0.6507507419833379,
          -0.3300921789049227,
          -0.31312308122181687,
          -1.057779781449692,
          0.5620379645886366,
          -0.6271297467319812,
          0.7904803881217852,
          -0.460998677311609,
          -1.0011704250170772,
          -0.15164477527511522,
          0.8641526804073327,
          -0.37518655065331746,
          1.324477199089354,
          -1.3033235959487661,
          0.5546707941496423,
          0.0033896549462594018,
          2.1165944224416005,
          1.521280594969115,
          -0.687675505707438,
          -0.28642443104729887,
          0.3519115913584386,
          0.6065211681422118,
          -1.3550957258383545,
          -0.8850366659186174,
          -0.1993180820639049,
          1.3426081981955984,
          -0.5434397045615473,
          -0.2632372324367694,
          0.685903186648751,
          -0.18105477889980426,
          -0.24896203088279126,
          -0.22713275470744318,
          0.5174468834197568,
          0.8823079341631708,
          1.2896006276980028,
          -0.34861199578961743,
          2.6913746255706466,
          1.0625561710492792,
          -0.661242484110436,
          -0.04914036281608619,
          -0.7900573785253736,
          -1.3699078137285237,
          1.2106250200809991,
          1.954255197101674,
          0.8058253342193138,
          -1.192938271012122,
          -0.4177302008237818,
          1.0272729885317131,
          -1.3244327715514042,
          -1.8162033125358932,
          0.029861675707530972,
          1.0681575098153913,
          1.6727332730577504,
          1.2032897688914128,
          0.410352298190852,
          1.1288481375445711,
          -1.206014819993071,
          -0.6803987372025606,
          0.16928314305903994,
          0.7653848749316945,
          -1.333754491270903,
          -0.578849785869674,
          0.14091504799203886,
          -0.3101137020582831,
          -0.4458092234831239,
          -0.23501363415754506,
          -0.4824689949430698,
          0.43215075292197663,
          -1.656409175252382,
          -1.57918209361295
         ],
         "yaxis": "y9"
        },
        {
         "line": {
          "color": "rgba(128, 128, 128, 1.0)",
          "dash": "solid",
          "shape": "linear",
          "width": 1.3
         },
         "marker": {
          "size": 2,
          "symbol": "circle"
         },
         "mode": "markers",
         "name": "C",
         "text": "",
         "type": "scatter",
         "x": [
          0.23590897280929557,
          -0.5853191060130026,
          0.45041649477698203,
          -1.4844634650877961,
          -0.7010019866089757,
          -1.7713343221822186,
          0.3564783560049668,
          1.1031620019724644,
          -0.534524659790858,
          1.55516579284802,
          0.9245808085412286,
          1.3620636205948855,
          0.6460233039467143,
          -1.3287700621303378,
          2.113243524617769,
          -0.7039904787447651,
          0.957708167234452,
          0.38668960727077833,
          1.0905405017303815,
          -0.15907806493007792,
          -0.05398389231091074,
          -0.5336742283108098,
          0.3824419930821319,
          0.7419908764060871,
          -0.4140242561179745,
          0.2759136081174468,
          0.8482704917519138,
          2.0059405381970254,
          -1.3246650717679416,
          -0.5065540149600787,
          -0.6936235230043091,
          -0.19441117112133538,
          0.887480460290256,
          -1.5166569531417406,
          -0.7190624137948296,
          0.4102288680484326,
          -0.7379062568928512,
          -0.38612979211456566,
          -0.9814499423449278,
          -0.4359275292528566,
          -0.12292181575473174,
          1.9056738072959156,
          -1.836401325717276,
          -2.792474660611752,
          -0.9083337804822073,
          2.782345891898233,
          0.2381865299508034,
          0.9647682007237843,
          -1.1734425707908456,
          -1.9609962976837447,
          1.904270892330739,
          -0.10400697771863725,
          0.9179842824151149,
          0.16380229188572826,
          -0.02490709779441639,
          -0.20790133058482613,
          0.5399698264563033,
          -0.9674437863175008,
          0.943420239562524,
          0.1561027975165673,
          -1.6553424385101994,
          0.8709325231705167,
          1.3197016755016702,
          -2.287162353986225,
          0.552534163797248,
          -2.9316789514534003,
          -1.413578565746748,
          0.3066964640228571,
          -0.8862210615838182,
          2.2245689170171943,
          -0.5073138082557282,
          2.295896889626357,
          0.03791532397259017,
          -0.27422129122939853,
          0.12873175025274455,
          0.4837720574093124,
          -0.29738246943237895,
          -0.0988932565886435,
          -1.3368837027277733,
          0.07779215851650331,
          -2.1254522743271664,
          -0.35883373446418565,
          0.008131872263935342,
          1.3898536362783147,
          1.010414278850495,
          -0.1442294615435738,
          0.9808125838800891,
          -0.4968630660898616,
          -1.778081760893912,
          -0.12516367093881087,
          0.06968580548842876,
          -0.7992199722691573,
          0.217143175038511,
          0.31265034609776243,
          0.3134863468368505,
          0.7484128321632029,
          -0.44746867845204136,
          -1.5837350747526953,
          -0.5834240333463931,
          -1.522918964431989
         ],
         "xaxis": "x10",
         "y": [
          -0.15684046679247937,
          0.0013828717725460275,
          -0.20717052487752494,
          -0.7206190182063845,
          0.1586724861805863,
          0.34911398085786866,
          -0.44956744070842763,
          1.391230362803256,
          -0.46585330693668414,
          2.375752738731807,
          2.8013418024600076,
          -0.8922346367023012,
          -0.926846171443639,
          1.3309078366225244,
          0.1865029925576986,
          0.3440165820448021,
          2.0006673071046435,
          2.1218335358455778,
          -1.0851681629427428,
          0.036401360337058986,
          -0.7900458544606217,
          -0.4240780143001388,
          -0.23030482293717486,
          0.49875171251720374,
          2.813766329755358,
          0.51816636356984,
          0.6739908495930921,
          0.9727277361803863,
          1.7404161611034967,
          -1.052396263040642,
          0.6507507419833379,
          -0.3300921789049227,
          -0.31312308122181687,
          -1.057779781449692,
          0.5620379645886366,
          -0.6271297467319812,
          0.7904803881217852,
          -0.460998677311609,
          -1.0011704250170772,
          -0.15164477527511522,
          0.8641526804073327,
          -0.37518655065331746,
          1.324477199089354,
          -1.3033235959487661,
          0.5546707941496423,
          0.0033896549462594018,
          2.1165944224416005,
          1.521280594969115,
          -0.687675505707438,
          -0.28642443104729887,
          0.3519115913584386,
          0.6065211681422118,
          -1.3550957258383545,
          -0.8850366659186174,
          -0.1993180820639049,
          1.3426081981955984,
          -0.5434397045615473,
          -0.2632372324367694,
          0.685903186648751,
          -0.18105477889980426,
          -0.24896203088279126,
          -0.22713275470744318,
          0.5174468834197568,
          0.8823079341631708,
          1.2896006276980028,
          -0.34861199578961743,
          2.6913746255706466,
          1.0625561710492792,
          -0.661242484110436,
          -0.04914036281608619,
          -0.7900573785253736,
          -1.3699078137285237,
          1.2106250200809991,
          1.954255197101674,
          0.8058253342193138,
          -1.192938271012122,
          -0.4177302008237818,
          1.0272729885317131,
          -1.3244327715514042,
          -1.8162033125358932,
          0.029861675707530972,
          1.0681575098153913,
          1.6727332730577504,
          1.2032897688914128,
          0.410352298190852,
          1.1288481375445711,
          -1.206014819993071,
          -0.6803987372025606,
          0.16928314305903994,
          0.7653848749316945,
          -1.333754491270903,
          -0.578849785869674,
          0.14091504799203886,
          -0.3101137020582831,
          -0.4458092234831239,
          -0.23501363415754506,
          -0.4824689949430698,
          0.43215075292197663,
          -1.656409175252382,
          -1.57918209361295
         ],
         "yaxis": "y10"
        },
        {
         "histfunc": "count",
         "histnorm": "",
         "marker": {
          "color": "rgba(50, 171, 96, 1.0)",
          "line": {
           "color": "#4D5663",
           "width": 1.3
          }
         },
         "name": "C",
         "nbinsx": 10,
         "opacity": 0.8,
         "orientation": "v",
         "type": "histogram",
         "x": [
          -0.15684046679247937,
          0.0013828717725460275,
          -0.20717052487752494,
          -0.7206190182063845,
          0.1586724861805863,
          0.34911398085786866,
          -0.44956744070842763,
          1.391230362803256,
          -0.46585330693668414,
          2.375752738731807,
          2.8013418024600076,
          -0.8922346367023012,
          -0.926846171443639,
          1.3309078366225244,
          0.1865029925576986,
          0.3440165820448021,
          2.0006673071046435,
          2.1218335358455778,
          -1.0851681629427428,
          0.036401360337058986,
          -0.7900458544606217,
          -0.4240780143001388,
          -0.23030482293717486,
          0.49875171251720374,
          2.813766329755358,
          0.51816636356984,
          0.6739908495930921,
          0.9727277361803863,
          1.7404161611034967,
          -1.052396263040642,
          0.6507507419833379,
          -0.3300921789049227,
          -0.31312308122181687,
          -1.057779781449692,
          0.5620379645886366,
          -0.6271297467319812,
          0.7904803881217852,
          -0.460998677311609,
          -1.0011704250170772,
          -0.15164477527511522,
          0.8641526804073327,
          -0.37518655065331746,
          1.324477199089354,
          -1.3033235959487661,
          0.5546707941496423,
          0.0033896549462594018,
          2.1165944224416005,
          1.521280594969115,
          -0.687675505707438,
          -0.28642443104729887,
          0.3519115913584386,
          0.6065211681422118,
          -1.3550957258383545,
          -0.8850366659186174,
          -0.1993180820639049,
          1.3426081981955984,
          -0.5434397045615473,
          -0.2632372324367694,
          0.685903186648751,
          -0.18105477889980426,
          -0.24896203088279126,
          -0.22713275470744318,
          0.5174468834197568,
          0.8823079341631708,
          1.2896006276980028,
          -0.34861199578961743,
          2.6913746255706466,
          1.0625561710492792,
          -0.661242484110436,
          -0.04914036281608619,
          -0.7900573785253736,
          -1.3699078137285237,
          1.2106250200809991,
          1.954255197101674,
          0.8058253342193138,
          -1.192938271012122,
          -0.4177302008237818,
          1.0272729885317131,
          -1.3244327715514042,
          -1.8162033125358932,
          0.029861675707530972,
          1.0681575098153913,
          1.6727332730577504,
          1.2032897688914128,
          0.410352298190852,
          1.1288481375445711,
          -1.206014819993071,
          -0.6803987372025606,
          0.16928314305903994,
          0.7653848749316945,
          -1.333754491270903,
          -0.578849785869674,
          0.14091504799203886,
          -0.3101137020582831,
          -0.4458092234831239,
          -0.23501363415754506,
          -0.4824689949430698,
          0.43215075292197663,
          -1.656409175252382,
          -1.57918209361295
         ],
         "xaxis": "x11",
         "yaxis": "y11"
        },
        {
         "line": {
          "color": "rgba(128, 128, 128, 1.0)",
          "dash": "solid",
          "shape": "linear",
          "width": 1.3
         },
         "marker": {
          "size": 2,
          "symbol": "circle"
         },
         "mode": "markers",
         "name": "C",
         "text": "",
         "type": "scatter",
         "x": [
          2.2119370484889576,
          0.2619538103571365,
          0.8924094077570193,
          -0.5904685993833743,
          0.0552766009411597,
          2.0386234968326233,
          -0.25921632958910207,
          1.258045812592153,
          -0.08375681524517528,
          0.2538557571671244,
          -0.9808152294413444,
          -0.6605595449516914,
          0.4678417811418773,
          0.012704562790264128,
          -0.49564194168079495,
          -2.135336493694956,
          1.0892234105248118,
          -0.21360836380081863,
          -1.2613303261030369,
          1.035530865770712,
          -2.2045106392997607,
          0.06781027645605417,
          -0.45458982731005415,
          -0.3630801656225834,
          0.657052299328566,
          0.6815713140492817,
          -0.3897900022027989,
          -1.5049851594981454,
          0.15542984351047032,
          -1.3532537632383819,
          0.5421869087975931,
          -0.9224892806340775,
          0.3513501900277581,
          -0.07555797465127363,
          -0.6736932749088854,
          0.39738379048588646,
          -0.513421368766816,
          0.13413567842431964,
          -0.41991144116608936,
          -0.7679773578512785,
          0.09927167247266122,
          0.2012677871419946,
          -0.1577219516692262,
          1.1368320110964723,
          0.387050190537693,
          1.8464697724505594,
          1.2655109411395482,
          1.4951956376058737,
          -1.188969723957844,
          -1.4146526735965659,
          -0.33825855148940037,
          -0.6279954052839511,
          0.23567593565933517,
          -1.0838590379437678,
          0.48304949369169115,
          -0.9668849864757662,
          -1.916287177830883,
          -0.5987588134419914,
          -0.43167766267818847,
          0.013125054891238325,
          -0.41132387441817775,
          -0.6243641075528994,
          -1.7040332454851073,
          2.9207575651107422,
          0.7338794324191147,
          0.18321432885336975,
          0.013204974415856777,
          -0.8640017165699477,
          0.1359464985400466,
          1.3093257097497903,
          -0.7779322939228172,
          -0.08474790121831398,
          0.6161921263538989,
          1.7975959989461179,
          1.5136315138421899,
          -0.19724401324219779,
          0.6253145261221091,
          0.15313896089343393,
          0.40401649761872777,
          0.9651431109184552,
          0.38881372859376023,
          -0.6800301885102675,
          0.5101696045730842,
          -0.8924176361306555,
          1.1597589320492567,
          -1.2091195603747213,
          -1.0211547747396779,
          -0.014112913171826398,
          0.13757985259358255,
          1.255842447019908,
          -0.30486794662000666,
          -0.07208922509598602,
          -0.28942993707462106,
          1.6803990367619053,
          0.42185433806988926,
          -0.36360146286425926,
          -0.3645471771058133,
          -0.8201607479181384,
          -0.20209701308029454,
          0.39344700984968983
         ],
         "xaxis": "x12",
         "y": [
          -0.15684046679247937,
          0.0013828717725460275,
          -0.20717052487752494,
          -0.7206190182063845,
          0.1586724861805863,
          0.34911398085786866,
          -0.44956744070842763,
          1.391230362803256,
          -0.46585330693668414,
          2.375752738731807,
          2.8013418024600076,
          -0.8922346367023012,
          -0.926846171443639,
          1.3309078366225244,
          0.1865029925576986,
          0.3440165820448021,
          2.0006673071046435,
          2.1218335358455778,
          -1.0851681629427428,
          0.036401360337058986,
          -0.7900458544606217,
          -0.4240780143001388,
          -0.23030482293717486,
          0.49875171251720374,
          2.813766329755358,
          0.51816636356984,
          0.6739908495930921,
          0.9727277361803863,
          1.7404161611034967,
          -1.052396263040642,
          0.6507507419833379,
          -0.3300921789049227,
          -0.31312308122181687,
          -1.057779781449692,
          0.5620379645886366,
          -0.6271297467319812,
          0.7904803881217852,
          -0.460998677311609,
          -1.0011704250170772,
          -0.15164477527511522,
          0.8641526804073327,
          -0.37518655065331746,
          1.324477199089354,
          -1.3033235959487661,
          0.5546707941496423,
          0.0033896549462594018,
          2.1165944224416005,
          1.521280594969115,
          -0.687675505707438,
          -0.28642443104729887,
          0.3519115913584386,
          0.6065211681422118,
          -1.3550957258383545,
          -0.8850366659186174,
          -0.1993180820639049,
          1.3426081981955984,
          -0.5434397045615473,
          -0.2632372324367694,
          0.685903186648751,
          -0.18105477889980426,
          -0.24896203088279126,
          -0.22713275470744318,
          0.5174468834197568,
          0.8823079341631708,
          1.2896006276980028,
          -0.34861199578961743,
          2.6913746255706466,
          1.0625561710492792,
          -0.661242484110436,
          -0.04914036281608619,
          -0.7900573785253736,
          -1.3699078137285237,
          1.2106250200809991,
          1.954255197101674,
          0.8058253342193138,
          -1.192938271012122,
          -0.4177302008237818,
          1.0272729885317131,
          -1.3244327715514042,
          -1.8162033125358932,
          0.029861675707530972,
          1.0681575098153913,
          1.6727332730577504,
          1.2032897688914128,
          0.410352298190852,
          1.1288481375445711,
          -1.206014819993071,
          -0.6803987372025606,
          0.16928314305903994,
          0.7653848749316945,
          -1.333754491270903,
          -0.578849785869674,
          0.14091504799203886,
          -0.3101137020582831,
          -0.4458092234831239,
          -0.23501363415754506,
          -0.4824689949430698,
          0.43215075292197663,
          -1.656409175252382,
          -1.57918209361295
         ],
         "yaxis": "y12"
        },
        {
         "line": {
          "color": "rgba(128, 128, 128, 1.0)",
          "dash": "solid",
          "shape": "linear",
          "width": 1.3
         },
         "marker": {
          "size": 2,
          "symbol": "circle"
         },
         "mode": "markers",
         "name": "D",
         "text": "",
         "type": "scatter",
         "x": [
          0.019430806383181284,
          0.608603613411356,
          0.07247562241777829,
          -0.9104428128373663,
          1.3735657891542405,
          0.07519673113819865,
          0.06395658164671109,
          -1.6195694639137597,
          0.7554966666743327,
          0.45097740835769223,
          -0.10156324731745073,
          -0.4158522716260824,
          0.9954541144280701,
          -0.48555200602878423,
          1.490823288469039,
          -0.13194416978954118,
          -0.7528004178239888,
          -0.544262017467453,
          -1.437649785582203,
          0.17187226223968824,
          -1.2375300092105108,
          0.49278868970672296,
          -0.6361730509889744,
          -0.13764319117463106,
          0.062410111597416565,
          -0.5187075611984749,
          -1.4102344376792062,
          -0.3572026445885095,
          -0.6376315054537319,
          -0.08196403616906862,
          1.2918666744199032,
          1.834095870683521,
          1.028800443585434,
          0.9937885884309238,
          -0.37089692485727643,
          -0.3412877759764047,
          2.262481668740981,
          -0.2951852827270955,
          1.1249926939573314,
          0.5702750889136583,
          -0.7551453700363403,
          1.0505410054870346,
          -2.1796411612126207,
          1.4633293246578305,
          -0.9824685130984081,
          -0.8896242240185488,
          -0.15830524409511837,
          0.8207907173546565,
          -1.1853010290819173,
          -0.04668477075582644,
          -0.4923965618308851,
          1.347160076177271,
          0.010843352382841287,
          0.6173535522890893,
          -1.5062569479408272,
          0.19394046597445944,
          -1.5703035237848442,
          -0.8017093258648721,
          -0.5420091277779893,
          0.12398167085240544,
          1.0336758962507486,
          0.7370393163266648,
          1.0215708043915677,
          -0.40016276626102376,
          1.5133921798813612,
          0.7624574546404679,
          0.12204337931158848,
          0.3878926000196656,
          -1.9858807909062057,
          1.5619887939186559,
          1.9262998520500085,
          0.6179697050361458,
          -0.2637131372925625,
          -0.42894690745324804,
          0.15220520963924042,
          0.2171978777436021,
          -1.0019800436093944,
          -0.9082410683140086,
          -0.9323858380561356,
          -2.176514619233318,
          -2.041735481953146,
          0.1900171138249872,
          0.7957042354908531,
          -0.5964879028707374,
          -0.3146446170771317,
          -2.5337539168618295,
          -1.0869571144160752,
          0.9013311410590518,
          -0.6131300774164766,
          0.7959724948574082,
          -0.01817478619237521,
          0.05015503961687754,
          0.376814718222817,
          -1.548926641719814,
          0.26002105343845394,
          -0.9509949673458841,
          -0.4274355159462603,
          1.3031986142392404,
          -1.9640602579483455,
          -1.3617829420408287
         ],
         "xaxis": "x13",
         "y": [
          2.2119370484889576,
          0.2619538103571365,
          0.8924094077570193,
          -0.5904685993833743,
          0.0552766009411597,
          2.0386234968326233,
          -0.25921632958910207,
          1.258045812592153,
          -0.08375681524517528,
          0.2538557571671244,
          -0.9808152294413444,
          -0.6605595449516914,
          0.4678417811418773,
          0.012704562790264128,
          -0.49564194168079495,
          -2.135336493694956,
          1.0892234105248118,
          -0.21360836380081863,
          -1.2613303261030369,
          1.035530865770712,
          -2.2045106392997607,
          0.06781027645605417,
          -0.45458982731005415,
          -0.3630801656225834,
          0.657052299328566,
          0.6815713140492817,
          -0.3897900022027989,
          -1.5049851594981454,
          0.15542984351047032,
          -1.3532537632383819,
          0.5421869087975931,
          -0.9224892806340775,
          0.3513501900277581,
          -0.07555797465127363,
          -0.6736932749088854,
          0.39738379048588646,
          -0.513421368766816,
          0.13413567842431964,
          -0.41991144116608936,
          -0.7679773578512785,
          0.09927167247266122,
          0.2012677871419946,
          -0.1577219516692262,
          1.1368320110964723,
          0.387050190537693,
          1.8464697724505594,
          1.2655109411395482,
          1.4951956376058737,
          -1.188969723957844,
          -1.4146526735965659,
          -0.33825855148940037,
          -0.6279954052839511,
          0.23567593565933517,
          -1.0838590379437678,
          0.48304949369169115,
          -0.9668849864757662,
          -1.916287177830883,
          -0.5987588134419914,
          -0.43167766267818847,
          0.013125054891238325,
          -0.41132387441817775,
          -0.6243641075528994,
          -1.7040332454851073,
          2.9207575651107422,
          0.7338794324191147,
          0.18321432885336975,
          0.013204974415856777,
          -0.8640017165699477,
          0.1359464985400466,
          1.3093257097497903,
          -0.7779322939228172,
          -0.08474790121831398,
          0.6161921263538989,
          1.7975959989461179,
          1.5136315138421899,
          -0.19724401324219779,
          0.6253145261221091,
          0.15313896089343393,
          0.40401649761872777,
          0.9651431109184552,
          0.38881372859376023,
          -0.6800301885102675,
          0.5101696045730842,
          -0.8924176361306555,
          1.1597589320492567,
          -1.2091195603747213,
          -1.0211547747396779,
          -0.014112913171826398,
          0.13757985259358255,
          1.255842447019908,
          -0.30486794662000666,
          -0.07208922509598602,
          -0.28942993707462106,
          1.6803990367619053,
          0.42185433806988926,
          -0.36360146286425926,
          -0.3645471771058133,
          -0.8201607479181384,
          -0.20209701308029454,
          0.39344700984968983
         ],
         "yaxis": "y13"
        },
        {
         "line": {
          "color": "rgba(128, 128, 128, 1.0)",
          "dash": "solid",
          "shape": "linear",
          "width": 1.3
         },
         "marker": {
          "size": 2,
          "symbol": "circle"
         },
         "mode": "markers",
         "name": "D",
         "text": "",
         "type": "scatter",
         "x": [
          0.23590897280929557,
          -0.5853191060130026,
          0.45041649477698203,
          -1.4844634650877961,
          -0.7010019866089757,
          -1.7713343221822186,
          0.3564783560049668,
          1.1031620019724644,
          -0.534524659790858,
          1.55516579284802,
          0.9245808085412286,
          1.3620636205948855,
          0.6460233039467143,
          -1.3287700621303378,
          2.113243524617769,
          -0.7039904787447651,
          0.957708167234452,
          0.38668960727077833,
          1.0905405017303815,
          -0.15907806493007792,
          -0.05398389231091074,
          -0.5336742283108098,
          0.3824419930821319,
          0.7419908764060871,
          -0.4140242561179745,
          0.2759136081174468,
          0.8482704917519138,
          2.0059405381970254,
          -1.3246650717679416,
          -0.5065540149600787,
          -0.6936235230043091,
          -0.19441117112133538,
          0.887480460290256,
          -1.5166569531417406,
          -0.7190624137948296,
          0.4102288680484326,
          -0.7379062568928512,
          -0.38612979211456566,
          -0.9814499423449278,
          -0.4359275292528566,
          -0.12292181575473174,
          1.9056738072959156,
          -1.836401325717276,
          -2.792474660611752,
          -0.9083337804822073,
          2.782345891898233,
          0.2381865299508034,
          0.9647682007237843,
          -1.1734425707908456,
          -1.9609962976837447,
          1.904270892330739,
          -0.10400697771863725,
          0.9179842824151149,
          0.16380229188572826,
          -0.02490709779441639,
          -0.20790133058482613,
          0.5399698264563033,
          -0.9674437863175008,
          0.943420239562524,
          0.1561027975165673,
          -1.6553424385101994,
          0.8709325231705167,
          1.3197016755016702,
          -2.287162353986225,
          0.552534163797248,
          -2.9316789514534003,
          -1.413578565746748,
          0.3066964640228571,
          -0.8862210615838182,
          2.2245689170171943,
          -0.5073138082557282,
          2.295896889626357,
          0.03791532397259017,
          -0.27422129122939853,
          0.12873175025274455,
          0.4837720574093124,
          -0.29738246943237895,
          -0.0988932565886435,
          -1.3368837027277733,
          0.07779215851650331,
          -2.1254522743271664,
          -0.35883373446418565,
          0.008131872263935342,
          1.3898536362783147,
          1.010414278850495,
          -0.1442294615435738,
          0.9808125838800891,
          -0.4968630660898616,
          -1.778081760893912,
          -0.12516367093881087,
          0.06968580548842876,
          -0.7992199722691573,
          0.217143175038511,
          0.31265034609776243,
          0.3134863468368505,
          0.7484128321632029,
          -0.44746867845204136,
          -1.5837350747526953,
          -0.5834240333463931,
          -1.522918964431989
         ],
         "xaxis": "x14",
         "y": [
          2.2119370484889576,
          0.2619538103571365,
          0.8924094077570193,
          -0.5904685993833743,
          0.0552766009411597,
          2.0386234968326233,
          -0.25921632958910207,
          1.258045812592153,
          -0.08375681524517528,
          0.2538557571671244,
          -0.9808152294413444,
          -0.6605595449516914,
          0.4678417811418773,
          0.012704562790264128,
          -0.49564194168079495,
          -2.135336493694956,
          1.0892234105248118,
          -0.21360836380081863,
          -1.2613303261030369,
          1.035530865770712,
          -2.2045106392997607,
          0.06781027645605417,
          -0.45458982731005415,
          -0.3630801656225834,
          0.657052299328566,
          0.6815713140492817,
          -0.3897900022027989,
          -1.5049851594981454,
          0.15542984351047032,
          -1.3532537632383819,
          0.5421869087975931,
          -0.9224892806340775,
          0.3513501900277581,
          -0.07555797465127363,
          -0.6736932749088854,
          0.39738379048588646,
          -0.513421368766816,
          0.13413567842431964,
          -0.41991144116608936,
          -0.7679773578512785,
          0.09927167247266122,
          0.2012677871419946,
          -0.1577219516692262,
          1.1368320110964723,
          0.387050190537693,
          1.8464697724505594,
          1.2655109411395482,
          1.4951956376058737,
          -1.188969723957844,
          -1.4146526735965659,
          -0.33825855148940037,
          -0.6279954052839511,
          0.23567593565933517,
          -1.0838590379437678,
          0.48304949369169115,
          -0.9668849864757662,
          -1.916287177830883,
          -0.5987588134419914,
          -0.43167766267818847,
          0.013125054891238325,
          -0.41132387441817775,
          -0.6243641075528994,
          -1.7040332454851073,
          2.9207575651107422,
          0.7338794324191147,
          0.18321432885336975,
          0.013204974415856777,
          -0.8640017165699477,
          0.1359464985400466,
          1.3093257097497903,
          -0.7779322939228172,
          -0.08474790121831398,
          0.6161921263538989,
          1.7975959989461179,
          1.5136315138421899,
          -0.19724401324219779,
          0.6253145261221091,
          0.15313896089343393,
          0.40401649761872777,
          0.9651431109184552,
          0.38881372859376023,
          -0.6800301885102675,
          0.5101696045730842,
          -0.8924176361306555,
          1.1597589320492567,
          -1.2091195603747213,
          -1.0211547747396779,
          -0.014112913171826398,
          0.13757985259358255,
          1.255842447019908,
          -0.30486794662000666,
          -0.07208922509598602,
          -0.28942993707462106,
          1.6803990367619053,
          0.42185433806988926,
          -0.36360146286425926,
          -0.3645471771058133,
          -0.8201607479181384,
          -0.20209701308029454,
          0.39344700984968983
         ],
         "yaxis": "y14"
        },
        {
         "line": {
          "color": "rgba(128, 128, 128, 1.0)",
          "dash": "solid",
          "shape": "linear",
          "width": 1.3
         },
         "marker": {
          "size": 2,
          "symbol": "circle"
         },
         "mode": "markers",
         "name": "D",
         "text": "",
         "type": "scatter",
         "x": [
          -0.15684046679247937,
          0.0013828717725460275,
          -0.20717052487752494,
          -0.7206190182063845,
          0.1586724861805863,
          0.34911398085786866,
          -0.44956744070842763,
          1.391230362803256,
          -0.46585330693668414,
          2.375752738731807,
          2.8013418024600076,
          -0.8922346367023012,
          -0.926846171443639,
          1.3309078366225244,
          0.1865029925576986,
          0.3440165820448021,
          2.0006673071046435,
          2.1218335358455778,
          -1.0851681629427428,
          0.036401360337058986,
          -0.7900458544606217,
          -0.4240780143001388,
          -0.23030482293717486,
          0.49875171251720374,
          2.813766329755358,
          0.51816636356984,
          0.6739908495930921,
          0.9727277361803863,
          1.7404161611034967,
          -1.052396263040642,
          0.6507507419833379,
          -0.3300921789049227,
          -0.31312308122181687,
          -1.057779781449692,
          0.5620379645886366,
          -0.6271297467319812,
          0.7904803881217852,
          -0.460998677311609,
          -1.0011704250170772,
          -0.15164477527511522,
          0.8641526804073327,
          -0.37518655065331746,
          1.324477199089354,
          -1.3033235959487661,
          0.5546707941496423,
          0.0033896549462594018,
          2.1165944224416005,
          1.521280594969115,
          -0.687675505707438,
          -0.28642443104729887,
          0.3519115913584386,
          0.6065211681422118,
          -1.3550957258383545,
          -0.8850366659186174,
          -0.1993180820639049,
          1.3426081981955984,
          -0.5434397045615473,
          -0.2632372324367694,
          0.685903186648751,
          -0.18105477889980426,
          -0.24896203088279126,
          -0.22713275470744318,
          0.5174468834197568,
          0.8823079341631708,
          1.2896006276980028,
          -0.34861199578961743,
          2.6913746255706466,
          1.0625561710492792,
          -0.661242484110436,
          -0.04914036281608619,
          -0.7900573785253736,
          -1.3699078137285237,
          1.2106250200809991,
          1.954255197101674,
          0.8058253342193138,
          -1.192938271012122,
          -0.4177302008237818,
          1.0272729885317131,
          -1.3244327715514042,
          -1.8162033125358932,
          0.029861675707530972,
          1.0681575098153913,
          1.6727332730577504,
          1.2032897688914128,
          0.410352298190852,
          1.1288481375445711,
          -1.206014819993071,
          -0.6803987372025606,
          0.16928314305903994,
          0.7653848749316945,
          -1.333754491270903,
          -0.578849785869674,
          0.14091504799203886,
          -0.3101137020582831,
          -0.4458092234831239,
          -0.23501363415754506,
          -0.4824689949430698,
          0.43215075292197663,
          -1.656409175252382,
          -1.57918209361295
         ],
         "xaxis": "x15",
         "y": [
          2.2119370484889576,
          0.2619538103571365,
          0.8924094077570193,
          -0.5904685993833743,
          0.0552766009411597,
          2.0386234968326233,
          -0.25921632958910207,
          1.258045812592153,
          -0.08375681524517528,
          0.2538557571671244,
          -0.9808152294413444,
          -0.6605595449516914,
          0.4678417811418773,
          0.012704562790264128,
          -0.49564194168079495,
          -2.135336493694956,
          1.0892234105248118,
          -0.21360836380081863,
          -1.2613303261030369,
          1.035530865770712,
          -2.2045106392997607,
          0.06781027645605417,
          -0.45458982731005415,
          -0.3630801656225834,
          0.657052299328566,
          0.6815713140492817,
          -0.3897900022027989,
          -1.5049851594981454,
          0.15542984351047032,
          -1.3532537632383819,
          0.5421869087975931,
          -0.9224892806340775,
          0.3513501900277581,
          -0.07555797465127363,
          -0.6736932749088854,
          0.39738379048588646,
          -0.513421368766816,
          0.13413567842431964,
          -0.41991144116608936,
          -0.7679773578512785,
          0.09927167247266122,
          0.2012677871419946,
          -0.1577219516692262,
          1.1368320110964723,
          0.387050190537693,
          1.8464697724505594,
          1.2655109411395482,
          1.4951956376058737,
          -1.188969723957844,
          -1.4146526735965659,
          -0.33825855148940037,
          -0.6279954052839511,
          0.23567593565933517,
          -1.0838590379437678,
          0.48304949369169115,
          -0.9668849864757662,
          -1.916287177830883,
          -0.5987588134419914,
          -0.43167766267818847,
          0.013125054891238325,
          -0.41132387441817775,
          -0.6243641075528994,
          -1.7040332454851073,
          2.9207575651107422,
          0.7338794324191147,
          0.18321432885336975,
          0.013204974415856777,
          -0.8640017165699477,
          0.1359464985400466,
          1.3093257097497903,
          -0.7779322939228172,
          -0.08474790121831398,
          0.6161921263538989,
          1.7975959989461179,
          1.5136315138421899,
          -0.19724401324219779,
          0.6253145261221091,
          0.15313896089343393,
          0.40401649761872777,
          0.9651431109184552,
          0.38881372859376023,
          -0.6800301885102675,
          0.5101696045730842,
          -0.8924176361306555,
          1.1597589320492567,
          -1.2091195603747213,
          -1.0211547747396779,
          -0.014112913171826398,
          0.13757985259358255,
          1.255842447019908,
          -0.30486794662000666,
          -0.07208922509598602,
          -0.28942993707462106,
          1.6803990367619053,
          0.42185433806988926,
          -0.36360146286425926,
          -0.3645471771058133,
          -0.8201607479181384,
          -0.20209701308029454,
          0.39344700984968983
         ],
         "yaxis": "y15"
        },
        {
         "histfunc": "count",
         "histnorm": "",
         "marker": {
          "color": "rgba(128, 0, 128, 1.0)",
          "line": {
           "color": "#4D5663",
           "width": 1.3
          }
         },
         "name": "D",
         "nbinsx": 10,
         "opacity": 0.8,
         "orientation": "v",
         "type": "histogram",
         "x": [
          2.2119370484889576,
          0.2619538103571365,
          0.8924094077570193,
          -0.5904685993833743,
          0.0552766009411597,
          2.0386234968326233,
          -0.25921632958910207,
          1.258045812592153,
          -0.08375681524517528,
          0.2538557571671244,
          -0.9808152294413444,
          -0.6605595449516914,
          0.4678417811418773,
          0.012704562790264128,
          -0.49564194168079495,
          -2.135336493694956,
          1.0892234105248118,
          -0.21360836380081863,
          -1.2613303261030369,
          1.035530865770712,
          -2.2045106392997607,
          0.06781027645605417,
          -0.45458982731005415,
          -0.3630801656225834,
          0.657052299328566,
          0.6815713140492817,
          -0.3897900022027989,
          -1.5049851594981454,
          0.15542984351047032,
          -1.3532537632383819,
          0.5421869087975931,
          -0.9224892806340775,
          0.3513501900277581,
          -0.07555797465127363,
          -0.6736932749088854,
          0.39738379048588646,
          -0.513421368766816,
          0.13413567842431964,
          -0.41991144116608936,
          -0.7679773578512785,
          0.09927167247266122,
          0.2012677871419946,
          -0.1577219516692262,
          1.1368320110964723,
          0.387050190537693,
          1.8464697724505594,
          1.2655109411395482,
          1.4951956376058737,
          -1.188969723957844,
          -1.4146526735965659,
          -0.33825855148940037,
          -0.6279954052839511,
          0.23567593565933517,
          -1.0838590379437678,
          0.48304949369169115,
          -0.9668849864757662,
          -1.916287177830883,
          -0.5987588134419914,
          -0.43167766267818847,
          0.013125054891238325,
          -0.41132387441817775,
          -0.6243641075528994,
          -1.7040332454851073,
          2.9207575651107422,
          0.7338794324191147,
          0.18321432885336975,
          0.013204974415856777,
          -0.8640017165699477,
          0.1359464985400466,
          1.3093257097497903,
          -0.7779322939228172,
          -0.08474790121831398,
          0.6161921263538989,
          1.7975959989461179,
          1.5136315138421899,
          -0.19724401324219779,
          0.6253145261221091,
          0.15313896089343393,
          0.40401649761872777,
          0.9651431109184552,
          0.38881372859376023,
          -0.6800301885102675,
          0.5101696045730842,
          -0.8924176361306555,
          1.1597589320492567,
          -1.2091195603747213,
          -1.0211547747396779,
          -0.014112913171826398,
          0.13757985259358255,
          1.255842447019908,
          -0.30486794662000666,
          -0.07208922509598602,
          -0.28942993707462106,
          1.6803990367619053,
          0.42185433806988926,
          -0.36360146286425926,
          -0.3645471771058133,
          -0.8201607479181384,
          -0.20209701308029454,
          0.39344700984968983
         ],
         "xaxis": "x16",
         "yaxis": "y16"
        }
       ],
       "layout": {
        "bargap": 0.02,
        "legend": {
         "bgcolor": "#F5F6F9",
         "font": {
          "color": "#4D5663"
         }
        },
        "paper_bgcolor": "#F5F6F9",
        "plot_bgcolor": "#F5F6F9",
        "showlegend": false,
        "template": {
         "data": {
          "bar": [
           {
            "error_x": {
             "color": "#2a3f5f"
            },
            "error_y": {
             "color": "#2a3f5f"
            },
            "marker": {
             "line": {
              "color": "#E5ECF6",
              "width": 0.5
             }
            },
            "type": "bar"
           }
          ],
          "barpolar": [
           {
            "marker": {
             "line": {
              "color": "#E5ECF6",
              "width": 0.5
             }
            },
            "type": "barpolar"
           }
          ],
          "carpet": [
           {
            "aaxis": {
             "endlinecolor": "#2a3f5f",
             "gridcolor": "white",
             "linecolor": "white",
             "minorgridcolor": "white",
             "startlinecolor": "#2a3f5f"
            },
            "baxis": {
             "endlinecolor": "#2a3f5f",
             "gridcolor": "white",
             "linecolor": "white",
             "minorgridcolor": "white",
             "startlinecolor": "#2a3f5f"
            },
            "type": "carpet"
           }
          ],
          "choropleth": [
           {
            "colorbar": {
             "outlinewidth": 0,
             "ticks": ""
            },
            "type": "choropleth"
           }
          ],
          "contour": [
           {
            "colorbar": {
             "outlinewidth": 0,
             "ticks": ""
            },
            "colorscale": [
             [
              0,
              "#0d0887"
             ],
             [
              0.1111111111111111,
              "#46039f"
             ],
             [
              0.2222222222222222,
              "#7201a8"
             ],
             [
              0.3333333333333333,
              "#9c179e"
             ],
             [
              0.4444444444444444,
              "#bd3786"
             ],
             [
              0.5555555555555556,
              "#d8576b"
             ],
             [
              0.6666666666666666,
              "#ed7953"
             ],
             [
              0.7777777777777778,
              "#fb9f3a"
             ],
             [
              0.8888888888888888,
              "#fdca26"
             ],
             [
              1,
              "#f0f921"
             ]
            ],
            "type": "contour"
           }
          ],
          "contourcarpet": [
           {
            "colorbar": {
             "outlinewidth": 0,
             "ticks": ""
            },
            "type": "contourcarpet"
           }
          ],
          "heatmap": [
           {
            "colorbar": {
             "outlinewidth": 0,
             "ticks": ""
            },
            "colorscale": [
             [
              0,
              "#0d0887"
             ],
             [
              0.1111111111111111,
              "#46039f"
             ],
             [
              0.2222222222222222,
              "#7201a8"
             ],
             [
              0.3333333333333333,
              "#9c179e"
             ],
             [
              0.4444444444444444,
              "#bd3786"
             ],
             [
              0.5555555555555556,
              "#d8576b"
             ],
             [
              0.6666666666666666,
              "#ed7953"
             ],
             [
              0.7777777777777778,
              "#fb9f3a"
             ],
             [
              0.8888888888888888,
              "#fdca26"
             ],
             [
              1,
              "#f0f921"
             ]
            ],
            "type": "heatmap"
           }
          ],
          "heatmapgl": [
           {
            "colorbar": {
             "outlinewidth": 0,
             "ticks": ""
            },
            "colorscale": [
             [
              0,
              "#0d0887"
             ],
             [
              0.1111111111111111,
              "#46039f"
             ],
             [
              0.2222222222222222,
              "#7201a8"
             ],
             [
              0.3333333333333333,
              "#9c179e"
             ],
             [
              0.4444444444444444,
              "#bd3786"
             ],
             [
              0.5555555555555556,
              "#d8576b"
             ],
             [
              0.6666666666666666,
              "#ed7953"
             ],
             [
              0.7777777777777778,
              "#fb9f3a"
             ],
             [
              0.8888888888888888,
              "#fdca26"
             ],
             [
              1,
              "#f0f921"
             ]
            ],
            "type": "heatmapgl"
           }
          ],
          "histogram": [
           {
            "marker": {
             "colorbar": {
              "outlinewidth": 0,
              "ticks": ""
             }
            },
            "type": "histogram"
           }
          ],
          "histogram2d": [
           {
            "colorbar": {
             "outlinewidth": 0,
             "ticks": ""
            },
            "colorscale": [
             [
              0,
              "#0d0887"
             ],
             [
              0.1111111111111111,
              "#46039f"
             ],
             [
              0.2222222222222222,
              "#7201a8"
             ],
             [
              0.3333333333333333,
              "#9c179e"
             ],
             [
              0.4444444444444444,
              "#bd3786"
             ],
             [
              0.5555555555555556,
              "#d8576b"
             ],
             [
              0.6666666666666666,
              "#ed7953"
             ],
             [
              0.7777777777777778,
              "#fb9f3a"
             ],
             [
              0.8888888888888888,
              "#fdca26"
             ],
             [
              1,
              "#f0f921"
             ]
            ],
            "type": "histogram2d"
           }
          ],
          "histogram2dcontour": [
           {
            "colorbar": {
             "outlinewidth": 0,
             "ticks": ""
            },
            "colorscale": [
             [
              0,
              "#0d0887"
             ],
             [
              0.1111111111111111,
              "#46039f"
             ],
             [
              0.2222222222222222,
              "#7201a8"
             ],
             [
              0.3333333333333333,
              "#9c179e"
             ],
             [
              0.4444444444444444,
              "#bd3786"
             ],
             [
              0.5555555555555556,
              "#d8576b"
             ],
             [
              0.6666666666666666,
              "#ed7953"
             ],
             [
              0.7777777777777778,
              "#fb9f3a"
             ],
             [
              0.8888888888888888,
              "#fdca26"
             ],
             [
              1,
              "#f0f921"
             ]
            ],
            "type": "histogram2dcontour"
           }
          ],
          "mesh3d": [
           {
            "colorbar": {
             "outlinewidth": 0,
             "ticks": ""
            },
            "type": "mesh3d"
           }
          ],
          "parcoords": [
           {
            "line": {
             "colorbar": {
              "outlinewidth": 0,
              "ticks": ""
             }
            },
            "type": "parcoords"
           }
          ],
          "pie": [
           {
            "automargin": true,
            "type": "pie"
           }
          ],
          "scatter": [
           {
            "marker": {
             "colorbar": {
              "outlinewidth": 0,
              "ticks": ""
             }
            },
            "type": "scatter"
           }
          ],
          "scatter3d": [
           {
            "line": {
             "colorbar": {
              "outlinewidth": 0,
              "ticks": ""
             }
            },
            "marker": {
             "colorbar": {
              "outlinewidth": 0,
              "ticks": ""
             }
            },
            "type": "scatter3d"
           }
          ],
          "scattercarpet": [
           {
            "marker": {
             "colorbar": {
              "outlinewidth": 0,
              "ticks": ""
             }
            },
            "type": "scattercarpet"
           }
          ],
          "scattergeo": [
           {
            "marker": {
             "colorbar": {
              "outlinewidth": 0,
              "ticks": ""
             }
            },
            "type": "scattergeo"
           }
          ],
          "scattergl": [
           {
            "marker": {
             "colorbar": {
              "outlinewidth": 0,
              "ticks": ""
             }
            },
            "type": "scattergl"
           }
          ],
          "scattermapbox": [
           {
            "marker": {
             "colorbar": {
              "outlinewidth": 0,
              "ticks": ""
             }
            },
            "type": "scattermapbox"
           }
          ],
          "scatterpolar": [
           {
            "marker": {
             "colorbar": {
              "outlinewidth": 0,
              "ticks": ""
             }
            },
            "type": "scatterpolar"
           }
          ],
          "scatterpolargl": [
           {
            "marker": {
             "colorbar": {
              "outlinewidth": 0,
              "ticks": ""
             }
            },
            "type": "scatterpolargl"
           }
          ],
          "scatterternary": [
           {
            "marker": {
             "colorbar": {
              "outlinewidth": 0,
              "ticks": ""
             }
            },
            "type": "scatterternary"
           }
          ],
          "surface": [
           {
            "colorbar": {
             "outlinewidth": 0,
             "ticks": ""
            },
            "colorscale": [
             [
              0,
              "#0d0887"
             ],
             [
              0.1111111111111111,
              "#46039f"
             ],
             [
              0.2222222222222222,
              "#7201a8"
             ],
             [
              0.3333333333333333,
              "#9c179e"
             ],
             [
              0.4444444444444444,
              "#bd3786"
             ],
             [
              0.5555555555555556,
              "#d8576b"
             ],
             [
              0.6666666666666666,
              "#ed7953"
             ],
             [
              0.7777777777777778,
              "#fb9f3a"
             ],
             [
              0.8888888888888888,
              "#fdca26"
             ],
             [
              1,
              "#f0f921"
             ]
            ],
            "type": "surface"
           }
          ],
          "table": [
           {
            "cells": {
             "fill": {
              "color": "#EBF0F8"
             },
             "line": {
              "color": "white"
             }
            },
            "header": {
             "fill": {
              "color": "#C8D4E3"
             },
             "line": {
              "color": "white"
             }
            },
            "type": "table"
           }
          ]
         },
         "layout": {
          "annotationdefaults": {
           "arrowcolor": "#2a3f5f",
           "arrowhead": 0,
           "arrowwidth": 1
          },
          "coloraxis": {
           "colorbar": {
            "outlinewidth": 0,
            "ticks": ""
           }
          },
          "colorscale": {
           "diverging": [
            [
             0,
             "#8e0152"
            ],
            [
             0.1,
             "#c51b7d"
            ],
            [
             0.2,
             "#de77ae"
            ],
            [
             0.3,
             "#f1b6da"
            ],
            [
             0.4,
             "#fde0ef"
            ],
            [
             0.5,
             "#f7f7f7"
            ],
            [
             0.6,
             "#e6f5d0"
            ],
            [
             0.7,
             "#b8e186"
            ],
            [
             0.8,
             "#7fbc41"
            ],
            [
             0.9,
             "#4d9221"
            ],
            [
             1,
             "#276419"
            ]
           ],
           "sequential": [
            [
             0,
             "#0d0887"
            ],
            [
             0.1111111111111111,
             "#46039f"
            ],
            [
             0.2222222222222222,
             "#7201a8"
            ],
            [
             0.3333333333333333,
             "#9c179e"
            ],
            [
             0.4444444444444444,
             "#bd3786"
            ],
            [
             0.5555555555555556,
             "#d8576b"
            ],
            [
             0.6666666666666666,
             "#ed7953"
            ],
            [
             0.7777777777777778,
             "#fb9f3a"
            ],
            [
             0.8888888888888888,
             "#fdca26"
            ],
            [
             1,
             "#f0f921"
            ]
           ],
           "sequentialminus": [
            [
             0,
             "#0d0887"
            ],
            [
             0.1111111111111111,
             "#46039f"
            ],
            [
             0.2222222222222222,
             "#7201a8"
            ],
            [
             0.3333333333333333,
             "#9c179e"
            ],
            [
             0.4444444444444444,
             "#bd3786"
            ],
            [
             0.5555555555555556,
             "#d8576b"
            ],
            [
             0.6666666666666666,
             "#ed7953"
            ],
            [
             0.7777777777777778,
             "#fb9f3a"
            ],
            [
             0.8888888888888888,
             "#fdca26"
            ],
            [
             1,
             "#f0f921"
            ]
           ]
          },
          "colorway": [
           "#636efa",
           "#EF553B",
           "#00cc96",
           "#ab63fa",
           "#FFA15A",
           "#19d3f3",
           "#FF6692",
           "#B6E880",
           "#FF97FF",
           "#FECB52"
          ],
          "font": {
           "color": "#2a3f5f"
          },
          "geo": {
           "bgcolor": "white",
           "lakecolor": "white",
           "landcolor": "#E5ECF6",
           "showlakes": true,
           "showland": true,
           "subunitcolor": "white"
          },
          "hoverlabel": {
           "align": "left"
          },
          "hovermode": "closest",
          "mapbox": {
           "style": "light"
          },
          "paper_bgcolor": "white",
          "plot_bgcolor": "#E5ECF6",
          "polar": {
           "angularaxis": {
            "gridcolor": "white",
            "linecolor": "white",
            "ticks": ""
           },
           "bgcolor": "#E5ECF6",
           "radialaxis": {
            "gridcolor": "white",
            "linecolor": "white",
            "ticks": ""
           }
          },
          "scene": {
           "xaxis": {
            "backgroundcolor": "#E5ECF6",
            "gridcolor": "white",
            "gridwidth": 2,
            "linecolor": "white",
            "showbackground": true,
            "ticks": "",
            "zerolinecolor": "white"
           },
           "yaxis": {
            "backgroundcolor": "#E5ECF6",
            "gridcolor": "white",
            "gridwidth": 2,
            "linecolor": "white",
            "showbackground": true,
            "ticks": "",
            "zerolinecolor": "white"
           },
           "zaxis": {
            "backgroundcolor": "#E5ECF6",
            "gridcolor": "white",
            "gridwidth": 2,
            "linecolor": "white",
            "showbackground": true,
            "ticks": "",
            "zerolinecolor": "white"
           }
          },
          "shapedefaults": {
           "line": {
            "color": "#2a3f5f"
           }
          },
          "ternary": {
           "aaxis": {
            "gridcolor": "white",
            "linecolor": "white",
            "ticks": ""
           },
           "baxis": {
            "gridcolor": "white",
            "linecolor": "white",
            "ticks": ""
           },
           "bgcolor": "#E5ECF6",
           "caxis": {
            "gridcolor": "white",
            "linecolor": "white",
            "ticks": ""
           }
          },
          "title": {
           "x": 0.05
          },
          "xaxis": {
           "automargin": true,
           "gridcolor": "white",
           "linecolor": "white",
           "ticks": "",
           "title": {
            "standoff": 15
           },
           "zerolinecolor": "white",
           "zerolinewidth": 2
          },
          "yaxis": {
           "automargin": true,
           "gridcolor": "white",
           "linecolor": "white",
           "ticks": "",
           "title": {
            "standoff": 15
           },
           "zerolinecolor": "white",
           "zerolinewidth": 2
          }
         }
        },
        "title": {
         "font": {
          "color": "#4D5663"
         }
        },
        "xaxis": {
         "anchor": "y",
         "domain": [
          0,
          0.2125
         ],
         "gridcolor": "#E1E5ED",
         "showgrid": false,
         "tickfont": {
          "color": "#4D5663"
         },
         "title": {
          "font": {
           "color": "#4D5663"
          },
          "text": ""
         },
         "zerolinecolor": "#E1E5ED"
        },
        "xaxis10": {
         "anchor": "y10",
         "domain": [
          0.2625,
          0.475
         ],
         "gridcolor": "#E1E5ED",
         "showgrid": false,
         "tickfont": {
          "color": "#4D5663"
         },
         "title": {
          "font": {
           "color": "#4D5663"
          },
          "text": ""
         },
         "zerolinecolor": "#E1E5ED"
        },
        "xaxis11": {
         "anchor": "y11",
         "domain": [
          0.525,
          0.7375
         ],
         "gridcolor": "#E1E5ED",
         "showgrid": false,
         "tickfont": {
          "color": "#4D5663"
         },
         "title": {
          "font": {
           "color": "#4D5663"
          },
          "text": ""
         },
         "zerolinecolor": "#E1E5ED"
        },
        "xaxis12": {
         "anchor": "y12",
         "domain": [
          0.7875,
          1
         ],
         "gridcolor": "#E1E5ED",
         "showgrid": false,
         "tickfont": {
          "color": "#4D5663"
         },
         "title": {
          "font": {
           "color": "#4D5663"
          },
          "text": ""
         },
         "zerolinecolor": "#E1E5ED"
        },
        "xaxis13": {
         "anchor": "y13",
         "domain": [
          0,
          0.2125
         ],
         "gridcolor": "#E1E5ED",
         "showgrid": false,
         "tickfont": {
          "color": "#4D5663"
         },
         "title": {
          "font": {
           "color": "#4D5663"
          },
          "text": ""
         },
         "zerolinecolor": "#E1E5ED"
        },
        "xaxis14": {
         "anchor": "y14",
         "domain": [
          0.2625,
          0.475
         ],
         "gridcolor": "#E1E5ED",
         "showgrid": false,
         "tickfont": {
          "color": "#4D5663"
         },
         "title": {
          "font": {
           "color": "#4D5663"
          },
          "text": ""
         },
         "zerolinecolor": "#E1E5ED"
        },
        "xaxis15": {
         "anchor": "y15",
         "domain": [
          0.525,
          0.7375
         ],
         "gridcolor": "#E1E5ED",
         "showgrid": false,
         "tickfont": {
          "color": "#4D5663"
         },
         "title": {
          "font": {
           "color": "#4D5663"
          },
          "text": ""
         },
         "zerolinecolor": "#E1E5ED"
        },
        "xaxis16": {
         "anchor": "y16",
         "domain": [
          0.7875,
          1
         ],
         "gridcolor": "#E1E5ED",
         "showgrid": false,
         "tickfont": {
          "color": "#4D5663"
         },
         "title": {
          "font": {
           "color": "#4D5663"
          },
          "text": ""
         },
         "zerolinecolor": "#E1E5ED"
        },
        "xaxis2": {
         "anchor": "y2",
         "domain": [
          0.2625,
          0.475
         ],
         "gridcolor": "#E1E5ED",
         "showgrid": false,
         "tickfont": {
          "color": "#4D5663"
         },
         "title": {
          "font": {
           "color": "#4D5663"
          },
          "text": ""
         },
         "zerolinecolor": "#E1E5ED"
        },
        "xaxis3": {
         "anchor": "y3",
         "domain": [
          0.525,
          0.7375
         ],
         "gridcolor": "#E1E5ED",
         "showgrid": false,
         "tickfont": {
          "color": "#4D5663"
         },
         "title": {
          "font": {
           "color": "#4D5663"
          },
          "text": ""
         },
         "zerolinecolor": "#E1E5ED"
        },
        "xaxis4": {
         "anchor": "y4",
         "domain": [
          0.7875,
          1
         ],
         "gridcolor": "#E1E5ED",
         "showgrid": false,
         "tickfont": {
          "color": "#4D5663"
         },
         "title": {
          "font": {
           "color": "#4D5663"
          },
          "text": ""
         },
         "zerolinecolor": "#E1E5ED"
        },
        "xaxis5": {
         "anchor": "y5",
         "domain": [
          0,
          0.2125
         ],
         "gridcolor": "#E1E5ED",
         "showgrid": false,
         "tickfont": {
          "color": "#4D5663"
         },
         "title": {
          "font": {
           "color": "#4D5663"
          },
          "text": ""
         },
         "zerolinecolor": "#E1E5ED"
        },
        "xaxis6": {
         "anchor": "y6",
         "domain": [
          0.2625,
          0.475
         ],
         "gridcolor": "#E1E5ED",
         "showgrid": false,
         "tickfont": {
          "color": "#4D5663"
         },
         "title": {
          "font": {
           "color": "#4D5663"
          },
          "text": ""
         },
         "zerolinecolor": "#E1E5ED"
        },
        "xaxis7": {
         "anchor": "y7",
         "domain": [
          0.525,
          0.7375
         ],
         "gridcolor": "#E1E5ED",
         "showgrid": false,
         "tickfont": {
          "color": "#4D5663"
         },
         "title": {
          "font": {
           "color": "#4D5663"
          },
          "text": ""
         },
         "zerolinecolor": "#E1E5ED"
        },
        "xaxis8": {
         "anchor": "y8",
         "domain": [
          0.7875,
          1
         ],
         "gridcolor": "#E1E5ED",
         "showgrid": false,
         "tickfont": {
          "color": "#4D5663"
         },
         "title": {
          "font": {
           "color": "#4D5663"
          },
          "text": ""
         },
         "zerolinecolor": "#E1E5ED"
        },
        "xaxis9": {
         "anchor": "y9",
         "domain": [
          0,
          0.2125
         ],
         "gridcolor": "#E1E5ED",
         "showgrid": false,
         "tickfont": {
          "color": "#4D5663"
         },
         "title": {
          "font": {
           "color": "#4D5663"
          },
          "text": ""
         },
         "zerolinecolor": "#E1E5ED"
        },
        "yaxis": {
         "anchor": "x",
         "domain": [
          0.8025,
          1
         ],
         "gridcolor": "#E1E5ED",
         "showgrid": false,
         "tickfont": {
          "color": "#4D5663"
         },
         "title": {
          "font": {
           "color": "#4D5663"
          },
          "text": ""
         },
         "zerolinecolor": "#E1E5ED"
        },
        "yaxis10": {
         "anchor": "x10",
         "domain": [
          0.2675,
          0.465
         ],
         "gridcolor": "#E1E5ED",
         "showgrid": false,
         "tickfont": {
          "color": "#4D5663"
         },
         "title": {
          "font": {
           "color": "#4D5663"
          },
          "text": ""
         },
         "zerolinecolor": "#E1E5ED"
        },
        "yaxis11": {
         "anchor": "x11",
         "domain": [
          0.2675,
          0.465
         ],
         "gridcolor": "#E1E5ED",
         "showgrid": false,
         "tickfont": {
          "color": "#4D5663"
         },
         "title": {
          "font": {
           "color": "#4D5663"
          },
          "text": ""
         },
         "zerolinecolor": "#E1E5ED"
        },
        "yaxis12": {
         "anchor": "x12",
         "domain": [
          0.2675,
          0.465
         ],
         "gridcolor": "#E1E5ED",
         "showgrid": false,
         "tickfont": {
          "color": "#4D5663"
         },
         "title": {
          "font": {
           "color": "#4D5663"
          },
          "text": ""
         },
         "zerolinecolor": "#E1E5ED"
        },
        "yaxis13": {
         "anchor": "x13",
         "domain": [
          0,
          0.1975
         ],
         "gridcolor": "#E1E5ED",
         "showgrid": false,
         "tickfont": {
          "color": "#4D5663"
         },
         "title": {
          "font": {
           "color": "#4D5663"
          },
          "text": ""
         },
         "zerolinecolor": "#E1E5ED"
        },
        "yaxis14": {
         "anchor": "x14",
         "domain": [
          0,
          0.1975
         ],
         "gridcolor": "#E1E5ED",
         "showgrid": false,
         "tickfont": {
          "color": "#4D5663"
         },
         "title": {
          "font": {
           "color": "#4D5663"
          },
          "text": ""
         },
         "zerolinecolor": "#E1E5ED"
        },
        "yaxis15": {
         "anchor": "x15",
         "domain": [
          0,
          0.1975
         ],
         "gridcolor": "#E1E5ED",
         "showgrid": false,
         "tickfont": {
          "color": "#4D5663"
         },
         "title": {
          "font": {
           "color": "#4D5663"
          },
          "text": ""
         },
         "zerolinecolor": "#E1E5ED"
        },
        "yaxis16": {
         "anchor": "x16",
         "domain": [
          0,
          0.1975
         ],
         "gridcolor": "#E1E5ED",
         "showgrid": false,
         "tickfont": {
          "color": "#4D5663"
         },
         "title": {
          "font": {
           "color": "#4D5663"
          },
          "text": ""
         },
         "zerolinecolor": "#E1E5ED"
        },
        "yaxis2": {
         "anchor": "x2",
         "domain": [
          0.8025,
          1
         ],
         "gridcolor": "#E1E5ED",
         "showgrid": false,
         "tickfont": {
          "color": "#4D5663"
         },
         "title": {
          "font": {
           "color": "#4D5663"
          },
          "text": ""
         },
         "zerolinecolor": "#E1E5ED"
        },
        "yaxis3": {
         "anchor": "x3",
         "domain": [
          0.8025,
          1
         ],
         "gridcolor": "#E1E5ED",
         "showgrid": false,
         "tickfont": {
          "color": "#4D5663"
         },
         "title": {
          "font": {
           "color": "#4D5663"
          },
          "text": ""
         },
         "zerolinecolor": "#E1E5ED"
        },
        "yaxis4": {
         "anchor": "x4",
         "domain": [
          0.8025,
          1
         ],
         "gridcolor": "#E1E5ED",
         "showgrid": false,
         "tickfont": {
          "color": "#4D5663"
         },
         "title": {
          "font": {
           "color": "#4D5663"
          },
          "text": ""
         },
         "zerolinecolor": "#E1E5ED"
        },
        "yaxis5": {
         "anchor": "x5",
         "domain": [
          0.535,
          0.7325
         ],
         "gridcolor": "#E1E5ED",
         "showgrid": false,
         "tickfont": {
          "color": "#4D5663"
         },
         "title": {
          "font": {
           "color": "#4D5663"
          },
          "text": ""
         },
         "zerolinecolor": "#E1E5ED"
        },
        "yaxis6": {
         "anchor": "x6",
         "domain": [
          0.535,
          0.7325
         ],
         "gridcolor": "#E1E5ED",
         "showgrid": false,
         "tickfont": {
          "color": "#4D5663"
         },
         "title": {
          "font": {
           "color": "#4D5663"
          },
          "text": ""
         },
         "zerolinecolor": "#E1E5ED"
        },
        "yaxis7": {
         "anchor": "x7",
         "domain": [
          0.535,
          0.7325
         ],
         "gridcolor": "#E1E5ED",
         "showgrid": false,
         "tickfont": {
          "color": "#4D5663"
         },
         "title": {
          "font": {
           "color": "#4D5663"
          },
          "text": ""
         },
         "zerolinecolor": "#E1E5ED"
        },
        "yaxis8": {
         "anchor": "x8",
         "domain": [
          0.535,
          0.7325
         ],
         "gridcolor": "#E1E5ED",
         "showgrid": false,
         "tickfont": {
          "color": "#4D5663"
         },
         "title": {
          "font": {
           "color": "#4D5663"
          },
          "text": ""
         },
         "zerolinecolor": "#E1E5ED"
        },
        "yaxis9": {
         "anchor": "x9",
         "domain": [
          0.2675,
          0.465
         ],
         "gridcolor": "#E1E5ED",
         "showgrid": false,
         "tickfont": {
          "color": "#4D5663"
         },
         "title": {
          "font": {
           "color": "#4D5663"
          },
          "text": ""
         },
         "zerolinecolor": "#E1E5ED"
        }
       }
      },
      "text/html": [
       "<div>                            <div id=\"4c0b0c4f-7e3a-4814-965e-d03f56084bb6\" class=\"plotly-graph-div\" style=\"height:525px; width:100%;\"></div>            <script type=\"text/javascript\">                require([\"plotly\"], function(Plotly) {                    window.PLOTLYENV=window.PLOTLYENV || {};\n",
       "                    window.PLOTLYENV.BASE_URL='https://plot.ly';                                    if (document.getElementById(\"4c0b0c4f-7e3a-4814-965e-d03f56084bb6\")) {                    Plotly.newPlot(                        \"4c0b0c4f-7e3a-4814-965e-d03f56084bb6\",                        [{\"histfunc\": \"count\", \"histnorm\": \"\", \"marker\": {\"color\": \"rgba(255, 153, 51, 1.0)\", \"line\": {\"color\": \"#4D5663\", \"width\": 1.3}}, \"name\": \"A\", \"nbinsx\": 10, \"opacity\": 0.8, \"orientation\": \"v\", \"type\": \"histogram\", \"x\": [0.019430806383181284, 0.608603613411356, 0.07247562241777829, -0.9104428128373663, 1.3735657891542405, 0.07519673113819865, 0.06395658164671109, -1.6195694639137597, 0.7554966666743327, 0.45097740835769223, -0.10156324731745073, -0.4158522716260824, 0.9954541144280701, -0.48555200602878423, 1.490823288469039, -0.13194416978954118, -0.7528004178239888, -0.544262017467453, -1.437649785582203, 0.17187226223968824, -1.2375300092105108, 0.49278868970672296, -0.6361730509889744, -0.13764319117463106, 0.062410111597416565, -0.5187075611984749, -1.4102344376792062, -0.3572026445885095, -0.6376315054537319, -0.08196403616906862, 1.2918666744199032, 1.834095870683521, 1.028800443585434, 0.9937885884309238, -0.37089692485727643, -0.3412877759764047, 2.262481668740981, -0.2951852827270955, 1.1249926939573314, 0.5702750889136583, -0.7551453700363403, 1.0505410054870346, -2.1796411612126207, 1.4633293246578305, -0.9824685130984081, -0.8896242240185488, -0.15830524409511837, 0.8207907173546565, -1.1853010290819173, -0.04668477075582644, -0.4923965618308851, 1.347160076177271, 0.010843352382841287, 0.6173535522890893, -1.5062569479408272, 0.19394046597445944, -1.5703035237848442, -0.8017093258648721, -0.5420091277779893, 0.12398167085240544, 1.0336758962507486, 0.7370393163266648, 1.0215708043915677, -0.40016276626102376, 1.5133921798813612, 0.7624574546404679, 0.12204337931158848, 0.3878926000196656, -1.9858807909062057, 1.5619887939186559, 1.9262998520500085, 0.6179697050361458, -0.2637131372925625, -0.42894690745324804, 0.15220520963924042, 0.2171978777436021, -1.0019800436093944, -0.9082410683140086, -0.9323858380561356, -2.176514619233318, -2.041735481953146, 0.1900171138249872, 0.7957042354908531, -0.5964879028707374, -0.3146446170771317, -2.5337539168618295, -1.0869571144160752, 0.9013311410590518, -0.6131300774164766, 0.7959724948574082, -0.01817478619237521, 0.05015503961687754, 0.376814718222817, -1.548926641719814, 0.26002105343845394, -0.9509949673458841, -0.4274355159462603, 1.3031986142392404, -1.9640602579483455, -1.3617829420408287], \"xaxis\": \"x\", \"yaxis\": \"y\"}, {\"line\": {\"color\": \"rgba(128, 128, 128, 1.0)\", \"dash\": \"solid\", \"shape\": \"linear\", \"width\": 1.3}, \"marker\": {\"size\": 2, \"symbol\": \"circle\"}, \"mode\": \"markers\", \"name\": \"A\", \"text\": \"\", \"type\": \"scatter\", \"x\": [0.23590897280929557, -0.5853191060130026, 0.45041649477698203, -1.4844634650877961, -0.7010019866089757, -1.7713343221822186, 0.3564783560049668, 1.1031620019724644, -0.534524659790858, 1.55516579284802, 0.9245808085412286, 1.3620636205948855, 0.6460233039467143, -1.3287700621303378, 2.113243524617769, -0.7039904787447651, 0.957708167234452, 0.38668960727077833, 1.0905405017303815, -0.15907806493007792, -0.05398389231091074, -0.5336742283108098, 0.3824419930821319, 0.7419908764060871, -0.4140242561179745, 0.2759136081174468, 0.8482704917519138, 2.0059405381970254, -1.3246650717679416, -0.5065540149600787, -0.6936235230043091, -0.19441117112133538, 0.887480460290256, -1.5166569531417406, -0.7190624137948296, 0.4102288680484326, -0.7379062568928512, -0.38612979211456566, -0.9814499423449278, -0.4359275292528566, -0.12292181575473174, 1.9056738072959156, -1.836401325717276, -2.792474660611752, -0.9083337804822073, 2.782345891898233, 0.2381865299508034, 0.9647682007237843, -1.1734425707908456, -1.9609962976837447, 1.904270892330739, -0.10400697771863725, 0.9179842824151149, 0.16380229188572826, -0.02490709779441639, -0.20790133058482613, 0.5399698264563033, -0.9674437863175008, 0.943420239562524, 0.1561027975165673, -1.6553424385101994, 0.8709325231705167, 1.3197016755016702, -2.287162353986225, 0.552534163797248, -2.9316789514534003, -1.413578565746748, 0.3066964640228571, -0.8862210615838182, 2.2245689170171943, -0.5073138082557282, 2.295896889626357, 0.03791532397259017, -0.27422129122939853, 0.12873175025274455, 0.4837720574093124, -0.29738246943237895, -0.0988932565886435, -1.3368837027277733, 0.07779215851650331, -2.1254522743271664, -0.35883373446418565, 0.008131872263935342, 1.3898536362783147, 1.010414278850495, -0.1442294615435738, 0.9808125838800891, -0.4968630660898616, -1.778081760893912, -0.12516367093881087, 0.06968580548842876, -0.7992199722691573, 0.217143175038511, 0.31265034609776243, 0.3134863468368505, 0.7484128321632029, -0.44746867845204136, -1.5837350747526953, -0.5834240333463931, -1.522918964431989], \"xaxis\": \"x2\", \"y\": [0.019430806383181284, 0.608603613411356, 0.07247562241777829, -0.9104428128373663, 1.3735657891542405, 0.07519673113819865, 0.06395658164671109, -1.6195694639137597, 0.7554966666743327, 0.45097740835769223, -0.10156324731745073, -0.4158522716260824, 0.9954541144280701, -0.48555200602878423, 1.490823288469039, -0.13194416978954118, -0.7528004178239888, -0.544262017467453, -1.437649785582203, 0.17187226223968824, -1.2375300092105108, 0.49278868970672296, -0.6361730509889744, -0.13764319117463106, 0.062410111597416565, -0.5187075611984749, -1.4102344376792062, -0.3572026445885095, -0.6376315054537319, -0.08196403616906862, 1.2918666744199032, 1.834095870683521, 1.028800443585434, 0.9937885884309238, -0.37089692485727643, -0.3412877759764047, 2.262481668740981, -0.2951852827270955, 1.1249926939573314, 0.5702750889136583, -0.7551453700363403, 1.0505410054870346, -2.1796411612126207, 1.4633293246578305, -0.9824685130984081, -0.8896242240185488, -0.15830524409511837, 0.8207907173546565, -1.1853010290819173, -0.04668477075582644, -0.4923965618308851, 1.347160076177271, 0.010843352382841287, 0.6173535522890893, -1.5062569479408272, 0.19394046597445944, -1.5703035237848442, -0.8017093258648721, -0.5420091277779893, 0.12398167085240544, 1.0336758962507486, 0.7370393163266648, 1.0215708043915677, -0.40016276626102376, 1.5133921798813612, 0.7624574546404679, 0.12204337931158848, 0.3878926000196656, -1.9858807909062057, 1.5619887939186559, 1.9262998520500085, 0.6179697050361458, -0.2637131372925625, -0.42894690745324804, 0.15220520963924042, 0.2171978777436021, -1.0019800436093944, -0.9082410683140086, -0.9323858380561356, -2.176514619233318, -2.041735481953146, 0.1900171138249872, 0.7957042354908531, -0.5964879028707374, -0.3146446170771317, -2.5337539168618295, -1.0869571144160752, 0.9013311410590518, -0.6131300774164766, 0.7959724948574082, -0.01817478619237521, 0.05015503961687754, 0.376814718222817, -1.548926641719814, 0.26002105343845394, -0.9509949673458841, -0.4274355159462603, 1.3031986142392404, -1.9640602579483455, -1.3617829420408287], \"yaxis\": \"y2\"}, {\"line\": {\"color\": \"rgba(128, 128, 128, 1.0)\", \"dash\": \"solid\", \"shape\": \"linear\", \"width\": 1.3}, \"marker\": {\"size\": 2, \"symbol\": \"circle\"}, \"mode\": \"markers\", \"name\": \"A\", \"text\": \"\", \"type\": \"scatter\", \"x\": [-0.15684046679247937, 0.0013828717725460275, -0.20717052487752494, -0.7206190182063845, 0.1586724861805863, 0.34911398085786866, -0.44956744070842763, 1.391230362803256, -0.46585330693668414, 2.375752738731807, 2.8013418024600076, -0.8922346367023012, -0.926846171443639, 1.3309078366225244, 0.1865029925576986, 0.3440165820448021, 2.0006673071046435, 2.1218335358455778, -1.0851681629427428, 0.036401360337058986, -0.7900458544606217, -0.4240780143001388, -0.23030482293717486, 0.49875171251720374, 2.813766329755358, 0.51816636356984, 0.6739908495930921, 0.9727277361803863, 1.7404161611034967, -1.052396263040642, 0.6507507419833379, -0.3300921789049227, -0.31312308122181687, -1.057779781449692, 0.5620379645886366, -0.6271297467319812, 0.7904803881217852, -0.460998677311609, -1.0011704250170772, -0.15164477527511522, 0.8641526804073327, -0.37518655065331746, 1.324477199089354, -1.3033235959487661, 0.5546707941496423, 0.0033896549462594018, 2.1165944224416005, 1.521280594969115, -0.687675505707438, -0.28642443104729887, 0.3519115913584386, 0.6065211681422118, -1.3550957258383545, -0.8850366659186174, -0.1993180820639049, 1.3426081981955984, -0.5434397045615473, -0.2632372324367694, 0.685903186648751, -0.18105477889980426, -0.24896203088279126, -0.22713275470744318, 0.5174468834197568, 0.8823079341631708, 1.2896006276980028, -0.34861199578961743, 2.6913746255706466, 1.0625561710492792, -0.661242484110436, -0.04914036281608619, -0.7900573785253736, -1.3699078137285237, 1.2106250200809991, 1.954255197101674, 0.8058253342193138, -1.192938271012122, -0.4177302008237818, 1.0272729885317131, -1.3244327715514042, -1.8162033125358932, 0.029861675707530972, 1.0681575098153913, 1.6727332730577504, 1.2032897688914128, 0.410352298190852, 1.1288481375445711, -1.206014819993071, -0.6803987372025606, 0.16928314305903994, 0.7653848749316945, -1.333754491270903, -0.578849785869674, 0.14091504799203886, -0.3101137020582831, -0.4458092234831239, -0.23501363415754506, -0.4824689949430698, 0.43215075292197663, -1.656409175252382, -1.57918209361295], \"xaxis\": \"x3\", \"y\": [0.019430806383181284, 0.608603613411356, 0.07247562241777829, -0.9104428128373663, 1.3735657891542405, 0.07519673113819865, 0.06395658164671109, -1.6195694639137597, 0.7554966666743327, 0.45097740835769223, -0.10156324731745073, -0.4158522716260824, 0.9954541144280701, -0.48555200602878423, 1.490823288469039, -0.13194416978954118, -0.7528004178239888, -0.544262017467453, -1.437649785582203, 0.17187226223968824, -1.2375300092105108, 0.49278868970672296, -0.6361730509889744, -0.13764319117463106, 0.062410111597416565, -0.5187075611984749, -1.4102344376792062, -0.3572026445885095, -0.6376315054537319, -0.08196403616906862, 1.2918666744199032, 1.834095870683521, 1.028800443585434, 0.9937885884309238, -0.37089692485727643, -0.3412877759764047, 2.262481668740981, -0.2951852827270955, 1.1249926939573314, 0.5702750889136583, -0.7551453700363403, 1.0505410054870346, -2.1796411612126207, 1.4633293246578305, -0.9824685130984081, -0.8896242240185488, -0.15830524409511837, 0.8207907173546565, -1.1853010290819173, -0.04668477075582644, -0.4923965618308851, 1.347160076177271, 0.010843352382841287, 0.6173535522890893, -1.5062569479408272, 0.19394046597445944, -1.5703035237848442, -0.8017093258648721, -0.5420091277779893, 0.12398167085240544, 1.0336758962507486, 0.7370393163266648, 1.0215708043915677, -0.40016276626102376, 1.5133921798813612, 0.7624574546404679, 0.12204337931158848, 0.3878926000196656, -1.9858807909062057, 1.5619887939186559, 1.9262998520500085, 0.6179697050361458, -0.2637131372925625, -0.42894690745324804, 0.15220520963924042, 0.2171978777436021, -1.0019800436093944, -0.9082410683140086, -0.9323858380561356, -2.176514619233318, -2.041735481953146, 0.1900171138249872, 0.7957042354908531, -0.5964879028707374, -0.3146446170771317, -2.5337539168618295, -1.0869571144160752, 0.9013311410590518, -0.6131300774164766, 0.7959724948574082, -0.01817478619237521, 0.05015503961687754, 0.376814718222817, -1.548926641719814, 0.26002105343845394, -0.9509949673458841, -0.4274355159462603, 1.3031986142392404, -1.9640602579483455, -1.3617829420408287], \"yaxis\": \"y3\"}, {\"line\": {\"color\": \"rgba(128, 128, 128, 1.0)\", \"dash\": \"solid\", \"shape\": \"linear\", \"width\": 1.3}, \"marker\": {\"size\": 2, \"symbol\": \"circle\"}, \"mode\": \"markers\", \"name\": \"A\", \"text\": \"\", \"type\": \"scatter\", \"x\": [2.2119370484889576, 0.2619538103571365, 0.8924094077570193, -0.5904685993833743, 0.0552766009411597, 2.0386234968326233, -0.25921632958910207, 1.258045812592153, -0.08375681524517528, 0.2538557571671244, -0.9808152294413444, -0.6605595449516914, 0.4678417811418773, 0.012704562790264128, -0.49564194168079495, -2.135336493694956, 1.0892234105248118, -0.21360836380081863, -1.2613303261030369, 1.035530865770712, -2.2045106392997607, 0.06781027645605417, -0.45458982731005415, -0.3630801656225834, 0.657052299328566, 0.6815713140492817, -0.3897900022027989, -1.5049851594981454, 0.15542984351047032, -1.3532537632383819, 0.5421869087975931, -0.9224892806340775, 0.3513501900277581, -0.07555797465127363, -0.6736932749088854, 0.39738379048588646, -0.513421368766816, 0.13413567842431964, -0.41991144116608936, -0.7679773578512785, 0.09927167247266122, 0.2012677871419946, -0.1577219516692262, 1.1368320110964723, 0.387050190537693, 1.8464697724505594, 1.2655109411395482, 1.4951956376058737, -1.188969723957844, -1.4146526735965659, -0.33825855148940037, -0.6279954052839511, 0.23567593565933517, -1.0838590379437678, 0.48304949369169115, -0.9668849864757662, -1.916287177830883, -0.5987588134419914, -0.43167766267818847, 0.013125054891238325, -0.41132387441817775, -0.6243641075528994, -1.7040332454851073, 2.9207575651107422, 0.7338794324191147, 0.18321432885336975, 0.013204974415856777, -0.8640017165699477, 0.1359464985400466, 1.3093257097497903, -0.7779322939228172, -0.08474790121831398, 0.6161921263538989, 1.7975959989461179, 1.5136315138421899, -0.19724401324219779, 0.6253145261221091, 0.15313896089343393, 0.40401649761872777, 0.9651431109184552, 0.38881372859376023, -0.6800301885102675, 0.5101696045730842, -0.8924176361306555, 1.1597589320492567, -1.2091195603747213, -1.0211547747396779, -0.014112913171826398, 0.13757985259358255, 1.255842447019908, -0.30486794662000666, -0.07208922509598602, -0.28942993707462106, 1.6803990367619053, 0.42185433806988926, -0.36360146286425926, -0.3645471771058133, -0.8201607479181384, -0.20209701308029454, 0.39344700984968983], \"xaxis\": \"x4\", \"y\": [0.019430806383181284, 0.608603613411356, 0.07247562241777829, -0.9104428128373663, 1.3735657891542405, 0.07519673113819865, 0.06395658164671109, -1.6195694639137597, 0.7554966666743327, 0.45097740835769223, -0.10156324731745073, -0.4158522716260824, 0.9954541144280701, -0.48555200602878423, 1.490823288469039, -0.13194416978954118, -0.7528004178239888, -0.544262017467453, -1.437649785582203, 0.17187226223968824, -1.2375300092105108, 0.49278868970672296, -0.6361730509889744, -0.13764319117463106, 0.062410111597416565, -0.5187075611984749, -1.4102344376792062, -0.3572026445885095, -0.6376315054537319, -0.08196403616906862, 1.2918666744199032, 1.834095870683521, 1.028800443585434, 0.9937885884309238, -0.37089692485727643, -0.3412877759764047, 2.262481668740981, -0.2951852827270955, 1.1249926939573314, 0.5702750889136583, -0.7551453700363403, 1.0505410054870346, -2.1796411612126207, 1.4633293246578305, -0.9824685130984081, -0.8896242240185488, -0.15830524409511837, 0.8207907173546565, -1.1853010290819173, -0.04668477075582644, -0.4923965618308851, 1.347160076177271, 0.010843352382841287, 0.6173535522890893, -1.5062569479408272, 0.19394046597445944, -1.5703035237848442, -0.8017093258648721, -0.5420091277779893, 0.12398167085240544, 1.0336758962507486, 0.7370393163266648, 1.0215708043915677, -0.40016276626102376, 1.5133921798813612, 0.7624574546404679, 0.12204337931158848, 0.3878926000196656, -1.9858807909062057, 1.5619887939186559, 1.9262998520500085, 0.6179697050361458, -0.2637131372925625, -0.42894690745324804, 0.15220520963924042, 0.2171978777436021, -1.0019800436093944, -0.9082410683140086, -0.9323858380561356, -2.176514619233318, -2.041735481953146, 0.1900171138249872, 0.7957042354908531, -0.5964879028707374, -0.3146446170771317, -2.5337539168618295, -1.0869571144160752, 0.9013311410590518, -0.6131300774164766, 0.7959724948574082, -0.01817478619237521, 0.05015503961687754, 0.376814718222817, -1.548926641719814, 0.26002105343845394, -0.9509949673458841, -0.4274355159462603, 1.3031986142392404, -1.9640602579483455, -1.3617829420408287], \"yaxis\": \"y4\"}, {\"line\": {\"color\": \"rgba(128, 128, 128, 1.0)\", \"dash\": \"solid\", \"shape\": \"linear\", \"width\": 1.3}, \"marker\": {\"size\": 2, \"symbol\": \"circle\"}, \"mode\": \"markers\", \"name\": \"B\", \"text\": \"\", \"type\": \"scatter\", \"x\": [0.019430806383181284, 0.608603613411356, 0.07247562241777829, -0.9104428128373663, 1.3735657891542405, 0.07519673113819865, 0.06395658164671109, -1.6195694639137597, 0.7554966666743327, 0.45097740835769223, -0.10156324731745073, -0.4158522716260824, 0.9954541144280701, -0.48555200602878423, 1.490823288469039, -0.13194416978954118, -0.7528004178239888, -0.544262017467453, -1.437649785582203, 0.17187226223968824, -1.2375300092105108, 0.49278868970672296, -0.6361730509889744, -0.13764319117463106, 0.062410111597416565, -0.5187075611984749, -1.4102344376792062, -0.3572026445885095, -0.6376315054537319, -0.08196403616906862, 1.2918666744199032, 1.834095870683521, 1.028800443585434, 0.9937885884309238, -0.37089692485727643, -0.3412877759764047, 2.262481668740981, -0.2951852827270955, 1.1249926939573314, 0.5702750889136583, -0.7551453700363403, 1.0505410054870346, -2.1796411612126207, 1.4633293246578305, -0.9824685130984081, -0.8896242240185488, -0.15830524409511837, 0.8207907173546565, -1.1853010290819173, -0.04668477075582644, -0.4923965618308851, 1.347160076177271, 0.010843352382841287, 0.6173535522890893, -1.5062569479408272, 0.19394046597445944, -1.5703035237848442, -0.8017093258648721, -0.5420091277779893, 0.12398167085240544, 1.0336758962507486, 0.7370393163266648, 1.0215708043915677, -0.40016276626102376, 1.5133921798813612, 0.7624574546404679, 0.12204337931158848, 0.3878926000196656, -1.9858807909062057, 1.5619887939186559, 1.9262998520500085, 0.6179697050361458, -0.2637131372925625, -0.42894690745324804, 0.15220520963924042, 0.2171978777436021, -1.0019800436093944, -0.9082410683140086, -0.9323858380561356, -2.176514619233318, -2.041735481953146, 0.1900171138249872, 0.7957042354908531, -0.5964879028707374, -0.3146446170771317, -2.5337539168618295, -1.0869571144160752, 0.9013311410590518, -0.6131300774164766, 0.7959724948574082, -0.01817478619237521, 0.05015503961687754, 0.376814718222817, -1.548926641719814, 0.26002105343845394, -0.9509949673458841, -0.4274355159462603, 1.3031986142392404, -1.9640602579483455, -1.3617829420408287], \"xaxis\": \"x5\", \"y\": [0.23590897280929557, -0.5853191060130026, 0.45041649477698203, -1.4844634650877961, -0.7010019866089757, -1.7713343221822186, 0.3564783560049668, 1.1031620019724644, -0.534524659790858, 1.55516579284802, 0.9245808085412286, 1.3620636205948855, 0.6460233039467143, -1.3287700621303378, 2.113243524617769, -0.7039904787447651, 0.957708167234452, 0.38668960727077833, 1.0905405017303815, -0.15907806493007792, -0.05398389231091074, -0.5336742283108098, 0.3824419930821319, 0.7419908764060871, -0.4140242561179745, 0.2759136081174468, 0.8482704917519138, 2.0059405381970254, -1.3246650717679416, -0.5065540149600787, -0.6936235230043091, -0.19441117112133538, 0.887480460290256, -1.5166569531417406, -0.7190624137948296, 0.4102288680484326, -0.7379062568928512, -0.38612979211456566, -0.9814499423449278, -0.4359275292528566, -0.12292181575473174, 1.9056738072959156, -1.836401325717276, -2.792474660611752, -0.9083337804822073, 2.782345891898233, 0.2381865299508034, 0.9647682007237843, -1.1734425707908456, -1.9609962976837447, 1.904270892330739, -0.10400697771863725, 0.9179842824151149, 0.16380229188572826, -0.02490709779441639, -0.20790133058482613, 0.5399698264563033, -0.9674437863175008, 0.943420239562524, 0.1561027975165673, -1.6553424385101994, 0.8709325231705167, 1.3197016755016702, -2.287162353986225, 0.552534163797248, -2.9316789514534003, -1.413578565746748, 0.3066964640228571, -0.8862210615838182, 2.2245689170171943, -0.5073138082557282, 2.295896889626357, 0.03791532397259017, -0.27422129122939853, 0.12873175025274455, 0.4837720574093124, -0.29738246943237895, -0.0988932565886435, -1.3368837027277733, 0.07779215851650331, -2.1254522743271664, -0.35883373446418565, 0.008131872263935342, 1.3898536362783147, 1.010414278850495, -0.1442294615435738, 0.9808125838800891, -0.4968630660898616, -1.778081760893912, -0.12516367093881087, 0.06968580548842876, -0.7992199722691573, 0.217143175038511, 0.31265034609776243, 0.3134863468368505, 0.7484128321632029, -0.44746867845204136, -1.5837350747526953, -0.5834240333463931, -1.522918964431989], \"yaxis\": \"y5\"}, {\"histfunc\": \"count\", \"histnorm\": \"\", \"marker\": {\"color\": \"rgba(55, 128, 191, 1.0)\", \"line\": {\"color\": \"#4D5663\", \"width\": 1.3}}, \"name\": \"B\", \"nbinsx\": 10, \"opacity\": 0.8, \"orientation\": \"v\", \"type\": \"histogram\", \"x\": [0.23590897280929557, -0.5853191060130026, 0.45041649477698203, -1.4844634650877961, -0.7010019866089757, -1.7713343221822186, 0.3564783560049668, 1.1031620019724644, -0.534524659790858, 1.55516579284802, 0.9245808085412286, 1.3620636205948855, 0.6460233039467143, -1.3287700621303378, 2.113243524617769, -0.7039904787447651, 0.957708167234452, 0.38668960727077833, 1.0905405017303815, -0.15907806493007792, -0.05398389231091074, -0.5336742283108098, 0.3824419930821319, 0.7419908764060871, -0.4140242561179745, 0.2759136081174468, 0.8482704917519138, 2.0059405381970254, -1.3246650717679416, -0.5065540149600787, -0.6936235230043091, -0.19441117112133538, 0.887480460290256, -1.5166569531417406, -0.7190624137948296, 0.4102288680484326, -0.7379062568928512, -0.38612979211456566, -0.9814499423449278, -0.4359275292528566, -0.12292181575473174, 1.9056738072959156, -1.836401325717276, -2.792474660611752, -0.9083337804822073, 2.782345891898233, 0.2381865299508034, 0.9647682007237843, -1.1734425707908456, -1.9609962976837447, 1.904270892330739, -0.10400697771863725, 0.9179842824151149, 0.16380229188572826, -0.02490709779441639, -0.20790133058482613, 0.5399698264563033, -0.9674437863175008, 0.943420239562524, 0.1561027975165673, -1.6553424385101994, 0.8709325231705167, 1.3197016755016702, -2.287162353986225, 0.552534163797248, -2.9316789514534003, -1.413578565746748, 0.3066964640228571, -0.8862210615838182, 2.2245689170171943, -0.5073138082557282, 2.295896889626357, 0.03791532397259017, -0.27422129122939853, 0.12873175025274455, 0.4837720574093124, -0.29738246943237895, -0.0988932565886435, -1.3368837027277733, 0.07779215851650331, -2.1254522743271664, -0.35883373446418565, 0.008131872263935342, 1.3898536362783147, 1.010414278850495, -0.1442294615435738, 0.9808125838800891, -0.4968630660898616, -1.778081760893912, -0.12516367093881087, 0.06968580548842876, -0.7992199722691573, 0.217143175038511, 0.31265034609776243, 0.3134863468368505, 0.7484128321632029, -0.44746867845204136, -1.5837350747526953, -0.5834240333463931, -1.522918964431989], \"xaxis\": \"x6\", \"yaxis\": \"y6\"}, {\"line\": {\"color\": \"rgba(128, 128, 128, 1.0)\", \"dash\": \"solid\", \"shape\": \"linear\", \"width\": 1.3}, \"marker\": {\"size\": 2, \"symbol\": \"circle\"}, \"mode\": \"markers\", \"name\": \"B\", \"text\": \"\", \"type\": \"scatter\", \"x\": [-0.15684046679247937, 0.0013828717725460275, -0.20717052487752494, -0.7206190182063845, 0.1586724861805863, 0.34911398085786866, -0.44956744070842763, 1.391230362803256, -0.46585330693668414, 2.375752738731807, 2.8013418024600076, -0.8922346367023012, -0.926846171443639, 1.3309078366225244, 0.1865029925576986, 0.3440165820448021, 2.0006673071046435, 2.1218335358455778, -1.0851681629427428, 0.036401360337058986, -0.7900458544606217, -0.4240780143001388, -0.23030482293717486, 0.49875171251720374, 2.813766329755358, 0.51816636356984, 0.6739908495930921, 0.9727277361803863, 1.7404161611034967, -1.052396263040642, 0.6507507419833379, -0.3300921789049227, -0.31312308122181687, -1.057779781449692, 0.5620379645886366, -0.6271297467319812, 0.7904803881217852, -0.460998677311609, -1.0011704250170772, -0.15164477527511522, 0.8641526804073327, -0.37518655065331746, 1.324477199089354, -1.3033235959487661, 0.5546707941496423, 0.0033896549462594018, 2.1165944224416005, 1.521280594969115, -0.687675505707438, -0.28642443104729887, 0.3519115913584386, 0.6065211681422118, -1.3550957258383545, -0.8850366659186174, -0.1993180820639049, 1.3426081981955984, -0.5434397045615473, -0.2632372324367694, 0.685903186648751, -0.18105477889980426, -0.24896203088279126, -0.22713275470744318, 0.5174468834197568, 0.8823079341631708, 1.2896006276980028, -0.34861199578961743, 2.6913746255706466, 1.0625561710492792, -0.661242484110436, -0.04914036281608619, -0.7900573785253736, -1.3699078137285237, 1.2106250200809991, 1.954255197101674, 0.8058253342193138, -1.192938271012122, -0.4177302008237818, 1.0272729885317131, -1.3244327715514042, -1.8162033125358932, 0.029861675707530972, 1.0681575098153913, 1.6727332730577504, 1.2032897688914128, 0.410352298190852, 1.1288481375445711, -1.206014819993071, -0.6803987372025606, 0.16928314305903994, 0.7653848749316945, -1.333754491270903, -0.578849785869674, 0.14091504799203886, -0.3101137020582831, -0.4458092234831239, -0.23501363415754506, -0.4824689949430698, 0.43215075292197663, -1.656409175252382, -1.57918209361295], \"xaxis\": \"x7\", \"y\": [0.23590897280929557, -0.5853191060130026, 0.45041649477698203, -1.4844634650877961, -0.7010019866089757, -1.7713343221822186, 0.3564783560049668, 1.1031620019724644, -0.534524659790858, 1.55516579284802, 0.9245808085412286, 1.3620636205948855, 0.6460233039467143, -1.3287700621303378, 2.113243524617769, -0.7039904787447651, 0.957708167234452, 0.38668960727077833, 1.0905405017303815, -0.15907806493007792, -0.05398389231091074, -0.5336742283108098, 0.3824419930821319, 0.7419908764060871, -0.4140242561179745, 0.2759136081174468, 0.8482704917519138, 2.0059405381970254, -1.3246650717679416, -0.5065540149600787, -0.6936235230043091, -0.19441117112133538, 0.887480460290256, -1.5166569531417406, -0.7190624137948296, 0.4102288680484326, -0.7379062568928512, -0.38612979211456566, -0.9814499423449278, -0.4359275292528566, -0.12292181575473174, 1.9056738072959156, -1.836401325717276, -2.792474660611752, -0.9083337804822073, 2.782345891898233, 0.2381865299508034, 0.9647682007237843, -1.1734425707908456, -1.9609962976837447, 1.904270892330739, -0.10400697771863725, 0.9179842824151149, 0.16380229188572826, -0.02490709779441639, -0.20790133058482613, 0.5399698264563033, -0.9674437863175008, 0.943420239562524, 0.1561027975165673, -1.6553424385101994, 0.8709325231705167, 1.3197016755016702, -2.287162353986225, 0.552534163797248, -2.9316789514534003, -1.413578565746748, 0.3066964640228571, -0.8862210615838182, 2.2245689170171943, -0.5073138082557282, 2.295896889626357, 0.03791532397259017, -0.27422129122939853, 0.12873175025274455, 0.4837720574093124, -0.29738246943237895, -0.0988932565886435, -1.3368837027277733, 0.07779215851650331, -2.1254522743271664, -0.35883373446418565, 0.008131872263935342, 1.3898536362783147, 1.010414278850495, -0.1442294615435738, 0.9808125838800891, -0.4968630660898616, -1.778081760893912, -0.12516367093881087, 0.06968580548842876, -0.7992199722691573, 0.217143175038511, 0.31265034609776243, 0.3134863468368505, 0.7484128321632029, -0.44746867845204136, -1.5837350747526953, -0.5834240333463931, -1.522918964431989], \"yaxis\": \"y7\"}, {\"line\": {\"color\": \"rgba(128, 128, 128, 1.0)\", \"dash\": \"solid\", \"shape\": \"linear\", \"width\": 1.3}, \"marker\": {\"size\": 2, \"symbol\": \"circle\"}, \"mode\": \"markers\", \"name\": \"B\", \"text\": \"\", \"type\": \"scatter\", \"x\": [2.2119370484889576, 0.2619538103571365, 0.8924094077570193, -0.5904685993833743, 0.0552766009411597, 2.0386234968326233, -0.25921632958910207, 1.258045812592153, -0.08375681524517528, 0.2538557571671244, -0.9808152294413444, -0.6605595449516914, 0.4678417811418773, 0.012704562790264128, -0.49564194168079495, -2.135336493694956, 1.0892234105248118, -0.21360836380081863, -1.2613303261030369, 1.035530865770712, -2.2045106392997607, 0.06781027645605417, -0.45458982731005415, -0.3630801656225834, 0.657052299328566, 0.6815713140492817, -0.3897900022027989, -1.5049851594981454, 0.15542984351047032, -1.3532537632383819, 0.5421869087975931, -0.9224892806340775, 0.3513501900277581, -0.07555797465127363, -0.6736932749088854, 0.39738379048588646, -0.513421368766816, 0.13413567842431964, -0.41991144116608936, -0.7679773578512785, 0.09927167247266122, 0.2012677871419946, -0.1577219516692262, 1.1368320110964723, 0.387050190537693, 1.8464697724505594, 1.2655109411395482, 1.4951956376058737, -1.188969723957844, -1.4146526735965659, -0.33825855148940037, -0.6279954052839511, 0.23567593565933517, -1.0838590379437678, 0.48304949369169115, -0.9668849864757662, -1.916287177830883, -0.5987588134419914, -0.43167766267818847, 0.013125054891238325, -0.41132387441817775, -0.6243641075528994, -1.7040332454851073, 2.9207575651107422, 0.7338794324191147, 0.18321432885336975, 0.013204974415856777, -0.8640017165699477, 0.1359464985400466, 1.3093257097497903, -0.7779322939228172, -0.08474790121831398, 0.6161921263538989, 1.7975959989461179, 1.5136315138421899, -0.19724401324219779, 0.6253145261221091, 0.15313896089343393, 0.40401649761872777, 0.9651431109184552, 0.38881372859376023, -0.6800301885102675, 0.5101696045730842, -0.8924176361306555, 1.1597589320492567, -1.2091195603747213, -1.0211547747396779, -0.014112913171826398, 0.13757985259358255, 1.255842447019908, -0.30486794662000666, -0.07208922509598602, -0.28942993707462106, 1.6803990367619053, 0.42185433806988926, -0.36360146286425926, -0.3645471771058133, -0.8201607479181384, -0.20209701308029454, 0.39344700984968983], \"xaxis\": \"x8\", \"y\": [0.23590897280929557, -0.5853191060130026, 0.45041649477698203, -1.4844634650877961, -0.7010019866089757, -1.7713343221822186, 0.3564783560049668, 1.1031620019724644, -0.534524659790858, 1.55516579284802, 0.9245808085412286, 1.3620636205948855, 0.6460233039467143, -1.3287700621303378, 2.113243524617769, -0.7039904787447651, 0.957708167234452, 0.38668960727077833, 1.0905405017303815, -0.15907806493007792, -0.05398389231091074, -0.5336742283108098, 0.3824419930821319, 0.7419908764060871, -0.4140242561179745, 0.2759136081174468, 0.8482704917519138, 2.0059405381970254, -1.3246650717679416, -0.5065540149600787, -0.6936235230043091, -0.19441117112133538, 0.887480460290256, -1.5166569531417406, -0.7190624137948296, 0.4102288680484326, -0.7379062568928512, -0.38612979211456566, -0.9814499423449278, -0.4359275292528566, -0.12292181575473174, 1.9056738072959156, -1.836401325717276, -2.792474660611752, -0.9083337804822073, 2.782345891898233, 0.2381865299508034, 0.9647682007237843, -1.1734425707908456, -1.9609962976837447, 1.904270892330739, -0.10400697771863725, 0.9179842824151149, 0.16380229188572826, -0.02490709779441639, -0.20790133058482613, 0.5399698264563033, -0.9674437863175008, 0.943420239562524, 0.1561027975165673, -1.6553424385101994, 0.8709325231705167, 1.3197016755016702, -2.287162353986225, 0.552534163797248, -2.9316789514534003, -1.413578565746748, 0.3066964640228571, -0.8862210615838182, 2.2245689170171943, -0.5073138082557282, 2.295896889626357, 0.03791532397259017, -0.27422129122939853, 0.12873175025274455, 0.4837720574093124, -0.29738246943237895, -0.0988932565886435, -1.3368837027277733, 0.07779215851650331, -2.1254522743271664, -0.35883373446418565, 0.008131872263935342, 1.3898536362783147, 1.010414278850495, -0.1442294615435738, 0.9808125838800891, -0.4968630660898616, -1.778081760893912, -0.12516367093881087, 0.06968580548842876, -0.7992199722691573, 0.217143175038511, 0.31265034609776243, 0.3134863468368505, 0.7484128321632029, -0.44746867845204136, -1.5837350747526953, -0.5834240333463931, -1.522918964431989], \"yaxis\": \"y8\"}, {\"line\": {\"color\": \"rgba(128, 128, 128, 1.0)\", \"dash\": \"solid\", \"shape\": \"linear\", \"width\": 1.3}, \"marker\": {\"size\": 2, \"symbol\": \"circle\"}, \"mode\": \"markers\", \"name\": \"C\", \"text\": \"\", \"type\": \"scatter\", \"x\": [0.019430806383181284, 0.608603613411356, 0.07247562241777829, -0.9104428128373663, 1.3735657891542405, 0.07519673113819865, 0.06395658164671109, -1.6195694639137597, 0.7554966666743327, 0.45097740835769223, -0.10156324731745073, -0.4158522716260824, 0.9954541144280701, -0.48555200602878423, 1.490823288469039, -0.13194416978954118, -0.7528004178239888, -0.544262017467453, -1.437649785582203, 0.17187226223968824, -1.2375300092105108, 0.49278868970672296, -0.6361730509889744, -0.13764319117463106, 0.062410111597416565, -0.5187075611984749, -1.4102344376792062, -0.3572026445885095, -0.6376315054537319, -0.08196403616906862, 1.2918666744199032, 1.834095870683521, 1.028800443585434, 0.9937885884309238, -0.37089692485727643, -0.3412877759764047, 2.262481668740981, -0.2951852827270955, 1.1249926939573314, 0.5702750889136583, -0.7551453700363403, 1.0505410054870346, -2.1796411612126207, 1.4633293246578305, -0.9824685130984081, -0.8896242240185488, -0.15830524409511837, 0.8207907173546565, -1.1853010290819173, -0.04668477075582644, -0.4923965618308851, 1.347160076177271, 0.010843352382841287, 0.6173535522890893, -1.5062569479408272, 0.19394046597445944, -1.5703035237848442, -0.8017093258648721, -0.5420091277779893, 0.12398167085240544, 1.0336758962507486, 0.7370393163266648, 1.0215708043915677, -0.40016276626102376, 1.5133921798813612, 0.7624574546404679, 0.12204337931158848, 0.3878926000196656, -1.9858807909062057, 1.5619887939186559, 1.9262998520500085, 0.6179697050361458, -0.2637131372925625, -0.42894690745324804, 0.15220520963924042, 0.2171978777436021, -1.0019800436093944, -0.9082410683140086, -0.9323858380561356, -2.176514619233318, -2.041735481953146, 0.1900171138249872, 0.7957042354908531, -0.5964879028707374, -0.3146446170771317, -2.5337539168618295, -1.0869571144160752, 0.9013311410590518, -0.6131300774164766, 0.7959724948574082, -0.01817478619237521, 0.05015503961687754, 0.376814718222817, -1.548926641719814, 0.26002105343845394, -0.9509949673458841, -0.4274355159462603, 1.3031986142392404, -1.9640602579483455, -1.3617829420408287], \"xaxis\": \"x9\", \"y\": [-0.15684046679247937, 0.0013828717725460275, -0.20717052487752494, -0.7206190182063845, 0.1586724861805863, 0.34911398085786866, -0.44956744070842763, 1.391230362803256, -0.46585330693668414, 2.375752738731807, 2.8013418024600076, -0.8922346367023012, -0.926846171443639, 1.3309078366225244, 0.1865029925576986, 0.3440165820448021, 2.0006673071046435, 2.1218335358455778, -1.0851681629427428, 0.036401360337058986, -0.7900458544606217, -0.4240780143001388, -0.23030482293717486, 0.49875171251720374, 2.813766329755358, 0.51816636356984, 0.6739908495930921, 0.9727277361803863, 1.7404161611034967, -1.052396263040642, 0.6507507419833379, -0.3300921789049227, -0.31312308122181687, -1.057779781449692, 0.5620379645886366, -0.6271297467319812, 0.7904803881217852, -0.460998677311609, -1.0011704250170772, -0.15164477527511522, 0.8641526804073327, -0.37518655065331746, 1.324477199089354, -1.3033235959487661, 0.5546707941496423, 0.0033896549462594018, 2.1165944224416005, 1.521280594969115, -0.687675505707438, -0.28642443104729887, 0.3519115913584386, 0.6065211681422118, -1.3550957258383545, -0.8850366659186174, -0.1993180820639049, 1.3426081981955984, -0.5434397045615473, -0.2632372324367694, 0.685903186648751, -0.18105477889980426, -0.24896203088279126, -0.22713275470744318, 0.5174468834197568, 0.8823079341631708, 1.2896006276980028, -0.34861199578961743, 2.6913746255706466, 1.0625561710492792, -0.661242484110436, -0.04914036281608619, -0.7900573785253736, -1.3699078137285237, 1.2106250200809991, 1.954255197101674, 0.8058253342193138, -1.192938271012122, -0.4177302008237818, 1.0272729885317131, -1.3244327715514042, -1.8162033125358932, 0.029861675707530972, 1.0681575098153913, 1.6727332730577504, 1.2032897688914128, 0.410352298190852, 1.1288481375445711, -1.206014819993071, -0.6803987372025606, 0.16928314305903994, 0.7653848749316945, -1.333754491270903, -0.578849785869674, 0.14091504799203886, -0.3101137020582831, -0.4458092234831239, -0.23501363415754506, -0.4824689949430698, 0.43215075292197663, -1.656409175252382, -1.57918209361295], \"yaxis\": \"y9\"}, {\"line\": {\"color\": \"rgba(128, 128, 128, 1.0)\", \"dash\": \"solid\", \"shape\": \"linear\", \"width\": 1.3}, \"marker\": {\"size\": 2, \"symbol\": \"circle\"}, \"mode\": \"markers\", \"name\": \"C\", \"text\": \"\", \"type\": \"scatter\", \"x\": [0.23590897280929557, -0.5853191060130026, 0.45041649477698203, -1.4844634650877961, -0.7010019866089757, -1.7713343221822186, 0.3564783560049668, 1.1031620019724644, -0.534524659790858, 1.55516579284802, 0.9245808085412286, 1.3620636205948855, 0.6460233039467143, -1.3287700621303378, 2.113243524617769, -0.7039904787447651, 0.957708167234452, 0.38668960727077833, 1.0905405017303815, -0.15907806493007792, -0.05398389231091074, -0.5336742283108098, 0.3824419930821319, 0.7419908764060871, -0.4140242561179745, 0.2759136081174468, 0.8482704917519138, 2.0059405381970254, -1.3246650717679416, -0.5065540149600787, -0.6936235230043091, -0.19441117112133538, 0.887480460290256, -1.5166569531417406, -0.7190624137948296, 0.4102288680484326, -0.7379062568928512, -0.38612979211456566, -0.9814499423449278, -0.4359275292528566, -0.12292181575473174, 1.9056738072959156, -1.836401325717276, -2.792474660611752, -0.9083337804822073, 2.782345891898233, 0.2381865299508034, 0.9647682007237843, -1.1734425707908456, -1.9609962976837447, 1.904270892330739, -0.10400697771863725, 0.9179842824151149, 0.16380229188572826, -0.02490709779441639, -0.20790133058482613, 0.5399698264563033, -0.9674437863175008, 0.943420239562524, 0.1561027975165673, -1.6553424385101994, 0.8709325231705167, 1.3197016755016702, -2.287162353986225, 0.552534163797248, -2.9316789514534003, -1.413578565746748, 0.3066964640228571, -0.8862210615838182, 2.2245689170171943, -0.5073138082557282, 2.295896889626357, 0.03791532397259017, -0.27422129122939853, 0.12873175025274455, 0.4837720574093124, -0.29738246943237895, -0.0988932565886435, -1.3368837027277733, 0.07779215851650331, -2.1254522743271664, -0.35883373446418565, 0.008131872263935342, 1.3898536362783147, 1.010414278850495, -0.1442294615435738, 0.9808125838800891, -0.4968630660898616, -1.778081760893912, -0.12516367093881087, 0.06968580548842876, -0.7992199722691573, 0.217143175038511, 0.31265034609776243, 0.3134863468368505, 0.7484128321632029, -0.44746867845204136, -1.5837350747526953, -0.5834240333463931, -1.522918964431989], \"xaxis\": \"x10\", \"y\": [-0.15684046679247937, 0.0013828717725460275, -0.20717052487752494, -0.7206190182063845, 0.1586724861805863, 0.34911398085786866, -0.44956744070842763, 1.391230362803256, -0.46585330693668414, 2.375752738731807, 2.8013418024600076, -0.8922346367023012, -0.926846171443639, 1.3309078366225244, 0.1865029925576986, 0.3440165820448021, 2.0006673071046435, 2.1218335358455778, -1.0851681629427428, 0.036401360337058986, -0.7900458544606217, -0.4240780143001388, -0.23030482293717486, 0.49875171251720374, 2.813766329755358, 0.51816636356984, 0.6739908495930921, 0.9727277361803863, 1.7404161611034967, -1.052396263040642, 0.6507507419833379, -0.3300921789049227, -0.31312308122181687, -1.057779781449692, 0.5620379645886366, -0.6271297467319812, 0.7904803881217852, -0.460998677311609, -1.0011704250170772, -0.15164477527511522, 0.8641526804073327, -0.37518655065331746, 1.324477199089354, -1.3033235959487661, 0.5546707941496423, 0.0033896549462594018, 2.1165944224416005, 1.521280594969115, -0.687675505707438, -0.28642443104729887, 0.3519115913584386, 0.6065211681422118, -1.3550957258383545, -0.8850366659186174, -0.1993180820639049, 1.3426081981955984, -0.5434397045615473, -0.2632372324367694, 0.685903186648751, -0.18105477889980426, -0.24896203088279126, -0.22713275470744318, 0.5174468834197568, 0.8823079341631708, 1.2896006276980028, -0.34861199578961743, 2.6913746255706466, 1.0625561710492792, -0.661242484110436, -0.04914036281608619, -0.7900573785253736, -1.3699078137285237, 1.2106250200809991, 1.954255197101674, 0.8058253342193138, -1.192938271012122, -0.4177302008237818, 1.0272729885317131, -1.3244327715514042, -1.8162033125358932, 0.029861675707530972, 1.0681575098153913, 1.6727332730577504, 1.2032897688914128, 0.410352298190852, 1.1288481375445711, -1.206014819993071, -0.6803987372025606, 0.16928314305903994, 0.7653848749316945, -1.333754491270903, -0.578849785869674, 0.14091504799203886, -0.3101137020582831, -0.4458092234831239, -0.23501363415754506, -0.4824689949430698, 0.43215075292197663, -1.656409175252382, -1.57918209361295], \"yaxis\": \"y10\"}, {\"histfunc\": \"count\", \"histnorm\": \"\", \"marker\": {\"color\": \"rgba(50, 171, 96, 1.0)\", \"line\": {\"color\": \"#4D5663\", \"width\": 1.3}}, \"name\": \"C\", \"nbinsx\": 10, \"opacity\": 0.8, \"orientation\": \"v\", \"type\": \"histogram\", \"x\": [-0.15684046679247937, 0.0013828717725460275, -0.20717052487752494, -0.7206190182063845, 0.1586724861805863, 0.34911398085786866, -0.44956744070842763, 1.391230362803256, -0.46585330693668414, 2.375752738731807, 2.8013418024600076, -0.8922346367023012, -0.926846171443639, 1.3309078366225244, 0.1865029925576986, 0.3440165820448021, 2.0006673071046435, 2.1218335358455778, -1.0851681629427428, 0.036401360337058986, -0.7900458544606217, -0.4240780143001388, -0.23030482293717486, 0.49875171251720374, 2.813766329755358, 0.51816636356984, 0.6739908495930921, 0.9727277361803863, 1.7404161611034967, -1.052396263040642, 0.6507507419833379, -0.3300921789049227, -0.31312308122181687, -1.057779781449692, 0.5620379645886366, -0.6271297467319812, 0.7904803881217852, -0.460998677311609, -1.0011704250170772, -0.15164477527511522, 0.8641526804073327, -0.37518655065331746, 1.324477199089354, -1.3033235959487661, 0.5546707941496423, 0.0033896549462594018, 2.1165944224416005, 1.521280594969115, -0.687675505707438, -0.28642443104729887, 0.3519115913584386, 0.6065211681422118, -1.3550957258383545, -0.8850366659186174, -0.1993180820639049, 1.3426081981955984, -0.5434397045615473, -0.2632372324367694, 0.685903186648751, -0.18105477889980426, -0.24896203088279126, -0.22713275470744318, 0.5174468834197568, 0.8823079341631708, 1.2896006276980028, -0.34861199578961743, 2.6913746255706466, 1.0625561710492792, -0.661242484110436, -0.04914036281608619, -0.7900573785253736, -1.3699078137285237, 1.2106250200809991, 1.954255197101674, 0.8058253342193138, -1.192938271012122, -0.4177302008237818, 1.0272729885317131, -1.3244327715514042, -1.8162033125358932, 0.029861675707530972, 1.0681575098153913, 1.6727332730577504, 1.2032897688914128, 0.410352298190852, 1.1288481375445711, -1.206014819993071, -0.6803987372025606, 0.16928314305903994, 0.7653848749316945, -1.333754491270903, -0.578849785869674, 0.14091504799203886, -0.3101137020582831, -0.4458092234831239, -0.23501363415754506, -0.4824689949430698, 0.43215075292197663, -1.656409175252382, -1.57918209361295], \"xaxis\": \"x11\", \"yaxis\": \"y11\"}, {\"line\": {\"color\": \"rgba(128, 128, 128, 1.0)\", \"dash\": \"solid\", \"shape\": \"linear\", \"width\": 1.3}, \"marker\": {\"size\": 2, \"symbol\": \"circle\"}, \"mode\": \"markers\", \"name\": \"C\", \"text\": \"\", \"type\": \"scatter\", \"x\": [2.2119370484889576, 0.2619538103571365, 0.8924094077570193, -0.5904685993833743, 0.0552766009411597, 2.0386234968326233, -0.25921632958910207, 1.258045812592153, -0.08375681524517528, 0.2538557571671244, -0.9808152294413444, -0.6605595449516914, 0.4678417811418773, 0.012704562790264128, -0.49564194168079495, -2.135336493694956, 1.0892234105248118, -0.21360836380081863, -1.2613303261030369, 1.035530865770712, -2.2045106392997607, 0.06781027645605417, -0.45458982731005415, -0.3630801656225834, 0.657052299328566, 0.6815713140492817, -0.3897900022027989, -1.5049851594981454, 0.15542984351047032, -1.3532537632383819, 0.5421869087975931, -0.9224892806340775, 0.3513501900277581, -0.07555797465127363, -0.6736932749088854, 0.39738379048588646, -0.513421368766816, 0.13413567842431964, -0.41991144116608936, -0.7679773578512785, 0.09927167247266122, 0.2012677871419946, -0.1577219516692262, 1.1368320110964723, 0.387050190537693, 1.8464697724505594, 1.2655109411395482, 1.4951956376058737, -1.188969723957844, -1.4146526735965659, -0.33825855148940037, -0.6279954052839511, 0.23567593565933517, -1.0838590379437678, 0.48304949369169115, -0.9668849864757662, -1.916287177830883, -0.5987588134419914, -0.43167766267818847, 0.013125054891238325, -0.41132387441817775, -0.6243641075528994, -1.7040332454851073, 2.9207575651107422, 0.7338794324191147, 0.18321432885336975, 0.013204974415856777, -0.8640017165699477, 0.1359464985400466, 1.3093257097497903, -0.7779322939228172, -0.08474790121831398, 0.6161921263538989, 1.7975959989461179, 1.5136315138421899, -0.19724401324219779, 0.6253145261221091, 0.15313896089343393, 0.40401649761872777, 0.9651431109184552, 0.38881372859376023, -0.6800301885102675, 0.5101696045730842, -0.8924176361306555, 1.1597589320492567, -1.2091195603747213, -1.0211547747396779, -0.014112913171826398, 0.13757985259358255, 1.255842447019908, -0.30486794662000666, -0.07208922509598602, -0.28942993707462106, 1.6803990367619053, 0.42185433806988926, -0.36360146286425926, -0.3645471771058133, -0.8201607479181384, -0.20209701308029454, 0.39344700984968983], \"xaxis\": \"x12\", \"y\": [-0.15684046679247937, 0.0013828717725460275, -0.20717052487752494, -0.7206190182063845, 0.1586724861805863, 0.34911398085786866, -0.44956744070842763, 1.391230362803256, -0.46585330693668414, 2.375752738731807, 2.8013418024600076, -0.8922346367023012, -0.926846171443639, 1.3309078366225244, 0.1865029925576986, 0.3440165820448021, 2.0006673071046435, 2.1218335358455778, -1.0851681629427428, 0.036401360337058986, -0.7900458544606217, -0.4240780143001388, -0.23030482293717486, 0.49875171251720374, 2.813766329755358, 0.51816636356984, 0.6739908495930921, 0.9727277361803863, 1.7404161611034967, -1.052396263040642, 0.6507507419833379, -0.3300921789049227, -0.31312308122181687, -1.057779781449692, 0.5620379645886366, -0.6271297467319812, 0.7904803881217852, -0.460998677311609, -1.0011704250170772, -0.15164477527511522, 0.8641526804073327, -0.37518655065331746, 1.324477199089354, -1.3033235959487661, 0.5546707941496423, 0.0033896549462594018, 2.1165944224416005, 1.521280594969115, -0.687675505707438, -0.28642443104729887, 0.3519115913584386, 0.6065211681422118, -1.3550957258383545, -0.8850366659186174, -0.1993180820639049, 1.3426081981955984, -0.5434397045615473, -0.2632372324367694, 0.685903186648751, -0.18105477889980426, -0.24896203088279126, -0.22713275470744318, 0.5174468834197568, 0.8823079341631708, 1.2896006276980028, -0.34861199578961743, 2.6913746255706466, 1.0625561710492792, -0.661242484110436, -0.04914036281608619, -0.7900573785253736, -1.3699078137285237, 1.2106250200809991, 1.954255197101674, 0.8058253342193138, -1.192938271012122, -0.4177302008237818, 1.0272729885317131, -1.3244327715514042, -1.8162033125358932, 0.029861675707530972, 1.0681575098153913, 1.6727332730577504, 1.2032897688914128, 0.410352298190852, 1.1288481375445711, -1.206014819993071, -0.6803987372025606, 0.16928314305903994, 0.7653848749316945, -1.333754491270903, -0.578849785869674, 0.14091504799203886, -0.3101137020582831, -0.4458092234831239, -0.23501363415754506, -0.4824689949430698, 0.43215075292197663, -1.656409175252382, -1.57918209361295], \"yaxis\": \"y12\"}, {\"line\": {\"color\": \"rgba(128, 128, 128, 1.0)\", \"dash\": \"solid\", \"shape\": \"linear\", \"width\": 1.3}, \"marker\": {\"size\": 2, \"symbol\": \"circle\"}, \"mode\": \"markers\", \"name\": \"D\", \"text\": \"\", \"type\": \"scatter\", \"x\": [0.019430806383181284, 0.608603613411356, 0.07247562241777829, -0.9104428128373663, 1.3735657891542405, 0.07519673113819865, 0.06395658164671109, -1.6195694639137597, 0.7554966666743327, 0.45097740835769223, -0.10156324731745073, -0.4158522716260824, 0.9954541144280701, -0.48555200602878423, 1.490823288469039, -0.13194416978954118, -0.7528004178239888, -0.544262017467453, -1.437649785582203, 0.17187226223968824, -1.2375300092105108, 0.49278868970672296, -0.6361730509889744, -0.13764319117463106, 0.062410111597416565, -0.5187075611984749, -1.4102344376792062, -0.3572026445885095, -0.6376315054537319, -0.08196403616906862, 1.2918666744199032, 1.834095870683521, 1.028800443585434, 0.9937885884309238, -0.37089692485727643, -0.3412877759764047, 2.262481668740981, -0.2951852827270955, 1.1249926939573314, 0.5702750889136583, -0.7551453700363403, 1.0505410054870346, -2.1796411612126207, 1.4633293246578305, -0.9824685130984081, -0.8896242240185488, -0.15830524409511837, 0.8207907173546565, -1.1853010290819173, -0.04668477075582644, -0.4923965618308851, 1.347160076177271, 0.010843352382841287, 0.6173535522890893, -1.5062569479408272, 0.19394046597445944, -1.5703035237848442, -0.8017093258648721, -0.5420091277779893, 0.12398167085240544, 1.0336758962507486, 0.7370393163266648, 1.0215708043915677, -0.40016276626102376, 1.5133921798813612, 0.7624574546404679, 0.12204337931158848, 0.3878926000196656, -1.9858807909062057, 1.5619887939186559, 1.9262998520500085, 0.6179697050361458, -0.2637131372925625, -0.42894690745324804, 0.15220520963924042, 0.2171978777436021, -1.0019800436093944, -0.9082410683140086, -0.9323858380561356, -2.176514619233318, -2.041735481953146, 0.1900171138249872, 0.7957042354908531, -0.5964879028707374, -0.3146446170771317, -2.5337539168618295, -1.0869571144160752, 0.9013311410590518, -0.6131300774164766, 0.7959724948574082, -0.01817478619237521, 0.05015503961687754, 0.376814718222817, -1.548926641719814, 0.26002105343845394, -0.9509949673458841, -0.4274355159462603, 1.3031986142392404, -1.9640602579483455, -1.3617829420408287], \"xaxis\": \"x13\", \"y\": [2.2119370484889576, 0.2619538103571365, 0.8924094077570193, -0.5904685993833743, 0.0552766009411597, 2.0386234968326233, -0.25921632958910207, 1.258045812592153, -0.08375681524517528, 0.2538557571671244, -0.9808152294413444, -0.6605595449516914, 0.4678417811418773, 0.012704562790264128, -0.49564194168079495, -2.135336493694956, 1.0892234105248118, -0.21360836380081863, -1.2613303261030369, 1.035530865770712, -2.2045106392997607, 0.06781027645605417, -0.45458982731005415, -0.3630801656225834, 0.657052299328566, 0.6815713140492817, -0.3897900022027989, -1.5049851594981454, 0.15542984351047032, -1.3532537632383819, 0.5421869087975931, -0.9224892806340775, 0.3513501900277581, -0.07555797465127363, -0.6736932749088854, 0.39738379048588646, -0.513421368766816, 0.13413567842431964, -0.41991144116608936, -0.7679773578512785, 0.09927167247266122, 0.2012677871419946, -0.1577219516692262, 1.1368320110964723, 0.387050190537693, 1.8464697724505594, 1.2655109411395482, 1.4951956376058737, -1.188969723957844, -1.4146526735965659, -0.33825855148940037, -0.6279954052839511, 0.23567593565933517, -1.0838590379437678, 0.48304949369169115, -0.9668849864757662, -1.916287177830883, -0.5987588134419914, -0.43167766267818847, 0.013125054891238325, -0.41132387441817775, -0.6243641075528994, -1.7040332454851073, 2.9207575651107422, 0.7338794324191147, 0.18321432885336975, 0.013204974415856777, -0.8640017165699477, 0.1359464985400466, 1.3093257097497903, -0.7779322939228172, -0.08474790121831398, 0.6161921263538989, 1.7975959989461179, 1.5136315138421899, -0.19724401324219779, 0.6253145261221091, 0.15313896089343393, 0.40401649761872777, 0.9651431109184552, 0.38881372859376023, -0.6800301885102675, 0.5101696045730842, -0.8924176361306555, 1.1597589320492567, -1.2091195603747213, -1.0211547747396779, -0.014112913171826398, 0.13757985259358255, 1.255842447019908, -0.30486794662000666, -0.07208922509598602, -0.28942993707462106, 1.6803990367619053, 0.42185433806988926, -0.36360146286425926, -0.3645471771058133, -0.8201607479181384, -0.20209701308029454, 0.39344700984968983], \"yaxis\": \"y13\"}, {\"line\": {\"color\": \"rgba(128, 128, 128, 1.0)\", \"dash\": \"solid\", \"shape\": \"linear\", \"width\": 1.3}, \"marker\": {\"size\": 2, \"symbol\": \"circle\"}, \"mode\": \"markers\", \"name\": \"D\", \"text\": \"\", \"type\": \"scatter\", \"x\": [0.23590897280929557, -0.5853191060130026, 0.45041649477698203, -1.4844634650877961, -0.7010019866089757, -1.7713343221822186, 0.3564783560049668, 1.1031620019724644, -0.534524659790858, 1.55516579284802, 0.9245808085412286, 1.3620636205948855, 0.6460233039467143, -1.3287700621303378, 2.113243524617769, -0.7039904787447651, 0.957708167234452, 0.38668960727077833, 1.0905405017303815, -0.15907806493007792, -0.05398389231091074, -0.5336742283108098, 0.3824419930821319, 0.7419908764060871, -0.4140242561179745, 0.2759136081174468, 0.8482704917519138, 2.0059405381970254, -1.3246650717679416, -0.5065540149600787, -0.6936235230043091, -0.19441117112133538, 0.887480460290256, -1.5166569531417406, -0.7190624137948296, 0.4102288680484326, -0.7379062568928512, -0.38612979211456566, -0.9814499423449278, -0.4359275292528566, -0.12292181575473174, 1.9056738072959156, -1.836401325717276, -2.792474660611752, -0.9083337804822073, 2.782345891898233, 0.2381865299508034, 0.9647682007237843, -1.1734425707908456, -1.9609962976837447, 1.904270892330739, -0.10400697771863725, 0.9179842824151149, 0.16380229188572826, -0.02490709779441639, -0.20790133058482613, 0.5399698264563033, -0.9674437863175008, 0.943420239562524, 0.1561027975165673, -1.6553424385101994, 0.8709325231705167, 1.3197016755016702, -2.287162353986225, 0.552534163797248, -2.9316789514534003, -1.413578565746748, 0.3066964640228571, -0.8862210615838182, 2.2245689170171943, -0.5073138082557282, 2.295896889626357, 0.03791532397259017, -0.27422129122939853, 0.12873175025274455, 0.4837720574093124, -0.29738246943237895, -0.0988932565886435, -1.3368837027277733, 0.07779215851650331, -2.1254522743271664, -0.35883373446418565, 0.008131872263935342, 1.3898536362783147, 1.010414278850495, -0.1442294615435738, 0.9808125838800891, -0.4968630660898616, -1.778081760893912, -0.12516367093881087, 0.06968580548842876, -0.7992199722691573, 0.217143175038511, 0.31265034609776243, 0.3134863468368505, 0.7484128321632029, -0.44746867845204136, -1.5837350747526953, -0.5834240333463931, -1.522918964431989], \"xaxis\": \"x14\", \"y\": [2.2119370484889576, 0.2619538103571365, 0.8924094077570193, -0.5904685993833743, 0.0552766009411597, 2.0386234968326233, -0.25921632958910207, 1.258045812592153, -0.08375681524517528, 0.2538557571671244, -0.9808152294413444, -0.6605595449516914, 0.4678417811418773, 0.012704562790264128, -0.49564194168079495, -2.135336493694956, 1.0892234105248118, -0.21360836380081863, -1.2613303261030369, 1.035530865770712, -2.2045106392997607, 0.06781027645605417, -0.45458982731005415, -0.3630801656225834, 0.657052299328566, 0.6815713140492817, -0.3897900022027989, -1.5049851594981454, 0.15542984351047032, -1.3532537632383819, 0.5421869087975931, -0.9224892806340775, 0.3513501900277581, -0.07555797465127363, -0.6736932749088854, 0.39738379048588646, -0.513421368766816, 0.13413567842431964, -0.41991144116608936, -0.7679773578512785, 0.09927167247266122, 0.2012677871419946, -0.1577219516692262, 1.1368320110964723, 0.387050190537693, 1.8464697724505594, 1.2655109411395482, 1.4951956376058737, -1.188969723957844, -1.4146526735965659, -0.33825855148940037, -0.6279954052839511, 0.23567593565933517, -1.0838590379437678, 0.48304949369169115, -0.9668849864757662, -1.916287177830883, -0.5987588134419914, -0.43167766267818847, 0.013125054891238325, -0.41132387441817775, -0.6243641075528994, -1.7040332454851073, 2.9207575651107422, 0.7338794324191147, 0.18321432885336975, 0.013204974415856777, -0.8640017165699477, 0.1359464985400466, 1.3093257097497903, -0.7779322939228172, -0.08474790121831398, 0.6161921263538989, 1.7975959989461179, 1.5136315138421899, -0.19724401324219779, 0.6253145261221091, 0.15313896089343393, 0.40401649761872777, 0.9651431109184552, 0.38881372859376023, -0.6800301885102675, 0.5101696045730842, -0.8924176361306555, 1.1597589320492567, -1.2091195603747213, -1.0211547747396779, -0.014112913171826398, 0.13757985259358255, 1.255842447019908, -0.30486794662000666, -0.07208922509598602, -0.28942993707462106, 1.6803990367619053, 0.42185433806988926, -0.36360146286425926, -0.3645471771058133, -0.8201607479181384, -0.20209701308029454, 0.39344700984968983], \"yaxis\": \"y14\"}, {\"line\": {\"color\": \"rgba(128, 128, 128, 1.0)\", \"dash\": \"solid\", \"shape\": \"linear\", \"width\": 1.3}, \"marker\": {\"size\": 2, \"symbol\": \"circle\"}, \"mode\": \"markers\", \"name\": \"D\", \"text\": \"\", \"type\": \"scatter\", \"x\": [-0.15684046679247937, 0.0013828717725460275, -0.20717052487752494, -0.7206190182063845, 0.1586724861805863, 0.34911398085786866, -0.44956744070842763, 1.391230362803256, -0.46585330693668414, 2.375752738731807, 2.8013418024600076, -0.8922346367023012, -0.926846171443639, 1.3309078366225244, 0.1865029925576986, 0.3440165820448021, 2.0006673071046435, 2.1218335358455778, -1.0851681629427428, 0.036401360337058986, -0.7900458544606217, -0.4240780143001388, -0.23030482293717486, 0.49875171251720374, 2.813766329755358, 0.51816636356984, 0.6739908495930921, 0.9727277361803863, 1.7404161611034967, -1.052396263040642, 0.6507507419833379, -0.3300921789049227, -0.31312308122181687, -1.057779781449692, 0.5620379645886366, -0.6271297467319812, 0.7904803881217852, -0.460998677311609, -1.0011704250170772, -0.15164477527511522, 0.8641526804073327, -0.37518655065331746, 1.324477199089354, -1.3033235959487661, 0.5546707941496423, 0.0033896549462594018, 2.1165944224416005, 1.521280594969115, -0.687675505707438, -0.28642443104729887, 0.3519115913584386, 0.6065211681422118, -1.3550957258383545, -0.8850366659186174, -0.1993180820639049, 1.3426081981955984, -0.5434397045615473, -0.2632372324367694, 0.685903186648751, -0.18105477889980426, -0.24896203088279126, -0.22713275470744318, 0.5174468834197568, 0.8823079341631708, 1.2896006276980028, -0.34861199578961743, 2.6913746255706466, 1.0625561710492792, -0.661242484110436, -0.04914036281608619, -0.7900573785253736, -1.3699078137285237, 1.2106250200809991, 1.954255197101674, 0.8058253342193138, -1.192938271012122, -0.4177302008237818, 1.0272729885317131, -1.3244327715514042, -1.8162033125358932, 0.029861675707530972, 1.0681575098153913, 1.6727332730577504, 1.2032897688914128, 0.410352298190852, 1.1288481375445711, -1.206014819993071, -0.6803987372025606, 0.16928314305903994, 0.7653848749316945, -1.333754491270903, -0.578849785869674, 0.14091504799203886, -0.3101137020582831, -0.4458092234831239, -0.23501363415754506, -0.4824689949430698, 0.43215075292197663, -1.656409175252382, -1.57918209361295], \"xaxis\": \"x15\", \"y\": [2.2119370484889576, 0.2619538103571365, 0.8924094077570193, -0.5904685993833743, 0.0552766009411597, 2.0386234968326233, -0.25921632958910207, 1.258045812592153, -0.08375681524517528, 0.2538557571671244, -0.9808152294413444, -0.6605595449516914, 0.4678417811418773, 0.012704562790264128, -0.49564194168079495, -2.135336493694956, 1.0892234105248118, -0.21360836380081863, -1.2613303261030369, 1.035530865770712, -2.2045106392997607, 0.06781027645605417, -0.45458982731005415, -0.3630801656225834, 0.657052299328566, 0.6815713140492817, -0.3897900022027989, -1.5049851594981454, 0.15542984351047032, -1.3532537632383819, 0.5421869087975931, -0.9224892806340775, 0.3513501900277581, -0.07555797465127363, -0.6736932749088854, 0.39738379048588646, -0.513421368766816, 0.13413567842431964, -0.41991144116608936, -0.7679773578512785, 0.09927167247266122, 0.2012677871419946, -0.1577219516692262, 1.1368320110964723, 0.387050190537693, 1.8464697724505594, 1.2655109411395482, 1.4951956376058737, -1.188969723957844, -1.4146526735965659, -0.33825855148940037, -0.6279954052839511, 0.23567593565933517, -1.0838590379437678, 0.48304949369169115, -0.9668849864757662, -1.916287177830883, -0.5987588134419914, -0.43167766267818847, 0.013125054891238325, -0.41132387441817775, -0.6243641075528994, -1.7040332454851073, 2.9207575651107422, 0.7338794324191147, 0.18321432885336975, 0.013204974415856777, -0.8640017165699477, 0.1359464985400466, 1.3093257097497903, -0.7779322939228172, -0.08474790121831398, 0.6161921263538989, 1.7975959989461179, 1.5136315138421899, -0.19724401324219779, 0.6253145261221091, 0.15313896089343393, 0.40401649761872777, 0.9651431109184552, 0.38881372859376023, -0.6800301885102675, 0.5101696045730842, -0.8924176361306555, 1.1597589320492567, -1.2091195603747213, -1.0211547747396779, -0.014112913171826398, 0.13757985259358255, 1.255842447019908, -0.30486794662000666, -0.07208922509598602, -0.28942993707462106, 1.6803990367619053, 0.42185433806988926, -0.36360146286425926, -0.3645471771058133, -0.8201607479181384, -0.20209701308029454, 0.39344700984968983], \"yaxis\": \"y15\"}, {\"histfunc\": \"count\", \"histnorm\": \"\", \"marker\": {\"color\": \"rgba(128, 0, 128, 1.0)\", \"line\": {\"color\": \"#4D5663\", \"width\": 1.3}}, \"name\": \"D\", \"nbinsx\": 10, \"opacity\": 0.8, \"orientation\": \"v\", \"type\": \"histogram\", \"x\": [2.2119370484889576, 0.2619538103571365, 0.8924094077570193, -0.5904685993833743, 0.0552766009411597, 2.0386234968326233, -0.25921632958910207, 1.258045812592153, -0.08375681524517528, 0.2538557571671244, -0.9808152294413444, -0.6605595449516914, 0.4678417811418773, 0.012704562790264128, -0.49564194168079495, -2.135336493694956, 1.0892234105248118, -0.21360836380081863, -1.2613303261030369, 1.035530865770712, -2.2045106392997607, 0.06781027645605417, -0.45458982731005415, -0.3630801656225834, 0.657052299328566, 0.6815713140492817, -0.3897900022027989, -1.5049851594981454, 0.15542984351047032, -1.3532537632383819, 0.5421869087975931, -0.9224892806340775, 0.3513501900277581, -0.07555797465127363, -0.6736932749088854, 0.39738379048588646, -0.513421368766816, 0.13413567842431964, -0.41991144116608936, -0.7679773578512785, 0.09927167247266122, 0.2012677871419946, -0.1577219516692262, 1.1368320110964723, 0.387050190537693, 1.8464697724505594, 1.2655109411395482, 1.4951956376058737, -1.188969723957844, -1.4146526735965659, -0.33825855148940037, -0.6279954052839511, 0.23567593565933517, -1.0838590379437678, 0.48304949369169115, -0.9668849864757662, -1.916287177830883, -0.5987588134419914, -0.43167766267818847, 0.013125054891238325, -0.41132387441817775, -0.6243641075528994, -1.7040332454851073, 2.9207575651107422, 0.7338794324191147, 0.18321432885336975, 0.013204974415856777, -0.8640017165699477, 0.1359464985400466, 1.3093257097497903, -0.7779322939228172, -0.08474790121831398, 0.6161921263538989, 1.7975959989461179, 1.5136315138421899, -0.19724401324219779, 0.6253145261221091, 0.15313896089343393, 0.40401649761872777, 0.9651431109184552, 0.38881372859376023, -0.6800301885102675, 0.5101696045730842, -0.8924176361306555, 1.1597589320492567, -1.2091195603747213, -1.0211547747396779, -0.014112913171826398, 0.13757985259358255, 1.255842447019908, -0.30486794662000666, -0.07208922509598602, -0.28942993707462106, 1.6803990367619053, 0.42185433806988926, -0.36360146286425926, -0.3645471771058133, -0.8201607479181384, -0.20209701308029454, 0.39344700984968983], \"xaxis\": \"x16\", \"yaxis\": \"y16\"}],                        {\"bargap\": 0.02, \"legend\": {\"bgcolor\": \"#F5F6F9\", \"font\": {\"color\": \"#4D5663\"}}, \"paper_bgcolor\": \"#F5F6F9\", \"plot_bgcolor\": \"#F5F6F9\", \"showlegend\": false, \"template\": {\"data\": {\"bar\": [{\"error_x\": {\"color\": \"#2a3f5f\"}, \"error_y\": {\"color\": \"#2a3f5f\"}, \"marker\": {\"line\": {\"color\": \"#E5ECF6\", \"width\": 0.5}}, \"type\": \"bar\"}], \"barpolar\": [{\"marker\": {\"line\": {\"color\": \"#E5ECF6\", \"width\": 0.5}}, \"type\": \"barpolar\"}], \"carpet\": [{\"aaxis\": {\"endlinecolor\": \"#2a3f5f\", \"gridcolor\": \"white\", \"linecolor\": \"white\", \"minorgridcolor\": \"white\", \"startlinecolor\": \"#2a3f5f\"}, \"baxis\": {\"endlinecolor\": \"#2a3f5f\", \"gridcolor\": \"white\", \"linecolor\": \"white\", \"minorgridcolor\": \"white\", \"startlinecolor\": \"#2a3f5f\"}, \"type\": \"carpet\"}], \"choropleth\": [{\"colorbar\": {\"outlinewidth\": 0, \"ticks\": \"\"}, \"type\": \"choropleth\"}], \"contour\": [{\"colorbar\": {\"outlinewidth\": 0, \"ticks\": \"\"}, \"colorscale\": [[0.0, \"#0d0887\"], [0.1111111111111111, \"#46039f\"], [0.2222222222222222, \"#7201a8\"], [0.3333333333333333, \"#9c179e\"], [0.4444444444444444, \"#bd3786\"], [0.5555555555555556, \"#d8576b\"], [0.6666666666666666, \"#ed7953\"], [0.7777777777777778, \"#fb9f3a\"], [0.8888888888888888, \"#fdca26\"], [1.0, \"#f0f921\"]], \"type\": \"contour\"}], \"contourcarpet\": [{\"colorbar\": {\"outlinewidth\": 0, \"ticks\": \"\"}, \"type\": \"contourcarpet\"}], \"heatmap\": [{\"colorbar\": {\"outlinewidth\": 0, \"ticks\": \"\"}, \"colorscale\": [[0.0, \"#0d0887\"], [0.1111111111111111, \"#46039f\"], [0.2222222222222222, \"#7201a8\"], [0.3333333333333333, \"#9c179e\"], [0.4444444444444444, \"#bd3786\"], [0.5555555555555556, \"#d8576b\"], [0.6666666666666666, \"#ed7953\"], [0.7777777777777778, \"#fb9f3a\"], [0.8888888888888888, \"#fdca26\"], [1.0, \"#f0f921\"]], \"type\": \"heatmap\"}], \"heatmapgl\": [{\"colorbar\": {\"outlinewidth\": 0, \"ticks\": \"\"}, \"colorscale\": [[0.0, \"#0d0887\"], [0.1111111111111111, \"#46039f\"], [0.2222222222222222, \"#7201a8\"], [0.3333333333333333, \"#9c179e\"], [0.4444444444444444, \"#bd3786\"], [0.5555555555555556, \"#d8576b\"], [0.6666666666666666, \"#ed7953\"], [0.7777777777777778, \"#fb9f3a\"], [0.8888888888888888, \"#fdca26\"], [1.0, \"#f0f921\"]], \"type\": \"heatmapgl\"}], \"histogram\": [{\"marker\": {\"colorbar\": {\"outlinewidth\": 0, \"ticks\": \"\"}}, \"type\": \"histogram\"}], \"histogram2d\": [{\"colorbar\": {\"outlinewidth\": 0, \"ticks\": \"\"}, \"colorscale\": [[0.0, \"#0d0887\"], [0.1111111111111111, \"#46039f\"], [0.2222222222222222, \"#7201a8\"], [0.3333333333333333, \"#9c179e\"], [0.4444444444444444, \"#bd3786\"], [0.5555555555555556, \"#d8576b\"], [0.6666666666666666, \"#ed7953\"], [0.7777777777777778, \"#fb9f3a\"], [0.8888888888888888, \"#fdca26\"], [1.0, \"#f0f921\"]], \"type\": \"histogram2d\"}], \"histogram2dcontour\": [{\"colorbar\": {\"outlinewidth\": 0, \"ticks\": \"\"}, \"colorscale\": [[0.0, \"#0d0887\"], [0.1111111111111111, \"#46039f\"], [0.2222222222222222, \"#7201a8\"], [0.3333333333333333, \"#9c179e\"], [0.4444444444444444, \"#bd3786\"], [0.5555555555555556, \"#d8576b\"], [0.6666666666666666, \"#ed7953\"], [0.7777777777777778, \"#fb9f3a\"], [0.8888888888888888, \"#fdca26\"], [1.0, \"#f0f921\"]], \"type\": \"histogram2dcontour\"}], \"mesh3d\": [{\"colorbar\": {\"outlinewidth\": 0, \"ticks\": \"\"}, \"type\": \"mesh3d\"}], \"parcoords\": [{\"line\": {\"colorbar\": {\"outlinewidth\": 0, \"ticks\": \"\"}}, \"type\": \"parcoords\"}], \"pie\": [{\"automargin\": true, \"type\": \"pie\"}], \"scatter\": [{\"marker\": {\"colorbar\": {\"outlinewidth\": 0, \"ticks\": \"\"}}, \"type\": \"scatter\"}], \"scatter3d\": [{\"line\": {\"colorbar\": {\"outlinewidth\": 0, \"ticks\": \"\"}}, \"marker\": {\"colorbar\": {\"outlinewidth\": 0, \"ticks\": \"\"}}, \"type\": \"scatter3d\"}], \"scattercarpet\": [{\"marker\": {\"colorbar\": {\"outlinewidth\": 0, \"ticks\": \"\"}}, \"type\": \"scattercarpet\"}], \"scattergeo\": [{\"marker\": {\"colorbar\": {\"outlinewidth\": 0, \"ticks\": \"\"}}, \"type\": \"scattergeo\"}], \"scattergl\": [{\"marker\": {\"colorbar\": {\"outlinewidth\": 0, \"ticks\": \"\"}}, \"type\": \"scattergl\"}], \"scattermapbox\": [{\"marker\": {\"colorbar\": {\"outlinewidth\": 0, \"ticks\": \"\"}}, \"type\": \"scattermapbox\"}], \"scatterpolar\": [{\"marker\": {\"colorbar\": {\"outlinewidth\": 0, \"ticks\": \"\"}}, \"type\": \"scatterpolar\"}], \"scatterpolargl\": [{\"marker\": {\"colorbar\": {\"outlinewidth\": 0, \"ticks\": \"\"}}, \"type\": \"scatterpolargl\"}], \"scatterternary\": [{\"marker\": {\"colorbar\": {\"outlinewidth\": 0, \"ticks\": \"\"}}, \"type\": \"scatterternary\"}], \"surface\": [{\"colorbar\": {\"outlinewidth\": 0, \"ticks\": \"\"}, \"colorscale\": [[0.0, \"#0d0887\"], [0.1111111111111111, \"#46039f\"], [0.2222222222222222, \"#7201a8\"], [0.3333333333333333, \"#9c179e\"], [0.4444444444444444, \"#bd3786\"], [0.5555555555555556, \"#d8576b\"], [0.6666666666666666, \"#ed7953\"], [0.7777777777777778, \"#fb9f3a\"], [0.8888888888888888, \"#fdca26\"], [1.0, \"#f0f921\"]], \"type\": \"surface\"}], \"table\": [{\"cells\": {\"fill\": {\"color\": \"#EBF0F8\"}, \"line\": {\"color\": \"white\"}}, \"header\": {\"fill\": {\"color\": \"#C8D4E3\"}, \"line\": {\"color\": \"white\"}}, \"type\": \"table\"}]}, \"layout\": {\"annotationdefaults\": {\"arrowcolor\": \"#2a3f5f\", \"arrowhead\": 0, \"arrowwidth\": 1}, \"coloraxis\": {\"colorbar\": {\"outlinewidth\": 0, \"ticks\": \"\"}}, \"colorscale\": {\"diverging\": [[0, \"#8e0152\"], [0.1, \"#c51b7d\"], [0.2, \"#de77ae\"], [0.3, \"#f1b6da\"], [0.4, \"#fde0ef\"], [0.5, \"#f7f7f7\"], [0.6, \"#e6f5d0\"], [0.7, \"#b8e186\"], [0.8, \"#7fbc41\"], [0.9, \"#4d9221\"], [1, \"#276419\"]], \"sequential\": [[0.0, \"#0d0887\"], [0.1111111111111111, \"#46039f\"], [0.2222222222222222, \"#7201a8\"], [0.3333333333333333, \"#9c179e\"], [0.4444444444444444, \"#bd3786\"], [0.5555555555555556, \"#d8576b\"], [0.6666666666666666, \"#ed7953\"], [0.7777777777777778, \"#fb9f3a\"], [0.8888888888888888, \"#fdca26\"], [1.0, \"#f0f921\"]], \"sequentialminus\": [[0.0, \"#0d0887\"], [0.1111111111111111, \"#46039f\"], [0.2222222222222222, \"#7201a8\"], [0.3333333333333333, \"#9c179e\"], [0.4444444444444444, \"#bd3786\"], [0.5555555555555556, \"#d8576b\"], [0.6666666666666666, \"#ed7953\"], [0.7777777777777778, \"#fb9f3a\"], [0.8888888888888888, \"#fdca26\"], [1.0, \"#f0f921\"]]}, \"colorway\": [\"#636efa\", \"#EF553B\", \"#00cc96\", \"#ab63fa\", \"#FFA15A\", \"#19d3f3\", \"#FF6692\", \"#B6E880\", \"#FF97FF\", \"#FECB52\"], \"font\": {\"color\": \"#2a3f5f\"}, \"geo\": {\"bgcolor\": \"white\", \"lakecolor\": \"white\", \"landcolor\": \"#E5ECF6\", \"showlakes\": true, \"showland\": true, \"subunitcolor\": \"white\"}, \"hoverlabel\": {\"align\": \"left\"}, \"hovermode\": \"closest\", \"mapbox\": {\"style\": \"light\"}, \"paper_bgcolor\": \"white\", \"plot_bgcolor\": \"#E5ECF6\", \"polar\": {\"angularaxis\": {\"gridcolor\": \"white\", \"linecolor\": \"white\", \"ticks\": \"\"}, \"bgcolor\": \"#E5ECF6\", \"radialaxis\": {\"gridcolor\": \"white\", \"linecolor\": \"white\", \"ticks\": \"\"}}, \"scene\": {\"xaxis\": {\"backgroundcolor\": \"#E5ECF6\", \"gridcolor\": \"white\", \"gridwidth\": 2, \"linecolor\": \"white\", \"showbackground\": true, \"ticks\": \"\", \"zerolinecolor\": \"white\"}, \"yaxis\": {\"backgroundcolor\": \"#E5ECF6\", \"gridcolor\": \"white\", \"gridwidth\": 2, \"linecolor\": \"white\", \"showbackground\": true, \"ticks\": \"\", \"zerolinecolor\": \"white\"}, \"zaxis\": {\"backgroundcolor\": \"#E5ECF6\", \"gridcolor\": \"white\", \"gridwidth\": 2, \"linecolor\": \"white\", \"showbackground\": true, \"ticks\": \"\", \"zerolinecolor\": \"white\"}}, \"shapedefaults\": {\"line\": {\"color\": \"#2a3f5f\"}}, \"ternary\": {\"aaxis\": {\"gridcolor\": \"white\", \"linecolor\": \"white\", \"ticks\": \"\"}, \"baxis\": {\"gridcolor\": \"white\", \"linecolor\": \"white\", \"ticks\": \"\"}, \"bgcolor\": \"#E5ECF6\", \"caxis\": {\"gridcolor\": \"white\", \"linecolor\": \"white\", \"ticks\": \"\"}}, \"title\": {\"x\": 0.05}, \"xaxis\": {\"automargin\": true, \"gridcolor\": \"white\", \"linecolor\": \"white\", \"ticks\": \"\", \"title\": {\"standoff\": 15}, \"zerolinecolor\": \"white\", \"zerolinewidth\": 2}, \"yaxis\": {\"automargin\": true, \"gridcolor\": \"white\", \"linecolor\": \"white\", \"ticks\": \"\", \"title\": {\"standoff\": 15}, \"zerolinecolor\": \"white\", \"zerolinewidth\": 2}}}, \"title\": {\"font\": {\"color\": \"#4D5663\"}}, \"xaxis\": {\"anchor\": \"y\", \"domain\": [0.0, 0.2125], \"gridcolor\": \"#E1E5ED\", \"showgrid\": false, \"tickfont\": {\"color\": \"#4D5663\"}, \"title\": {\"font\": {\"color\": \"#4D5663\"}, \"text\": \"\"}, \"zerolinecolor\": \"#E1E5ED\"}, \"xaxis10\": {\"anchor\": \"y10\", \"domain\": [0.2625, 0.475], \"gridcolor\": \"#E1E5ED\", \"showgrid\": false, \"tickfont\": {\"color\": \"#4D5663\"}, \"title\": {\"font\": {\"color\": \"#4D5663\"}, \"text\": \"\"}, \"zerolinecolor\": \"#E1E5ED\"}, \"xaxis11\": {\"anchor\": \"y11\", \"domain\": [0.525, 0.7375], \"gridcolor\": \"#E1E5ED\", \"showgrid\": false, \"tickfont\": {\"color\": \"#4D5663\"}, \"title\": {\"font\": {\"color\": \"#4D5663\"}, \"text\": \"\"}, \"zerolinecolor\": \"#E1E5ED\"}, \"xaxis12\": {\"anchor\": \"y12\", \"domain\": [0.7875, 1.0], \"gridcolor\": \"#E1E5ED\", \"showgrid\": false, \"tickfont\": {\"color\": \"#4D5663\"}, \"title\": {\"font\": {\"color\": \"#4D5663\"}, \"text\": \"\"}, \"zerolinecolor\": \"#E1E5ED\"}, \"xaxis13\": {\"anchor\": \"y13\", \"domain\": [0.0, 0.2125], \"gridcolor\": \"#E1E5ED\", \"showgrid\": false, \"tickfont\": {\"color\": \"#4D5663\"}, \"title\": {\"font\": {\"color\": \"#4D5663\"}, \"text\": \"\"}, \"zerolinecolor\": \"#E1E5ED\"}, \"xaxis14\": {\"anchor\": \"y14\", \"domain\": [0.2625, 0.475], \"gridcolor\": \"#E1E5ED\", \"showgrid\": false, \"tickfont\": {\"color\": \"#4D5663\"}, \"title\": {\"font\": {\"color\": \"#4D5663\"}, \"text\": \"\"}, \"zerolinecolor\": \"#E1E5ED\"}, \"xaxis15\": {\"anchor\": \"y15\", \"domain\": [0.525, 0.7375], \"gridcolor\": \"#E1E5ED\", \"showgrid\": false, \"tickfont\": {\"color\": \"#4D5663\"}, \"title\": {\"font\": {\"color\": \"#4D5663\"}, \"text\": \"\"}, \"zerolinecolor\": \"#E1E5ED\"}, \"xaxis16\": {\"anchor\": \"y16\", \"domain\": [0.7875, 1.0], \"gridcolor\": \"#E1E5ED\", \"showgrid\": false, \"tickfont\": {\"color\": \"#4D5663\"}, \"title\": {\"font\": {\"color\": \"#4D5663\"}, \"text\": \"\"}, \"zerolinecolor\": \"#E1E5ED\"}, \"xaxis2\": {\"anchor\": \"y2\", \"domain\": [0.2625, 0.475], \"gridcolor\": \"#E1E5ED\", \"showgrid\": false, \"tickfont\": {\"color\": \"#4D5663\"}, \"title\": {\"font\": {\"color\": \"#4D5663\"}, \"text\": \"\"}, \"zerolinecolor\": \"#E1E5ED\"}, \"xaxis3\": {\"anchor\": \"y3\", \"domain\": [0.525, 0.7375], \"gridcolor\": \"#E1E5ED\", \"showgrid\": false, \"tickfont\": {\"color\": \"#4D5663\"}, \"title\": {\"font\": {\"color\": \"#4D5663\"}, \"text\": \"\"}, \"zerolinecolor\": \"#E1E5ED\"}, \"xaxis4\": {\"anchor\": \"y4\", \"domain\": [0.7875, 1.0], \"gridcolor\": \"#E1E5ED\", \"showgrid\": false, \"tickfont\": {\"color\": \"#4D5663\"}, \"title\": {\"font\": {\"color\": \"#4D5663\"}, \"text\": \"\"}, \"zerolinecolor\": \"#E1E5ED\"}, \"xaxis5\": {\"anchor\": \"y5\", \"domain\": [0.0, 0.2125], \"gridcolor\": \"#E1E5ED\", \"showgrid\": false, \"tickfont\": {\"color\": \"#4D5663\"}, \"title\": {\"font\": {\"color\": \"#4D5663\"}, \"text\": \"\"}, \"zerolinecolor\": \"#E1E5ED\"}, \"xaxis6\": {\"anchor\": \"y6\", \"domain\": [0.2625, 0.475], \"gridcolor\": \"#E1E5ED\", \"showgrid\": false, \"tickfont\": {\"color\": \"#4D5663\"}, \"title\": {\"font\": {\"color\": \"#4D5663\"}, \"text\": \"\"}, \"zerolinecolor\": \"#E1E5ED\"}, \"xaxis7\": {\"anchor\": \"y7\", \"domain\": [0.525, 0.7375], \"gridcolor\": \"#E1E5ED\", \"showgrid\": false, \"tickfont\": {\"color\": \"#4D5663\"}, \"title\": {\"font\": {\"color\": \"#4D5663\"}, \"text\": \"\"}, \"zerolinecolor\": \"#E1E5ED\"}, \"xaxis8\": {\"anchor\": \"y8\", \"domain\": [0.7875, 1.0], \"gridcolor\": \"#E1E5ED\", \"showgrid\": false, \"tickfont\": {\"color\": \"#4D5663\"}, \"title\": {\"font\": {\"color\": \"#4D5663\"}, \"text\": \"\"}, \"zerolinecolor\": \"#E1E5ED\"}, \"xaxis9\": {\"anchor\": \"y9\", \"domain\": [0.0, 0.2125], \"gridcolor\": \"#E1E5ED\", \"showgrid\": false, \"tickfont\": {\"color\": \"#4D5663\"}, \"title\": {\"font\": {\"color\": \"#4D5663\"}, \"text\": \"\"}, \"zerolinecolor\": \"#E1E5ED\"}, \"yaxis\": {\"anchor\": \"x\", \"domain\": [0.8025, 1.0], \"gridcolor\": \"#E1E5ED\", \"showgrid\": false, \"tickfont\": {\"color\": \"#4D5663\"}, \"title\": {\"font\": {\"color\": \"#4D5663\"}, \"text\": \"\"}, \"zerolinecolor\": \"#E1E5ED\"}, \"yaxis10\": {\"anchor\": \"x10\", \"domain\": [0.2675, 0.465], \"gridcolor\": \"#E1E5ED\", \"showgrid\": false, \"tickfont\": {\"color\": \"#4D5663\"}, \"title\": {\"font\": {\"color\": \"#4D5663\"}, \"text\": \"\"}, \"zerolinecolor\": \"#E1E5ED\"}, \"yaxis11\": {\"anchor\": \"x11\", \"domain\": [0.2675, 0.465], \"gridcolor\": \"#E1E5ED\", \"showgrid\": false, \"tickfont\": {\"color\": \"#4D5663\"}, \"title\": {\"font\": {\"color\": \"#4D5663\"}, \"text\": \"\"}, \"zerolinecolor\": \"#E1E5ED\"}, \"yaxis12\": {\"anchor\": \"x12\", \"domain\": [0.2675, 0.465], \"gridcolor\": \"#E1E5ED\", \"showgrid\": false, \"tickfont\": {\"color\": \"#4D5663\"}, \"title\": {\"font\": {\"color\": \"#4D5663\"}, \"text\": \"\"}, \"zerolinecolor\": \"#E1E5ED\"}, \"yaxis13\": {\"anchor\": \"x13\", \"domain\": [0.0, 0.1975], \"gridcolor\": \"#E1E5ED\", \"showgrid\": false, \"tickfont\": {\"color\": \"#4D5663\"}, \"title\": {\"font\": {\"color\": \"#4D5663\"}, \"text\": \"\"}, \"zerolinecolor\": \"#E1E5ED\"}, \"yaxis14\": {\"anchor\": \"x14\", \"domain\": [0.0, 0.1975], \"gridcolor\": \"#E1E5ED\", \"showgrid\": false, \"tickfont\": {\"color\": \"#4D5663\"}, \"title\": {\"font\": {\"color\": \"#4D5663\"}, \"text\": \"\"}, \"zerolinecolor\": \"#E1E5ED\"}, \"yaxis15\": {\"anchor\": \"x15\", \"domain\": [0.0, 0.1975], \"gridcolor\": \"#E1E5ED\", \"showgrid\": false, \"tickfont\": {\"color\": \"#4D5663\"}, \"title\": {\"font\": {\"color\": \"#4D5663\"}, \"text\": \"\"}, \"zerolinecolor\": \"#E1E5ED\"}, \"yaxis16\": {\"anchor\": \"x16\", \"domain\": [0.0, 0.1975], \"gridcolor\": \"#E1E5ED\", \"showgrid\": false, \"tickfont\": {\"color\": \"#4D5663\"}, \"title\": {\"font\": {\"color\": \"#4D5663\"}, \"text\": \"\"}, \"zerolinecolor\": \"#E1E5ED\"}, \"yaxis2\": {\"anchor\": \"x2\", \"domain\": [0.8025, 1.0], \"gridcolor\": \"#E1E5ED\", \"showgrid\": false, \"tickfont\": {\"color\": \"#4D5663\"}, \"title\": {\"font\": {\"color\": \"#4D5663\"}, \"text\": \"\"}, \"zerolinecolor\": \"#E1E5ED\"}, \"yaxis3\": {\"anchor\": \"x3\", \"domain\": [0.8025, 1.0], \"gridcolor\": \"#E1E5ED\", \"showgrid\": false, \"tickfont\": {\"color\": \"#4D5663\"}, \"title\": {\"font\": {\"color\": \"#4D5663\"}, \"text\": \"\"}, \"zerolinecolor\": \"#E1E5ED\"}, \"yaxis4\": {\"anchor\": \"x4\", \"domain\": [0.8025, 1.0], \"gridcolor\": \"#E1E5ED\", \"showgrid\": false, \"tickfont\": {\"color\": \"#4D5663\"}, \"title\": {\"font\": {\"color\": \"#4D5663\"}, \"text\": \"\"}, \"zerolinecolor\": \"#E1E5ED\"}, \"yaxis5\": {\"anchor\": \"x5\", \"domain\": [0.535, 0.7325], \"gridcolor\": \"#E1E5ED\", \"showgrid\": false, \"tickfont\": {\"color\": \"#4D5663\"}, \"title\": {\"font\": {\"color\": \"#4D5663\"}, \"text\": \"\"}, \"zerolinecolor\": \"#E1E5ED\"}, \"yaxis6\": {\"anchor\": \"x6\", \"domain\": [0.535, 0.7325], \"gridcolor\": \"#E1E5ED\", \"showgrid\": false, \"tickfont\": {\"color\": \"#4D5663\"}, \"title\": {\"font\": {\"color\": \"#4D5663\"}, \"text\": \"\"}, \"zerolinecolor\": \"#E1E5ED\"}, \"yaxis7\": {\"anchor\": \"x7\", \"domain\": [0.535, 0.7325], \"gridcolor\": \"#E1E5ED\", \"showgrid\": false, \"tickfont\": {\"color\": \"#4D5663\"}, \"title\": {\"font\": {\"color\": \"#4D5663\"}, \"text\": \"\"}, \"zerolinecolor\": \"#E1E5ED\"}, \"yaxis8\": {\"anchor\": \"x8\", \"domain\": [0.535, 0.7325], \"gridcolor\": \"#E1E5ED\", \"showgrid\": false, \"tickfont\": {\"color\": \"#4D5663\"}, \"title\": {\"font\": {\"color\": \"#4D5663\"}, \"text\": \"\"}, \"zerolinecolor\": \"#E1E5ED\"}, \"yaxis9\": {\"anchor\": \"x9\", \"domain\": [0.2675, 0.465], \"gridcolor\": \"#E1E5ED\", \"showgrid\": false, \"tickfont\": {\"color\": \"#4D5663\"}, \"title\": {\"font\": {\"color\": \"#4D5663\"}, \"text\": \"\"}, \"zerolinecolor\": \"#E1E5ED\"}},                        {\"showLink\": true, \"linkText\": \"Export to plot.ly\", \"plotlyServerURL\": \"https://plot.ly\", \"responsive\": true}                    ).then(function(){\n",
       "                            \n",
       "var gd = document.getElementById('4c0b0c4f-7e3a-4814-965e-d03f56084bb6');\n",
       "var x = new MutationObserver(function (mutations, observer) {{\n",
       "        var display = window.getComputedStyle(gd).display;\n",
       "        if (!display || display === 'none') {{\n",
       "            console.log([gd, 'removed!']);\n",
       "            Plotly.purge(gd);\n",
       "            observer.disconnect();\n",
       "        }}\n",
       "}});\n",
       "\n",
       "// Listen for the removal of the full notebook cells\n",
       "var notebookContainer = gd.closest('#notebook-container');\n",
       "if (notebookContainer) {{\n",
       "    x.observe(notebookContainer, {childList: true});\n",
       "}}\n",
       "\n",
       "// Listen for the clearing of the current output cell\n",
       "var outputEl = gd.closest('.output');\n",
       "if (outputEl) {{\n",
       "    x.observe(outputEl, {childList: true});\n",
       "}}\n",
       "\n",
       "                        })                };                });            </script>        </div>"
      ]
     },
     "metadata": {},
     "output_type": "display_data"
    }
   ],
   "source": [
    "df.scatter_matrix()"
   ]
  },
  {
   "cell_type": "code",
   "execution_count": null,
   "metadata": {},
   "outputs": [],
   "source": []
  }
 ],
 "metadata": {
  "kernelspec": {
   "display_name": "Python 3",
   "language": "python",
   "name": "python3"
  },
  "language_info": {
   "codemirror_mode": {
    "name": "ipython",
    "version": 3
   },
   "file_extension": ".py",
   "mimetype": "text/x-python",
   "name": "python",
   "nbconvert_exporter": "python",
   "pygments_lexer": "ipython3",
   "version": "3.8.3"
  }
 },
 "nbformat": 4,
 "nbformat_minor": 4
}
