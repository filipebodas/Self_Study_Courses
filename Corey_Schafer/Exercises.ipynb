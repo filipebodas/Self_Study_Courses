{
 "cells": [
  {
   "cell_type": "markdown",
   "metadata": {},
   "source": [
    "# 1) SUM in Loop"
   ]
  },
  {
   "cell_type": "markdown",
   "metadata": {},
   "source": [
    "#### Test Data\n",
    "Total numbers = 30\n",
    "\n",
    "List = 666 538 1051 1184 772 1237 624 945 722 1050 63 658 281 171 698 742 583 1258 426 184 1220 1114 768 501 1041 552 841 318 352 61"
   ]
  },
  {
   "cell_type": "code",
   "execution_count": 1,
   "metadata": {},
   "outputs": [
    {
     "name": "stdout",
     "output_type": "stream",
     "text": [
      "20621\n"
     ]
    }
   ],
   "source": [
    "nums = [666, 538, 1051, 1184, 772, 1237, 624, 945, 722, 1050, 63, 658, 281, 171, 698, 742, 583, 1258, \n",
    "426, 184, 1220, 1114, 768, 501, 1041, 552, 841, 318, 352, 61]\n",
    "\n",
    "\n",
    "def sum_list(nums):\n",
    "    sum = 0\n",
    "    for x in nums:\n",
    "        sum += x\n",
    "    return sum\n",
    "\n",
    "print(sum_list(nums))"
   ]
  },
  {
   "cell_type": "code",
   "execution_count": 3,
   "metadata": {},
   "outputs": [
    {
     "name": "stdout",
     "output_type": "stream",
     "text": [
      "20621\n"
     ]
    }
   ],
   "source": [
    "a = 0\n",
    "\n",
    "for i in nums:\n",
    "    a += i\n",
    "\n",
    "print(a)"
   ]
  },
  {
   "cell_type": "markdown",
   "metadata": {},
   "source": [
    "# 2) SUMs in Loop"
   ]
  },
  {
   "cell_type": "markdown",
   "metadata": {},
   "source": [
    "Now we are given several pairs of values and we want to calculate sum for each pair\n",
    "\n",
    "Data:\n",
    "\n",
    "Number of iterations to perform = 14\n",
    "\n",
    "Pairs:\n",
    "\n",
    "436387 108010\n",
    "----------------------\n",
    "844812 599613\n",
    "----------------------\n",
    "106037 221919\n",
    "----------------------\n",
    "182698 442309\n",
    "----------------------\n",
    "550962 770442\n",
    "----------------------\n",
    "569334 997590\n",
    "----------------------\n",
    "26864 92059\n",
    "----------------------"
   ]
  },
  {
   "cell_type": "code",
   "execution_count": 12,
   "metadata": {},
   "outputs": [
    {
     "name": "stdout",
     "output_type": "stream",
     "text": [
      "p1  = 544397\n",
      "p2  = 1444425\n",
      "p3  = 327956\n",
      "p4  = 625007\n",
      "p5  = 1321404\n",
      "p6  = 1566924\n",
      "p7  = 118923\n"
     ]
    }
   ],
   "source": [
    "pairs = {'p1': (436387, 108010), 'p2': (844812, 599613), 'p3': (106037, 221919), 'p4': (182698, 442309), 'p5': (550962, 770442), \n",
    "         'p6': (569334, 997590), 'p7': (26864, 92059)}\n",
    "\n",
    "for key, value in pairs.items():\n",
    "    print(key, \" =\", sum(value))\n"
   ]
  },
  {
   "cell_type": "code",
   "execution_count": null,
   "metadata": {},
   "outputs": [],
   "source": []
  },
  {
   "cell_type": "code",
   "execution_count": null,
   "metadata": {},
   "outputs": [],
   "source": []
  }
 ],
 "metadata": {
  "kernelspec": {
   "display_name": "Python 3",
   "language": "python",
   "name": "python3"
  },
  "language_info": {
   "codemirror_mode": {
    "name": "ipython",
    "version": 3
   },
   "file_extension": ".py",
   "mimetype": "text/x-python",
   "name": "python",
   "nbconvert_exporter": "python",
   "pygments_lexer": "ipython3",
   "version": "3.7.4"
  }
 },
 "nbformat": 4,
 "nbformat_minor": 2
}
