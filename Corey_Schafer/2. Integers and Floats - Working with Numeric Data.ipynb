{
 "cells": [
  {
   "cell_type": "code",
   "execution_count": 1,
   "metadata": {},
   "outputs": [
    {
     "data": {
      "text/plain": [
       "int"
      ]
     },
     "execution_count": 1,
     "metadata": {},
     "output_type": "execute_result"
    }
   ],
   "source": [
    "num = 3\n",
    "type(num)"
   ]
  },
  {
   "cell_type": "code",
   "execution_count": 2,
   "metadata": {},
   "outputs": [
    {
     "data": {
      "text/plain": [
       "float"
      ]
     },
     "execution_count": 2,
     "metadata": {},
     "output_type": "execute_result"
    }
   ],
   "source": [
    "nr = 3.14\n",
    "type(nr)"
   ]
  },
  {
   "cell_type": "code",
   "execution_count": 9,
   "metadata": {},
   "outputs": [
    {
     "name": "stdout",
     "output_type": "stream",
     "text": [
      "5\n",
      "1\n",
      "6\n",
      "1.5\n",
      "1\n",
      "9\n",
      "1\n"
     ]
    }
   ],
   "source": [
    "# Arithmetic Operations\n",
    "#Adição\n",
    "print(3 + 2)\n",
    "\n",
    "#Subtração\n",
    "print(3 - 2)\n",
    "\n",
    "#Multiplicação\n",
    "print(3 * 2)\n",
    "\n",
    "# Divisão\n",
    "print(3 / 2)\n",
    "\n",
    "# Divisão sem decimal\n",
    "print(3 // 2)\n",
    "\n",
    "# Potência\n",
    "print(3 ** 2)\n",
    "\n",
    "# Resto\n",
    "print(3 % 2)  "
   ]
  },
  {
   "cell_type": "code",
   "execution_count": 11,
   "metadata": {},
   "outputs": [
    {
     "name": "stdout",
     "output_type": "stream",
     "text": [
      "0\n",
      "1\n",
      "0\n",
      "1\n"
     ]
    }
   ],
   "source": [
    "## Se fizermos um %2 e o resto dar 0 então o número é par. Caso contrário dá 1 então o número é ímpar\n",
    "print(2%2)\n",
    "print(3%2)\n",
    "print(4%2)\n",
    "print(5%2)"
   ]
  },
  {
   "cell_type": "code",
   "execution_count": 12,
   "metadata": {},
   "outputs": [],
   "source": [
    "# increment a variable\n",
    "numero = 1"
   ]
  },
  {
   "cell_type": "code",
   "execution_count": 13,
   "metadata": {},
   "outputs": [
    {
     "name": "stdout",
     "output_type": "stream",
     "text": [
      "2\n"
     ]
    }
   ],
   "source": [
    "numero = numero + 1\n",
    "print(numero)"
   ]
  },
  {
   "cell_type": "code",
   "execution_count": 14,
   "metadata": {},
   "outputs": [
    {
     "name": "stdout",
     "output_type": "stream",
     "text": [
      "3\n"
     ]
    }
   ],
   "source": [
    "# shortcut para isto seria\n",
    "numero += 1                # incrementar +1 \n",
    "print(numero)"
   ]
  },
  {
   "cell_type": "code",
   "execution_count": 15,
   "metadata": {},
   "outputs": [
    {
     "name": "stdout",
     "output_type": "stream",
     "text": [
      "30\n"
     ]
    }
   ],
   "source": [
    "# Também podemos incrementar por outras operações\n",
    "numero *= 10\n",
    "print(numero)"
   ]
  },
  {
   "cell_type": "code",
   "execution_count": 16,
   "metadata": {},
   "outputs": [
    {
     "name": "stdout",
     "output_type": "stream",
     "text": [
      "4\n"
     ]
    }
   ],
   "source": [
    "print(abs(-4))"
   ]
  },
  {
   "cell_type": "code",
   "execution_count": 19,
   "metadata": {},
   "outputs": [
    {
     "name": "stdout",
     "output_type": "stream",
     "text": [
      "1515.5\n"
     ]
    }
   ],
   "source": [
    "print(round(1515.4821, 1))"
   ]
  },
  {
   "cell_type": "code",
   "execution_count": 21,
   "metadata": {},
   "outputs": [
    {
     "name": "stdout",
     "output_type": "stream",
     "text": [
      "False\n",
      "True\n",
      "True\n",
      "False\n",
      "True\n",
      "False\n"
     ]
    }
   ],
   "source": [
    "# Comparisons -- Boolean output\n",
    "# Equal\n",
    "print(3 == 2)\n",
    "\n",
    "# Not Equal\n",
    "print(3 != 2)\n",
    "\n",
    "# Greater than\n",
    "print(3 > 2)\n",
    "\n",
    "# Less than\n",
    "print(3 < 2)\n",
    "\n",
    "# Greater or Equal\n",
    "print(3 >= 2)\n",
    "\n",
    "# Less or Equal\n",
    "print(3 <= 2)\n"
   ]
  },
  {
   "cell_type": "code",
   "execution_count": 23,
   "metadata": {},
   "outputs": [
    {
     "name": "stdout",
     "output_type": "stream",
     "text": [
      "300\n"
     ]
    }
   ],
   "source": [
    "# Transformar strings em números --> Casting\n",
    "num1 = '100'\n",
    "num2 = '200'\n",
    "\n",
    "num1 = int(num1)\n",
    "num2 = int(num2)\n",
    "print(num1 + num2)"
   ]
  },
  {
   "cell_type": "code",
   "execution_count": null,
   "metadata": {},
   "outputs": [],
   "source": []
  }
 ],
 "metadata": {
  "kernelspec": {
   "display_name": "Python 3",
   "language": "python",
   "name": "python3"
  },
  "language_info": {
   "codemirror_mode": {
    "name": "ipython",
    "version": 3
   },
   "file_extension": ".py",
   "mimetype": "text/x-python",
   "name": "python",
   "nbconvert_exporter": "python",
   "pygments_lexer": "ipython3",
   "version": "3.7.4"
  }
 },
 "nbformat": 4,
 "nbformat_minor": 2
}
