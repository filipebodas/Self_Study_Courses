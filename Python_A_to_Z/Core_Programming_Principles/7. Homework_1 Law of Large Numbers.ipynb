{
 "cells": [
  {
   "cell_type": "code",
   "execution_count": 37,
   "metadata": {},
   "outputs": [
    {
     "data": {
      "text/plain": [
       "0.683327"
      ]
     },
     "execution_count": 37,
     "metadata": {},
     "output_type": "execute_result"
    }
   ],
   "source": [
    "import numpy as np\n",
    "from numpy.random import randn \n",
    "\n",
    "N = 1000000                     #define sample, can increase the value to prove my theory\n",
    "counter = 0                     # set counter\n",
    "\n",
    "randn(100)                      #create 100 random numbers\n",
    "for i in randn(N):              #need to iterate over the 100 random values, check every single one and we want to see if each one of them falls between -1 and 1. Start to create a for loop\n",
    "    if (i > -1 and i < 1):\n",
    "        counter = counter + 1    #loop goes from for i to this line\n",
    "counter / N\n",
    "    "
   ]
  }
 ],
 "metadata": {
  "kernelspec": {
   "display_name": "Python 3",
   "language": "python",
   "name": "python3"
  },
  "language_info": {
   "codemirror_mode": {
    "name": "ipython",
    "version": 3
   },
   "file_extension": ".py",
   "mimetype": "text/x-python",
   "name": "python",
   "nbconvert_exporter": "python",
   "pygments_lexer": "ipython3",
   "version": "3.7.4"
  }
 },
 "nbformat": 4,
 "nbformat_minor": 2
}
